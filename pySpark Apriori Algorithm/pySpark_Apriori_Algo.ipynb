{
 "cells": [
  {
   "cell_type": "code",
   "execution_count": 1,
   "metadata": {
    "colab": {
     "base_uri": "https://localhost:8080/"
    },
    "id": "iBm-BXOKEIxw",
    "outputId": "bb3a9f4f-ad61-48f0-a71a-86d8c8276fe0"
   },
   "outputs": [
    {
     "name": "stdout",
     "output_type": "stream",
     "text": [
      "Collecting pyspark\n",
      "\u001b[?25l  Downloading https://files.pythonhosted.org/packages/89/db/e18cfd78e408de957821ec5ca56de1250645b05f8523d169803d8df35a64/pyspark-3.1.2.tar.gz (212.4MB)\n",
      "\u001b[K     |████████████████████████████████| 212.4MB 58kB/s \n",
      "\u001b[?25hCollecting py4j==0.10.9\n",
      "\u001b[?25l  Downloading https://files.pythonhosted.org/packages/9e/b6/6a4fb90cd235dc8e265a6a2067f2a2c99f0d91787f06aca4bcf7c23f3f80/py4j-0.10.9-py2.py3-none-any.whl (198kB)\n",
      "\u001b[K     |████████████████████████████████| 204kB 16.8MB/s \n",
      "\u001b[?25hBuilding wheels for collected packages: pyspark\n",
      "  Building wheel for pyspark (setup.py) ... \u001b[?25l\u001b[?25hdone\n",
      "  Created wheel for pyspark: filename=pyspark-3.1.2-py2.py3-none-any.whl size=212880768 sha256=2d368f2b7396b6d87ff13ec6f49d31ff099748e73712078783ed4be9db5b63f5\n",
      "  Stored in directory: /root/.cache/pip/wheels/40/1b/2c/30f43be2627857ab80062bef1527c0128f7b4070b6b2d02139\n",
      "Successfully built pyspark\n",
      "Installing collected packages: py4j, pyspark\n",
      "Successfully installed py4j-0.10.9 pyspark-3.1.2\n",
      "The following additional packages will be installed:\n",
      "  openjdk-8-jre-headless\n",
      "Suggested packages:\n",
      "  openjdk-8-demo openjdk-8-source libnss-mdns fonts-dejavu-extra\n",
      "  fonts-ipafont-gothic fonts-ipafont-mincho fonts-wqy-microhei\n",
      "  fonts-wqy-zenhei fonts-indic\n",
      "The following NEW packages will be installed:\n",
      "  openjdk-8-jdk-headless openjdk-8-jre-headless\n",
      "0 upgraded, 2 newly installed, 0 to remove and 39 not upgraded.\n",
      "Need to get 36.5 MB of archives.\n",
      "After this operation, 143 MB of additional disk space will be used.\n",
      "Selecting previously unselected package openjdk-8-jre-headless:amd64.\n",
      "(Reading database ... 160772 files and directories currently installed.)\n",
      "Preparing to unpack .../openjdk-8-jre-headless_8u292-b10-0ubuntu1~18.04_amd64.deb ...\n",
      "Unpacking openjdk-8-jre-headless:amd64 (8u292-b10-0ubuntu1~18.04) ...\n",
      "Selecting previously unselected package openjdk-8-jdk-headless:amd64.\n",
      "Preparing to unpack .../openjdk-8-jdk-headless_8u292-b10-0ubuntu1~18.04_amd64.deb ...\n",
      "Unpacking openjdk-8-jdk-headless:amd64 (8u292-b10-0ubuntu1~18.04) ...\n",
      "Setting up openjdk-8-jre-headless:amd64 (8u292-b10-0ubuntu1~18.04) ...\n",
      "update-alternatives: using /usr/lib/jvm/java-8-openjdk-amd64/jre/bin/orbd to provide /usr/bin/orbd (orbd) in auto mode\n",
      "update-alternatives: using /usr/lib/jvm/java-8-openjdk-amd64/jre/bin/servertool to provide /usr/bin/servertool (servertool) in auto mode\n",
      "update-alternatives: using /usr/lib/jvm/java-8-openjdk-amd64/jre/bin/tnameserv to provide /usr/bin/tnameserv (tnameserv) in auto mode\n",
      "Setting up openjdk-8-jdk-headless:amd64 (8u292-b10-0ubuntu1~18.04) ...\n",
      "update-alternatives: using /usr/lib/jvm/java-8-openjdk-amd64/bin/idlj to provide /usr/bin/idlj (idlj) in auto mode\n",
      "update-alternatives: using /usr/lib/jvm/java-8-openjdk-amd64/bin/wsimport to provide /usr/bin/wsimport (wsimport) in auto mode\n",
      "update-alternatives: using /usr/lib/jvm/java-8-openjdk-amd64/bin/jsadebugd to provide /usr/bin/jsadebugd (jsadebugd) in auto mode\n",
      "update-alternatives: using /usr/lib/jvm/java-8-openjdk-amd64/bin/native2ascii to provide /usr/bin/native2ascii (native2ascii) in auto mode\n",
      "update-alternatives: using /usr/lib/jvm/java-8-openjdk-amd64/bin/javah to provide /usr/bin/javah (javah) in auto mode\n",
      "update-alternatives: using /usr/lib/jvm/java-8-openjdk-amd64/bin/hsdb to provide /usr/bin/hsdb (hsdb) in auto mode\n",
      "update-alternatives: using /usr/lib/jvm/java-8-openjdk-amd64/bin/clhsdb to provide /usr/bin/clhsdb (clhsdb) in auto mode\n",
      "update-alternatives: using /usr/lib/jvm/java-8-openjdk-amd64/bin/extcheck to provide /usr/bin/extcheck (extcheck) in auto mode\n",
      "update-alternatives: using /usr/lib/jvm/java-8-openjdk-amd64/bin/schemagen to provide /usr/bin/schemagen (schemagen) in auto mode\n",
      "update-alternatives: using /usr/lib/jvm/java-8-openjdk-amd64/bin/xjc to provide /usr/bin/xjc (xjc) in auto mode\n",
      "update-alternatives: using /usr/lib/jvm/java-8-openjdk-amd64/bin/jhat to provide /usr/bin/jhat (jhat) in auto mode\n",
      "update-alternatives: using /usr/lib/jvm/java-8-openjdk-amd64/bin/wsgen to provide /usr/bin/wsgen (wsgen) in auto mode\n"
     ]
    }
   ],
   "source": [
    "!pip install pyspark\n",
    "!pip install -U -q PyDrive\n",
    "!apt install openjdk-8-jdk-headless -qq\n",
    "import os\n",
    "os.environ[\"JAVA_HOME\"] = \"/usr/lib/jvm/java-8-openjdk-amd64\""
   ]
  },
  {
   "cell_type": "code",
   "execution_count": 2,
   "metadata": {
    "id": "4mrqfMZTEOUb"
   },
   "outputs": [],
   "source": [
    "# Let's import the libraries we will need\n",
    "import pyspark\n",
    "from pyspark.sql import *\n",
    "from pyspark.sql.functions import *\n",
    "from pyspark import SparkContext, SparkConf\n",
    "import itertools"
   ]
  },
  {
   "cell_type": "code",
   "execution_count": 3,
   "metadata": {
    "id": "hfRZcdnQEmbM"
   },
   "outputs": [],
   "source": [
    "# create the session\n",
    "conf = SparkConf().set(\"spark.ui.port\", \"4050\")\n",
    "# create the context\n",
    "sc = pyspark.SparkContext(conf=conf)\n",
    "spark = SparkSession.builder.getOrCreate()"
   ]
  },
  {
   "cell_type": "code",
   "execution_count": 4,
   "metadata": {
    "colab": {
     "base_uri": "https://localhost:8080/",
     "height": 216
    },
    "id": "IX4BwWycF9yK",
    "outputId": "e9413c3a-927d-4901-a644-8d462a5d9886"
   },
   "outputs": [
    {
     "data": {
      "text/html": [
       "\n",
       "            <div>\n",
       "                <p><b>SparkSession - in-memory</b></p>\n",
       "                \n",
       "        <div>\n",
       "            <p><b>SparkContext</b></p>\n",
       "\n",
       "            <p><a href=\"http://a488120d0b40:4050\">Spark UI</a></p>\n",
       "\n",
       "            <dl>\n",
       "              <dt>Version</dt>\n",
       "                <dd><code>v3.1.2</code></dd>\n",
       "              <dt>Master</dt>\n",
       "                <dd><code>local[*]</code></dd>\n",
       "              <dt>AppName</dt>\n",
       "                <dd><code>pyspark-shell</code></dd>\n",
       "            </dl>\n",
       "        </div>\n",
       "        \n",
       "            </div>\n",
       "        "
      ],
      "text/plain": [
       "<pyspark.sql.session.SparkSession at 0x7f3b443983d0>"
      ]
     },
     "execution_count": 4,
     "metadata": {
      "tags": []
     },
     "output_type": "execute_result"
    }
   ],
   "source": [
    "spark"
   ]
  },
  {
   "cell_type": "code",
   "execution_count": 5,
   "metadata": {
    "colab": {
     "base_uri": "https://localhost:8080/"
    },
    "id": "u8X3ffUjF0xB",
    "outputId": "869acc0b-5d2f-407d-d195-9b7adceedf72"
   },
   "outputs": [
    {
     "name": "stdout",
     "output_type": "stream",
     "text": [
      "--2021-06-14 17:47:52--  https://bin.equinox.io/c/4VmDzA7iaHb/ngrok-stable-linux-amd64.zip\n",
      "Resolving bin.equinox.io (bin.equinox.io)... 34.205.198.58, 54.236.206.131, 34.235.3.193, ...\n",
      "Connecting to bin.equinox.io (bin.equinox.io)|34.205.198.58|:443... connected.\n",
      "HTTP request sent, awaiting response... 200 OK\n",
      "Length: 13832437 (13M) [application/octet-stream]\n",
      "Saving to: ‘ngrok-stable-linux-amd64.zip’\n",
      "\n",
      "ngrok-stable-linux- 100%[===================>]  13.19M  6.05MB/s    in 2.2s    \n",
      "\n",
      "2021-06-14 17:47:55 (6.05 MB/s) - ‘ngrok-stable-linux-amd64.zip’ saved [13832437/13832437]\n",
      "\n",
      "Archive:  ngrok-stable-linux-amd64.zip\n",
      "  inflating: ngrok                   \n",
      "Traceback (most recent call last):\n",
      "  File \"<string>\", line 1, in <module>\n",
      "IndexError: list index out of range\n"
     ]
    }
   ],
   "source": [
    "!wget https://bin.equinox.io/c/4VmDzA7iaHb/ngrok-stable-linux-amd64.zip\n",
    "!unzip ngrok-stable-linux-amd64.zip\n",
    "get_ipython().system_raw('./ngrok http 4050 &')\n",
    "!curl -s http://localhost:4040/api/tunnels | python3 -c \\\n",
    "    \"import sys, json; print(json.load(sys.stdin)['tunnels'][0]['public_url'])\""
   ]
  },
  {
   "cell_type": "code",
   "execution_count": null,
   "metadata": {
    "colab": {
     "base_uri": "https://localhost:8080/"
    },
    "id": "VW1Z6YqZHJ-_",
    "outputId": "3ceb7a79-5fbf-427e-9792-93672f3ecda5"
   },
   "outputs": [
    {
     "name": "stdout",
     "output_type": "stream",
     "text": [
      "Requirement already satisfied: gputil in /usr/local/lib/python3.7/dist-packages (1.4.0)\n",
      "Requirement already satisfied: psutil in /usr/local/lib/python3.7/dist-packages (5.4.8)\n",
      "Requirement already satisfied: humanize in /usr/local/lib/python3.7/dist-packages (0.5.1)\n"
     ]
    }
   ],
   "source": [
    "# memory footprint support libraries/code\n",
    "!ln -sf /opt/bin/nvidia-smi /usr/bin/nvidia-smi\n",
    "!pip install gputil\n",
    "!pip install psutil\n",
    "!pip install humanize\n",
    "import psutil\n",
    "import humanize\n",
    "import os\n",
    "import GPUtil as GPU\n",
    "GPUs = GPU.getGPUs()\n",
    "# XXX: only one GPU on Colab and isn’t guaranteed\n",
    "#gpu = GPUs[0]\n",
    "def printm():\n",
    " process = psutil.Process(os.getpid())\n",
    " print(\"Gen RAM Free: \" + humanize.naturalsize( psutil.virtual_memory().available ), \" | Proc size: \" + humanize.naturalsize( process.memory_info().rss))\n",
    " #print(\"GPU RAM Free: {0:.0f}MB | Used: {1:.0f}MB | Util {2:3.0f}% | Total {3:.0f}MB\".format(gpu.memoryFree, gpu.memoryUsed, gpu.memoryUtil*100, gpu.memoryTotal))\n"
   ]
  },
  {
   "cell_type": "code",
   "execution_count": 21,
   "metadata": {
    "id": "8E3NM4Ti_myt"
   },
   "outputs": [],
   "source": [
    "\n",
    "supC = sc.broadcast(15061*0.22)"
   ]
  },
  {
   "cell_type": "code",
   "execution_count": 22,
   "metadata": {
    "id": "TYzoz3j4ZNOH"
   },
   "outputs": [],
   "source": [
    "data = sc.textFile(\"Dataset.csv\")"
   ]
  },
  {
   "cell_type": "code",
   "execution_count": 23,
   "metadata": {
    "id": "8EHPYtrF_J9E"
   },
   "outputs": [],
   "source": [
    "tagsheader = data.first() \n",
    "tags = sc.parallelize(tagsheader)\n",
    "tags.collect()\n",
    "data = data.subtract(tags)"
   ]
  },
  {
   "cell_type": "code",
   "execution_count": 24,
   "metadata": {
    "id": "MJNqbQQ9_PHX"
   },
   "outputs": [],
   "source": [
    "data1 = data.map(lambda x: [i.strip().replace('.','') for i in x.split(',') if i not in ''])"
   ]
  },
  {
   "cell_type": "code",
   "execution_count": 25,
   "metadata": {
    "id": "8o71RU_C_Sgi"
   },
   "outputs": [],
   "source": [
    "counts = data1.flatMap(lambda x: [(i, 1) for i in x]).reduceByKey(lambda x, y: x+y)"
   ]
  },
  {
   "cell_type": "code",
   "execution_count": 50,
   "metadata": {
    "id": "DUq1eUDI_cFS"
   },
   "outputs": [],
   "source": [
    "freq = counts.filter(lambda x: x[1]>supC.value).map(lambda x: x[0])"
   ]
  },
  {
   "cell_type": "code",
   "execution_count": 51,
   "metadata": {
    "id": "nTRDiI_C_kNk"
   },
   "outputs": [],
   "source": [
    "from pyspark.sql.functions import udf\n",
    "from pyspark.sql.types import BooleanType\n",
    "\n",
    "def isPresent(combination, u, i):\n",
    "      \n",
    "    if i<2:\n",
    "        return combination in u\n",
    "    subs = [tuple(sorted(combination)) for combination in itertools.combinations(combination, i-1)]\n",
    "    # return subs.issubset(prevFreq)\n",
    "    present = [False]*len(subs)\n",
    "    for j in range(len(subs)):\n",
    "        present[j]= subs[j] in u\n",
    "    # print('present at iter', i , subs ,present)\n",
    "    return all(present)\n",
    "    \n",
    "\n",
    "def f(row, arr):\n",
    "    hazir= []\n",
    "    for key in arr:\n",
    "        present = [False]*len(key)\n",
    "        for i in range(len(key)):\n",
    "            present[i] = key[i] in row\n",
    "        if all(present):\n",
    "            hazir+=[key]\n",
    "    return hazir\n",
    "    "
   ]
  },
  {
   "cell_type": "code",
   "execution_count": 52,
   "metadata": {
    "colab": {
     "base_uri": "https://localhost:8080/"
    },
    "id": "rQsQY4bZ2Ddo",
    "outputId": "874a0280-e9ff-4a58-dad7-40e3e283c21a"
   },
   "outputs": [
    {
     "name": "stdout",
     "output_type": "stream",
     "text": [
      "frequent at iteration 1 ['Husband', 'White', 'United-States', 'Normal-Hours', 'Not-in-family', 'Married', 'Lowwer-Working-Class', 'Technical-Working-Class', 'Male', 'Part-Time-Hours', '>50K', 'Private', '9', 'Middle-Age', 'Female', 'Young-Age', 'HS-Graduates', '<=50K', 'Other-Service', 'Never-married']\n",
      "===============sequence length============= 2\n",
      "frequent at iteration 2 [('Husband', 'Male'), ('Husband', 'Part-Time-Hours'), ('Male', 'White'), ('Part-Time-Hours', 'White'), ('>50K', 'White'), ('Male', 'United-States'), ('Part-Time-Hours', 'United-States'), ('>50K', 'United-States'), ('Husband', 'Private'), ('Private', 'White'), ('9', 'White'), ('Private', 'United-States'), ('9', 'United-States'), ('Middle-Age', 'White'), ('Middle-Age', 'United-States'), ('<=50K', 'HS-Graduates'), ('Female', 'United-States'), ('Female', 'White'), ('White', 'Young-Age'), ('United-States', 'Young-Age'), ('HS-Graduates', 'Other-Service'), ('<=50K', 'Never-married'), ('<=50K', 'Other-Service'), ('Husband', 'Married'), ('Married', 'Part-Time-Hours'), ('HS-Graduates', 'White'), ('HS-Graduates', 'United-States'), ('Married', 'Private'), ('9', 'HS-Graduates'), ('<=50K', 'Husband'), ('<=50K', 'White'), ('<=50K', 'United-States'), ('Lowwer-Working-Class', 'Male'), ('9', '<=50K'), ('Other-Service', 'White'), ('Other-Service', 'United-States'), ('<=50K', 'Not-in-family'), ('Never-married', 'White'), ('Never-married', 'United-States'), ('Husband', 'White'), ('Husband', 'United-States'), ('United-States', 'White'), ('Male', 'Part-Time-Hours'), ('HS-Graduates', 'Married'), ('Male', 'Private'), ('9', 'Male'), ('Part-Time-Hours', 'Private'), ('9', 'Part-Time-Hours'), ('9', 'Private'), ('Normal-Hours', 'White'), ('Normal-Hours', 'United-States'), ('Male', 'Middle-Age'), ('Middle-Age', 'Private'), ('<=50K', 'Married'), ('Not-in-family', 'United-States'), ('Female', 'Private'), ('Not-in-family', 'White'), ('Male', 'Young-Age'), ('Private', 'Young-Age'), ('Part-Time-Hours', 'Young-Age'), ('Female', 'Part-Time-Hours'), ('Married', 'White'), ('Married', 'United-States'), ('Male', 'Married'), ('HS-Graduates', 'Male'), ('HS-Graduates', 'Part-Time-Hours'), ('HS-Graduates', 'Private'), ('Lowwer-Working-Class', 'White'), ('Lowwer-Working-Class', 'United-States'), ('<=50K', 'Male'), ('<=50K', 'Part-Time-Hours'), ('<=50K', 'Private'), ('<=50K', 'Middle-Age'), ('<=50K', 'Female'), ('Other-Service', 'Private'), ('Never-married', 'Private'), ('HS-Graduates', 'Young-Age'), ('Never-married', 'Young-Age'), ('<=50K', 'Young-Age'), ('Other-Service', 'Part-Time-Hours')]\n",
      "===============sequence length============= 3\n",
      "frequent at iteration 3 [('Male', 'Part-Time-Hours', 'Married'), ('United-States', 'Husband', 'Married'), ('United-States', 'White', 'Married'), ('Husband', 'White', 'Married'), ('Male', 'HS-Graduates', '9'), ('Male', 'HS-Graduates', 'Part-Time-Hours'), ('Male', 'HS-Graduates', 'Private'), ('Male', 'Private', 'Married'), ('HS-Graduates', 'United-States', '9'), ('HS-Graduates', 'United-States', 'Part-Time-Hours'), ('HS-Graduates', 'United-States', 'Private'), ('HS-Graduates', '9', 'White'), ('HS-Graduates', 'Part-Time-Hours', 'White'), ('HS-Graduates', 'White', 'Private'), ('Male', 'United-States', '<=50K'), ('Male', 'Husband', '<=50K'), ('Male', 'White', '<=50K'), ('Male', '<=50K', 'Private'), ('United-States', '9', '<=50K'), ('United-States', 'Part-Time-Hours', '<=50K'), ('9', 'White', '<=50K'), ('Part-Time-Hours', 'White', '<=50K'), ('Part-Time-Hours', '<=50K', 'Private'), ('United-States', 'Other-Service', 'White'), ('United-States', 'Female', '<=50K'), ('Female', '<=50K', 'Private'), ('Female', 'White', '<=50K'), ('Young-Age', 'Never-married', 'Private'), ('Never-married', 'United-States', 'Private'), ('Other-Service', 'White', 'Private'), ('Young-Age', 'White', '<=50K'), ('Young-Age', '<=50K', 'Private'), ('Young-Age', 'United-States', '<=50K'), ('Male', 'United-States', 'Husband'), ('Male', 'United-States', 'White'), ('Male', 'Husband', 'White'), ('United-States', 'Part-Time-Hours', 'White'), ('Male', 'Part-Time-Hours', 'Private'), ('HS-Graduates', 'United-States', 'Married'), ('United-States', '9', 'White'), ('United-States', 'Husband', 'Private'), ('United-States', 'White', 'Private'), ('Husband', 'White', 'Private'), ('Middle-Age', 'United-States', 'White'), ('Male', '<=50K', 'Married'), ('HS-Graduates', '9', '<=50K'), ('HS-Graduates', 'Part-Time-Hours', '<=50K'), ('United-States', 'Female', 'White'), ('Male', 'Young-Age', 'Private'), ('Young-Age', 'United-States', 'White'), ('Young-Age', 'Part-Time-Hours', 'Private'), ('United-States', 'Other-Service', '<=50K'), ('Male', 'United-States', 'Married'), ('Male', 'Husband', 'Married'), ('Male', 'White', 'Married'), ('United-States', 'Part-Time-Hours', 'Married'), ('Husband', 'Part-Time-Hours', 'Married'), ('Part-Time-Hours', 'White', 'Married'), ('Male', 'HS-Graduates', 'United-States'), ('Male', 'HS-Graduates', 'White'), ('HS-Graduates', 'United-States', 'White'), ('HS-Graduates', '9', 'Part-Time-Hours'), ('HS-Graduates', '9', 'Private'), ('HS-Graduates', 'Part-Time-Hours', 'Private'), ('United-States', 'Private', 'Married'), ('Husband', 'Private', 'Married'), ('White', 'Private', 'Married'), ('Male', 'United-States', 'Lowwer-Working-Class'), ('Male', 'Part-Time-Hours', '<=50K'), ('United-States', 'White', '<=50K'), ('United-States', '<=50K', 'Private'), ('White', '<=50K', 'Private'), ('Not-in-family', 'United-States', '<=50K'), ('Young-Age', 'Never-married', 'United-States'), ('Young-Age', 'HS-Graduates', 'United-States'), ('Never-married', 'United-States', 'White'), ('United-States', 'Other-Service', 'Private'), ('Male', 'Young-Age', '<=50K'), ('Young-Age', 'Part-Time-Hours', '<=50K'), ('Male', 'United-States', 'Part-Time-Hours'), ('Male', 'Husband', 'Part-Time-Hours'), ('Male', 'Part-Time-Hours', 'White'), ('United-States', 'Husband', 'White'), ('Male', 'United-States', 'Private'), ('Male', 'Husband', 'Private'), ('Male', 'White', 'Private'), ('United-States', '9', 'Private'), ('United-States', 'Part-Time-Hours', 'Private'), ('Part-Time-Hours', 'White', 'Private'), ('Male', 'Middle-Age', 'United-States'), ('Male', 'Middle-Age', 'White'), ('Male', 'HS-Graduates', '<=50K'), ('HS-Graduates', 'United-States', '<=50K'), ('HS-Graduates', 'White', '<=50K'), ('HS-Graduates', '<=50K', 'Private'), ('United-States', '<=50K', 'Married'), ('Husband', '<=50K', 'Married'), ('White', '<=50K', 'Married'), ('United-States', 'Female', 'Private'), ('Male', 'Young-Age', 'United-States'), ('Male', 'Young-Age', 'White'), ('Young-Age', 'United-States', 'Private'), ('Young-Age', 'White', 'Private'), ('Young-Age', 'HS-Graduates', '<=50K'), ('Young-Age', 'Part-Time-Hours', 'White'), ('Young-Age', 'United-States', 'Part-Time-Hours'), ('Young-Age', 'Never-married', '<=50K'), ('Never-married', 'United-States', '<=50K'), ('Never-married', 'White', '<=50K'), ('Never-married', '<=50K', 'Private'), ('Other-Service', 'White', '<=50K'), ('Other-Service', '<=50K', 'Private')]\n",
      "===============sequence length============= 4\n",
      "ending at sequence length 3\n"
     ]
    },
    {
     "data": {
      "text/plain": [
       "[('Male', 'Part-Time-Hours', 'Married'),\n",
       " ('United-States', 'Husband', 'Married'),\n",
       " ('United-States', 'White', 'Married'),\n",
       " ('Husband', 'White', 'Married'),\n",
       " ('Male', 'HS-Graduates', '9'),\n",
       " ('Male', 'HS-Graduates', 'Part-Time-Hours'),\n",
       " ('Male', 'HS-Graduates', 'Private'),\n",
       " ('Male', 'Private', 'Married'),\n",
       " ('HS-Graduates', 'United-States', '9'),\n",
       " ('HS-Graduates', 'United-States', 'Part-Time-Hours'),\n",
       " ('HS-Graduates', 'United-States', 'Private'),\n",
       " ('HS-Graduates', '9', 'White'),\n",
       " ('HS-Graduates', 'Part-Time-Hours', 'White'),\n",
       " ('HS-Graduates', 'White', 'Private'),\n",
       " ('Male', 'United-States', '<=50K'),\n",
       " ('Male', 'Husband', '<=50K'),\n",
       " ('Male', 'White', '<=50K'),\n",
       " ('Male', '<=50K', 'Private'),\n",
       " ('United-States', '9', '<=50K'),\n",
       " ('United-States', 'Part-Time-Hours', '<=50K'),\n",
       " ('9', 'White', '<=50K'),\n",
       " ('Part-Time-Hours', 'White', '<=50K'),\n",
       " ('Part-Time-Hours', '<=50K', 'Private'),\n",
       " ('United-States', 'Other-Service', 'White'),\n",
       " ('United-States', 'Female', '<=50K'),\n",
       " ('Female', '<=50K', 'Private'),\n",
       " ('Female', 'White', '<=50K'),\n",
       " ('Young-Age', 'Never-married', 'Private'),\n",
       " ('Never-married', 'United-States', 'Private'),\n",
       " ('Other-Service', 'White', 'Private'),\n",
       " ('Young-Age', 'White', '<=50K'),\n",
       " ('Young-Age', '<=50K', 'Private'),\n",
       " ('Young-Age', 'United-States', '<=50K'),\n",
       " ('Male', 'United-States', 'Husband'),\n",
       " ('Male', 'United-States', 'White'),\n",
       " ('Male', 'Husband', 'White'),\n",
       " ('United-States', 'Part-Time-Hours', 'White'),\n",
       " ('Male', 'Part-Time-Hours', 'Private'),\n",
       " ('HS-Graduates', 'United-States', 'Married'),\n",
       " ('United-States', '9', 'White'),\n",
       " ('United-States', 'Husband', 'Private'),\n",
       " ('United-States', 'White', 'Private'),\n",
       " ('Husband', 'White', 'Private'),\n",
       " ('Middle-Age', 'United-States', 'White'),\n",
       " ('Male', '<=50K', 'Married'),\n",
       " ('HS-Graduates', '9', '<=50K'),\n",
       " ('HS-Graduates', 'Part-Time-Hours', '<=50K'),\n",
       " ('United-States', 'Female', 'White'),\n",
       " ('Male', 'Young-Age', 'Private'),\n",
       " ('Young-Age', 'United-States', 'White'),\n",
       " ('Young-Age', 'Part-Time-Hours', 'Private'),\n",
       " ('United-States', 'Other-Service', '<=50K'),\n",
       " ('Male', 'United-States', 'Married'),\n",
       " ('Male', 'Husband', 'Married'),\n",
       " ('Male', 'White', 'Married'),\n",
       " ('United-States', 'Part-Time-Hours', 'Married'),\n",
       " ('Husband', 'Part-Time-Hours', 'Married'),\n",
       " ('Part-Time-Hours', 'White', 'Married'),\n",
       " ('Male', 'HS-Graduates', 'United-States'),\n",
       " ('Male', 'HS-Graduates', 'White'),\n",
       " ('HS-Graduates', 'United-States', 'White'),\n",
       " ('HS-Graduates', '9', 'Part-Time-Hours'),\n",
       " ('HS-Graduates', '9', 'Private'),\n",
       " ('HS-Graduates', 'Part-Time-Hours', 'Private'),\n",
       " ('United-States', 'Private', 'Married'),\n",
       " ('Husband', 'Private', 'Married'),\n",
       " ('White', 'Private', 'Married'),\n",
       " ('Male', 'United-States', 'Lowwer-Working-Class'),\n",
       " ('Male', 'Part-Time-Hours', '<=50K'),\n",
       " ('United-States', 'White', '<=50K'),\n",
       " ('United-States', '<=50K', 'Private'),\n",
       " ('White', '<=50K', 'Private'),\n",
       " ('Not-in-family', 'United-States', '<=50K'),\n",
       " ('Young-Age', 'Never-married', 'United-States'),\n",
       " ('Young-Age', 'HS-Graduates', 'United-States'),\n",
       " ('Never-married', 'United-States', 'White'),\n",
       " ('United-States', 'Other-Service', 'Private'),\n",
       " ('Male', 'Young-Age', '<=50K'),\n",
       " ('Young-Age', 'Part-Time-Hours', '<=50K'),\n",
       " ('Male', 'United-States', 'Part-Time-Hours'),\n",
       " ('Male', 'Husband', 'Part-Time-Hours'),\n",
       " ('Male', 'Part-Time-Hours', 'White'),\n",
       " ('United-States', 'Husband', 'White'),\n",
       " ('Male', 'United-States', 'Private'),\n",
       " ('Male', 'Husband', 'Private'),\n",
       " ('Male', 'White', 'Private'),\n",
       " ('United-States', '9', 'Private'),\n",
       " ('United-States', 'Part-Time-Hours', 'Private'),\n",
       " ('Part-Time-Hours', 'White', 'Private'),\n",
       " ('Male', 'Middle-Age', 'United-States'),\n",
       " ('Male', 'Middle-Age', 'White'),\n",
       " ('Male', 'HS-Graduates', '<=50K'),\n",
       " ('HS-Graduates', 'United-States', '<=50K'),\n",
       " ('HS-Graduates', 'White', '<=50K'),\n",
       " ('HS-Graduates', '<=50K', 'Private'),\n",
       " ('United-States', '<=50K', 'Married'),\n",
       " ('Husband', '<=50K', 'Married'),\n",
       " ('White', '<=50K', 'Married'),\n",
       " ('United-States', 'Female', 'Private'),\n",
       " ('Male', 'Young-Age', 'United-States'),\n",
       " ('Male', 'Young-Age', 'White'),\n",
       " ('Young-Age', 'United-States', 'Private'),\n",
       " ('Young-Age', 'White', 'Private'),\n",
       " ('Young-Age', 'HS-Graduates', '<=50K'),\n",
       " ('Young-Age', 'Part-Time-Hours', 'White'),\n",
       " ('Young-Age', 'United-States', 'Part-Time-Hours'),\n",
       " ('Young-Age', 'Never-married', '<=50K'),\n",
       " ('Never-married', 'United-States', '<=50K'),\n",
       " ('Never-married', 'White', '<=50K'),\n",
       " ('Never-married', '<=50K', 'Private'),\n",
       " ('Other-Service', 'White', '<=50K'),\n",
       " ('Other-Service', '<=50K', 'Private')]"
      ]
     },
     "execution_count": 52,
     "metadata": {
      "tags": []
     },
     "output_type": "execute_result"
    }
   ],
   "source": [
    "home = '/content/'\n",
    "for i in range(2, 11):\n",
    "    \n",
    "    u = freq.collect()\n",
    "    print('frequent at iteration', i-1, u)\n",
    "    print('===============sequence length=============' ,i)\n",
    "    with open('output'+str(i)+'.txt', 'w+') as file:\n",
    "      for item in u:\n",
    "          if type(item) is tuple:\n",
    "              length=len(item)\n",
    "              file.write(\"(\")\n",
    "              for k in range(0,length-1):\n",
    "                  file.write(str(item[k])+\",\")\n",
    "              file.write(str(item[length-1])+\")\\n\")\n",
    "          else:\n",
    "              file.write(str(item) + \"\\n\")\n",
    "    file.close()\n",
    "    if i==2:\n",
    "        distinct = u\n",
    "        combos = [tuple(sorted(combination)) for combination in itertools.combinations(distinct, i)]\n",
    "        # print('distinct[0]\\n',distinct)\n",
    "    else:\n",
    "        # print('freq at iteration',i,'\\n',u)\n",
    "        distinct = set([])\n",
    "        for y in u:\n",
    "            for x in y:\n",
    "                distinct.add(x)\n",
    "        # print('distinct[0]\\n',distinct)\n",
    "        combos = [combination for combination in list(itertools.combinations(list(distinct), i)) if isPresent(combination, u, i)]\n",
    "    # print('combos[0]\\n', combos)\n",
    "    \n",
    "    \n",
    "    comb = sc.broadcast(combos)\n",
    "    freq1 = data1.map(lambda x: [(key, 1) for key in f(x, comb.value)]).filter(lambda x: len(x)>0)\n",
    "    # print('freq1', freq1.collect())\n",
    "\n",
    "    freq2 = freq1.flatMap(lambda x: x).reduceByKey(lambda x, y: x+y).filter(lambda x: x[1]>supC.value)\n",
    "    # print('freq2', freq2.collect())\n",
    "    if freq2.count() == 0:\n",
    "        print('ending at sequence length' ,i-1)\n",
    "        break\n",
    "    freq = freq2.map(lambda x: x[0])\n",
    "\n",
    "    \n",
    "    \n",
    "freq.collect()"
   ]
  },
  {
   "cell_type": "code",
   "execution_count": null,
   "metadata": {
    "id": "2wq-v8EzyPkW"
   },
   "outputs": [],
   "source": []
  }
 ],
 "metadata": {
  "colab": {
   "collapsed_sections": [],
   "name": "BD-19L1854-A6-Apriori Algo",
   "provenance": []
  },
  "kernelspec": {
   "display_name": "Python 3 (ipykernel)",
   "language": "python",
   "name": "python3"
  },
  "language_info": {
   "codemirror_mode": {
    "name": "ipython",
    "version": 3
   },
   "file_extension": ".py",
   "mimetype": "text/x-python",
   "name": "python",
   "nbconvert_exporter": "python",
   "pygments_lexer": "ipython3",
   "version": "3.9.7"
  }
 },
 "nbformat": 4,
 "nbformat_minor": 1
}
