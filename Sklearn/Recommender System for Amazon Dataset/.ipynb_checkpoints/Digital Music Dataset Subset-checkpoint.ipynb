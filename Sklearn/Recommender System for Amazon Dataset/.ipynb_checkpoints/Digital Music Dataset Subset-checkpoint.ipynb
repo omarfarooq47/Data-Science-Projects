{
 "cells": [
  {
   "cell_type": "code",
   "execution_count": 1,
   "metadata": {},
   "outputs": [],
   "source": [
    "import pandas as pd\n",
    "import numpy as np\n",
    "import matplotlib.pyplot as plt\n",
    "import missingno as mno\n",
    "import seaborn as sns\n",
    "import time"
   ]
  },
  {
   "cell_type": "code",
   "execution_count": 2,
   "metadata": {},
   "outputs": [],
   "source": [
    "df= pd.read_json(\"Digital_Music.json\",lines=True,chunksize=10000)"
   ]
  },
  {
   "cell_type": "code",
   "execution_count": 3,
   "metadata": {},
   "outputs": [],
   "source": [
    "data = pd.DataFrame()\n",
    "for chunk in df:\n",
    "    data = data.append(chunk)"
   ]
  },
  {
   "cell_type": "code",
   "execution_count": 4,
   "metadata": {},
   "outputs": [
    {
     "data": {
      "text/html": [
       "<div>\n",
       "<style scoped>\n",
       "    .dataframe tbody tr th:only-of-type {\n",
       "        vertical-align: middle;\n",
       "    }\n",
       "\n",
       "    .dataframe tbody tr th {\n",
       "        vertical-align: top;\n",
       "    }\n",
       "\n",
       "    .dataframe thead th {\n",
       "        text-align: right;\n",
       "    }\n",
       "</style>\n",
       "<table border=\"1\" class=\"dataframe\">\n",
       "  <thead>\n",
       "    <tr style=\"text-align: right;\">\n",
       "      <th></th>\n",
       "      <th>overall</th>\n",
       "      <th>verified</th>\n",
       "      <th>reviewTime</th>\n",
       "      <th>reviewerID</th>\n",
       "      <th>asin</th>\n",
       "      <th>style</th>\n",
       "      <th>reviewerName</th>\n",
       "      <th>reviewText</th>\n",
       "      <th>summary</th>\n",
       "      <th>unixReviewTime</th>\n",
       "      <th>vote</th>\n",
       "      <th>image</th>\n",
       "    </tr>\n",
       "  </thead>\n",
       "  <tbody>\n",
       "    <tr>\n",
       "      <th>0</th>\n",
       "      <td>5</td>\n",
       "      <td>True</td>\n",
       "      <td>12 22, 2013</td>\n",
       "      <td>A1ZCPG3D3HGRSS</td>\n",
       "      <td>0001388703</td>\n",
       "      <td>{'Format:': ' Audio CD'}</td>\n",
       "      <td>mark l. massey</td>\n",
       "      <td>This is a great cd full of worship favorites!!...</td>\n",
       "      <td>Great worship cd</td>\n",
       "      <td>1387670400</td>\n",
       "      <td>NaN</td>\n",
       "      <td>NaN</td>\n",
       "    </tr>\n",
       "    <tr>\n",
       "      <th>1</th>\n",
       "      <td>5</td>\n",
       "      <td>True</td>\n",
       "      <td>09 11, 2013</td>\n",
       "      <td>AC2PL52NKPL29</td>\n",
       "      <td>0001388703</td>\n",
       "      <td>{'Format:': ' Audio CD'}</td>\n",
       "      <td>Norma Mushen</td>\n",
       "      <td>So creative!  Love his music - the words, the ...</td>\n",
       "      <td>Gotta listen to this!</td>\n",
       "      <td>1378857600</td>\n",
       "      <td>NaN</td>\n",
       "      <td>NaN</td>\n",
       "    </tr>\n",
       "    <tr>\n",
       "      <th>2</th>\n",
       "      <td>5</td>\n",
       "      <td>True</td>\n",
       "      <td>03 2, 2013</td>\n",
       "      <td>A1SUZXBDZSDQ3A</td>\n",
       "      <td>0001388703</td>\n",
       "      <td>{'Format:': ' Audio CD'}</td>\n",
       "      <td>Herbert W. Shurley</td>\n",
       "      <td>Keith Green, gone far to early in his carreer,...</td>\n",
       "      <td>Great approach still gets the message out</td>\n",
       "      <td>1362182400</td>\n",
       "      <td>NaN</td>\n",
       "      <td>NaN</td>\n",
       "    </tr>\n",
       "    <tr>\n",
       "      <th>3</th>\n",
       "      <td>5</td>\n",
       "      <td>True</td>\n",
       "      <td>12 2, 2012</td>\n",
       "      <td>A3A0W7FZXM0IZW</td>\n",
       "      <td>0001388703</td>\n",
       "      <td>{'Format:': ' Audio CD'}</td>\n",
       "      <td>Mary M Raybell</td>\n",
       "      <td>Keith Green had his special comedy style of Ch...</td>\n",
       "      <td>Great A must have</td>\n",
       "      <td>1354406400</td>\n",
       "      <td>NaN</td>\n",
       "      <td>NaN</td>\n",
       "    </tr>\n",
       "    <tr>\n",
       "      <th>4</th>\n",
       "      <td>5</td>\n",
       "      <td>False</td>\n",
       "      <td>01 7, 2012</td>\n",
       "      <td>A12R54MKO17TW0</td>\n",
       "      <td>0001388703</td>\n",
       "      <td>{'Format:': ' Audio CD'}</td>\n",
       "      <td>J. Bynum</td>\n",
       "      <td>Keith Green / So you wanna go back to Egypt......</td>\n",
       "      <td>A great one from Keith with a guest appearance...</td>\n",
       "      <td>1325894400</td>\n",
       "      <td>6</td>\n",
       "      <td>NaN</td>\n",
       "    </tr>\n",
       "  </tbody>\n",
       "</table>\n",
       "</div>"
      ],
      "text/plain": [
       "   overall  verified   reviewTime      reviewerID        asin  \\\n",
       "0        5      True  12 22, 2013  A1ZCPG3D3HGRSS  0001388703   \n",
       "1        5      True  09 11, 2013   AC2PL52NKPL29  0001388703   \n",
       "2        5      True   03 2, 2013  A1SUZXBDZSDQ3A  0001388703   \n",
       "3        5      True   12 2, 2012  A3A0W7FZXM0IZW  0001388703   \n",
       "4        5     False   01 7, 2012  A12R54MKO17TW0  0001388703   \n",
       "\n",
       "                      style        reviewerName  \\\n",
       "0  {'Format:': ' Audio CD'}      mark l. massey   \n",
       "1  {'Format:': ' Audio CD'}        Norma Mushen   \n",
       "2  {'Format:': ' Audio CD'}  Herbert W. Shurley   \n",
       "3  {'Format:': ' Audio CD'}      Mary M Raybell   \n",
       "4  {'Format:': ' Audio CD'}            J. Bynum   \n",
       "\n",
       "                                          reviewText  \\\n",
       "0  This is a great cd full of worship favorites!!...   \n",
       "1  So creative!  Love his music - the words, the ...   \n",
       "2  Keith Green, gone far to early in his carreer,...   \n",
       "3  Keith Green had his special comedy style of Ch...   \n",
       "4  Keith Green / So you wanna go back to Egypt......   \n",
       "\n",
       "                                             summary  unixReviewTime vote  \\\n",
       "0                                   Great worship cd      1387670400  NaN   \n",
       "1                              Gotta listen to this!      1378857600  NaN   \n",
       "2          Great approach still gets the message out      1362182400  NaN   \n",
       "3                                  Great A must have      1354406400  NaN   \n",
       "4  A great one from Keith with a guest appearance...      1325894400    6   \n",
       "\n",
       "  image  \n",
       "0   NaN  \n",
       "1   NaN  \n",
       "2   NaN  \n",
       "3   NaN  \n",
       "4   NaN  "
      ]
     },
     "execution_count": 4,
     "metadata": {},
     "output_type": "execute_result"
    }
   ],
   "source": [
    "data.head()"
   ]
  },
  {
   "cell_type": "markdown",
   "metadata": {},
   "source": [
    "|Variables|Description|\n",
    "|---|---|\n",
    "|reviewerID | ID of the reviewer, e.g. A2SUAM1J3GNN3B |\n",
    "|asin | ID of the product, e.g. 0000013714 |\n",
    "|reviewerName | name of the reviewer |\n",
    "|vote | helpful votes of the review |\n",
    "|style | a disctionary of the product metadata, e.g., \"Format\" is \"Hardcover\" |\n",
    "|reviewText | text of the review |\n",
    "|overall | rating of the product |\n",
    "|summary | summary of the review |\n",
    "|unixReviewTime | time of the review (unix time) |\n",
    "|reviewTime | time of the review (raw) |\n",
    "|image | images that users post after they have received the product |"
   ]
  },
  {
   "cell_type": "code",
   "execution_count": 35,
   "metadata": {},
   "outputs": [
    {
     "data": {
      "text/html": [
       "<div>\n",
       "<style scoped>\n",
       "    .dataframe tbody tr th:only-of-type {\n",
       "        vertical-align: middle;\n",
       "    }\n",
       "\n",
       "    .dataframe tbody tr th {\n",
       "        vertical-align: top;\n",
       "    }\n",
       "\n",
       "    .dataframe thead th {\n",
       "        text-align: right;\n",
       "    }\n",
       "</style>\n",
       "<table border=\"1\" class=\"dataframe\">\n",
       "  <thead>\n",
       "    <tr style=\"text-align: right;\">\n",
       "      <th></th>\n",
       "      <th>overall</th>\n",
       "      <th>unixReviewTime</th>\n",
       "    </tr>\n",
       "  </thead>\n",
       "  <tbody>\n",
       "    <tr>\n",
       "      <th>count</th>\n",
       "      <td>1.584082e+06</td>\n",
       "      <td>1.584082e+06</td>\n",
       "    </tr>\n",
       "    <tr>\n",
       "      <th>mean</th>\n",
       "      <td>4.660555e+00</td>\n",
       "      <td>1.408211e+09</td>\n",
       "    </tr>\n",
       "    <tr>\n",
       "      <th>std</th>\n",
       "      <td>8.440314e-01</td>\n",
       "      <td>7.857646e+07</td>\n",
       "    </tr>\n",
       "    <tr>\n",
       "      <th>min</th>\n",
       "      <td>1.000000e+00</td>\n",
       "      <td>8.773056e+08</td>\n",
       "    </tr>\n",
       "    <tr>\n",
       "      <th>25%</th>\n",
       "      <td>5.000000e+00</td>\n",
       "      <td>1.374883e+09</td>\n",
       "    </tr>\n",
       "    <tr>\n",
       "      <th>50%</th>\n",
       "      <td>5.000000e+00</td>\n",
       "      <td>1.420070e+09</td>\n",
       "    </tr>\n",
       "    <tr>\n",
       "      <th>75%</th>\n",
       "      <td>5.000000e+00</td>\n",
       "      <td>1.457222e+09</td>\n",
       "    </tr>\n",
       "    <tr>\n",
       "      <th>max</th>\n",
       "      <td>5.000000e+00</td>\n",
       "      <td>1.538438e+09</td>\n",
       "    </tr>\n",
       "  </tbody>\n",
       "</table>\n",
       "</div>"
      ],
      "text/plain": [
       "            overall  unixReviewTime\n",
       "count  1.584082e+06    1.584082e+06\n",
       "mean   4.660555e+00    1.408211e+09\n",
       "std    8.440314e-01    7.857646e+07\n",
       "min    1.000000e+00    8.773056e+08\n",
       "25%    5.000000e+00    1.374883e+09\n",
       "50%    5.000000e+00    1.420070e+09\n",
       "75%    5.000000e+00    1.457222e+09\n",
       "max    5.000000e+00    1.538438e+09"
      ]
     },
     "execution_count": 35,
     "metadata": {},
     "output_type": "execute_result"
    }
   ],
   "source": [
    "data.describe()"
   ]
  },
  {
   "cell_type": "code",
   "execution_count": 4,
   "metadata": {},
   "outputs": [],
   "source": [
    "train_data = data.drop(columns= ['verified', 'reviewTime', 'style', 'reviewText', 'summary', \n",
    "                                 'unixReviewTime', 'vote', 'image', 'reviewerName'])"
   ]
  },
  {
   "cell_type": "code",
   "execution_count": 10,
   "metadata": {},
   "outputs": [
    {
     "data": {
      "text/html": [
       "<div>\n",
       "<style scoped>\n",
       "    .dataframe tbody tr th:only-of-type {\n",
       "        vertical-align: middle;\n",
       "    }\n",
       "\n",
       "    .dataframe tbody tr th {\n",
       "        vertical-align: top;\n",
       "    }\n",
       "\n",
       "    .dataframe thead th {\n",
       "        text-align: right;\n",
       "    }\n",
       "</style>\n",
       "<table border=\"1\" class=\"dataframe\">\n",
       "  <thead>\n",
       "    <tr style=\"text-align: right;\">\n",
       "      <th></th>\n",
       "      <th>overall</th>\n",
       "      <th>reviewerID</th>\n",
       "      <th>asin</th>\n",
       "    </tr>\n",
       "  </thead>\n",
       "  <tbody>\n",
       "    <tr>\n",
       "      <th>0</th>\n",
       "      <td>5</td>\n",
       "      <td>A1ZCPG3D3HGRSS</td>\n",
       "      <td>0001388703</td>\n",
       "    </tr>\n",
       "    <tr>\n",
       "      <th>1</th>\n",
       "      <td>5</td>\n",
       "      <td>AC2PL52NKPL29</td>\n",
       "      <td>0001388703</td>\n",
       "    </tr>\n",
       "    <tr>\n",
       "      <th>2</th>\n",
       "      <td>5</td>\n",
       "      <td>A1SUZXBDZSDQ3A</td>\n",
       "      <td>0001388703</td>\n",
       "    </tr>\n",
       "    <tr>\n",
       "      <th>3</th>\n",
       "      <td>5</td>\n",
       "      <td>A3A0W7FZXM0IZW</td>\n",
       "      <td>0001388703</td>\n",
       "    </tr>\n",
       "    <tr>\n",
       "      <th>4</th>\n",
       "      <td>5</td>\n",
       "      <td>A12R54MKO17TW0</td>\n",
       "      <td>0001388703</td>\n",
       "    </tr>\n",
       "  </tbody>\n",
       "</table>\n",
       "</div>"
      ],
      "text/plain": [
       "   overall      reviewerID        asin\n",
       "0        5  A1ZCPG3D3HGRSS  0001388703\n",
       "1        5   AC2PL52NKPL29  0001388703\n",
       "2        5  A1SUZXBDZSDQ3A  0001388703\n",
       "3        5  A3A0W7FZXM0IZW  0001388703\n",
       "4        5  A12R54MKO17TW0  0001388703"
      ]
     },
     "execution_count": 10,
     "metadata": {},
     "output_type": "execute_result"
    }
   ],
   "source": [
    "train_data.head()"
   ]
  },
  {
   "cell_type": "code",
   "execution_count": 5,
   "metadata": {},
   "outputs": [
    {
     "data": {
      "text/plain": [
       "Index(['overall', 'reviewerID', 'asin'], dtype='object')"
      ]
     },
     "execution_count": 5,
     "metadata": {},
     "output_type": "execute_result"
    }
   ],
   "source": [
    "col_list = train_data.columns\n",
    "col_list"
   ]
  },
  {
   "cell_type": "code",
   "execution_count": 6,
   "metadata": {},
   "outputs": [],
   "source": [
    "for c in col_list:\n",
    "    if c != 'overall':\n",
    "        train_data[c] = train_data[c].astype('category')\n",
    "        train_data[c] = train_data[c].cat.codes"
   ]
  },
  {
   "cell_type": "code",
   "execution_count": 12,
   "metadata": {},
   "outputs": [
    {
     "data": {
      "text/plain": [
       "<matplotlib.axes._subplots.AxesSubplot at 0x2118f8d3508>"
      ]
     },
     "execution_count": 12,
     "metadata": {},
     "output_type": "execute_result"
    },
    {
     "data": {
      "image/png": "[encoded data removed]",
      "text/plain": [
       "<Figure size 432x288 with 1 Axes>"
      ]
     },
     "metadata": {
      "needs_background": "light"
     },
     "output_type": "display_data"
    }
   ],
   "source": [
    "sns.histplot(data['overall'], kde= False)"
   ]
  },
  {
   "cell_type": "markdown",
   "metadata": {},
   "source": [
    "# Collobrative Filtering"
   ]
  },
  {
   "cell_type": "markdown",
   "metadata": {},
   "source": [
    "## Weighted Item Mean"
   ]
  },
  {
   "cell_type": "code",
   "execution_count": 8,
   "metadata": {},
   "outputs": [
    {
     "data": {
      "text/plain": [
       "(1188061, 2)"
      ]
     },
     "execution_count": 8,
     "metadata": {},
     "output_type": "execute_result"
    }
   ],
   "source": [
    "from sklearn.model_selection import train_test_split\n",
    "X = train_data.drop(columns='overall')\n",
    "y = train_data['overall']\n",
    "\n",
    "X_train, X_test, y_train, y_test = train_test_split(X, y)\n",
    "X_train.shape"
   ]
  },
  {
   "cell_type": "code",
   "execution_count": 12,
   "metadata": {},
   "outputs": [
    {
     "data": {
      "text/html": [
       "<div>\n",
       "<style scoped>\n",
       "    .dataframe tbody tr th:only-of-type {\n",
       "        vertical-align: middle;\n",
       "    }\n",
       "\n",
       "    .dataframe tbody tr th {\n",
       "        vertical-align: top;\n",
       "    }\n",
       "\n",
       "    .dataframe thead th {\n",
       "        text-align: right;\n",
       "    }\n",
       "</style>\n",
       "<table border=\"1\" class=\"dataframe\">\n",
       "  <thead>\n",
       "    <tr style=\"text-align: right;\">\n",
       "      <th></th>\n",
       "      <th>reviewerID</th>\n",
       "      <th>asin</th>\n",
       "    </tr>\n",
       "  </thead>\n",
       "  <tbody>\n",
       "    <tr>\n",
       "      <th>164631</th>\n",
       "      <td>747780</td>\n",
       "      <td>131852</td>\n",
       "    </tr>\n",
       "    <tr>\n",
       "      <th>72024</th>\n",
       "      <td>173665</td>\n",
       "      <td>88459</td>\n",
       "    </tr>\n",
       "    <tr>\n",
       "      <th>956137</th>\n",
       "      <td>61810</td>\n",
       "      <td>124178</td>\n",
       "    </tr>\n",
       "    <tr>\n",
       "      <th>1225424</th>\n",
       "      <td>70183</td>\n",
       "      <td>310434</td>\n",
       "    </tr>\n",
       "    <tr>\n",
       "      <th>411506</th>\n",
       "      <td>564062</td>\n",
       "      <td>355625</td>\n",
       "    </tr>\n",
       "  </tbody>\n",
       "</table>\n",
       "</div>"
      ],
      "text/plain": [
       "         reviewerID    asin\n",
       "164631       747780  131852\n",
       "72024        173665   88459\n",
       "956137        61810  124178\n",
       "1225424       70183  310434\n",
       "411506       564062  355625"
      ]
     },
     "execution_count": 12,
     "metadata": {},
     "output_type": "execute_result"
    }
   ],
   "source": [
    "X_train.head()"
   ]
  },
  {
   "cell_type": "code",
   "execution_count": 9,
   "metadata": {},
   "outputs": [],
   "source": [
    "from sklearn.metrics import mean_squared_error\n",
    "y"
   ]
  },
  {
   "cell_type": "code",
   "execution_count": 15,
   "metadata": {},
   "outputs": [],
   "source": [
    "def baseline_score():\n",
    "    id_pairs = zip(X_test['reviewerID'], X_test['asin'])\n",
    "    y_pred = np.array([5 for (reviewer, item) in id_pairs])\n",
    "    y_true = np.array(y_test)\n",
    "    \n",
    "    return np.sqrt(mean_squared_error(y_true, y_pred))"
   ]
  },
  {
   "cell_type": "code",
   "execution_count": 16,
   "metadata": {},
   "outputs": [
    {
     "data": {
      "text/plain": [
       "0.9098709738019186"
      ]
     },
     "execution_count": 16,
     "metadata": {},
     "output_type": "execute_result"
    }
   ],
   "source": [
    "baseline_score()"
   ]
  },
  {
   "cell_type": "code",
   "execution_count": 17,
   "metadata": {},
   "outputs": [
    {
     "data": {
      "text/plain": [
       "[840372, 456992]"
      ]
     },
     "execution_count": 17,
     "metadata": {},
     "output_type": "execute_result"
    }
   ],
   "source": [
    "rows = train_data.reviewerID.nunique()\n",
    "cols = train_data.asin.nunique()\n",
    "[rows, cols]"
   ]
  },
  {
   "cell_type": "code",
   "execution_count": 23,
   "metadata": {},
   "outputs": [
    {
     "data": {
      "text/plain": [
       "5"
      ]
     },
     "execution_count": 23,
     "metadata": {},
     "output_type": "execute_result"
    }
   ],
   "source": [
    "from scipy import sparse\n",
    "spr = sparse.lil_matrix((rows, cols))\n",
    "y_train.head()\n"
   ]
  },
  {
   "cell_type": "code",
   "execution_count": 24,
   "metadata": {},
   "outputs": [],
   "source": [
    "for i in range(train_data.shape[0]):\n",
    "    spr[train_data['reviewerID'][i], train_data['asin'][i]]= train_data['overall'][i]"
   ]
  },
  {
   "cell_type": "code",
   "execution_count": 99,
   "metadata": {},
   "outputs": [],
   "source": [
    "# mean\n",
    "def cf_user_mean(reviewerID, itemID):\n",
    "    \n",
    "    return spr.mean(axis=0)[0, itemID]\n",
    "   "
   ]
  },
  {
   "cell_type": "code",
   "execution_count": 117,
   "metadata": {},
   "outputs": [],
   "source": [
    "def score_itemmean():\n",
    "    means = spr.sum(axis=0).A1/spr.getnnz(axis=0)\n",
    "    id_pairs = zip(X_test['reviewerID'], X_test['asin'])\n",
    "    y_pred = np.array([means[item] for (reviewer, item) in id_pairs])\n",
    "    y_true = np.array(X_test['overall'])\n",
    "    \n",
    "    return np.sqrt(mean_squared_error(y_true, y_pred))"
   ]
  },
  {
   "cell_type": "code",
   "execution_count": 118,
   "metadata": {},
   "outputs": [
    {
     "data": {
      "text/plain": [
       "0.6545390939790631"
      ]
     },
     "execution_count": 118,
     "metadata": {},
     "output_type": "execute_result"
    }
   ],
   "source": [
    "score_itemmean()"
   ]
  },
  {
   "cell_type": "markdown",
   "metadata": {},
   "source": [
    "## Random Forest"
   ]
  },
  {
   "cell_type": "code",
   "execution_count": 25,
   "metadata": {},
   "outputs": [
    {
     "data": {
      "text/plain": [
       "RandomForestRegressor(bootstrap=True, ccp_alpha=0.0, criterion='mse',\n",
       "                      max_depth=None, max_features='auto', max_leaf_nodes=None,\n",
       "                      max_samples=None, min_impurity_decrease=0.0,\n",
       "                      min_impurity_split=None, min_samples_leaf=1,\n",
       "                      min_samples_split=2, min_weight_fraction_leaf=0.0,\n",
       "                      n_estimators=200, n_jobs=None, oob_score=False,\n",
       "                      random_state=None, verbose=0, warm_start=False)"
      ]
     },
     "execution_count": 25,
     "metadata": {},
     "output_type": "execute_result"
    }
   ],
   "source": [
    "from sklearn.ensemble import RandomForestRegressor\n",
    "randomf = RandomForestRegressor(n_estimators=200)\n",
    "randomf.fit(X_train, y_train)"
   ]
  },
  {
   "cell_type": "code",
   "execution_count": 26,
   "metadata": {},
   "outputs": [],
   "source": [
    "from sklearn.metrics import mean_absolute_error"
   ]
  },
  {
   "cell_type": "code",
   "execution_count": 26,
   "metadata": {},
   "outputs": [
    {
     "name": "stdout",
     "output_type": "stream",
     "text": [
      "Mean Absolute Error for Training Set: 0.18629849063525636\n",
      "Mean Absolute Error for Test Set: 0.5073028979945654\n"
     ]
    }
   ],
   "source": [
    "print('Mean Absolute Error for Training Set:', mean_absolute_error(y_train, randomf.predict(X_train)))\n",
    "print('Mean Absolute Error for Test Set:', mean_absolute_error(y_test, randomf.predict(X_test)))"
   ]
  },
  {
   "cell_type": "markdown",
   "metadata": {},
   "source": [
    "The above result was produced after the model was run for approximately 1 hour"
   ]
  },
  {
   "cell_type": "markdown",
   "metadata": {},
   "source": [
    "## Linear Regression"
   ]
  },
  {
   "cell_type": "code",
   "execution_count": 28,
   "metadata": {},
   "outputs": [
    {
     "data": {
      "text/plain": [
       "LinearRegression(copy_X=True, fit_intercept=True, n_jobs=None, normalize=False)"
      ]
     },
     "execution_count": 28,
     "metadata": {},
     "output_type": "execute_result"
    }
   ],
   "source": [
    "from sklearn import linear_model\n",
    "model = linear_model.LinearRegression()\n",
    "model.fit(X_train, y_train)"
   ]
  },
  {
   "cell_type": "code",
   "execution_count": 29,
   "metadata": {},
   "outputs": [
    {
     "name": "stdout",
     "output_type": "stream",
     "text": [
      "Mean Absolute Error for Training Set: 0.5477646123236195\n",
      "Mean Absolute Error for Test Set: 0.5494248278803938\n"
     ]
    }
   ],
   "source": [
    "print('Mean Absolute Error for Training Set:', mean_absolute_error(y_train, model.predict(X_train)))\n",
    "print('Mean Absolute Error for Test Set:', mean_absolute_error(y_test, model.predict(X_test)))"
   ]
  },
  {
   "cell_type": "markdown",
   "metadata": {},
   "source": [
    "## SVM linear regressor\t"
   ]
  },
  {
   "cell_type": "code",
   "execution_count": 8,
   "metadata": {},
   "outputs": [
    {
     "name": "stderr",
     "output_type": "stream",
     "text": [
      "C:\\Users\\omarf\\anaconda3\\lib\\site-packages\\sklearn\\svm\\_base.py:947: ConvergenceWarning: Liblinear failed to converge, increase the number of iterations.\n",
      "  \"the number of iterations.\", ConvergenceWarning)\n"
     ]
    },
    {
     "data": {
      "text/plain": [
       "LinearSVR(C=1.0, dual=True, epsilon=0.0, fit_intercept=True,\n",
       "          intercept_scaling=1.0, loss='epsilon_insensitive', max_iter=1000,\n",
       "          random_state=0, tol=1e-05, verbose=0)"
      ]
     },
     "execution_count": 8,
     "metadata": {},
     "output_type": "execute_result"
    }
   ],
   "source": [
    "from sklearn.svm import LinearSVR\n",
    "svm = LinearSVR(random_state=0, tol=1e-5)\n",
    "svm.fit(X_train, y_train)"
   ]
  },
  {
   "cell_type": "code",
   "execution_count": 10,
   "metadata": {},
   "outputs": [
    {
     "name": "stdout",
     "output_type": "stream",
     "text": [
      "Mean Absolute Error for Training Set: 3.5953156480331807\n",
      "Mean Absolute Error for Test Set: 3.595489264422547\n"
     ]
    }
   ],
   "source": [
    "print('Mean Absolute Error for Training Set:', mean_absolute_error(y_train, svm.predict(X_train)))\n",
    "print('Mean Absolute Error for Test Set:', mean_absolute_error(y_test, svm.predict(X_test)))"
   ]
  },
  {
   "cell_type": "markdown",
   "metadata": {},
   "source": [
    "## KNNs Regressor"
   ]
  },
  {
   "cell_type": "code",
   "execution_count": 11,
   "metadata": {},
   "outputs": [
    {
     "name": "stdout",
     "output_type": "stream",
     "text": [
      "Mean Absolute Error for Training Set: 0.2648782343667539\n",
      "Mean Absolute Error for Test Set: 0.5339514823708844\n"
     ]
    }
   ],
   "source": [
    "from sklearn.neighbors import KNeighborsRegressor\n",
    "neigh = KNeighborsRegressor(n_neighbors=2)\n",
    "neigh.fit(X_train, y_train)\n",
    "print('Mean Absolute Error for Training Set:', mean_absolute_error(y_train, neigh.predict(X_train)))\n",
    "print('Mean Absolute Error for Test Set:', mean_absolute_error(y_test, neigh.predict(X_test)))"
   ]
  },
  {
   "cell_type": "markdown",
   "metadata": {},
   "source": [
    "## Decision Tree Regressor\t"
   ]
  },
  {
   "cell_type": "code",
   "execution_count": 27,
   "metadata": {},
   "outputs": [
    {
     "name": "stdout",
     "output_type": "stream",
     "text": [
      "Mean Absolute Error for Training Set: 0.0002957480017159613\n",
      "Mean Absolute Error for Test Set: 0.5226209805372273\n"
     ]
    }
   ],
   "source": [
    "from sklearn.tree import DecisionTreeRegressor\n",
    "Tree = DecisionTreeRegressor(random_state=0)\n",
    "Tree.fit(X_train, y_train)\n",
    "print('Mean Absolute Error for Training Set:', mean_absolute_error(y_train, Tree.predict(X_train)))\n",
    "print('Mean Absolute Error for Test Set:', mean_absolute_error(y_test, Tree.predict(X_test)))"
   ]
  },
  {
   "cell_type": "markdown",
   "metadata": {},
   "source": [
    "|Model|Test score|Efficency|\n",
    "|---|---|---|\n",
    "|Mean based CF|0.6545390939790631|good|\n",
    "|Random Forest|0.5073028979945654|bad|\n",
    "|Linear Regression|0.5494248278803938|good|\n",
    "|SVM linear regressor|3.595489264422547|NA|\n",
    "|KNNs Regressor|0.5339514823708844|good|\n",
    "|Decision Tree Regressor|0.5217962314741273|good|"
   ]
  }
 ],
 "metadata": {
  "kernelspec": {
   "display_name": "Python 3 (ipykernel)",
   "language": "python",
   "name": "python3"
  },
  "language_info": {
   "codemirror_mode": {
    "name": "ipython",
    "version": 3
   },
   "file_extension": ".py",
   "mimetype": "text/x-python",
   "name": "python",
   "nbconvert_exporter": "python",
   "pygments_lexer": "ipython3",
   "version": "3.9.7"
  }
 },
 "nbformat": 4,
 "nbformat_minor": 4
}
