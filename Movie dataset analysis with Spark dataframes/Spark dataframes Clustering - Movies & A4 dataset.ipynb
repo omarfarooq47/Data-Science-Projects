{
 "cells": [
  {
   "cell_type": "markdown",
   "metadata": {},
   "source": [
    "# Omar Farooq\n",
    "#### Data Analysis of 'Movies' & 'A4' dataset using spark dataframes "
   ]
  },
  {
   "cell_type": "code",
   "execution_count": 1,
   "metadata": {},
   "outputs": [],
   "source": [
    "import findspark\n",
    "findspark.init()\n",
    "import pyspark\n",
    "from pyspark.sql import *\n",
    "from pyspark import SparkContext, SparkConf"
   ]
  },
  {
   "cell_type": "code",
   "execution_count": 2,
   "metadata": {},
   "outputs": [],
   "source": [
    "# create the session\n",
    "conf = pyspark.SparkConf().setAppName('appName').setMaster('local')\n",
    "# create the context\n",
    "sc = pyspark.SparkContext(conf=conf)"
   ]
  },
  {
   "cell_type": "code",
   "execution_count": 3,
   "metadata": {},
   "outputs": [],
   "source": [
    "spark = SparkSession(sc)"
   ]
  },
  {
   "cell_type": "code",
   "execution_count": 4,
   "metadata": {},
   "outputs": [
    {
     "data": {
      "text/html": [
       "\n",
       "            <div>\n",
       "                <p><b>SparkSession - in-memory</b></p>\n",
       "                \n",
       "        <div>\n",
       "            <p><b>SparkContext</b></p>\n",
       "\n",
       "            <p><a href=\"http://DESKTOP-0AJA08S:4040\">Spark UI</a></p>\n",
       "\n",
       "            <dl>\n",
       "              <dt>Version</dt>\n",
       "                <dd><code>v3.0.2</code></dd>\n",
       "              <dt>Master</dt>\n",
       "                <dd><code>local</code></dd>\n",
       "              <dt>AppName</dt>\n",
       "                <dd><code>appName</code></dd>\n",
       "            </dl>\n",
       "        </div>\n",
       "        \n",
       "            </div>\n",
       "        "
      ],
      "text/plain": [
       "<pyspark.sql.session.SparkSession at 0x2aa23fdeca0>"
      ]
     },
     "execution_count": 4,
     "metadata": {},
     "output_type": "execute_result"
    }
   ],
   "source": [
    "spark"
   ]
  },
  {
   "cell_type": "markdown",
   "metadata": {},
   "source": [
    "##### Data Loading"
   ]
  },
  {
   "cell_type": "code",
   "execution_count": 5,
   "metadata": {},
   "outputs": [],
   "source": [
    "df1 = spark.read.csv(\"MoviesA3.csv\", sep= \";\",inferSchema=True,header=True)"
   ]
  },
  {
   "cell_type": "code",
   "execution_count": 6,
   "metadata": {},
   "outputs": [
    {
     "name": "stdout",
     "output_type": "stream",
     "text": [
      "+------+------+\n",
      "|     x|     y|\n",
      "+------+------+\n",
      "|845753|636607|\n",
      "+------+------+\n",
      "only showing top 1 row\n",
      "\n"
     ]
    }
   ],
   "source": [
    "Data = sc.textFile(\"A4dataset2.txt\")\n",
    "Data = Data.map(lambda x: [int(i) for i in x.split(' ') if i not in ''])\n",
    "#Data.collect()\n",
    "df2 = Data.toDF(['x', 'y'])\n",
    "df2.show(1)"
   ]
  },
  {
   "cell_type": "markdown",
   "metadata": {},
   "source": [
    "###### i. Identify the type of each data attribute. Indicate if the type of attribute is Nominal, Ordinal, Interval or Ratio"
   ]
  },
  {
   "cell_type": "code",
   "execution_count": 7,
   "metadata": {},
   "outputs": [
    {
     "data": {
      "text/plain": [
       "[('Year', 'int'),\n",
       " ('Length', 'int'),\n",
       " ('Title', 'string'),\n",
       " ('Genre', 'string'),\n",
       " ('Actor', 'string'),\n",
       " ('Actress', 'string'),\n",
       " ('Director', 'string'),\n",
       " ('Popularity', 'int'),\n",
       " ('Awards', 'string'),\n",
       " ('Image', 'string')]"
      ]
     },
     "execution_count": 7,
     "metadata": {},
     "output_type": "execute_result"
    }
   ],
   "source": [
    "df1.dtypes"
   ]
  },
  {
   "cell_type": "code",
   "execution_count": 8,
   "metadata": {},
   "outputs": [
    {
     "name": "stdout",
     "output_type": "stream",
     "text": [
      "+----+------+--------------------+------+-------------------+---------------+-----------------+----------+------+------------------+\n",
      "|Year|Length|               Title| Genre|              Actor|        Actress|         Director|Popularity|Awards|             Image|\n",
      "+----+------+--------------------+------+-------------------+---------------+-----------------+----------+------+------------------+\n",
      "|1990|   111|Tie Me Up! Tie Me...|Comedy|  Banderas, Antonio|Abril, Victoria| Almod�var, Pedro|        68|    No|NicholasCage.png,,|\n",
      "|1991|   113|          High Heels|Comedy|       Bos�, Miguel|Abril, Victoria| Almod�var, Pedro|        68|    No|NicholasCage.png,,|\n",
      "|1983|   104|      Dead Zone, The|Horror|Walken, Christopher|  Adams, Brooke|Cronenberg, David|        79|    No| NicholasCage.png,|\n",
      "+----+------+--------------------+------+-------------------+---------------+-----------------+----------+------+------------------+\n",
      "only showing top 3 rows\n",
      "\n"
     ]
    }
   ],
   "source": [
    "df1.show(3)"
   ]
  },
  {
   "cell_type": "markdown",
   "metadata": {},
   "source": [
    "### Movies Dataset\n",
    "| Variable | type |\n",
    "| --- | --- |\n",
    "| Year | ratio |\n",
    "| Length | ratio |\n",
    "| Title | nominal |\n",
    "| Genre | nominal |\n",
    "| Actor | nominal |\n",
    "| Actress | nominal |\n",
    "| Director | nominal |\n",
    "| Popularity | interval |\n",
    "| Awards | ordinal |\n",
    "| Image | nominal |"
   ]
  },
  {
   "cell_type": "code",
   "execution_count": 9,
   "metadata": {},
   "outputs": [
    {
     "name": "stdout",
     "output_type": "stream",
     "text": [
      "+------+------+\n",
      "|     x|     y|\n",
      "+------+------+\n",
      "|845753|636607|\n",
      "|812954|643720|\n",
      "+------+------+\n",
      "only showing top 2 rows\n",
      "\n"
     ]
    }
   ],
   "source": [
    "df2.show(2)"
   ]
  },
  {
   "cell_type": "code",
   "execution_count": 10,
   "metadata": {},
   "outputs": [
    {
     "data": {
      "text/plain": [
       "[('x', 'bigint'), ('y', 'bigint')]"
      ]
     },
     "execution_count": 10,
     "metadata": {},
     "output_type": "execute_result"
    }
   ],
   "source": [
    "df2.dtypes"
   ]
  },
  {
   "cell_type": "markdown",
   "metadata": {},
   "source": [
    "### A4 Dataset\n",
    "| Variable | type |\n",
    "| --- | --- |\n",
    "| x | ratio |\n",
    "| y | ratio |"
   ]
  },
  {
   "cell_type": "markdown",
   "metadata": {},
   "source": [
    "##### ii)a) Handle missing values"
   ]
  },
  {
   "cell_type": "code",
   "execution_count": 11,
   "metadata": {},
   "outputs": [],
   "source": [
    "import pyspark.sql.functions as f"
   ]
  },
  {
   "cell_type": "code",
   "execution_count": 12,
   "metadata": {},
   "outputs": [
    {
     "name": "stdout",
     "output_type": "stream",
     "text": [
      "null values in x:  0\n",
      "null values in y:  0\n"
     ]
    }
   ],
   "source": [
    "print('null values in x: ', df2.filter(df2.x.isNull()).count())\n",
    "print('null values in y: ', df2.filter(df2.y.isNull()).count())"
   ]
  },
  {
   "cell_type": "code",
   "execution_count": 13,
   "metadata": {},
   "outputs": [
    {
     "name": "stdout",
     "output_type": "stream",
     "text": [
      "null values in  Year :  0\n",
      "null values in  Length :  67\n",
      "null values in  Title :  0\n",
      "null values in  Genre :  2\n",
      "null values in  Actor :  8\n",
      "null values in  Actress :  378\n",
      "null values in  Director :  253\n",
      "null values in  Popularity :  6\n",
      "null values in  Awards :  0\n",
      "null values in  Image :  0\n"
     ]
    }
   ],
   "source": [
    "for c in df1.columns:\n",
    "    print('null values in ', c, ': ', df1.filter(f.col(c).isNull()).count())"
   ]
  },
  {
   "cell_type": "code",
   "execution_count": 14,
   "metadata": {},
   "outputs": [
    {
     "data": {
      "text/plain": [
       "1659"
      ]
     },
     "execution_count": 14,
     "metadata": {},
     "output_type": "execute_result"
    }
   ],
   "source": [
    "df1.count()"
   ]
  },
  {
   "cell_type": "code",
   "execution_count": 15,
   "metadata": {},
   "outputs": [],
   "source": [
    "nom = [c[0] for c in df1.dtypes if c[1]=='string'] \n",
    "df1= df1.na.fill('No', ['Awards'])"
   ]
  },
  {
   "cell_type": "code",
   "execution_count": 16,
   "metadata": {},
   "outputs": [],
   "source": [
    "df1 = df1.na.drop(subset=nom)"
   ]
  },
  {
   "cell_type": "code",
   "execution_count": 17,
   "metadata": {},
   "outputs": [],
   "source": [
    "from pyspark.sql.functions import sum,avg,max,min,mean,count\n",
    "seq = [x for x in df1.columns if x not in nom]"
   ]
  },
  {
   "cell_type": "code",
   "execution_count": 18,
   "metadata": {},
   "outputs": [
    {
     "name": "stdout",
     "output_type": "stream",
     "text": [
      "Year 1975\n",
      "Length 108\n",
      "Popularity 43\n"
     ]
    }
   ],
   "source": [
    "for x in seq:\n",
    "    meanValue = int(df1.agg(avg(x)).first()[0])\n",
    "    print(x, meanValue)\n",
    "    df1= df1.na.fill(meanValue, [x])"
   ]
  },
  {
   "cell_type": "code",
   "execution_count": 19,
   "metadata": {},
   "outputs": [
    {
     "name": "stdout",
     "output_type": "stream",
     "text": [
      "null values in  Year :  0\n",
      "null values in  Length :  0\n",
      "null values in  Title :  0\n",
      "null values in  Genre :  0\n",
      "null values in  Actor :  0\n",
      "null values in  Actress :  0\n",
      "null values in  Director :  0\n",
      "null values in  Popularity :  0\n",
      "null values in  Awards :  0\n",
      "null values in  Image :  0\n"
     ]
    }
   ],
   "source": [
    "for c in df1.columns:\n",
    "    print('null values in ', c, ': ', df1.filter(f.col(c).isNull()).count())"
   ]
  },
  {
   "cell_type": "markdown",
   "metadata": {},
   "source": [
    "##### ii)b) Identify if an attribute has outliers or noise"
   ]
  },
  {
   "cell_type": "markdown",
   "metadata": {},
   "source": [
    "### Movies Dataset"
   ]
  },
  {
   "cell_type": "code",
   "execution_count": 20,
   "metadata": {},
   "outputs": [],
   "source": [
    "\n",
    "bounds = {\n",
    "    c: dict(\n",
    "        zip([\"q1\", \"q3\"], df1.approxQuantile(c, [0.25, 0.75], 0))\n",
    "    )\n",
    "    for c in seq\n",
    "}"
   ]
  },
  {
   "cell_type": "code",
   "execution_count": 21,
   "metadata": {},
   "outputs": [
    {
     "name": "stdout",
     "output_type": "stream",
     "text": [
      "{'Year': {'q1': 1966.0, 'q3': 1988.0, 'lower': 1933.0, 'upper': 2021.0}, 'Length': {'q1': 94.0, 'q3': 117.0, 'lower': 59.5, 'upper': 151.5}, 'Popularity': {'q1': 19.0, 'q3': 68.0, 'lower': -54.5, 'upper': 141.5}}\n"
     ]
    }
   ],
   "source": [
    "for c in bounds:\n",
    "    iqr = bounds[c]['q3'] - bounds[c]['q1']\n",
    "    bounds[c]['lower'] = bounds[c]['q1'] - (iqr * 1.5)\n",
    "    bounds[c]['upper'] = bounds[c]['q3'] + (iqr * 1.5)\n",
    "print(bounds)"
   ]
  },
  {
   "cell_type": "code",
   "execution_count": 22,
   "metadata": {},
   "outputs": [
    {
     "data": {
      "text/plain": [
       "['Year_out', 'Length_out', 'Popularity_out']"
      ]
     },
     "execution_count": 22,
     "metadata": {},
     "output_type": "execute_result"
    }
   ],
   "source": [
    "df3 = df1.select(\n",
    "    \"*\",\n",
    "    *[\n",
    "        f.when(\n",
    "            f.col(c).between(bounds[c]['lower'], bounds[c]['upper']),\n",
    "            0\n",
    "        ).otherwise(1).alias(c+\"_out\") \n",
    "        for c in seq\n",
    "    ]\n",
    ")\n",
    "droppy = df3.columns[-3:]\n",
    "droppy"
   ]
  },
  {
   "cell_type": "code",
   "execution_count": 23,
   "metadata": {},
   "outputs": [
    {
     "name": "stdout",
     "output_type": "stream",
     "text": [
      "total outliers:  93\n"
     ]
    },
    {
     "data": {
      "text/plain": [
       "{'Year_out': 32, 'Length_out': 62, 'Popularity_out': 32}"
      ]
     },
     "execution_count": 23,
     "metadata": {},
     "output_type": "execute_result"
    }
   ],
   "source": [
    "print(\"total outliers: \", df3.filter(~df3[droppy[0]].rlike(\"[0]\") | ~df3[droppy[1]].rlike(\"[0]\") | ~df3[droppy[0]].rlike(\"[0]\")).count())\n",
    "{droppy[0] : df3.filter(~df3[droppy[0]].rlike(\"[0]\")).count(), \n",
    "droppy[1] : df3.filter(~df3[droppy[1]].rlike(\"[0]\")).count(),\n",
    "droppy[2] : df3.filter(~df3[droppy[0]].rlike(\"[0]\")).count()}"
   ]
  },
  {
   "cell_type": "markdown",
   "metadata": {},
   "source": [
    "### A4 Dataset"
   ]
  },
  {
   "cell_type": "code",
   "execution_count": 24,
   "metadata": {},
   "outputs": [
    {
     "name": "stdout",
     "output_type": "stream",
     "text": [
      "{'x': {'q1': 365668.0, 'q3': 725843.0, 'lower': -174594.5, 'upper': 1266105.5}, 'y': {'q1': 245409.0, 'q3': 696190.0, 'lower': -430762.5, 'upper': 1372361.5}}\n"
     ]
    }
   ],
   "source": [
    "bounds1 = {\n",
    "    c: dict(\n",
    "        zip([\"q1\", \"q3\"], df2.approxQuantile(c, [0.25, 0.75], 0))\n",
    "    )\n",
    "    for c in df2.columns\n",
    "}\n",
    "for c in bounds1:\n",
    "    iqr = bounds1[c]['q3'] - bounds1[c]['q1']\n",
    "    bounds1[c]['lower'] = bounds1[c]['q1'] - (iqr * 1.5)\n",
    "    bounds1[c]['upper'] = bounds1[c]['q3'] + (iqr * 1.5)\n",
    "print(bounds1)"
   ]
  },
  {
   "cell_type": "code",
   "execution_count": 25,
   "metadata": {},
   "outputs": [
    {
     "data": {
      "text/plain": [
       "['x_out', 'y_out']"
      ]
     },
     "execution_count": 25,
     "metadata": {},
     "output_type": "execute_result"
    }
   ],
   "source": [
    "df4 = df2.select(\n",
    "    \"*\",\n",
    "    *[\n",
    "        f.when(\n",
    "            f.col(c).between(bounds1[c]['lower'], bounds1[c]['upper']),\n",
    "            0\n",
    "        ).otherwise(1).alias(c+\"_out\") \n",
    "        for c in df2.columns\n",
    "    ]\n",
    ")\n",
    "dropp = df4.columns[-2:]\n",
    "dropp"
   ]
  },
  {
   "cell_type": "code",
   "execution_count": 26,
   "metadata": {},
   "outputs": [
    {
     "name": "stdout",
     "output_type": "stream",
     "text": [
      "total outliers:  0\n"
     ]
    },
    {
     "data": {
      "text/plain": [
       "{'x_out': 0, 'y_out': 0}"
      ]
     },
     "execution_count": 26,
     "metadata": {},
     "output_type": "execute_result"
    }
   ],
   "source": [
    "print(\"total outliers: \", df4.filter(~df4[dropp[0]].rlike(\"[0]\") | ~df4[dropp[1]].rlike(\"[0]\")).count())\n",
    "{dropp[0] : df4.filter(~df4[dropp[0]].rlike(\"[0]\")).count(), \n",
    "dropp[1] : df4.filter(~df4[dropp[1]].rlike(\"[0]\")).count()}"
   ]
  },
  {
   "cell_type": "markdown",
   "metadata": {},
   "source": [
    "##### c) Apply measures of the central tendency and dispersion to analyze numeric attributes. That is, compute the mean, median, mode, range, variance,correlation for the attribute. Don’t just give values explain analyze them."
   ]
  },
  {
   "cell_type": "markdown",
   "metadata": {},
   "source": [
    "### Movies Dataset"
   ]
  },
  {
   "cell_type": "code",
   "execution_count": 27,
   "metadata": {},
   "outputs": [],
   "source": [
    "from pyspark.sql.functions import sum,avg,max,min,mean,count, variance, stddev"
   ]
  },
  {
   "cell_type": "code",
   "execution_count": 28,
   "metadata": {},
   "outputs": [],
   "source": [
    "from pyspark.ml.stat import Correlation\n",
    "from pyspark.ml.feature import VectorAssembler\n",
    "\n",
    "# convert to vector column first\n",
    "vector_col = \"corr_features\"\n",
    "assembler = VectorAssembler(inputCols=seq, outputCol=vector_col)\n",
    "df_vector = assembler.transform(df1).select(vector_col)\n",
    "\n",
    "# get correlation matrix\n",
    "matrix = Correlation.corr(df_vector, vector_col)"
   ]
  },
  {
   "cell_type": "code",
   "execution_count": 29,
   "metadata": {},
   "outputs": [
    {
     "data": {
      "text/plain": [
       "array([[ 1.        ,  0.07218621, -0.12048869],\n",
       "       [ 0.07218621,  1.        , -0.02102639],\n",
       "       [-0.12048869, -0.02102639,  1.        ]])"
      ]
     },
     "execution_count": 29,
     "metadata": {},
     "output_type": "execute_result"
    }
   ],
   "source": [
    "matrix.collect()[0][\"pearson({})\".format(vector_col)].values.reshape( (3,3 ) )"
   ]
  },
  {
   "cell_type": "code",
   "execution_count": 30,
   "metadata": {},
   "outputs": [
    {
     "name": "stdout",
     "output_type": "stream",
     "text": [
      "==========  Year  ===========\n",
      "avg: 1975.164644714038\n",
      "range: 74\n",
      "variance: 280.05092584937876\n",
      "mode: 1987\n",
      "median: 1982.0\n",
      "stddev: 16.73472216230012\n",
      "==========  Length  ===========\n",
      "avg: 108.18457538994801\n",
      "range: 432\n",
      "variance: 843.5209760988212\n",
      "mode: 90\n",
      "median: 103.0\n",
      "stddev: 29.04343258120192\n",
      "==========  Popularity  ===========\n",
      "avg: 43.773830155979205\n",
      "range: 88\n",
      "variance: 720.343425560026\n",
      "mode: 8\n",
      "median: 44.0\n",
      "stddev: 26.839214324566694\n"
     ]
    }
   ],
   "source": [
    "for c in seq:\n",
    "    print(\"========== \", c, \" ===========\")\n",
    "    print(\"avg: \" + str(df1.select(avg(c)).collect()[0][0]))\n",
    "    print(\"range: \" + str(df1.select(max(c)).collect()[0][0]-df1.select(min(c)).collect()[0][0]))\n",
    "    print(\"variance: \" + str(df1.select(variance(c)).collect()[0][0]))\n",
    "    print(\"mode: \" + str(df1.groupby(c).count().orderBy(\"count\", ascending=False).first()[0]))\n",
    "    print(\"median: \" + str(df1.approxQuantile(c, [0.5], 0)[0]))\n",
    "    print(\"stddev: \" + str(df1.select(stddev(c)).collect()[0][0]))\n",
    "    \n",
    "    "
   ]
  },
  {
   "cell_type": "markdown",
   "metadata": {},
   "source": [
    "### A4 dataset"
   ]
  },
  {
   "cell_type": "code",
   "execution_count": 31,
   "metadata": {},
   "outputs": [
    {
     "data": {
      "text/plain": [
       "0.13278911382081576"
      ]
     },
     "execution_count": 31,
     "metadata": {},
     "output_type": "execute_result"
    }
   ],
   "source": [
    "df2.stat.corr(\"x\", \"y\")"
   ]
  },
  {
   "cell_type": "code",
   "execution_count": 32,
   "metadata": {},
   "outputs": [
    {
     "name": "stdout",
     "output_type": "stream",
     "text": [
      "==========  x  ===========\n",
      " avg: 525659.3564\n",
      " range: 928001\n",
      " variance: 48738478796.204254\n",
      " mode: 684997\n",
      " median: 539226.0\n",
      " stddev: 220767.92972758578\n",
      "==========  y  ===========\n",
      " avg: 477365.5364\n",
      " range: 958924\n",
      " variance: 54680634245.28494\n",
      " mode: 777579\n",
      " median: 471635.0\n",
      " stddev: 233838.90661154944\n"
     ]
    }
   ],
   "source": [
    "for c in df2.columns:\n",
    "    print(\"========== \", c, \" ===========\")\n",
    "    print(\" avg: \" + str(df2.select(avg(c)).collect()[0][0]))\n",
    "    print(\" range: \" + str(df2.select(max(c)).collect()[0][0]-df2.select(min(c)).collect()[0][0]))\n",
    "    print(\" variance: \" + str(df2.select(variance(c)).collect()[0][0]))\n",
    "    print(\" mode: \" + str(df2.groupby(c).count().orderBy(\"count\", ascending=False).first()[0]))\n",
    "    print(\" median: \" + str(df2.approxQuantile(c, [0.5], 0)[0]))\n",
    "    print(\" stddev: \" + str(df2.select(stddev(c)).collect()[0][0]))\n",
    "    \n",
    "    "
   ]
  },
  {
   "cell_type": "markdown",
   "metadata": {},
   "source": [
    "##### d) Would you apply preprocessing techniques like discretization or normalization on any attribute? Explain your answer. If yes, then apply the technique and share the results.\n",
    "\n",
    "### Movies Dataset\n",
    "\n",
    "| Variable | Pre-processing | Reason |\n",
    "| --- | --- | --- |\n",
    "| Length   | Binning + Normalization | Remove Noise + Rescale |\n",
    "| Popularity   | Binning + Normalization | Remove Noise + Rescale |\n",
    "| Year | Binning + Normalization | Remove Noise + Rescale |"
   ]
  },
  {
   "cell_type": "code",
   "execution_count": 37,
   "metadata": {},
   "outputs": [],
   "source": [
    "# Binning by bin-boundaries\n",
    "from pyspark.ml.feature import QuantileDiscretizer\n",
    "import numpy as np\n",
    "\n",
    "df3 = df1\n",
    "\n",
    "dic = {}\n",
    "for col in seq:\n",
    "    num = list(range(42))\n",
    "    val = df1.approxQuantile(col, list(np.arange(0,1.025,0.025)), 0)\n",
    "    res = dict(zip(num, val))  \n",
    "    dic[col] = val\n",
    "    \n"
   ]
  },
  {
   "cell_type": "code",
   "execution_count": 38,
   "metadata": {},
   "outputs": [
    {
     "name": "stdout",
     "output_type": "stream",
     "text": [
      "+----+------+--------------------+------+-------------------+---------------+-----------------+----------+------+------------------+\n",
      "|Year|Length|               Title| Genre|              Actor|        Actress|         Director|Popularity|Awards|             Image|\n",
      "+----+------+--------------------+------+-------------------+---------------+-----------------+----------+------+------------------+\n",
      "|1990|   111|Tie Me Up! Tie Me...|Comedy|  Banderas, Antonio|Abril, Victoria| Almod�var, Pedro|        68|    No|NicholasCage.png,,|\n",
      "|1991|   113|          High Heels|Comedy|       Bos�, Miguel|Abril, Victoria| Almod�var, Pedro|        68|    No|NicholasCage.png,,|\n",
      "|1983|   105|      Dead Zone, The|Horror|Walken, Christopher|  Adams, Brooke|Cronenberg, David|        80|    No| NicholasCage.png,|\n",
      "+----+------+--------------------+------+-------------------+---------------+-----------------+----------+------+------------------+\n",
      "only showing top 3 rows\n",
      "\n"
     ]
    }
   ],
   "source": [
    "# Binning by bin-boundaries\n",
    "from pyspark.sql.functions import udf\n",
    "from pyspark.sql.types import IntegerType\n",
    "\n",
    " \n",
    "    \n",
    "def add_des(colu, dictionary):\n",
    "    def f(org):\n",
    "        i = 0\n",
    "        llen = len(dictionary[colu])\n",
    "        while(1):\n",
    "            bin1 = int(dictionary[colu][i])\n",
    "            bin2 = int(dictionary[colu][i+1])\n",
    "            \n",
    "            #case 1: both are larger\n",
    "            if(org-bin1 > 0 and org-bin2 > 0):\n",
    "                \n",
    "                if(i < llen-2):\n",
    "                    i = i+1\n",
    "                    bin1 = int(dictionary[colu][i])\n",
    "                    bin2 = int(dictionary[colu][i+1])\n",
    "                else:\n",
    "                    return int(dictionary[colu][llen-1])\n",
    "            #case 2: val in between\n",
    "            elif(org-bin1 > 0 and org-bin2 < 0):\n",
    "                break\n",
    "            else:\n",
    "                print(\"Error in binning by bin-boundaries\")\n",
    "                break\n",
    "\n",
    "        if abs(org-bin1) < abs(org-bin2):\n",
    "            return bin1\n",
    "        else:\n",
    "            return bin2\n",
    "    return udf(f, IntegerType())\n",
    "\n",
    "for colu in seq:\n",
    "    df3 = df3.withColumn(colu , add_des(colu, dic)(f.col(colu)))\n",
    "df3.show(3)"
   ]
  },
  {
   "cell_type": "code",
   "execution_count": 39,
   "metadata": {},
   "outputs": [
    {
     "name": "stdout",
     "output_type": "stream",
     "text": [
      "+-------------------+--------------------+--------------------+------+-------------------+---------------+-----------------+------------------+------+------------------+\n",
      "|               Year|              Length|               Title| Genre|              Actor|        Actress|         Director|        Popularity|Awards|             Image|\n",
      "+-------------------+--------------------+--------------------+------+-------------------+---------------+-----------------+------------------+------+------------------+\n",
      "| 0.8826760689094908| 0.11395001849328577|Tie Me Up! Tie Me...|Comedy|  Banderas, Antonio|Abril, Victoria| Almod�var, Pedro|0.8900255566545787|    No|NicholasCage.png,,|\n",
      "|  0.942746139294674| 0.18680227408400704|          High Heels|Comedy|       Bos�, Miguel|Abril, Victoria| Almod�var, Pedro|0.8900255566545787|    No|NicholasCage.png,,|\n",
      "|0.46218557621320905|-0.10460674827887799|      Dead Zone, The|Horror|Walken, Christopher|  Adams, Brooke|Cronenberg, David|1.3357625610505357|    No| NicholasCage.png,|\n",
      "+-------------------+--------------------+--------------------+------+-------------------+---------------+-----------------+------------------+------+------------------+\n",
      "only showing top 3 rows\n",
      "\n"
     ]
    }
   ],
   "source": [
    "# Normalizing\n",
    "agg = {\"mean\":{}, \"stdev\":{}}\n",
    "\n",
    "for column in seq:\n",
    "    agg[\"mean\"][column]= df3.select(avg(column)).collect()[0][0]\n",
    "    agg[\"stdev\"][column] = df3.select(stddev(column)).collect()[0][0]\n",
    "\n",
    "    # Standardise each dataframe, column by column\n",
    "for column in seq:            \n",
    "    # Standardise the TRAINING data\n",
    "    df3 = df3.withColumn(column, ((df3[column] - agg[\"mean\"][column]) / agg[\"stdev\"][column]))       \n",
    "\n",
    "df3.show(3)"
   ]
  },
  {
   "cell_type": "markdown",
   "metadata": {},
   "source": [
    "### A4 Dataset"
   ]
  },
  {
   "cell_type": "code",
   "execution_count": 40,
   "metadata": {},
   "outputs": [
    {
     "name": "stdout",
     "output_type": "stream",
     "text": [
      "+------+------+\n",
      "|     x|     y|\n",
      "+------+------+\n",
      "|837052|641107|\n",
      "|813325|641107|\n",
      "|855489|610420|\n",
      "+------+------+\n",
      "only showing top 3 rows\n",
      "\n"
     ]
    }
   ],
   "source": [
    "# Binning by bin-boundaries\n",
    "df4 = df2\n",
    "\n",
    "seqe = df4.columns[:2]\n",
    "dic1 = {}\n",
    "for col in seqe:\n",
    "    val = df4.approxQuantile(col, list(np.arange(0,1.025,0.025)), 0)\n",
    "    dic1[col] = val\n",
    "    \n",
    "\n",
    "for colu in seqe:\n",
    "    df4 = df4.withColumn(colu , add_des(colu, dic1)(f.col(colu)))\n",
    "df4.show(3)"
   ]
  },
  {
   "cell_type": "code",
   "execution_count": 43,
   "metadata": {},
   "outputs": [
    {
     "name": "stdout",
     "output_type": "stream",
     "text": [
      "+-----------------+------------------+\n",
      "|                x|                 y|\n",
      "+-----------------+------------------+\n",
      "|1.416054646932836|0.7025199888219215|\n",
      "|1.308243143994456|0.7025199888219215|\n",
      "| 1.49982927835168|0.5708864911965532|\n",
      "+-----------------+------------------+\n",
      "only showing top 3 rows\n",
      "\n"
     ]
    }
   ],
   "source": [
    "# Normalizing\n",
    "agg1 = {\"mean\":{}, \"stdev\":{}}\n",
    "\n",
    "for column in seqe:\n",
    "    agg1[\"mean\"][column]= df4.select(avg(column)).collect()[0][0]\n",
    "    agg1[\"stdev\"][column] = df4.select(stddev(column)).collect()[0][0]\n",
    "\n",
    "    # Standardise each dataframe, column by column\n",
    "for column in seqe:            \n",
    "    # Standardise the TRAINING data\n",
    "    df4 = df4.withColumn(column, ((df4[column] - agg1[\"mean\"][column]) / agg1[\"stdev\"][column]))       \n",
    "\n",
    "df4.show(3)"
   ]
  },
  {
   "cell_type": "markdown",
   "metadata": {},
   "source": [
    "# \n",
    "##### a) Cluster the Movies dataSet using atmost three attributes to avoid curse of dimentionality. You can select the attribute based on the preprocessing."
   ]
  },
  {
   "cell_type": "code",
   "execution_count": 44,
   "metadata": {},
   "outputs": [
    {
     "name": "stdout",
     "output_type": "stream",
     "text": [
      "+-------------------+--------------------+--------------------+------+-------------------+---------------+-----------------+------------------+------+------------------+--------------------+\n",
      "|               Year|              Length|               Title| Genre|              Actor|        Actress|         Director|        Popularity|Awards|             Image|            features|\n",
      "+-------------------+--------------------+--------------------+------+-------------------+---------------+-----------------+------------------+------+------------------+--------------------+\n",
      "| 0.8826760689094908| 0.11395001849328577|Tie Me Up! Tie Me...|Comedy|  Banderas, Antonio|Abril, Victoria| Almod�var, Pedro|0.8900255566545787|    No|NicholasCage.png,,|[0.88267606890949...|\n",
      "|  0.942746139294674| 0.18680227408400704|          High Heels|Comedy|       Bos�, Miguel|Abril, Victoria| Almod�var, Pedro|0.8900255566545787|    No|NicholasCage.png,,|[0.94274613929467...|\n",
      "|0.46218557621320905|-0.10460674827887799|      Dead Zone, The|Horror|Walken, Christopher|  Adams, Brooke|Cronenberg, David|1.3357625610505357|    No| NicholasCage.png,|[0.46218557621320...|\n",
      "+-------------------+--------------------+--------------------+------+-------------------+---------------+-----------------+------------------+------+------------------+--------------------+\n",
      "only showing top 3 rows\n",
      "\n"
     ]
    }
   ],
   "source": [
    "vecAssembler = VectorAssembler(inputCols=seq, outputCol=\"features\")\n",
    "new_df = vecAssembler.transform(df3)\n",
    "new_df.show(3)"
   ]
  },
  {
   "cell_type": "code",
   "execution_count": 45,
   "metadata": {},
   "outputs": [
    {
     "name": "stdout",
     "output_type": "stream",
     "text": [
      "Silhouette Score with 2 clusters: 0.4218322323111163\n",
      "Silhouette Score with 3 clusters: 0.4913696021696762\n",
      "Silhouette Score with 4 clusters: 0.4559124658930528\n",
      "Silhouette Score with 5 clusters: 0.5229555502516077\n",
      "Silhouette Score with 6 clusters: 0.4314207286992868\n",
      "Silhouette Score with 7 clusters: 0.45242988302139786\n",
      "Silhouette Score with 8 clusters: 0.496149234019367\n",
      "Silhouette Score with 9 clusters: 0.4313614001720789\n"
     ]
    }
   ],
   "source": [
    "from pyspark.ml.clustering import KMeans\n",
    "from pyspark.ml.evaluation import ClusteringEvaluator\n",
    "silhouette_score=[]\n",
    "evaluator = ClusteringEvaluator(predictionCol='prediction', featuresCol='features', \\\n",
    "                                metricName='silhouette', distanceMeasure='squaredEuclidean')\n",
    "for i in range(2,10):\n",
    "    \n",
    "    KMeans_algo=KMeans(featuresCol='features', k=i)\n",
    "    \n",
    "    KMeans_fit=KMeans_algo.fit(new_df)\n",
    "    \n",
    "    output=KMeans_fit.transform(new_df)\n",
    "    \n",
    "    \n",
    "    \n",
    "    score=evaluator.evaluate(output)\n",
    "    \n",
    "    silhouette_score.append(score)\n",
    "    \n",
    "    print(\"Silhouette Score with\", i,\"clusters:\",score)"
   ]
  },
  {
   "cell_type": "code",
   "execution_count": 54,
   "metadata": {},
   "outputs": [
    {
     "data": {
      "text/html": [
       "<div>\n",
       "<style scoped>\n",
       "    .dataframe tbody tr th:only-of-type {\n",
       "        vertical-align: middle;\n",
       "    }\n",
       "\n",
       "    .dataframe tbody tr th {\n",
       "        vertical-align: top;\n",
       "    }\n",
       "\n",
       "    .dataframe thead th {\n",
       "        text-align: right;\n",
       "    }\n",
       "</style>\n",
       "<table border=\"1\" class=\"dataframe\">\n",
       "  <thead>\n",
       "    <tr style=\"text-align: right;\">\n",
       "      <th></th>\n",
       "      <th>0</th>\n",
       "    </tr>\n",
       "  </thead>\n",
       "  <tbody>\n",
       "    <tr>\n",
       "      <th>0</th>\n",
       "      <td>0.421832</td>\n",
       "    </tr>\n",
       "    <tr>\n",
       "      <th>1</th>\n",
       "      <td>0.491370</td>\n",
       "    </tr>\n",
       "    <tr>\n",
       "      <th>2</th>\n",
       "      <td>0.455912</td>\n",
       "    </tr>\n",
       "    <tr>\n",
       "      <th>3</th>\n",
       "      <td>0.522956</td>\n",
       "    </tr>\n",
       "    <tr>\n",
       "      <th>4</th>\n",
       "      <td>0.431421</td>\n",
       "    </tr>\n",
       "    <tr>\n",
       "      <th>5</th>\n",
       "      <td>0.452430</td>\n",
       "    </tr>\n",
       "    <tr>\n",
       "      <th>6</th>\n",
       "      <td>0.496149</td>\n",
       "    </tr>\n",
       "    <tr>\n",
       "      <th>7</th>\n",
       "      <td>0.431361</td>\n",
       "    </tr>\n",
       "  </tbody>\n",
       "</table>\n",
       "</div>"
      ],
      "text/plain": [
       "          0\n",
       "0  0.421832\n",
       "1  0.491370\n",
       "2  0.455912\n",
       "3  0.522956\n",
       "4  0.431421\n",
       "5  0.452430\n",
       "6  0.496149\n",
       "7  0.431361"
      ]
     },
     "execution_count": 54,
     "metadata": {},
     "output_type": "execute_result"
    }
   ],
   "source": [
    "import pandas as pd\n",
    "pd.DataFrame(silhouette_score).head(9)"
   ]
  },
  {
   "cell_type": "code",
   "execution_count": 46,
   "metadata": {},
   "outputs": [
    {
     "data": {
      "text/plain": [
       "Text(0, 0.5, 'cost')"
      ]
     },
     "execution_count": 46,
     "metadata": {},
     "output_type": "execute_result"
    },
    {
     "data": {
      "image/png": "[encoded data removed]",
      "text/plain": [
       "<Figure size 576x432 with 1 Axes>"
      ]
     },
     "metadata": {
      "needs_background": "light"
     },
     "output_type": "display_data"
    }
   ],
   "source": [
    "#Visualizing the silhouette scores in a plot\n",
    "import matplotlib.pyplot as plt\n",
    "fig, ax = plt.subplots(1,1, figsize =(8,6))\n",
    "ax.plot(range(2,10),silhouette_score)\n",
    "ax.set_xlabel('k')\n",
    "ax.set_ylabel('cost')"
   ]
  },
  {
   "cell_type": "markdown",
   "metadata": {},
   "source": [
    "###### The Movies dataset therefore has 5 clusters, as a maxima is observed at k=5"
   ]
  },
  {
   "cell_type": "code",
   "execution_count": 50,
   "metadata": {},
   "outputs": [
    {
     "name": "stdout",
     "output_type": "stream",
     "text": [
      "Cluster Centers: \n",
      "[-1.85772986 -0.43470088  0.85201697]\n",
      "[ 0.59372363 -0.05463757 -0.95283028]\n",
      "[ 0.43317214 -0.04918287  0.84024654]\n",
      "[-1.12428039 -0.20221009 -0.70648439]\n",
      "[-0.1985852   3.43735489  0.0356963 ]\n"
     ]
    }
   ],
   "source": [
    "KMeans_algo=KMeans(featuresCol='features', k=5)    \n",
    "KMeans_fit=KMeans_algo.fit(new_df) \n",
    "output=KMeans_fit.transform(new_df)\n",
    "score=evaluator.evaluate(output)\n",
    "    \n",
    "print(\"Cluster Centers: \")\n",
    "ctr=[]\n",
    "centers = KMeans_fit.clusterCenters()\n",
    "for center in centers:\n",
    "    ctr.append(center)\n",
    "    print(center)"
   ]
  },
  {
   "cell_type": "code",
   "execution_count": 59,
   "metadata": {},
   "outputs": [
    {
     "data": {
      "text/html": [
       "<div>\n",
       "<style scoped>\n",
       "    .dataframe tbody tr th:only-of-type {\n",
       "        vertical-align: middle;\n",
       "    }\n",
       "\n",
       "    .dataframe tbody tr th {\n",
       "        vertical-align: top;\n",
       "    }\n",
       "\n",
       "    .dataframe thead th {\n",
       "        text-align: right;\n",
       "    }\n",
       "</style>\n",
       "<table border=\"1\" class=\"dataframe\">\n",
       "  <thead>\n",
       "    <tr style=\"text-align: right;\">\n",
       "      <th></th>\n",
       "      <th>Year</th>\n",
       "      <th>Length</th>\n",
       "      <th>Popularity</th>\n",
       "    </tr>\n",
       "  </thead>\n",
       "  <tbody>\n",
       "    <tr>\n",
       "      <th>0</th>\n",
       "      <td>1944.076052</td>\n",
       "      <td>95.559370</td>\n",
       "      <td>66.641296</td>\n",
       "    </tr>\n",
       "    <tr>\n",
       "      <th>1</th>\n",
       "      <td>1985.100445</td>\n",
       "      <td>106.597713</td>\n",
       "      <td>18.200614</td>\n",
       "    </tr>\n",
       "    <tr>\n",
       "      <th>2</th>\n",
       "      <td>1982.413660</td>\n",
       "      <td>106.756136</td>\n",
       "      <td>66.325387</td>\n",
       "    </tr>\n",
       "    <tr>\n",
       "      <th>3</th>\n",
       "      <td>1956.350125</td>\n",
       "      <td>102.311700</td>\n",
       "      <td>24.812344</td>\n",
       "    </tr>\n",
       "    <tr>\n",
       "      <th>4</th>\n",
       "      <td>1971.841377</td>\n",
       "      <td>208.017160</td>\n",
       "      <td>44.731891</td>\n",
       "    </tr>\n",
       "  </tbody>\n",
       "</table>\n",
       "</div>"
      ],
      "text/plain": [
       "          Year      Length  Popularity\n",
       "0  1944.076052   95.559370   66.641296\n",
       "1  1985.100445  106.597713   18.200614\n",
       "2  1982.413660  106.756136   66.325387\n",
       "3  1956.350125  102.311700   24.812344\n",
       "4  1971.841377  208.017160   44.731891"
      ]
     },
     "execution_count": 59,
     "metadata": {},
     "output_type": "execute_result"
    }
   ],
   "source": [
    "c1 = [(list[0]*16.73472216230012+1975.164644714038, list[1]*29.04343258120192+108.18457538994801, list[2]*26.839214324566694+43.773830155979205)for list in ctr]\n",
    "# centers without standardization  \n",
    "pd.DataFrame(c1, columns=seq).head(9)"
   ]
  },
  {
   "cell_type": "markdown",
   "metadata": {},
   "source": [
    "### A4 Dataset"
   ]
  },
  {
   "cell_type": "code",
   "execution_count": 47,
   "metadata": {},
   "outputs": [
    {
     "name": "stdout",
     "output_type": "stream",
     "text": [
      "+------------------+-------------------+--------------------+\n",
      "|                 x|                  y|            features|\n",
      "+------------------+-------------------+--------------------+\n",
      "| 1.416054646932836| 0.7025199888219215|[1.41605464693283...|\n",
      "| 1.308243143994456| 0.7025199888219215|[1.30824314399445...|\n",
      "|  1.49982927835168| 0.5708864911965532|[1.49982927835168...|\n",
      "|2.0819850399930697| 0.5708864911965532|[2.08198503999306...|\n",
      "| 1.416054646932836| 0.7025199888219215|[1.41605464693283...|\n",
      "| 1.416054646932836| 0.5037078094645204|[1.41605464693283...|\n",
      "| 1.308243143994456| 0.6226828376568236|[1.30824314399445...|\n",
      "|  1.49982927835168| 0.7025199888219215|[1.49982927835168...|\n",
      "|  1.49982927835168| 0.7025199888219215|[1.49982927835168...|\n",
      "|1.2817435155063777| 0.7025199888219215|[1.28174351550637...|\n",
      "|1.3591522382297831|0.27164730866500303|[1.35915223822978...|\n",
      "| 1.416054646932836| 0.8093384252238804|[1.41605464693283...|\n",
      "|  1.49982927835168| 0.6226828376568236|[1.49982927835168...|\n",
      "|  1.49982927835168| 0.9388014092832945|[1.49982927835168...|\n",
      "| 1.416054646932836| 0.7025199888219215|[1.41605464693283...|\n",
      "| 1.416054646932836| 0.7025199888219215|[1.41605464693283...|\n",
      "|1.1595098896562759| 0.5037078094645204|[1.15950988965627...|\n",
      "| 1.416054646932836| 0.8093384252238804|[1.41605464693283...|\n",
      "|1.3591522382297831| 0.7025199888219215|[1.35915223822978...|\n",
      "|  1.49982927835168| 0.6226828376568236|[1.49982927835168...|\n",
      "+------------------+-------------------+--------------------+\n",
      "only showing top 20 rows\n",
      "\n"
     ]
    }
   ],
   "source": [
    "vecAssembler = VectorAssembler(inputCols=seqe, outputCol=\"features\")\n",
    "a4df = vecAssembler.transform(df4)\n",
    "a4df.show()"
   ]
  },
  {
   "cell_type": "code",
   "execution_count": 48,
   "metadata": {},
   "outputs": [
    {
     "name": "stdout",
     "output_type": "stream",
     "text": [
      "Silhouette Score with 2 clusters: 0.556973658296425\n",
      "Silhouette Score with 3 clusters: 0.5342499370437489\n",
      "Silhouette Score with 4 clusters: 0.6314232878769717\n",
      "Silhouette Score with 5 clusters: 0.5922052225509452\n",
      "Silhouette Score with 6 clusters: 0.5507324533392449\n",
      "Silhouette Score with 7 clusters: 0.5984819863538758\n",
      "Silhouette Score with 8 clusters: 0.5741286529809043\n",
      "Silhouette Score with 9 clusters: 0.5934227538755038\n"
     ]
    }
   ],
   "source": [
    "\n",
    "silhouette_score1=[]\n",
    "evaluator1 = ClusteringEvaluator(predictionCol='prediction', featuresCol='features', \\\n",
    "                                metricName='silhouette', distanceMeasure='squaredEuclidean')\n",
    "for i in range(2,10):\n",
    "    \n",
    "    KMeans_algo1=KMeans(featuresCol='features', k=i)\n",
    "    \n",
    "    KMeans_fit1=KMeans_algo1.fit(a4df)\n",
    "    \n",
    "    output1=KMeans_fit1.transform(a4df)\n",
    "    \n",
    "    \n",
    "    \n",
    "    score1=evaluator1.evaluate(output1)\n",
    "    \n",
    "    silhouette_score1.append(score1)\n",
    "    \n",
    "    print(\"Silhouette Score with\", i,\"clusters:\",score1)"
   ]
  },
  {
   "cell_type": "code",
   "execution_count": 55,
   "metadata": {},
   "outputs": [
    {
     "data": {
      "text/html": [
       "<div>\n",
       "<style scoped>\n",
       "    .dataframe tbody tr th:only-of-type {\n",
       "        vertical-align: middle;\n",
       "    }\n",
       "\n",
       "    .dataframe tbody tr th {\n",
       "        vertical-align: top;\n",
       "    }\n",
       "\n",
       "    .dataframe thead th {\n",
       "        text-align: right;\n",
       "    }\n",
       "</style>\n",
       "<table border=\"1\" class=\"dataframe\">\n",
       "  <thead>\n",
       "    <tr style=\"text-align: right;\">\n",
       "      <th></th>\n",
       "      <th>0</th>\n",
       "    </tr>\n",
       "  </thead>\n",
       "  <tbody>\n",
       "    <tr>\n",
       "      <th>0</th>\n",
       "      <td>0.556974</td>\n",
       "    </tr>\n",
       "    <tr>\n",
       "      <th>1</th>\n",
       "      <td>0.534250</td>\n",
       "    </tr>\n",
       "    <tr>\n",
       "      <th>2</th>\n",
       "      <td>0.631423</td>\n",
       "    </tr>\n",
       "    <tr>\n",
       "      <th>3</th>\n",
       "      <td>0.592205</td>\n",
       "    </tr>\n",
       "    <tr>\n",
       "      <th>4</th>\n",
       "      <td>0.550732</td>\n",
       "    </tr>\n",
       "    <tr>\n",
       "      <th>5</th>\n",
       "      <td>0.598482</td>\n",
       "    </tr>\n",
       "    <tr>\n",
       "      <th>6</th>\n",
       "      <td>0.574129</td>\n",
       "    </tr>\n",
       "    <tr>\n",
       "      <th>7</th>\n",
       "      <td>0.593423</td>\n",
       "    </tr>\n",
       "  </tbody>\n",
       "</table>\n",
       "</div>"
      ],
      "text/plain": [
       "          0\n",
       "0  0.556974\n",
       "1  0.534250\n",
       "2  0.631423\n",
       "3  0.592205\n",
       "4  0.550732\n",
       "5  0.598482\n",
       "6  0.574129\n",
       "7  0.593423"
      ]
     },
     "execution_count": 55,
     "metadata": {},
     "output_type": "execute_result"
    }
   ],
   "source": [
    "pd.DataFrame(silhouette_score1).head(9)"
   ]
  },
  {
   "cell_type": "code",
   "execution_count": 49,
   "metadata": {},
   "outputs": [
    {
     "data": {
      "text/plain": [
       "Text(0, 0.5, 'cost')"
      ]
     },
     "execution_count": 49,
     "metadata": {},
     "output_type": "execute_result"
    },
    {
     "data": {
      "image/png": "[encoded data removed]",
      "text/plain": [
       "<Figure size 576x432 with 1 Axes>"
      ]
     },
     "metadata": {
      "needs_background": "light"
     },
     "output_type": "display_data"
    }
   ],
   "source": [
    "#Visualizing the silhouette scores in a plot\n",
    "import matplotlib.pyplot as plt\n",
    "fig, ax = plt.subplots(1,1, figsize =(8,6))\n",
    "ax.plot(range(2,10),silhouette_score1)\n",
    "ax.set_xlabel('k')\n",
    "ax.set_ylabel('cost')"
   ]
  },
  {
   "cell_type": "markdown",
   "metadata": {},
   "source": [
    "The A4 dataset again has 4 clusters as a local maxima can be seen at k=4"
   ]
  },
  {
   "cell_type": "code",
   "execution_count": 52,
   "metadata": {},
   "outputs": [
    {
     "name": "stdout",
     "output_type": "stream",
     "text": [
      "Silhouette Score with 4 clusters: 0.6314232878769717\n",
      "Cluster Centers: \n",
      "[1.04064191 0.81681416]\n",
      "[ 0.59248934 -0.94468491]\n",
      "[-0.53024152  1.07339461]\n",
      "[-1.13168987 -0.65275969]\n"
     ]
    }
   ],
   "source": [
    "KMeans_algo1=KMeans(featuresCol='features', k=4)    \n",
    "KMeans_fit1=KMeans_algo1.fit(a4df) \n",
    "output1=KMeans_fit1.transform(a4df)\n",
    "score1=evaluator1.evaluate(output1)\n",
    "    \n",
    "print(\"Silhouette Score with 4 clusters:\",score1)\n",
    "print(\"Cluster Centers: \")\n",
    "ctr1=[]\n",
    "centers = KMeans_fit1.clusterCenters()\n",
    "for center in centers:\n",
    "    ctr1.append(center)\n",
    "    print(center)"
   ]
  },
  {
   "cell_type": "code",
   "execution_count": 56,
   "metadata": {},
   "outputs": [
    {
     "data": {
      "text/html": [
       "<div>\n",
       "<style scoped>\n",
       "    .dataframe tbody tr th:only-of-type {\n",
       "        vertical-align: middle;\n",
       "    }\n",
       "\n",
       "    .dataframe tbody tr th {\n",
       "        vertical-align: top;\n",
       "    }\n",
       "\n",
       "    .dataframe thead th {\n",
       "        text-align: right;\n",
       "    }\n",
       "</style>\n",
       "<table border=\"1\" class=\"dataframe\">\n",
       "  <thead>\n",
       "    <tr style=\"text-align: right;\">\n",
       "      <th></th>\n",
       "      <th>0</th>\n",
       "      <th>1</th>\n",
       "    </tr>\n",
       "  </thead>\n",
       "  <tbody>\n",
       "    <tr>\n",
       "      <th>0</th>\n",
       "      <td>755399.715457</td>\n",
       "      <td>668368.467558</td>\n",
       "    </tr>\n",
       "    <tr>\n",
       "      <th>1</th>\n",
       "      <td>656462.001886</td>\n",
       "      <td>256461.449351</td>\n",
       "    </tr>\n",
       "    <tr>\n",
       "      <th>2</th>\n",
       "      <td>408599.033150</td>\n",
       "      <td>728366.958444</td>\n",
       "    </tr>\n",
       "    <tr>\n",
       "      <th>3</th>\n",
       "      <td>275818.527401</td>\n",
       "      <td>324724.923059</td>\n",
       "    </tr>\n",
       "  </tbody>\n",
       "</table>\n",
       "</div>"
      ],
      "text/plain": [
       "               0              1\n",
       "0  755399.715457  668368.467558\n",
       "1  656462.001886  256461.449351\n",
       "2  408599.033150  728366.958444\n",
       "3  275818.527401  324724.923059"
      ]
     },
     "execution_count": 56,
     "metadata": {},
     "output_type": "execute_result"
    }
   ],
   "source": [
    "c2 = [(list[0]*220767.92972758578+525659.3564, list[1]*233838.90661154944+477365.5364)for list in ctr1]\n",
    "# centers without standardization    \n",
    "pd.DataFrame(c2).head(9)"
   ]
  },
  {
   "cell_type": "markdown",
   "metadata": {},
   "source": [
    "# The End"
   ]
  }
 ],
 "metadata": {
  "kernelspec": {
   "display_name": "Python 3 (ipykernel)",
   "language": "python",
   "name": "python3"
  },
  "language_info": {
   "codemirror_mode": {
    "name": "ipython",
    "version": 3
   },
   "file_extension": ".py",
   "mimetype": "text/x-python",
   "name": "python",
   "nbconvert_exporter": "python",
   "pygments_lexer": "ipython3",
   "version": "3.9.7"
  }
 },
 "nbformat": 4,
 "nbformat_minor": 4
}
