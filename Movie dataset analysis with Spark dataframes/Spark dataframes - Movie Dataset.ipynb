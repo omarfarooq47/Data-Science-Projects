{
 "cells": [
  {
   "cell_type": "code",
   "execution_count": 1,
   "metadata": {},
   "outputs": [],
   "source": [
    "import findspark\n",
    "findspark.init()\n",
    "import pyspark\n",
    "from pyspark.sql import *\n",
    "from pyspark import SparkContext, SparkConf"
   ]
  },
  {
   "cell_type": "code",
   "execution_count": 2,
   "metadata": {},
   "outputs": [],
   "source": [
    "# create the session\n",
    "conf = pyspark.SparkConf().setAppName('appName').setMaster('local')\n",
    "# create the context\n",
    "sc = pyspark.SparkContext(conf=conf)"
   ]
  },
  {
   "cell_type": "code",
   "execution_count": 3,
   "metadata": {},
   "outputs": [],
   "source": [
    "spark = SparkSession(sc)"
   ]
  },
  {
   "cell_type": "code",
   "execution_count": 4,
   "metadata": {},
   "outputs": [
    {
     "data": {
      "text/html": [
       "\n",
       "            <div>\n",
       "                <p><b>SparkSession - in-memory</b></p>\n",
       "                \n",
       "        <div>\n",
       "            <p><b>SparkContext</b></p>\n",
       "\n",
       "            <p><a href=\"http://DESKTOP-0AJA08S:4040\">Spark UI</a></p>\n",
       "\n",
       "            <dl>\n",
       "              <dt>Version</dt>\n",
       "                <dd><code>v3.0.2</code></dd>\n",
       "              <dt>Master</dt>\n",
       "                <dd><code>local</code></dd>\n",
       "              <dt>AppName</dt>\n",
       "                <dd><code>appName</code></dd>\n",
       "            </dl>\n",
       "        </div>\n",
       "        \n",
       "            </div>\n",
       "        "
      ],
      "text/plain": [
       "<pyspark.sql.session.SparkSession at 0x21ee80aac10>"
      ]
     },
     "execution_count": 4,
     "metadata": {},
     "output_type": "execute_result"
    }
   ],
   "source": [
    "spark"
   ]
  },
  {
   "cell_type": "code",
   "execution_count": 6,
   "metadata": {},
   "outputs": [],
   "source": [
    "df = spark.read.csv(\"MoviesA3.csv\", sep= \";\",inferSchema=True,header=True)"
   ]
  },
  {
   "cell_type": "markdown",
   "metadata": {},
   "source": [
    "#### 1. Find the title, year and director of action films that won an award."
   ]
  },
  {
   "cell_type": "code",
   "execution_count": 41,
   "metadata": {},
   "outputs": [
    {
     "name": "stdout",
     "output_type": "stream",
     "text": [
      "+-----+----+--------+\n",
      "|Title|Year|Director|\n",
      "+-----+----+--------+\n",
      "+-----+----+--------+\n",
      "\n"
     ]
    }
   ],
   "source": [
    "df.filter((df['Genre'] == \"Action\") & (df['Awards'] == \"Yes\")).select('Title', 'Year', 'Director').show()"
   ]
  },
  {
   "cell_type": "code",
   "execution_count": 65,
   "metadata": {},
   "outputs": [
    {
     "name": "stdout",
     "output_type": "stream",
     "text": [
      "+--------------------+----+--------------------+\n",
      "|               Title|Year|            Director|\n",
      "+--------------------+----+--------------------+\n",
      "| Fanny and Alexander|1982|     Bergman, Ingmar|\n",
      "|     A Man & a Woman|1966|     Lelouch, Claude|\n",
      "|Un Hombre y una M...|1966|     Lelouch, Claude|\n",
      "| Official Story, The|1985|        Puenzo, Luiz|\n",
      "|   Wild Strawberries|1957|     Bergman, Ingmar|\n",
      "|Through a Glass D...|1962|     Bergman, Ingmar|\n",
      "|    Cries & Whispers|1972|     Bergman, Ingmar|\n",
      "| Sound of Music, The|1965|        Wise, Robert|\n",
      "|     Babette's Feast|1987|       Axel, Gabriel|\n",
      "|Murder on the Ori...|1974|       Lumet, Sidney|\n",
      "|   Elephant Man, The|1980|        Lynch, David|\n",
      "|E. T. The Extra-T...|1982|   Spielberg, Steven|\n",
      "|              Misery|1990|         Reiner, Rob|\n",
      "|              Gandhi|1982|Attenborough, Ric...|\n",
      "|       Autumn Sonata|1978|     Bergman, Ingmar|\n",
      "|            Gaslight|1944|       Cukor, George|\n",
      "|A Woman Called Golda|1982|        Gibson, Alan|\n",
      "|           Anastasia|1956|     Litvak, Anatole|\n",
      "|       Cactus Flower|1969|          Saks, Gene|\n",
      "|             Amadeus|1984|       Forman, Milos|\n",
      "+--------------------+----+--------------------+\n",
      "only showing top 20 rows\n",
      "\n"
     ]
    }
   ],
   "source": [
    "# as the table has no values where (df['Genre'] == \"Action\") & (df['Awards'] == \"Yes\") are both true\n",
    "# we convert set genre of all movies that got an award to Action, so we can see the query works\n",
    "from pyspark.sql.functions import when\n",
    "df1 =  df.withColumn(\"Genre\", when(df.Awards == \"Yes\",\"Action\"))\n",
    "df1.filter((df1['Genre'] == \"Action\") & (df1['Awards'] == \"Yes\")).select('Title', 'Year', 'Director').show()"
   ]
  },
  {
   "cell_type": "markdown",
   "metadata": {},
   "source": [
    "#### 2. For each award-winning actor, find the movies he acted it. Print the names of the movies and the director of the movie."
   ]
  },
  {
   "cell_type": "code",
   "execution_count": 81,
   "metadata": {},
   "outputs": [
    {
     "name": "stdout",
     "output_type": "stream",
     "text": [
      "+--------------------+----------------+\n",
      "|               Title|        Director|\n",
      "+--------------------+----------------+\n",
      "|                Cuba| Lester, Richard|\n",
      "|      Days of Heaven|Malick, Terrence|\n",
      "|     Camille Claudel|  Nuytten, Bruno|\n",
      "| Fanny and Alexander| Bergman, Ingmar|\n",
      "|     A Man & a Woman| Lelouch, Claude|\n",
      "|A Man & a Woman: ...| Lelouch, Claude|\n",
      "|Un Hombre y una M...| Lelouch, Claude|\n",
      "| Official Story, The|    Puenzo, Luiz|\n",
      "|Lindbergh Kidnapp...|     Kulik, Buzz|\n",
      "|      Donovan's Reef|      Ford, John|\n",
      "|             Quintet|  Altman, Robert|\n",
      "|   Wild Strawberries| Bergman, Ingmar|\n",
      "|   Seventh Seal, The| Bergman, Ingmar|\n",
      "|              Dreams| Bergman, Ingmar|\n",
      "|    Naked Night, The| Bergman, Ingmar|\n",
      "|Through a Glass D...| Bergman, Ingmar|\n",
      "|    Cries & Whispers| Bergman, Ingmar|\n",
      "|Barbarian & the G...|    Huston, John|\n",
      "|              Dr. No|  Young, Terence|\n",
      "|       Elephant Walk|            null|\n",
      "+--------------------+----------------+\n",
      "only showing top 20 rows\n",
      "\n"
     ]
    }
   ],
   "source": [
    "actors = df.filter((df['Awards'] == \"Yes\")).select('Actor').distinct()\n",
    "l = [str(row.Actor) for row in df2.collect()]\n",
    "df.filter(df.Actor.isin(l)).select('Title', 'Director').show()"
   ]
  },
  {
   "cell_type": "markdown",
   "metadata": {},
   "source": [
    "#### 3. Find the top 10 most popular movies that did not win an award."
   ]
  },
  {
   "cell_type": "code",
   "execution_count": 96,
   "metadata": {},
   "outputs": [
    {
     "name": "stdout",
     "output_type": "stream",
     "text": [
      "+--------------------+----------+\n",
      "|               Title|Popularity|\n",
      "+--------------------+----------+\n",
      "|        Five Corners|        88|\n",
      "|        Final Notice|        88|\n",
      "|Gonzo Presents Mu...|        88|\n",
      "| Guilty by Suspicion|        88|\n",
      "|        Swedenhielms|        88|\n",
      "|           Raw Nerve|        88|\n",
      "|Happy Birthday to Me|        88|\n",
      "|         Let It Ride|        88|\n",
      "|      New Year's Day|        88|\n",
      "|   Fellini Satyricon|        88|\n",
      "|   Time Machine, The|        88|\n",
      "|Long Voyage Home,...|        88|\n",
      "|           Class Act|        88|\n",
      "|   Dangerous Pursuit|        88|\n",
      "|  Best of Times, The|        88|\n",
      "|Ballad of Narayam...|        88|\n",
      "|         Head Office|        88|\n",
      "|     Great Race, The|        88|\n",
      "|         Terror, The|        88|\n",
      "|They Were Expendable|        88|\n",
      "+--------------------+----------+\n",
      "only showing top 20 rows\n",
      "\n"
     ]
    }
   ],
   "source": [
    "df.filter((df.Awards == 'No')).where(df.Awards.isNotNull()).sort(df.Popularity.desc()).select('Title', 'Popularity').show()"
   ]
  },
  {
   "cell_type": "markdown",
   "metadata": {},
   "source": [
    "#### 4. Find the 10 least popular movies that were released before 1980."
   ]
  },
  {
   "cell_type": "code",
   "execution_count": 98,
   "metadata": {},
   "outputs": [
    {
     "name": "stdout",
     "output_type": "stream",
     "text": [
      "+----+--------------------+----------+\n",
      "|Year|               Title|Popularity|\n",
      "+----+--------------------+----------+\n",
      "|1968|             Shalako|         0|\n",
      "|1970|             Airport|         0|\n",
      "|1976|  Shout at the Devil|         0|\n",
      "|1930|       Anna Christie|         0|\n",
      "|1953|   Tales of Tomorrow|         0|\n",
      "|1974|            Stavisky|         1|\n",
      "|1958|          Indiscreet|         1|\n",
      "|1971| Anderson Tapes, The|         1|\n",
      "|1978|           Holocaust|         1|\n",
      "|1949|Law of the Golden...|         1|\n",
      "+----+--------------------+----------+\n",
      "\n"
     ]
    }
   ],
   "source": [
    "df.filter(df.Year < 1980).where(df.Popularity.isNotNull()).sort(df.Popularity.asc()).select('Year', 'Title', 'Popularity').limit(10).show()"
   ]
  },
  {
   "cell_type": "markdown",
   "metadata": {},
   "source": [
    "#### 5. Find the average length of the movies of each genre."
   ]
  },
  {
   "cell_type": "code",
   "execution_count": 103,
   "metadata": {},
   "outputs": [
    {
     "name": "stdout",
     "output_type": "stream",
     "text": [
      "+---------------+------------------+\n",
      "|Genre          |avg(Length)       |\n",
      "+---------------+------------------+\n",
      "|Crime          |66.0              |\n",
      "|Romance        |127.0             |\n",
      "|Adventure      |119.0             |\n",
      "|null           |120.5             |\n",
      "|Drama          |113.30455259026688|\n",
      "|War            |116.90625         |\n",
      "|Fantasy        |102.0             |\n",
      "|Mystery        |103.00990099009901|\n",
      "|Music          |100.48780487804878|\n",
      "|Science Fiction|106.47368421052632|\n",
      "|Horror         |93.92727272727272 |\n",
      "|Short          |40.0              |\n",
      "|Western        |93.0091743119266  |\n",
      "|Comedy         |96.50540540540541 |\n",
      "|Action         |104.5             |\n",
      "|Westerns       |124.8             |\n",
      "+---------------+------------------+\n",
      "\n"
     ]
    }
   ],
   "source": [
    "df.groupBy(\"Genre\").avg(\"Length\").show(truncate=False)"
   ]
  },
  {
   "cell_type": "markdown",
   "metadata": {},
   "source": [
    "#### 6. Find the actor and actress pair who have acted in more than three Comedies together."
   ]
  },
  {
   "cell_type": "code",
   "execution_count": 115,
   "metadata": {},
   "outputs": [
    {
     "name": "stdout",
     "output_type": "stream",
     "text": [
      "+--------------+------------------+-----+\n",
      "|         Actor|           Actress|count|\n",
      "+--------------+------------------+-----+\n",
      "|  Allen, Woody|     Keaton, Diane|    5|\n",
      "|Tracy, Spencer|Hepburn, Katharine|    6|\n",
      "+--------------+------------------+-----+\n",
      "\n"
     ]
    }
   ],
   "source": [
    "import pyspark.sql.functions as f\n",
    "df.filter((df.Genre == 'Comedy') ).where(df.Actor.isNotNull() & df.Actress.isNotNull()).groupBy('Actor', 'Actress').count().filter(f.col('count') > 2).show()"
   ]
  },
  {
   "cell_type": "markdown",
   "metadata": {},
   "source": [
    "#### 7. Find the names of actors who acted in movies of both ‘Comedy’ and ‘Drama’ Genre."
   ]
  },
  {
   "cell_type": "code",
   "execution_count": 117,
   "metadata": {},
   "outputs": [
    {
     "name": "stdout",
     "output_type": "stream",
     "text": [
      "+--------------------+\n",
      "|               Actor|\n",
      "+--------------------+\n",
      "|      Boyer, Charles|\n",
      "|      Taylor, Robert|\n",
      "|        Lemmon, Jack|\n",
      "|       Aiello, Danny|\n",
      "|      Stewart, James|\n",
      "|    Malmsten, Birger|\n",
      "|         Taylor, Rod|\n",
      "|       Russell, Kurt|\n",
      "|     Hopkins, Harold|\n",
      "|      Beatty, Warren|\n",
      "|       Irons, Jeremy|\n",
      "|        Fonda, Henry|\n",
      "|      Ford, Harrison|\n",
      "|   Depardieu, G�rard|\n",
      "|     Eastwood, Clint|\n",
      "|      Howard, Arliss|\n",
      "|        Cleese, John|\n",
      "|Lambert, Christopher|\n",
      "|        Johnson, Ben|\n",
      "|       Connery, Sean|\n",
      "+--------------------+\n",
      "only showing top 20 rows\n",
      "\n"
     ]
    }
   ],
   "source": [
    "nComedy = df.filter(df.Genre == 'Comedy').select('Actor').distinct()\n",
    "nDrama = df.filter(df.Genre == 'Drama').select('Actor').distinct()\n",
    "nComedy.intersect(nDrama).show()"
   ]
  },
  {
   "cell_type": "markdown",
   "metadata": {},
   "source": [
    "#### 8. Find the names of actors who acted in movies of both ‘Comedy’ or ‘Drama’ Genre."
   ]
  },
  {
   "cell_type": "code",
   "execution_count": 118,
   "metadata": {},
   "outputs": [
    {
     "name": "stdout",
     "output_type": "stream",
     "text": [
      "+-----------------+\n",
      "|            Actor|\n",
      "+-----------------+\n",
      "|  Matthau, Walter|\n",
      "|Keillor, Garrison|\n",
      "|Gauthier, Vincent|\n",
      "|   Boyer, Charles|\n",
      "|Finneran, Siohban|\n",
      "|     Keach, James|\n",
      "|Nagase, Masatoshi|\n",
      "|   Taylor, Robert|\n",
      "|    Mandel, Howie|\n",
      "|     Chase, Chevy|\n",
      "|   Wilson, George|\n",
      "|      Arkin, Alan|\n",
      "|     Lemmon, Jack|\n",
      "|Banderas, Antonio|\n",
      "|     Most, Donald|\n",
      "|    Jaglom, Henry|\n",
      "|    Rey, Fernando|\n",
      "|    Aiello, Danny|\n",
      "|     Reiner, Carl|\n",
      "|     Cooper, Gary|\n",
      "+-----------------+\n",
      "only showing top 20 rows\n",
      "\n"
     ]
    }
   ],
   "source": [
    "nComedy.union(nDrama).show()"
   ]
  },
  {
   "cell_type": "markdown",
   "metadata": {},
   "source": [
    "#### 9. Find the names of actors who did not acted in any ‘Comedy’"
   ]
  },
  {
   "cell_type": "code",
   "execution_count": 119,
   "metadata": {},
   "outputs": [
    {
     "name": "stdout",
     "output_type": "stream",
     "text": [
      "+--------------------+\n",
      "|               Actor|\n",
      "+--------------------+\n",
      "|      Din, Ayub Khan|\n",
      "|        Ferrer, Jose|\n",
      "|       Harrison, Rex|\n",
      "|      McCleery, Gary|\n",
      "|         Busey, Gary|\n",
      "|       Kime, Jeffrey|\n",
      "|     McDowall, Roddy|\n",
      "|          Race, Hugo|\n",
      "|Luckinbill, Laurence|\n",
      "|       Karyo, Tcheky|\n",
      "|          Webb, John|\n",
      "|         Ganus, Paul|\n",
      "|       Longden, John|\n",
      "|       Fisher, Eddie|\n",
      "|        Keach, Stacy|\n",
      "|   Bergen, Robert D.|\n",
      "|    Sj�str�m, Victor|\n",
      "|         Morrow, Vic|\n",
      "|        Singer, Marc|\n",
      "|    Wilding, Michael|\n",
      "+--------------------+\n",
      "only showing top 20 rows\n",
      "\n"
     ]
    }
   ],
   "source": [
    "df.select('Actor').distinct().subtract(nComedy).show()"
   ]
  },
  {
   "cell_type": "markdown",
   "metadata": {},
   "source": [
    "#### 10. Find each actor, find the mean, max, min ranking of his movies."
   ]
  },
  {
   "cell_type": "code",
   "execution_count": 124,
   "metadata": {},
   "outputs": [
    {
     "name": "stdout",
     "output_type": "stream",
     "text": [
      "+--------------------+-----------------+---------------+---------------+\n",
      "|Actor               |avg(Popularity)  |max(Popularity)|min(Popularity)|\n",
      "+--------------------+-----------------+---------------+---------------+\n",
      "|Din, Ayub Khan      |6.0              |6              |6              |\n",
      "|Ferrer, Jose        |7.0              |7              |7              |\n",
      "|Harrison, Rex       |10.0             |10             |10             |\n",
      "|McCleery, Gary      |41.0             |41             |41             |\n",
      "|Matthau, Walter     |67.33333333333333|83             |52             |\n",
      "|Keillor, Garrison   |6.0              |6              |6              |\n",
      "|Busey, Gary         |74.0             |74             |74             |\n",
      "|Boyer, Charles      |55.0             |70             |25             |\n",
      "|Kime, Jeffrey       |73.0             |73             |73             |\n",
      "|Gauthier, Vincent   |11.0             |11             |11             |\n",
      "|McDowall, Roddy     |55.0             |79             |31             |\n",
      "|Finneran, Siohban   |5.0              |5              |5              |\n",
      "|Race, Hugo          |50.0             |50             |50             |\n",
      "|Keach, James        |22.0             |22             |22             |\n",
      "|Nagase, Masatoshi   |23.0             |23             |23             |\n",
      "|Luckinbill, Laurence|29.0             |29             |29             |\n",
      "|Taylor, Robert      |67.75            |85             |11             |\n",
      "|Karyo, Tcheky       |6.0              |6              |6              |\n",
      "|Webb, John          |60.0             |60             |60             |\n",
      "|Ganus, Paul         |75.0             |75             |75             |\n",
      "+--------------------+-----------------+---------------+---------------+\n",
      "only showing top 20 rows\n",
      "\n"
     ]
    }
   ],
   "source": [
    "from pyspark.sql.functions import sum,avg,max,min,mean,count\n",
    "df.groupBy(\"Actor\").agg(avg(\"Popularity\"), max('Popularity'), min('Popularity')).show(truncate=False)"
   ]
  },
  {
   "cell_type": "markdown",
   "metadata": {},
   "source": [
    "#### 11. List the number of movies released in each decade starting from 1960’s."
   ]
  },
  {
   "cell_type": "code",
   "execution_count": 135,
   "metadata": {},
   "outputs": [
    {
     "name": "stdout",
     "output_type": "stream",
     "text": [
      "+----+-----+\n",
      "|Year|count|\n",
      "+----+-----+\n",
      "|1960|  154|\n",
      "|1970|  244|\n",
      "|1980|  607|\n",
      "|1990|  345|\n",
      "+----+-----+\n",
      "\n"
     ]
    }
   ],
   "source": [
    "from pyspark.sql.functions import udf\n",
    "udf_foo = udf(lambda x: int(x/10)*10)\n",
    "df.filter(df.Year > 1959).withColumn(\"Year\",udf_foo(\"Year\")).groupBy(\"Year\").count().sort(f.col('Year')).show()"
   ]
  },
  {
   "cell_type": "markdown",
   "metadata": {},
   "source": [
    "#### 12. Find the number of movies released in each year."
   ]
  },
  {
   "cell_type": "code",
   "execution_count": 136,
   "metadata": {},
   "outputs": [
    {
     "name": "stdout",
     "output_type": "stream",
     "text": [
      "+----+-----+\n",
      "|Year|count|\n",
      "+----+-----+\n",
      "|1920|    1|\n",
      "|1923|    1|\n",
      "|1924|    3|\n",
      "|1925|    1|\n",
      "|1926|    4|\n",
      "|1927|    3|\n",
      "|1928|    5|\n",
      "|1929|    5|\n",
      "|1930|    3|\n",
      "|1931|    9|\n",
      "|1932|    8|\n",
      "|1933|    3|\n",
      "|1934|    4|\n",
      "|1935|    8|\n",
      "|1936|    6|\n",
      "|1937|    9|\n",
      "|1938|    8|\n",
      "|1939|   11|\n",
      "|1940|   11|\n",
      "|1941|    7|\n",
      "+----+-----+\n",
      "only showing top 20 rows\n",
      "\n"
     ]
    }
   ],
   "source": [
    "df.groupBy(\"Year\").count().sort(f.col('Year')).show()"
   ]
  },
  {
   "cell_type": "markdown",
   "metadata": {},
   "source": [
    "#### 13. Find the number of movies released in each year of each genre. Consider only the movies with length greater than 100 minutes."
   ]
  },
  {
   "cell_type": "code",
   "execution_count": 146,
   "metadata": {},
   "outputs": [
    {
     "name": "stdout",
     "output_type": "stream",
     "text": [
      "+----+----+----------+-------------+----------+---------+-----------+----------+---------+-----------+-----------+-------------------+-------+-----------+------------+\n",
      "|Year|null|Action_cnt|Adventure_cnt|Comedy_cnt|Drama_cnt|Fantasy_cnt|Horror_cnt|Music_cnt|Mystery_cnt|Romance_cnt|Science Fiction_cnt|War_cnt|Western_cnt|Westerns_cnt|\n",
      "+----+----+----------+-------------+----------+---------+-----------+----------+---------+-----------+-----------+-------------------+-------+-----------+------------+\n",
      "|1920|   0|         0|            0|         0|        1|          0|         0|        0|          0|          0|                  0|      0|          0|           0|\n",
      "|1924|   0|         0|            0|         0|        2|          0|         0|        0|          0|          0|                  0|      0|          0|           0|\n",
      "|1925|   0|         0|            0|         0|        1|          0|         0|        0|          0|          0|                  0|      0|          0|           0|\n",
      "|1926|   0|         1|            0|         0|        1|          0|         0|        0|          0|          0|                  1|      0|          0|           0|\n",
      "|1928|   0|         0|            0|         0|        2|          0|         0|        0|          0|          0|                  0|      1|          0|           0|\n",
      "|1929|   0|         0|            0|         0|        1|          0|         0|        0|          0|          0|                  0|      0|          0|           0|\n",
      "|1931|   0|         0|            0|         0|        0|          0|         0|        0|          0|          0|                  0|      0|          2|           0|\n",
      "|1932|   0|         2|            0|         0|        1|          0|         0|        0|          0|          0|                  0|      0|          0|           0|\n",
      "|1933|   0|         0|            0|         0|        1|          0|         0|        0|          0|          0|                  0|      0|          0|           0|\n",
      "|1935|   0|         0|            0|         0|        0|          0|         0|        0|          0|          0|                  0|      0|          1|           0|\n",
      "|1936|   0|         0|            0|         0|        1|          0|         0|        0|          0|          0|                  0|      0|          0|           0|\n",
      "|1938|   0|         0|            0|         0|        1|          0|         0|        0|          0|          0|                  0|      0|          2|           0|\n",
      "|1939|   0|         1|            0|         1|        0|          0|         0|        0|          0|          0|                  0|      0|          3|           0|\n",
      "|1940|   0|         1|            0|         0|        2|          0|         0|        0|          1|          0|                  0|      0|          0|           0|\n",
      "|1941|   0|         0|            0|         0|        1|          0|         0|        0|          0|          0|                  0|      0|          0|           0|\n",
      "|1942|   0|         1|            0|         0|        2|          0|         0|        0|          0|          0|                  0|      0|          0|           0|\n",
      "|1943|   0|         0|            0|         0|        1|          0|         0|        0|          1|          0|                  0|      0|          0|           0|\n",
      "|1944|   0|         0|            0|         0|        1|          0|         0|        0|          0|          0|                  0|      1|          0|           0|\n",
      "|1945|   0|         0|            0|         0|        2|          0|         0|        0|          0|          0|                  0|      1|          0|           0|\n",
      "|1946|   0|         0|            0|         0|        4|          0|         0|        0|          2|          0|                  0|      0|          0|           0|\n",
      "+----+----+----------+-------------+----------+---------+-----------+----------+---------+-----------+-----------+-------------------+-------+-----------+------------+\n",
      "only showing top 20 rows\n",
      "\n"
     ]
    }
   ],
   "source": [
    "df1 = df.filter(f.col('Length') > 100).groupBy(\"Year\", 'Genre').count()\n",
    "df1.withColumn('ccol',f.concat(df1['Genre'],f.lit('_cnt'))).groupby('Year').pivot('ccol').agg(f.first('count')).fillna(0).sort(f.col('Year')).show()"
   ]
  },
  {
   "cell_type": "markdown",
   "metadata": {},
   "source": [
    "#### 14. Sort the movie’s release before 1990 by the title."
   ]
  },
  {
   "cell_type": "code",
   "execution_count": 147,
   "metadata": {},
   "outputs": [
    {
     "name": "stdout",
     "output_type": "stream",
     "text": [
      "+----+--------------------+\n",
      "|Year|               Title|\n",
      "+----+--------------------+\n",
      "|1968|2001: A Space Ody...|\n",
      "|1982|             48 Hrs.|\n",
      "|1963|               8 1/2|\n",
      "|1966|A Big Hand for th...|\n",
      "|1962|  A Child Is Waiting|\n",
      "|1985|A Chorus Line, Th...|\n",
      "|1971|  A Clockwork Orange|\n",
      "|1967|A Coeur Joie, (He...|\n",
      "|1988|   A Cry in the Dark|\n",
      "|1989|  A Dry White Season|\n",
      "|1966|      A Fine Madness|\n",
      "|1988| A Fish Called Wanda|\n",
      "|1964|A Fistful of Dollars|\n",
      "|1943|     A Guy Named Joe|\n",
      "|1954|    A Lesson in Love|\n",
      "|1977|A Little Night Music|\n",
      "|1966|     A Man & a Woman|\n",
      "|1986|A Man & a Woman: ...|\n",
      "|1966|A Man for All Sea...|\n",
      "|1976|    A Matter of Time|\n",
      "+----+--------------------+\n",
      "only showing top 20 rows\n",
      "\n"
     ]
    }
   ],
   "source": [
    "df.filter(f.col('Year') < 1990).select('Year', 'Title').sort(f.col('Title')).show()"
   ]
  },
  {
   "cell_type": "markdown",
   "metadata": {},
   "source": [
    "#### 15. Find the movies with long titles. A movie title is considered long if it is greater than 50 alphabets."
   ]
  },
  {
   "cell_type": "code",
   "execution_count": 152,
   "metadata": {},
   "outputs": [
    {
     "name": "stdout",
     "output_type": "stream",
     "text": [
      "+----+--------------------+------------+\n",
      "|Year|               Title|Title_length|\n",
      "+----+--------------------+------------+\n",
      "|1979|Fawlty Towers, Go...|          69|\n",
      "|1990|Industrial Sympho...|          52|\n",
      "|1992|Unnamable II, The...|          51|\n",
      "+----+--------------------+------------+\n",
      "\n"
     ]
    }
   ],
   "source": [
    "udf1 = udf(lambda x: len(x))\n",
    "df.withColumn(\"Title_length\", udf1(\"Title\")).select(\"Year\", \"Title\", \"Title_length\" ).filter(f.col('Title_length') > 50).sort(f.col('Title_length').desc()).show()"
   ]
  },
  {
   "cell_type": "markdown",
   "metadata": {},
   "source": [
    "# The End"
   ]
  }
 ],
 "metadata": {
  "kernelspec": {
   "display_name": "Python 3 (ipykernel)",
   "language": "python",
   "name": "python3"
  },
  "language_info": {
   "codemirror_mode": {
    "name": "ipython",
    "version": 3
   },
   "file_extension": ".py",
   "mimetype": "text/x-python",
   "name": "python",
   "nbconvert_exporter": "python",
   "pygments_lexer": "ipython3",
   "version": "3.9.7"
  }
 },
 "nbformat": 4,
 "nbformat_minor": 4
}
