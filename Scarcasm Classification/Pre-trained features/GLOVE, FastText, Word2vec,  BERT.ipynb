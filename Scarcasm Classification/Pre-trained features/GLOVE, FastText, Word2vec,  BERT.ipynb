{
 "cells": [
  {
   "cell_type": "code",
   "execution_count": 2,
   "metadata": {
    "id": "CZpXIvATh-0m"
   },
   "outputs": [],
   "source": [
    "drop_val = 0.6"
   ]
  },
  {
   "cell_type": "code",
   "execution_count": 3,
   "metadata": {
    "colab": {
     "base_uri": "https://localhost:8080/"
    },
    "id": "OOjykgjia37P",
    "outputId": "dde2f122-b5c4-41fa-ed41-2b76fd036e83"
   },
   "outputs": [
    {
     "name": "stdout",
     "output_type": "stream",
     "text": [
      "Mounted at /content/drive\n"
     ]
    }
   ],
   "source": [
    "from google.colab import drive\n",
    "drive.mount('/content/drive')"
   ]
  },
  {
   "cell_type": "code",
   "execution_count": 4,
   "metadata": {
    "colab": {
     "base_uri": "https://localhost:8080/"
    },
    "id": "UOXOYvwKdLBM",
    "outputId": "4740fcf7-429c-4dff-c7e0-216dbb457380"
   },
   "outputs": [
    {
     "name": "stdout",
     "output_type": "stream",
     "text": [
      "[nltk_data] Downloading package stopwords to /root/nltk_data...\n",
      "[nltk_data]   Unzipping corpora/stopwords.zip.\n",
      "[nltk_data] Downloading package wordnet to /root/nltk_data...\n",
      "[nltk_data]   Unzipping corpora/wordnet.zip.\n"
     ]
    }
   ],
   "source": [
    "# Importing required libraries\n",
    "import nltk\n",
    "nltk.download('stopwords')\n",
    "nltk.download('wordnet')\n",
    "import pandas as pd\n",
    "from nltk.corpus import stopwords\n",
    "from textblob import Word\n",
    "from sklearn.preprocessing import LabelEncoder\n",
    "from collections import Counter\n",
    "import wordcloud\n",
    "from sklearn.metrics import classification_report,confusion_matrix,accuracy_score\n",
    "from keras.models import Sequential\n",
    "from keras.preprocessing.text import Tokenizer\n",
    "from keras.preprocessing.sequence import pad_sequences\n",
    "from keras.layers import Dense, Embedding, LSTM, SpatialDropout1D, GRU, Bidirectional, RNN\n",
    "from sklearn.model_selection import train_test_split \n",
    "import matplotlib.pyplot as plt\n",
    "import numpy as np\n",
    "import tensorflow as tf\n",
    "import re\n",
    "import string\n",
    "from sklearn.metrics import classification_report\n",
    "from sklearn.svm import SVC"
   ]
  },
  {
   "cell_type": "markdown",
   "metadata": {
    "id": "q_3Jwa9O9Uv9"
   },
   "source": [
    "# ETL"
   ]
  },
  {
   "cell_type": "code",
   "execution_count": 5,
   "metadata": {
    "id": "fPBjpGDKf7XB"
   },
   "outputs": [],
   "source": [
    "#Loading the dataset\n",
    "data = pd.read_csv('/content/drive/MyDrive/NLP/Assignment 2/Sarcasm Dataset.csv')\n",
    "\n",
    "# df = data.copy()"
   ]
  },
  {
   "cell_type": "code",
   "execution_count": 6,
   "metadata": {
    "colab": {
     "base_uri": "https://localhost:8080/"
    },
    "id": "nBsNH55vgInc",
    "outputId": "9f7b2219-e593-473c-9eb2-c799a78b2bc6"
   },
   "outputs": [
    {
     "name": "stdout",
     "output_type": "stream",
     "text": [
      "sarcastic:  7803\n",
      "not sarcastic: 23409\n"
     ]
    },
    {
     "data": {
      "text/plain": [
       "0    the only thing i got from college is a caffein...\n",
       "1    i love it when professors draw a big question ...\n",
       "2    remember the hundred emails from companies whe...\n",
       "3    today my poppop told me i was not forced to go...\n",
       "4    volphancarol littlewhitty mysticalmanatee i di...\n",
       "Name: tweet, dtype: object"
      ]
     },
     "execution_count": 6,
     "metadata": {},
     "output_type": "execute_result"
    }
   ],
   "source": [
    "# setting type as string\n",
    "data['tweet'] = data['tweet'].astype(str)\n",
    "# converting to lower case\n",
    "data['tweet'] = data['tweet'].apply(lambda x: x.lower())\n",
    "# Removing non-alpabetic characters\n",
    "data['tweet'] = data['tweet'].apply((lambda x: re.sub('[^a-zA-z0-9\\s]','',x)))\n",
    "\n",
    "data['tweet'] = data['tweet'].apply((lambda x: re.sub('\\r','',x)))\n",
    "\n",
    "print('sarcastic: ', data[data['sarcastic'] == 1].size)\n",
    "print('not sarcastic:', data[data['sarcastic'] == 0].size)\n",
    "\n",
    "for idx,row in data.iterrows():\n",
    "    row['tweet'] = row['tweet'].replace('rt',' ')\n",
    "data['tweet'].head()"
   ]
  },
  {
   "cell_type": "code",
   "execution_count": 7,
   "metadata": {
    "colab": {
     "base_uri": "https://localhost:8080/"
    },
    "id": "5m0zgbF9kWBJ",
    "outputId": "174f56e6-723c-43d6-ed73-68b76fb90052"
   },
   "outputs": [
    {
     "data": {
      "text/plain": [
       "10760"
      ]
     },
     "execution_count": 7,
     "metadata": {},
     "output_type": "execute_result"
    }
   ],
   "source": [
    "# vocabulary size\n",
    "sentences = [sublist.split() for sublist in data['tweet'].astype(str).values]\n",
    "words = set([item for sublist in sentences for item in sublist])\n",
    "num_words = len(words)\n",
    "num_words"
   ]
  },
  {
   "cell_type": "code",
   "execution_count": 8,
   "metadata": {
    "colab": {
     "base_uri": "https://localhost:8080/"
    },
    "id": "1t0qJomXgoeM",
    "outputId": "ba1623f8-cb97-43ab-898f-f4c991d215d2"
   },
   "outputs": [
    {
     "name": "stdout",
     "output_type": "stream",
     "text": [
      "shape of X (3468, 61)\n"
     ]
    }
   ],
   "source": [
    "# # tokenization and padding\n",
    "# max_fatures = num_words\n",
    "tokenizer = Tokenizer(num_words=num_words, split=' ')\n",
    "tokenizer.fit_on_texts(data['tweet'].values)\n",
    "X1 = tokenizer.texts_to_sequences(data['tweet'].values)\n",
    "X = pad_sequences(X1)\n",
    "num_words = len(tokenizer.word_index.items())\n",
    "print('shape of X', X.shape)\n",
    "# num_words\n"
   ]
  },
  {
   "cell_type": "code",
   "execution_count": 9,
   "metadata": {
    "colab": {
     "base_uri": "https://localhost:8080/"
    },
    "id": "ikBC0z-oAm64",
    "outputId": "3773f56e-0bf4-4e62-de30-d28067426388"
   },
   "outputs": [
    {
     "name": "stdout",
     "output_type": "stream",
     "text": [
      "(2323, 61) (2323, 2)\n",
      "(1145, 61) (1145, 2)\n"
     ]
    }
   ],
   "source": [
    "Y = pd.get_dummies(data['sarcastic']).values\n",
    "X_train, X_test, Y_train, Y_test = train_test_split(X,Y, test_size = 0.33, random_state = 42)\n",
    "print(X_train.shape,Y_train.shape)\n",
    "print(X_test.shape,Y_test.shape)"
   ]
  },
  {
   "cell_type": "code",
   "execution_count": 11,
   "metadata": {
    "colab": {
     "base_uri": "https://localhost:8080/"
    },
    "id": "Fam1fh5cnSXK",
    "outputId": "8781e6a0-f966-4b0b-aa9a-cf9ae26fc0f4"
   },
   "outputs": [
    {
     "data": {
      "text/plain": [
       "36"
      ]
     },
     "execution_count": 11,
     "metadata": {},
     "output_type": "execute_result"
    }
   ],
   "source": [
    "X[341,60]"
   ]
  },
  {
   "cell_type": "markdown",
   "metadata": {
    "id": "30txG4INaWvf"
   },
   "source": [
    "# Vanilla Weights"
   ]
  },
  {
   "cell_type": "markdown",
   "metadata": {
    "id": "kinu9yUUahaL"
   },
   "source": [
    "### LSTM"
   ]
  },
  {
   "cell_type": "code",
   "execution_count": null,
   "metadata": {
    "colab": {
     "base_uri": "https://localhost:8080/"
    },
    "id": "sKPy94nDab3b",
    "outputId": "3ac2f30b-7ff2-49e8-a1cd-f61bf1d2a92c"
   },
   "outputs": [
    {
     "name": "stdout",
     "output_type": "stream",
     "text": [
      "Model: \"sequential_7\"\n",
      "_________________________________________________________________\n",
      " Layer (type)                Output Shape              Param #   \n",
      "=================================================================\n",
      " embedding_7 (Embedding)     (None, 63, 256)           2792960   \n",
      "                                                                 \n",
      " spatial_dropout1d_5 (Spatia  (None, 63, 256)          0         \n",
      " lDropout1D)                                                     \n",
      "                                                                 \n",
      " lstm_8 (LSTM)               (None, 63, 128)           197120    \n",
      "                                                                 \n",
      " lstm_9 (LSTM)               (None, 64)                49408     \n",
      "                                                                 \n",
      " dense_5 (Dense)             (None, 2)                 130       \n",
      "                                                                 \n",
      "=================================================================\n",
      "Total params: 3,039,618\n",
      "Trainable params: 3,039,618\n",
      "Non-trainable params: 0\n",
      "_________________________________________________________________\n",
      "None\n"
     ]
    }
   ],
   "source": [
    "embed_dim = 256\n",
    "lstm_out = 196\n",
    "\n",
    "# Create model\n",
    "model = Sequential()\n",
    "# model.add(Embedding(num_words,200,weights=[embedding_matrix],trainable=False))\n",
    "model.add(Embedding(num_words, embed_dim,input_length = X.shape[1]))\n",
    "model.add(SpatialDropout1D(drop_val))\n",
    "model.add(LSTM(128, dropout=drop_val, recurrent_dropout=drop_val, activation='relu', input_shape=(360,1), return_sequences=True))\n",
    "model.add(LSTM(64, dropout=drop_val, recurrent_dropout=drop_val))\n",
    "model.add(Dense(2,activation='softmax'))\n",
    "model.compile(loss = 'categorical_crossentropy', optimizer='adam',metrics = ['accuracy'])\n",
    "print(model.summary())"
   ]
  },
  {
   "cell_type": "code",
   "execution_count": null,
   "metadata": {
    "colab": {
     "base_uri": "https://localhost:8080/"
    },
    "id": "QJ483ff7bMUO",
    "outputId": "78c3bdd3-a4b4-4faf-f683-10cffa6da277"
   },
   "outputs": [
    {
     "name": "stdout",
     "output_type": "stream",
     "text": [
      "Epoch 1/100\n",
      "73/73 [==============================] - 28s 314ms/step - loss: 0.5663 - accuracy: 0.7538 - val_loss: 0.5813 - val_accuracy: 0.7336\n",
      "Epoch 2/100\n",
      "73/73 [==============================] - 22s 308ms/step - loss: 0.5511 - accuracy: 0.7581 - val_loss: 0.5928 - val_accuracy: 0.7336\n",
      "Epoch 3/100\n",
      "73/73 [==============================] - 22s 306ms/step - loss: 0.5279 - accuracy: 0.7581 - val_loss: 0.5836 - val_accuracy: 0.7336\n",
      "Epoch 4/100\n",
      "73/73 [==============================] - 22s 302ms/step - loss: 0.4749 - accuracy: 0.7714 - val_loss: 0.6203 - val_accuracy: 0.7100\n",
      "Epoch 5/100\n",
      "73/73 [==============================] - 22s 307ms/step - loss: 0.3463 - accuracy: 0.8545 - val_loss: 0.6797 - val_accuracy: 0.7170\n",
      "Epoch 6/100\n",
      "73/73 [==============================] - 22s 304ms/step - loss: 0.2266 - accuracy: 0.9096 - val_loss: 0.7295 - val_accuracy: 0.7092\n",
      "Epoch 7/100\n",
      "73/73 [==============================] - 22s 304ms/step - loss: 0.1407 - accuracy: 0.9471 - val_loss: 0.8820 - val_accuracy: 0.6830\n",
      "Epoch 8/100\n",
      "73/73 [==============================] - 22s 305ms/step - loss: 0.0993 - accuracy: 0.9638 - val_loss: 0.9853 - val_accuracy: 0.5983\n",
      "Epoch 9/100\n",
      "73/73 [==============================] - 22s 305ms/step - loss: 0.0871 - accuracy: 0.9694 - val_loss: 1.1429 - val_accuracy: 0.6707\n",
      "Epoch 10/100\n",
      "73/73 [==============================] - 22s 304ms/step - loss: 0.0432 - accuracy: 0.9862 - val_loss: 1.2934 - val_accuracy: 0.6838\n",
      "Epoch 11/100\n",
      "73/73 [==============================] - 22s 303ms/step - loss: 0.0375 - accuracy: 0.9884 - val_loss: 1.2890 - val_accuracy: 0.6690\n",
      "Epoch 12/100\n",
      "73/73 [==============================] - 22s 304ms/step - loss: 0.0354 - accuracy: 0.9888 - val_loss: 1.4963 - val_accuracy: 0.6803\n",
      "Epoch 13/100\n",
      "73/73 [==============================] - 22s 302ms/step - loss: 0.0273 - accuracy: 0.9905 - val_loss: 1.4286 - val_accuracy: 0.6699\n",
      "Epoch 14/100\n",
      "73/73 [==============================] - 22s 303ms/step - loss: 0.0171 - accuracy: 0.9940 - val_loss: 1.5824 - val_accuracy: 0.6664\n",
      "Epoch 15/100\n",
      "73/73 [==============================] - 22s 303ms/step - loss: 0.0149 - accuracy: 0.9957 - val_loss: 1.6725 - val_accuracy: 0.6664\n",
      "Epoch 16/100\n",
      "73/73 [==============================] - 23s 312ms/step - loss: 0.0165 - accuracy: 0.9940 - val_loss: 1.7314 - val_accuracy: 0.6716\n",
      "Epoch 17/100\n",
      "73/73 [==============================] - 22s 304ms/step - loss: 0.0124 - accuracy: 0.9961 - val_loss: 1.6431 - val_accuracy: 0.6707\n",
      "Epoch 18/100\n",
      "73/73 [==============================] - 22s 305ms/step - loss: 0.0136 - accuracy: 0.9953 - val_loss: 1.6185 - val_accuracy: 0.6306\n",
      "Epoch 19/100\n",
      "73/73 [==============================] - 22s 306ms/step - loss: 0.0171 - accuracy: 0.9957 - val_loss: 1.5748 - val_accuracy: 0.6638\n",
      "Epoch 20/100\n",
      "73/73 [==============================] - 22s 304ms/step - loss: 0.0206 - accuracy: 0.9931 - val_loss: 1.5042 - val_accuracy: 0.6533\n",
      "Epoch 21/100\n",
      "73/73 [==============================] - 22s 307ms/step - loss: 0.0093 - accuracy: 0.9957 - val_loss: 1.6871 - val_accuracy: 0.6611\n",
      "Epoch 22/100\n",
      "73/73 [==============================] - 22s 306ms/step - loss: 0.0148 - accuracy: 0.9953 - val_loss: 1.5562 - val_accuracy: 0.6664\n",
      "Epoch 23/100\n",
      "73/73 [==============================] - 22s 307ms/step - loss: 0.0099 - accuracy: 0.9978 - val_loss: 1.7253 - val_accuracy: 0.6620\n",
      "Epoch 24/100\n",
      "73/73 [==============================] - 22s 307ms/step - loss: 0.0110 - accuracy: 0.9978 - val_loss: 1.6874 - val_accuracy: 0.6541\n",
      "Epoch 25/100\n",
      "73/73 [==============================] - 22s 307ms/step - loss: 0.0084 - accuracy: 0.9978 - val_loss: 1.7124 - val_accuracy: 0.6620\n",
      "Epoch 26/100\n",
      "73/73 [==============================] - 22s 307ms/step - loss: 0.0078 - accuracy: 0.9966 - val_loss: 1.7802 - val_accuracy: 0.6751\n",
      "Epoch 27/100\n",
      "73/73 [==============================] - 22s 305ms/step - loss: 0.0033 - accuracy: 0.9991 - val_loss: 1.9032 - val_accuracy: 0.6725\n",
      "Epoch 28/100\n",
      "73/73 [==============================] - 22s 304ms/step - loss: 0.0031 - accuracy: 0.9991 - val_loss: 2.0427 - val_accuracy: 0.6664\n",
      "Epoch 29/100\n",
      "73/73 [==============================] - 22s 307ms/step - loss: 0.0117 - accuracy: 0.9970 - val_loss: 1.7617 - val_accuracy: 0.6629\n",
      "Epoch 30/100\n",
      "73/73 [==============================] - 22s 307ms/step - loss: 0.0089 - accuracy: 0.9974 - val_loss: 1.6259 - val_accuracy: 0.6524\n",
      "Epoch 31/100\n",
      "73/73 [==============================] - 22s 305ms/step - loss: 0.0056 - accuracy: 0.9978 - val_loss: 1.8733 - val_accuracy: 0.6646\n",
      "Epoch 32/100\n",
      "73/73 [==============================] - 22s 303ms/step - loss: 0.0051 - accuracy: 0.9978 - val_loss: 1.9932 - val_accuracy: 0.6742\n",
      "Epoch 33/100\n",
      "73/73 [==============================] - 22s 304ms/step - loss: 0.0088 - accuracy: 0.9970 - val_loss: 1.7880 - val_accuracy: 0.6742\n",
      "Epoch 34/100\n",
      "73/73 [==============================] - 22s 303ms/step - loss: 0.0098 - accuracy: 0.9953 - val_loss: 1.7435 - val_accuracy: 0.6585\n",
      "Epoch 35/100\n",
      "73/73 [==============================] - 22s 304ms/step - loss: 0.0082 - accuracy: 0.9974 - val_loss: 1.7565 - val_accuracy: 0.6734\n",
      "Epoch 36/100\n",
      "73/73 [==============================] - 22s 301ms/step - loss: 0.0056 - accuracy: 0.9978 - val_loss: 1.8494 - val_accuracy: 0.6594\n",
      "Epoch 37/100\n",
      "73/73 [==============================] - 22s 305ms/step - loss: 0.0062 - accuracy: 0.9970 - val_loss: 1.9131 - val_accuracy: 0.6576\n",
      "Epoch 38/100\n",
      "73/73 [==============================] - 22s 302ms/step - loss: 0.0053 - accuracy: 0.9983 - val_loss: 1.9316 - val_accuracy: 0.6611\n",
      "Epoch 39/100\n",
      "73/73 [==============================] - 22s 303ms/step - loss: 0.0047 - accuracy: 0.9983 - val_loss: 1.9835 - val_accuracy: 0.6463\n",
      "Epoch 40/100\n",
      "73/73 [==============================] - 22s 305ms/step - loss: 0.0066 - accuracy: 0.9970 - val_loss: 1.9965 - val_accuracy: 0.6541\n",
      "Epoch 41/100\n",
      "73/73 [==============================] - 23s 311ms/step - loss: 0.0059 - accuracy: 0.9983 - val_loss: 2.0218 - val_accuracy: 0.6672\n",
      "Epoch 42/100\n",
      "73/73 [==============================] - 22s 307ms/step - loss: 0.0050 - accuracy: 0.9970 - val_loss: 2.0239 - val_accuracy: 0.6437\n",
      "Epoch 43/100\n",
      "73/73 [==============================] - 22s 308ms/step - loss: 0.0040 - accuracy: 0.9974 - val_loss: 2.1334 - val_accuracy: 0.6419\n",
      "Epoch 44/100\n",
      "73/73 [==============================] - 22s 306ms/step - loss: 0.0091 - accuracy: 0.9966 - val_loss: 1.8815 - val_accuracy: 0.6288\n",
      "Epoch 45/100\n",
      "73/73 [==============================] - 22s 302ms/step - loss: 0.0073 - accuracy: 0.9957 - val_loss: 2.2734 - val_accuracy: 0.6725\n",
      "Epoch 46/100\n",
      "73/73 [==============================] - 22s 303ms/step - loss: 0.0113 - accuracy: 0.9961 - val_loss: 1.8421 - val_accuracy: 0.6585\n",
      "Epoch 47/100\n",
      "73/73 [==============================] - 22s 305ms/step - loss: 0.0047 - accuracy: 0.9978 - val_loss: 1.8493 - val_accuracy: 0.6419\n",
      "Epoch 48/100\n",
      "73/73 [==============================] - 22s 307ms/step - loss: 0.0049 - accuracy: 0.9978 - val_loss: 1.9182 - val_accuracy: 0.6585\n",
      "Epoch 49/100\n",
      "73/73 [==============================] - 22s 305ms/step - loss: 0.0050 - accuracy: 0.9970 - val_loss: 2.1214 - val_accuracy: 0.6707\n",
      "Epoch 50/100\n",
      "73/73 [==============================] - 22s 303ms/step - loss: 0.0116 - accuracy: 0.9970 - val_loss: 2.0180 - val_accuracy: 0.6585\n",
      "Epoch 51/100\n",
      "73/73 [==============================] - 22s 303ms/step - loss: 0.0044 - accuracy: 0.9978 - val_loss: 1.9912 - val_accuracy: 0.6541\n",
      "Epoch 52/100\n",
      "73/73 [==============================] - 22s 303ms/step - loss: 0.0026 - accuracy: 0.9987 - val_loss: 2.1300 - val_accuracy: 0.6541\n",
      "Epoch 53/100\n",
      "73/73 [==============================] - 22s 303ms/step - loss: 0.0051 - accuracy: 0.9974 - val_loss: 2.1334 - val_accuracy: 0.6437\n",
      "Epoch 54/100\n",
      "73/73 [==============================] - 22s 304ms/step - loss: 0.0443 - accuracy: 0.9935 - val_loss: 1.5134 - val_accuracy: 0.6463\n",
      "Epoch 55/100\n",
      "73/73 [==============================] - 23s 311ms/step - loss: 0.0047 - accuracy: 0.9978 - val_loss: 1.7870 - val_accuracy: 0.6428\n",
      "Epoch 56/100\n",
      "73/73 [==============================] - 23s 311ms/step - loss: 0.0068 - accuracy: 0.9974 - val_loss: 1.6513 - val_accuracy: 0.6463\n",
      "Epoch 57/100\n",
      "73/73 [==============================] - 22s 306ms/step - loss: 0.0044 - accuracy: 0.9983 - val_loss: 1.7953 - val_accuracy: 0.6507\n",
      "Epoch 58/100\n",
      "73/73 [==============================] - 22s 305ms/step - loss: 0.0044 - accuracy: 0.9983 - val_loss: 1.8914 - val_accuracy: 0.6541\n",
      "Epoch 59/100\n",
      "73/73 [==============================] - 23s 310ms/step - loss: 0.0033 - accuracy: 0.9974 - val_loss: 2.0046 - val_accuracy: 0.6480\n",
      "Epoch 60/100\n",
      "73/73 [==============================] - 22s 308ms/step - loss: 0.0034 - accuracy: 0.9983 - val_loss: 2.1238 - val_accuracy: 0.6524\n",
      "Epoch 61/100\n",
      "73/73 [==============================] - 23s 309ms/step - loss: 0.0036 - accuracy: 0.9987 - val_loss: 2.1679 - val_accuracy: 0.6367\n",
      "Epoch 62/100\n",
      "73/73 [==============================] - 23s 312ms/step - loss: 0.0035 - accuracy: 0.9983 - val_loss: 2.1216 - val_accuracy: 0.6445\n",
      "Epoch 63/100\n",
      "73/73 [==============================] - 22s 305ms/step - loss: 0.0047 - accuracy: 0.9961 - val_loss: 2.0743 - val_accuracy: 0.6507\n",
      "Epoch 64/100\n",
      "73/73 [==============================] - 22s 304ms/step - loss: 0.0028 - accuracy: 0.9991 - val_loss: 2.1618 - val_accuracy: 0.6498\n",
      "Epoch 65/100\n",
      "73/73 [==============================] - 22s 305ms/step - loss: 0.0036 - accuracy: 0.9978 - val_loss: 2.1328 - val_accuracy: 0.6472\n",
      "Epoch 66/100\n",
      "73/73 [==============================] - 22s 305ms/step - loss: 0.0101 - accuracy: 0.9966 - val_loss: 2.0870 - val_accuracy: 0.6541\n",
      "Epoch 67/100\n",
      "73/73 [==============================] - 22s 307ms/step - loss: 0.0037 - accuracy: 0.9978 - val_loss: 2.0792 - val_accuracy: 0.6480\n",
      "Epoch 68/100\n",
      "73/73 [==============================] - 22s 307ms/step - loss: 0.0049 - accuracy: 0.9966 - val_loss: 2.0323 - val_accuracy: 0.6262\n",
      "Epoch 69/100\n",
      "73/73 [==============================] - 22s 304ms/step - loss: 0.0058 - accuracy: 0.9970 - val_loss: 2.1628 - val_accuracy: 0.6707\n",
      "Epoch 70/100\n",
      "73/73 [==============================] - 22s 308ms/step - loss: 0.0078 - accuracy: 0.9987 - val_loss: 1.8231 - val_accuracy: 0.6585\n",
      "Epoch 71/100\n",
      "73/73 [==============================] - 22s 304ms/step - loss: 0.0032 - accuracy: 0.9978 - val_loss: 1.9748 - val_accuracy: 0.6550\n",
      "Epoch 72/100\n",
      "73/73 [==============================] - 22s 306ms/step - loss: 0.0033 - accuracy: 0.9978 - val_loss: 2.0746 - val_accuracy: 0.6576\n",
      "Epoch 73/100\n",
      "73/73 [==============================] - 23s 312ms/step - loss: 0.0092 - accuracy: 0.9970 - val_loss: 2.0510 - val_accuracy: 0.6620\n",
      "Epoch 74/100\n",
      "73/73 [==============================] - 23s 314ms/step - loss: 0.0032 - accuracy: 0.9983 - val_loss: 2.1198 - val_accuracy: 0.6611\n",
      "Epoch 75/100\n",
      "73/73 [==============================] - 23s 311ms/step - loss: 0.0031 - accuracy: 0.9987 - val_loss: 2.2090 - val_accuracy: 0.6620\n",
      "Epoch 76/100\n",
      "73/73 [==============================] - 23s 310ms/step - loss: 0.0072 - accuracy: 0.9978 - val_loss: 2.1136 - val_accuracy: 0.6498\n",
      "Epoch 77/100\n",
      "73/73 [==============================] - 23s 312ms/step - loss: 0.0031 - accuracy: 0.9983 - val_loss: 2.1947 - val_accuracy: 0.6480\n",
      "Epoch 78/100\n",
      "73/73 [==============================] - 23s 311ms/step - loss: 0.0036 - accuracy: 0.9970 - val_loss: 2.1723 - val_accuracy: 0.6603\n",
      "Epoch 79/100\n",
      "73/73 [==============================] - 23s 312ms/step - loss: 0.0031 - accuracy: 0.9978 - val_loss: 2.2095 - val_accuracy: 0.6550\n",
      "Epoch 80/100\n",
      "73/73 [==============================] - 23s 315ms/step - loss: 0.0036 - accuracy: 0.9978 - val_loss: 2.2534 - val_accuracy: 0.6603\n",
      "Epoch 81/100\n",
      "73/73 [==============================] - 23s 315ms/step - loss: 0.0033 - accuracy: 0.9974 - val_loss: 2.3381 - val_accuracy: 0.6620\n",
      "Epoch 82/100\n",
      "73/73 [==============================] - 23s 309ms/step - loss: 0.0080 - accuracy: 0.9970 - val_loss: 2.5629 - val_accuracy: 0.6148\n",
      "Epoch 83/100\n",
      "73/73 [==============================] - 23s 314ms/step - loss: 0.0113 - accuracy: 0.9966 - val_loss: 1.9513 - val_accuracy: 0.6515\n",
      "Epoch 84/100\n",
      "73/73 [==============================] - 23s 309ms/step - loss: 0.0047 - accuracy: 0.9970 - val_loss: 2.0751 - val_accuracy: 0.6795\n",
      "Epoch 85/100\n",
      "73/73 [==============================] - 23s 309ms/step - loss: 0.0027 - accuracy: 0.9987 - val_loss: 2.2847 - val_accuracy: 0.6419\n",
      "Epoch 86/100\n",
      "73/73 [==============================] - 22s 307ms/step - loss: 0.0044 - accuracy: 0.9974 - val_loss: 2.0286 - val_accuracy: 0.6629\n",
      "Epoch 87/100\n",
      "73/73 [==============================] - 22s 305ms/step - loss: 0.0030 - accuracy: 0.9978 - val_loss: 2.1546 - val_accuracy: 0.6498\n",
      "Epoch 88/100\n",
      "73/73 [==============================] - 22s 306ms/step - loss: 0.0027 - accuracy: 0.9978 - val_loss: 2.3015 - val_accuracy: 0.6533\n",
      "Epoch 89/100\n",
      "73/73 [==============================] - 22s 302ms/step - loss: 0.0070 - accuracy: 0.9974 - val_loss: 2.3149 - val_accuracy: 0.6515\n",
      "Epoch 90/100\n",
      "73/73 [==============================] - 22s 300ms/step - loss: 0.0161 - accuracy: 0.9966 - val_loss: 1.9126 - val_accuracy: 0.6707\n",
      "Epoch 91/100\n",
      "73/73 [==============================] - 22s 300ms/step - loss: 0.0136 - accuracy: 0.9957 - val_loss: 1.9138 - val_accuracy: 0.6489\n",
      "Epoch 92/100\n",
      "73/73 [==============================] - 23s 309ms/step - loss: 0.0143 - accuracy: 0.9966 - val_loss: 1.8935 - val_accuracy: 0.6437\n",
      "Epoch 93/100\n",
      "73/73 [==============================] - 22s 307ms/step - loss: 0.0312 - accuracy: 0.9918 - val_loss: 1.5990 - val_accuracy: 0.6122\n",
      "Epoch 94/100\n",
      "73/73 [==============================] - 22s 305ms/step - loss: 0.0072 - accuracy: 0.9970 - val_loss: 1.6776 - val_accuracy: 0.6358\n",
      "Epoch 95/100\n",
      "73/73 [==============================] - 22s 306ms/step - loss: 0.0058 - accuracy: 0.9974 - val_loss: 1.9321 - val_accuracy: 0.6559\n",
      "Epoch 96/100\n",
      "73/73 [==============================] - 23s 311ms/step - loss: 0.0043 - accuracy: 0.9978 - val_loss: 1.9943 - val_accuracy: 0.6445\n",
      "Epoch 97/100\n",
      "73/73 [==============================] - 22s 306ms/step - loss: 0.0031 - accuracy: 0.9978 - val_loss: 2.1042 - val_accuracy: 0.6428\n",
      "Epoch 98/100\n",
      "73/73 [==============================] - 22s 305ms/step - loss: 0.0035 - accuracy: 0.9970 - val_loss: 2.1236 - val_accuracy: 0.6410\n",
      "Epoch 99/100\n",
      "73/73 [==============================] - 22s 307ms/step - loss: 0.0044 - accuracy: 0.9974 - val_loss: 2.3378 - val_accuracy: 0.6507\n",
      "Epoch 100/100\n",
      "73/73 [==============================] - 22s 309ms/step - loss: 0.0146 - accuracy: 0.9966 - val_loss: 1.9540 - val_accuracy: 0.6437\n"
     ]
    }
   ],
   "source": [
    "batch_size = 32\n",
    "history = model.fit(X_train, Y_train, epochs = 100, batch_size=batch_size, validation_data=(X_test, Y_test))"
   ]
  },
  {
   "cell_type": "code",
   "execution_count": null,
   "metadata": {
    "colab": {
     "base_uri": "https://localhost:8080/"
    },
    "id": "NjCY7XHUbzt6",
    "outputId": "ad2c866d-840b-4b91-b388-cd777c997760"
   },
   "outputs": [
    {
     "data": {
      "text/plain": [
       "<matplotlib.legend.Legend at 0x7f999164a7d0>"
      ]
     },
     "execution_count": 94,
     "metadata": {},
     "output_type": "execute_result"
    },
    {
     "data": {
      "image/png": "[encoded data removed]",
      "text/plain": [
       "<Figure size 864x576 with 1 Axes>"
      ]
     },
     "metadata": {},
     "output_type": "display_data"
    }
   ],
   "source": [
    "import matplotlib.pyplot as plt\n",
    "import numpy as np\n",
    "# plot the training loss and accuracy\n",
    "plt.rcParams[\"figure.figsize\"] = (12,8)\n",
    "N = np.arange(0, 100)\n",
    "plt.style.use(\"ggplot\")\n",
    "plt.figure()\n",
    "plt.plot(N, history.history[\"loss\"], label=\"train_loss\")\n",
    "plt.plot(N, history.history[\"val_loss\"], label=\"val_loss\")\n",
    "plt.plot(N, history.history['accuracy'], label=\"accuracy\")\n",
    "plt.plot(N, history.history[\"val_accuracy\"], label=\"val_accuracy\")\n",
    "plt.title(\"Training Loss and Accuracy (1 Layered LSTM, Dropout=0.6)\")\n",
    "plt.xlabel(\"Epoch #\")\n",
    "plt.ylabel(\"Loss/Accuracy\")\n",
    "plt.legend()"
   ]
  },
  {
   "cell_type": "code",
   "execution_count": null,
   "metadata": {
    "colab": {
     "base_uri": "https://localhost:8080/"
    },
    "id": "hVFcr5VIb1NM",
    "outputId": "2129e806-6e07-4e43-840e-b6dfafb5bb03"
   },
   "outputs": [
    {
     "name": "stdout",
     "output_type": "stream",
     "text": [
      "Y_test uint8 (1145, 2)\n",
      "a uint8 (1145, 2)\n"
     ]
    }
   ],
   "source": [
    "y_pred = model.predict(X_test)\n",
    "idx = np.argmax(y_pred, axis=-1)\n",
    "a = np.zeros( y_pred.shape )\n",
    "a[ np.arange(y_pred.shape[0]), idx] = 1\n",
    "# pd.DataFrame(a).head()\n",
    "a = a.astype(np.uint8)\n",
    "print('Y_test', Y_test.dtype,  Y_test.shape)\n",
    "print('a', a.dtype,  a.shape)"
   ]
  },
  {
   "cell_type": "code",
   "execution_count": null,
   "metadata": {
    "colab": {
     "base_uri": "https://localhost:8080/"
    },
    "id": "vJ9GAf0wcLOm",
    "outputId": "2e97c2ed-434b-4b83-ad54-654d2d97bee7"
   },
   "outputs": [
    {
     "name": "stdout",
     "output_type": "stream",
     "text": [
      "              precision    recall  f1-score   support\n",
      "\n",
      "           0       0.75      0.77      0.76       840\n",
      "           1       0.32      0.31      0.32       305\n",
      "\n",
      "   micro avg       0.64      0.64      0.64      1145\n",
      "   macro avg       0.54      0.54      0.54      1145\n",
      "weighted avg       0.64      0.64      0.64      1145\n",
      " samples avg       0.64      0.64      0.64      1145\n",
      "\n"
     ]
    }
   ],
   "source": [
    "print(classification_report(Y_test, a, labels=[0,1]))"
   ]
  },
  {
   "cell_type": "markdown",
   "metadata": {
    "id": "P41aBaKQ7Ycc"
   },
   "source": [
    "###SVM"
   ]
  },
  {
   "cell_type": "code",
   "execution_count": 24,
   "metadata": {
    "id": "fVj-cfWv7Ycf"
   },
   "outputs": [],
   "source": [
    "Xtrain, Xtest, Ytrain, Ytest = train_test_split(X,Y[:,0], test_size = 0.33, random_state = 42)"
   ]
  },
  {
   "cell_type": "code",
   "execution_count": 25,
   "metadata": {
    "colab": {
     "base_uri": "https://localhost:8080/"
    },
    "id": "nJCUav8G7Ycf",
    "outputId": "ad76da74-b996-484a-92b2-fca63c89589b"
   },
   "outputs": [
    {
     "data": {
      "text/plain": [
       "array([0, 1, 0, ..., 1, 1, 1], dtype=uint8)"
      ]
     },
     "execution_count": 25,
     "metadata": {},
     "output_type": "execute_result"
    }
   ],
   "source": [
    "# instantiate classifier with default hyperparameters\n",
    "svc=SVC() \n",
    "# fit classifier to training set\n",
    "svc.fit(Xtrain,Ytrain)\n",
    "# make predictions on test set\n",
    "y_pred=svc.predict(Xtest)\n",
    "y_pred"
   ]
  },
  {
   "cell_type": "code",
   "execution_count": 26,
   "metadata": {
    "colab": {
     "base_uri": "https://localhost:8080/"
    },
    "id": "1K19cPHy7Ycg",
    "outputId": "d2c03cad-8338-4c26-a549-200d00279b06"
   },
   "outputs": [
    {
     "data": {
      "text/plain": [
       "array([1, 0, 0, ..., 0, 1, 0], dtype=uint8)"
      ]
     },
     "execution_count": 26,
     "metadata": {},
     "output_type": "execute_result"
    }
   ],
   "source": [
    "Ytest"
   ]
  },
  {
   "cell_type": "code",
   "execution_count": 27,
   "metadata": {
    "colab": {
     "base_uri": "https://localhost:8080/"
    },
    "id": "6DPQNHXI7Ych",
    "outputId": "2d00b395-8029-4b24-86aa-4f7d60e2d6fb"
   },
   "outputs": [
    {
     "name": "stdout",
     "output_type": "stream",
     "text": [
      "              precision    recall  f1-score   support\n",
      "\n",
      "           0       0.67      0.28      0.39       305\n",
      "           1       0.78      0.95      0.86       840\n",
      "\n",
      "    accuracy                           0.77      1145\n",
      "   macro avg       0.73      0.61      0.63      1145\n",
      "weighted avg       0.75      0.77      0.74      1145\n",
      "\n"
     ]
    }
   ],
   "source": [
    "print(classification_report(Ytest, y_pred, labels=[0,1]))"
   ]
  },
  {
   "cell_type": "markdown",
   "metadata": {
    "id": "mKarpqpi80zE"
   },
   "source": [
    "# Glove"
   ]
  },
  {
   "cell_type": "code",
   "execution_count": 13,
   "metadata": {
    "colab": {
     "base_uri": "https://localhost:8080/"
    },
    "id": "2LOHw0wIhWu7",
    "outputId": "1a6ddb53-ee27-4d11-dbba-d758628b6a7f"
   },
   "outputs": [
    {
     "name": "stdout",
     "output_type": "stream",
     "text": [
      "Loaded 1193514 word vectors.\n"
     ]
    }
   ],
   "source": [
    "# Load Glove tweet embeddings\n",
    "embeddings_index = dict()\n",
    "f = open('/content/drive/MyDrive/NLP/Assignment 2/Embeddings/glove.twitter.27B.200d.txt',encoding=\"utf8\")\n",
    "\n",
    "for line in f:\n",
    "    values = line.split()\n",
    "    word = values[0]\n",
    "    coefs = np.asarray(values[1:], dtype='float32')\n",
    "    embeddings_index[word] = coefs\n",
    "\n",
    "f.close()\n",
    "print('Loaded %s word vectors.' % len(embeddings_index))"
   ]
  },
  {
   "cell_type": "code",
   "execution_count": 14,
   "metadata": {
    "id": "4I4Hj0Q1g_QI"
   },
   "outputs": [],
   "source": [
    "#Creating embedding matrix\n",
    "embedding_matrix = np.zeros((num_words, 200))\n",
    "\n",
    "for word, i in tokenizer.word_index.items():\n",
    "    embedding_vector = embeddings_index.get(word)\n",
    "    if embedding_vector is not None:\n",
    "        embedding_matrix[i] = embedding_vector"
   ]
  },
  {
   "cell_type": "markdown",
   "metadata": {
    "id": "s85i95kzELn8"
   },
   "source": [
    "### LSTM"
   ]
  },
  {
   "cell_type": "code",
   "execution_count": null,
   "metadata": {
    "colab": {
     "base_uri": "https://localhost:8080/"
    },
    "id": "pyJq4gxdgyD6",
    "outputId": "0e0582f1-70c0-441f-a9ba-47cd8f596fe9"
   },
   "outputs": [
    {
     "name": "stdout",
     "output_type": "stream",
     "text": [
      "Model: \"sequential_4\"\n",
      "_________________________________________________________________\n",
      " Layer (type)                Output Shape              Param #   \n",
      "=================================================================\n",
      " embedding_4 (Embedding)     (None, None, 200)         2182000   \n",
      "                                                                 \n",
      " spatial_dropout1d_2 (Spatia  (None, None, 200)        0         \n",
      " lDropout1D)                                                     \n",
      "                                                                 \n",
      " lstm_2 (LSTM)               (None, None, 128)         168448    \n",
      "                                                                 \n",
      " lstm_3 (LSTM)               (None, 64)                49408     \n",
      "                                                                 \n",
      " dense_2 (Dense)             (None, 2)                 130       \n",
      "                                                                 \n",
      "=================================================================\n",
      "Total params: 2,399,986\n",
      "Trainable params: 217,986\n",
      "Non-trainable params: 2,182,000\n",
      "_________________________________________________________________\n",
      "None\n"
     ]
    }
   ],
   "source": [
    "# embed_dim = 128\n",
    "lstm_out = 196\n",
    "\n",
    "# Create model\n",
    "model1 = Sequential()\n",
    "model1.add(Embedding(num_words,200,weights=[embedding_matrix],trainable=False))\n",
    "# model.add(Embedding(max_fatures, embed_dim,input_length = X.shape[1]))\n",
    "model1.add(SpatialDropout1D(drop_val))\n",
    "model1.add(LSTM(128, dropout=drop_val, recurrent_dropout=drop_val, activation='relu', input_shape=(360,1), return_sequences=True))\n",
    "model1.add(LSTM(64, dropout=drop_val, recurrent_dropout=drop_val))\n",
    "model1.add(Dense(2,activation='softmax'))\n",
    "model1.compile(loss = 'categorical_crossentropy', optimizer='adam',metrics = ['accuracy'])\n",
    "print(model1.summary())"
   ]
  },
  {
   "cell_type": "code",
   "execution_count": null,
   "metadata": {
    "colab": {
     "base_uri": "https://localhost:8080/"
    },
    "id": "JH3KFVTfiPgo",
    "outputId": "b83091a2-6173-483a-d921-4c30ee4b2ebe"
   },
   "outputs": [
    {
     "name": "stdout",
     "output_type": "stream",
     "text": [
      "Epoch 1/100\n",
      "73/73 [==============================] - 22s 243ms/step - loss: 0.5737 - accuracy: 0.7520 - val_loss: 0.5823 - val_accuracy: 0.7336\n",
      "Epoch 2/100\n",
      "73/73 [==============================] - 17s 237ms/step - loss: 0.5624 - accuracy: 0.7581 - val_loss: 0.5791 - val_accuracy: 0.7336\n",
      "Epoch 3/100\n",
      "73/73 [==============================] - 17s 235ms/step - loss: 0.5646 - accuracy: 0.7581 - val_loss: 0.5984 - val_accuracy: 0.7336\n",
      "Epoch 4/100\n",
      "73/73 [==============================] - 17s 239ms/step - loss: 0.5563 - accuracy: 0.7581 - val_loss: 0.5782 - val_accuracy: 0.7336\n",
      "Epoch 5/100\n",
      "73/73 [==============================] - 17s 239ms/step - loss: 0.5544 - accuracy: 0.7581 - val_loss: 0.5766 - val_accuracy: 0.7336\n",
      "Epoch 6/100\n",
      "73/73 [==============================] - 17s 237ms/step - loss: 0.5576 - accuracy: 0.7581 - val_loss: 0.5764 - val_accuracy: 0.7336\n",
      "Epoch 7/100\n",
      "73/73 [==============================] - 17s 237ms/step - loss: 0.5504 - accuracy: 0.7581 - val_loss: 0.5782 - val_accuracy: 0.7336\n",
      "Epoch 8/100\n",
      "73/73 [==============================] - 18s 243ms/step - loss: 0.5517 - accuracy: 0.7581 - val_loss: 0.5831 - val_accuracy: 0.7336\n",
      "Epoch 9/100\n",
      "73/73 [==============================] - 17s 239ms/step - loss: 0.5479 - accuracy: 0.7572 - val_loss: 0.6036 - val_accuracy: 0.7336\n",
      "Epoch 10/100\n",
      "73/73 [==============================] - 17s 238ms/step - loss: 0.5664 - accuracy: 0.7495 - val_loss: 0.5908 - val_accuracy: 0.7336\n",
      "Epoch 11/100\n",
      "73/73 [==============================] - 18s 243ms/step - loss: 0.5692 - accuracy: 0.7529 - val_loss: 0.5880 - val_accuracy: 0.7336\n",
      "Epoch 12/100\n",
      "73/73 [==============================] - 18s 241ms/step - loss: 0.5682 - accuracy: 0.7555 - val_loss: 0.5817 - val_accuracy: 0.7336\n",
      "Epoch 13/100\n",
      "73/73 [==============================] - 17s 238ms/step - loss: 0.5673 - accuracy: 0.7559 - val_loss: 0.5849 - val_accuracy: 0.7336\n",
      "Epoch 14/100\n",
      "73/73 [==============================] - 18s 242ms/step - loss: 0.5661 - accuracy: 0.7576 - val_loss: 0.5819 - val_accuracy: 0.7336\n",
      "Epoch 15/100\n",
      "73/73 [==============================] - 18s 243ms/step - loss: 0.5635 - accuracy: 0.7559 - val_loss: 0.5856 - val_accuracy: 0.7336\n",
      "Epoch 16/100\n",
      "73/73 [==============================] - 17s 237ms/step - loss: 0.5655 - accuracy: 0.7572 - val_loss: 0.5813 - val_accuracy: 0.7336\n",
      "Epoch 17/100\n",
      "73/73 [==============================] - 17s 239ms/step - loss: 0.5617 - accuracy: 0.7581 - val_loss: 0.5808 - val_accuracy: 0.7336\n",
      "Epoch 18/100\n",
      "73/73 [==============================] - 17s 239ms/step - loss: 0.5625 - accuracy: 0.7581 - val_loss: 0.5812 - val_accuracy: 0.7336\n",
      "Epoch 19/100\n",
      "73/73 [==============================] - 18s 242ms/step - loss: 0.5584 - accuracy: 0.7581 - val_loss: 0.5810 - val_accuracy: 0.7336\n",
      "Epoch 20/100\n",
      "73/73 [==============================] - 18s 247ms/step - loss: 0.5573 - accuracy: 0.7581 - val_loss: 0.5901 - val_accuracy: 0.7336\n",
      "Epoch 21/100\n",
      "73/73 [==============================] - 18s 246ms/step - loss: 0.5581 - accuracy: 0.7581 - val_loss: 0.5851 - val_accuracy: 0.7336\n",
      "Epoch 22/100\n",
      "73/73 [==============================] - 20s 269ms/step - loss: 0.5608 - accuracy: 0.7581 - val_loss: 0.5827 - val_accuracy: 0.7336\n",
      "Epoch 23/100\n",
      "73/73 [==============================] - 20s 264ms/step - loss: 0.5572 - accuracy: 0.7581 - val_loss: 0.5835 - val_accuracy: 0.7336\n",
      "Epoch 24/100\n",
      "73/73 [==============================] - 17s 239ms/step - loss: 0.5533 - accuracy: 0.7581 - val_loss: 0.5818 - val_accuracy: 0.7336\n",
      "Epoch 25/100\n",
      "73/73 [==============================] - 17s 239ms/step - loss: 0.5561 - accuracy: 0.7581 - val_loss: 0.5859 - val_accuracy: 0.7336\n",
      "Epoch 26/100\n",
      "73/73 [==============================] - 17s 238ms/step - loss: 0.5584 - accuracy: 0.7581 - val_loss: 0.5810 - val_accuracy: 0.7336\n",
      "Epoch 27/100\n",
      "73/73 [==============================] - 17s 239ms/step - loss: 0.5556 - accuracy: 0.7581 - val_loss: 0.5812 - val_accuracy: 0.7336\n",
      "Epoch 28/100\n",
      "73/73 [==============================] - 18s 241ms/step - loss: 0.5544 - accuracy: 0.7581 - val_loss: 0.5961 - val_accuracy: 0.7336\n",
      "Epoch 29/100\n",
      "73/73 [==============================] - 18s 243ms/step - loss: 0.5563 - accuracy: 0.7581 - val_loss: 0.5919 - val_accuracy: 0.7336\n",
      "Epoch 30/100\n",
      "73/73 [==============================] - 18s 251ms/step - loss: 0.5586 - accuracy: 0.7581 - val_loss: 0.5848 - val_accuracy: 0.7336\n",
      "Epoch 31/100\n",
      "73/73 [==============================] - 18s 240ms/step - loss: 0.5568 - accuracy: 0.7581 - val_loss: 0.5904 - val_accuracy: 0.7336\n",
      "Epoch 32/100\n",
      "73/73 [==============================] - 18s 242ms/step - loss: 0.5562 - accuracy: 0.7581 - val_loss: 0.5839 - val_accuracy: 0.7336\n",
      "Epoch 33/100\n",
      "73/73 [==============================] - 18s 241ms/step - loss: 0.5568 - accuracy: 0.7581 - val_loss: 0.5842 - val_accuracy: 0.7336\n",
      "Epoch 34/100\n",
      "73/73 [==============================] - 17s 240ms/step - loss: 0.5549 - accuracy: 0.7581 - val_loss: 0.5907 - val_accuracy: 0.7336\n",
      "Epoch 35/100\n",
      "73/73 [==============================] - 18s 240ms/step - loss: 0.5568 - accuracy: 0.7581 - val_loss: 0.5926 - val_accuracy: 0.7336\n",
      "Epoch 36/100\n",
      "73/73 [==============================] - 17s 239ms/step - loss: 0.5584 - accuracy: 0.7581 - val_loss: 0.6036 - val_accuracy: 0.7336\n",
      "Epoch 37/100\n",
      "73/73 [==============================] - 18s 241ms/step - loss: 0.5558 - accuracy: 0.7581 - val_loss: 0.5961 - val_accuracy: 0.7336\n",
      "Epoch 38/100\n",
      "73/73 [==============================] - 18s 241ms/step - loss: 0.5611 - accuracy: 0.7581 - val_loss: 0.5916 - val_accuracy: 0.7336\n",
      "Epoch 39/100\n",
      "73/73 [==============================] - 18s 241ms/step - loss: 0.5577 - accuracy: 0.7581 - val_loss: 0.5890 - val_accuracy: 0.7336\n",
      "Epoch 40/100\n",
      "73/73 [==============================] - 18s 240ms/step - loss: 0.5580 - accuracy: 0.7581 - val_loss: 0.5921 - val_accuracy: 0.7336\n",
      "Epoch 41/100\n",
      "73/73 [==============================] - 18s 241ms/step - loss: 0.5558 - accuracy: 0.7581 - val_loss: 0.5966 - val_accuracy: 0.7336\n",
      "Epoch 42/100\n",
      "73/73 [==============================] - 18s 240ms/step - loss: 0.5581 - accuracy: 0.7581 - val_loss: 0.5869 - val_accuracy: 0.7336\n",
      "Epoch 43/100\n",
      "73/73 [==============================] - 17s 238ms/step - loss: 0.5577 - accuracy: 0.7581 - val_loss: 0.5877 - val_accuracy: 0.7336\n",
      "Epoch 44/100\n",
      "73/73 [==============================] - 17s 238ms/step - loss: 0.5549 - accuracy: 0.7581 - val_loss: 0.5882 - val_accuracy: 0.7336\n",
      "Epoch 45/100\n",
      "73/73 [==============================] - 17s 238ms/step - loss: 0.5565 - accuracy: 0.7581 - val_loss: 0.5842 - val_accuracy: 0.7336\n",
      "Epoch 46/100\n",
      "73/73 [==============================] - 17s 237ms/step - loss: 0.5593 - accuracy: 0.7581 - val_loss: 0.5809 - val_accuracy: 0.7336\n",
      "Epoch 47/100\n",
      "73/73 [==============================] - 17s 237ms/step - loss: 0.5572 - accuracy: 0.7581 - val_loss: 0.5820 - val_accuracy: 0.7336\n",
      "Epoch 48/100\n",
      "73/73 [==============================] - 18s 240ms/step - loss: 0.5542 - accuracy: 0.7581 - val_loss: 0.5809 - val_accuracy: 0.7336\n",
      "Epoch 49/100\n",
      "73/73 [==============================] - 18s 243ms/step - loss: 0.5518 - accuracy: 0.7581 - val_loss: 0.5867 - val_accuracy: 0.7336\n",
      "Epoch 50/100\n",
      "73/73 [==============================] - 18s 240ms/step - loss: 0.5541 - accuracy: 0.7581 - val_loss: 0.5823 - val_accuracy: 0.7336\n",
      "Epoch 51/100\n",
      "73/73 [==============================] - 17s 239ms/step - loss: 0.5552 - accuracy: 0.7581 - val_loss: 0.5809 - val_accuracy: 0.7336\n",
      "Epoch 52/100\n",
      "73/73 [==============================] - 18s 241ms/step - loss: 0.5577 - accuracy: 0.7581 - val_loss: 0.5868 - val_accuracy: 0.7336\n",
      "Epoch 53/100\n",
      "73/73 [==============================] - 18s 241ms/step - loss: 0.5552 - accuracy: 0.7581 - val_loss: 0.5903 - val_accuracy: 0.7336\n",
      "Epoch 54/100\n",
      "73/73 [==============================] - 18s 244ms/step - loss: 0.5550 - accuracy: 0.7581 - val_loss: 0.5882 - val_accuracy: 0.7336\n",
      "Epoch 55/100\n",
      "73/73 [==============================] - 18s 246ms/step - loss: 0.5553 - accuracy: 0.7581 - val_loss: 0.5831 - val_accuracy: 0.7336\n",
      "Epoch 56/100\n",
      "73/73 [==============================] - 18s 242ms/step - loss: 0.5551 - accuracy: 0.7581 - val_loss: 0.5853 - val_accuracy: 0.7336\n",
      "Epoch 57/100\n",
      "73/73 [==============================] - 21s 291ms/step - loss: 0.5536 - accuracy: 0.7581 - val_loss: 0.5860 - val_accuracy: 0.7336\n",
      "Epoch 58/100\n",
      "73/73 [==============================] - 18s 244ms/step - loss: 0.5549 - accuracy: 0.7581 - val_loss: 0.5829 - val_accuracy: 0.7336\n",
      "Epoch 59/100\n",
      "73/73 [==============================] - 18s 245ms/step - loss: 0.5558 - accuracy: 0.7581 - val_loss: 0.5845 - val_accuracy: 0.7336\n",
      "Epoch 60/100\n",
      "73/73 [==============================] - 18s 243ms/step - loss: 0.5551 - accuracy: 0.7581 - val_loss: 0.5820 - val_accuracy: 0.7336\n",
      "Epoch 61/100\n",
      "73/73 [==============================] - 18s 243ms/step - loss: 0.5539 - accuracy: 0.7581 - val_loss: 0.5854 - val_accuracy: 0.7336\n",
      "Epoch 62/100\n",
      "73/73 [==============================] - 18s 247ms/step - loss: 0.5570 - accuracy: 0.7581 - val_loss: 0.5822 - val_accuracy: 0.7336\n",
      "Epoch 63/100\n",
      "73/73 [==============================] - 18s 247ms/step - loss: 0.5574 - accuracy: 0.7581 - val_loss: 0.5823 - val_accuracy: 0.7336\n",
      "Epoch 64/100\n",
      "73/73 [==============================] - 18s 245ms/step - loss: 0.5543 - accuracy: 0.7581 - val_loss: 0.5848 - val_accuracy: 0.7336\n",
      "Epoch 65/100\n",
      "73/73 [==============================] - 18s 243ms/step - loss: 0.5557 - accuracy: 0.7581 - val_loss: 0.5828 - val_accuracy: 0.7336\n",
      "Epoch 66/100\n",
      "73/73 [==============================] - 18s 244ms/step - loss: 0.5556 - accuracy: 0.7581 - val_loss: 0.5816 - val_accuracy: 0.7336\n",
      "Epoch 67/100\n",
      "73/73 [==============================] - 18s 243ms/step - loss: 0.5548 - accuracy: 0.7581 - val_loss: 0.5820 - val_accuracy: 0.7336\n",
      "Epoch 68/100\n",
      "73/73 [==============================] - 18s 241ms/step - loss: 0.5544 - accuracy: 0.7581 - val_loss: 0.5829 - val_accuracy: 0.7336\n",
      "Epoch 69/100\n",
      "73/73 [==============================] - 18s 243ms/step - loss: 0.5553 - accuracy: 0.7581 - val_loss: 0.5838 - val_accuracy: 0.7336\n",
      "Epoch 70/100\n",
      "73/73 [==============================] - 18s 241ms/step - loss: 0.5563 - accuracy: 0.7581 - val_loss: 0.5827 - val_accuracy: 0.7336\n",
      "Epoch 71/100\n",
      "73/73 [==============================] - 18s 241ms/step - loss: 0.5562 - accuracy: 0.7581 - val_loss: 0.5848 - val_accuracy: 0.7336\n",
      "Epoch 72/100\n",
      "73/73 [==============================] - 18s 241ms/step - loss: 0.5545 - accuracy: 0.7581 - val_loss: 0.5825 - val_accuracy: 0.7336\n",
      "Epoch 73/100\n",
      "73/73 [==============================] - 17s 240ms/step - loss: 0.5572 - accuracy: 0.7581 - val_loss: 0.5829 - val_accuracy: 0.7336\n",
      "Epoch 74/100\n",
      "73/73 [==============================] - 17s 238ms/step - loss: 0.5559 - accuracy: 0.7581 - val_loss: 0.5840 - val_accuracy: 0.7336\n",
      "Epoch 75/100\n",
      "73/73 [==============================] - 18s 240ms/step - loss: 0.5546 - accuracy: 0.7581 - val_loss: 0.5851 - val_accuracy: 0.7336\n",
      "Epoch 76/100\n",
      "73/73 [==============================] - 18s 241ms/step - loss: 0.5564 - accuracy: 0.7581 - val_loss: 0.5830 - val_accuracy: 0.7336\n",
      "Epoch 77/100\n",
      "73/73 [==============================] - 18s 241ms/step - loss: 0.5536 - accuracy: 0.7581 - val_loss: 0.5827 - val_accuracy: 0.7336\n",
      "Epoch 78/100\n",
      "73/73 [==============================] - 18s 241ms/step - loss: 0.5527 - accuracy: 0.7581 - val_loss: 0.5868 - val_accuracy: 0.7336\n",
      "Epoch 79/100\n",
      "73/73 [==============================] - 18s 243ms/step - loss: 0.5564 - accuracy: 0.7581 - val_loss: 0.5847 - val_accuracy: 0.7336\n",
      "Epoch 80/100\n",
      "73/73 [==============================] - 18s 242ms/step - loss: 0.5553 - accuracy: 0.7581 - val_loss: 0.5844 - val_accuracy: 0.7336\n",
      "Epoch 81/100\n",
      "73/73 [==============================] - 18s 244ms/step - loss: 0.5551 - accuracy: 0.7581 - val_loss: 0.5819 - val_accuracy: 0.7336\n",
      "Epoch 82/100\n",
      "73/73 [==============================] - 18s 245ms/step - loss: 0.5554 - accuracy: 0.7581 - val_loss: 0.5822 - val_accuracy: 0.7336\n",
      "Epoch 83/100\n",
      "73/73 [==============================] - 18s 243ms/step - loss: 0.5538 - accuracy: 0.7581 - val_loss: 0.5842 - val_accuracy: 0.7336\n",
      "Epoch 84/100\n",
      "73/73 [==============================] - 18s 241ms/step - loss: 0.5545 - accuracy: 0.7581 - val_loss: 0.5838 - val_accuracy: 0.7336\n",
      "Epoch 85/100\n",
      "73/73 [==============================] - 18s 245ms/step - loss: 0.5538 - accuracy: 0.7581 - val_loss: 0.5814 - val_accuracy: 0.7336\n",
      "Epoch 86/100\n",
      "73/73 [==============================] - 18s 244ms/step - loss: 0.5546 - accuracy: 0.7581 - val_loss: 0.5827 - val_accuracy: 0.7336\n",
      "Epoch 87/100\n",
      "73/73 [==============================] - 18s 242ms/step - loss: 0.5560 - accuracy: 0.7581 - val_loss: 0.5840 - val_accuracy: 0.7336\n",
      "Epoch 88/100\n",
      "73/73 [==============================] - 18s 242ms/step - loss: 0.5571 - accuracy: 0.7581 - val_loss: 0.5816 - val_accuracy: 0.7336\n",
      "Epoch 89/100\n",
      "73/73 [==============================] - 18s 245ms/step - loss: 0.5568 - accuracy: 0.7581 - val_loss: 0.5840 - val_accuracy: 0.7336\n",
      "Epoch 90/100\n",
      "73/73 [==============================] - 18s 243ms/step - loss: 0.5553 - accuracy: 0.7581 - val_loss: 0.5851 - val_accuracy: 0.7336\n",
      "Epoch 91/100\n",
      "73/73 [==============================] - 18s 241ms/step - loss: 0.5556 - accuracy: 0.7581 - val_loss: 0.5854 - val_accuracy: 0.7336\n",
      "Epoch 92/100\n",
      "73/73 [==============================] - 18s 241ms/step - loss: 0.5543 - accuracy: 0.7581 - val_loss: 0.5845 - val_accuracy: 0.7336\n",
      "Epoch 93/100\n",
      "73/73 [==============================] - 18s 244ms/step - loss: 0.5541 - accuracy: 0.7581 - val_loss: 0.5816 - val_accuracy: 0.7336\n",
      "Epoch 94/100\n",
      "73/73 [==============================] - 18s 244ms/step - loss: 0.5541 - accuracy: 0.7581 - val_loss: 0.5814 - val_accuracy: 0.7336\n",
      "Epoch 95/100\n",
      "73/73 [==============================] - 18s 245ms/step - loss: 0.5547 - accuracy: 0.7581 - val_loss: 0.5803 - val_accuracy: 0.7336\n",
      "Epoch 96/100\n",
      "73/73 [==============================] - 18s 250ms/step - loss: 0.5546 - accuracy: 0.7581 - val_loss: 0.5815 - val_accuracy: 0.7336\n",
      "Epoch 97/100\n",
      "73/73 [==============================] - 18s 244ms/step - loss: 0.5537 - accuracy: 0.7581 - val_loss: 0.5831 - val_accuracy: 0.7336\n",
      "Epoch 98/100\n",
      "73/73 [==============================] - 18s 242ms/step - loss: 0.5537 - accuracy: 0.7581 - val_loss: 0.5804 - val_accuracy: 0.7336\n",
      "Epoch 99/100\n",
      "73/73 [==============================] - 18s 243ms/step - loss: 0.5549 - accuracy: 0.7581 - val_loss: 0.5822 - val_accuracy: 0.7336\n",
      "Epoch 100/100\n",
      "73/73 [==============================] - 18s 242ms/step - loss: 0.5559 - accuracy: 0.7581 - val_loss: 0.5841 - val_accuracy: 0.7336\n"
     ]
    }
   ],
   "source": [
    "batch_size = 32\n",
    "history1 = model1.fit(X_train, Y_train, epochs = 100, batch_size=batch_size, validation_data=(X_test, Y_test))"
   ]
  },
  {
   "cell_type": "code",
   "execution_count": null,
   "metadata": {
    "colab": {
     "base_uri": "https://localhost:8080/",
     "height": 470
    },
    "id": "pstoaTzqiVZI",
    "outputId": "4f0fbb1d-f207-43f1-8999-9168ab5a567b"
   },
   "outputs": [
    {
     "data": {
      "text/plain": [
       "<matplotlib.legend.Legend at 0x7f999cad9110>"
      ]
     },
     "execution_count": 42,
     "metadata": {},
     "output_type": "execute_result"
    },
    {
     "data": {
      "image/png": "[encoded data removed]",
      "text/plain": [
       "<Figure size 864x576 with 1 Axes>"
      ]
     },
     "metadata": {},
     "output_type": "display_data"
    }
   ],
   "source": [
    "import matplotlib.pyplot as plt\n",
    "import numpy as np\n",
    "# plot the training loss and accuracy\n",
    "plt.rcParams[\"figure.figsize\"] = (12,8)\n",
    "N = np.arange(0, 100)\n",
    "plt.style.use(\"ggplot\")\n",
    "plt.figure()\n",
    "plt.plot(N, history1.history[\"loss\"], label=\"train_loss\")\n",
    "plt.plot(N, history1.history[\"val_loss\"], label=\"val_loss\")\n",
    "plt.plot(N, history1.history['accuracy'], label=\"accuracy\")\n",
    "plt.plot(N, history1.history[\"val_accuracy\"], label=\"val_accuracy\")\n",
    "plt.title(\"Training Loss and Accuracy (1 Layered LSTM, Dropout=0.6)\")\n",
    "plt.xlabel(\"Epoch #\")\n",
    "plt.ylabel(\"Loss/Accuracy\")\n",
    "plt.legend()"
   ]
  },
  {
   "cell_type": "code",
   "execution_count": null,
   "metadata": {
    "colab": {
     "base_uri": "https://localhost:8080/"
    },
    "id": "HEZ6IcCJNPio",
    "outputId": "01818b18-2616-4c5e-f442-da48823bb560"
   },
   "outputs": [
    {
     "name": "stdout",
     "output_type": "stream",
     "text": [
      "Y_test uint8 (1145, 2)\n",
      "a uint8 (1145, 2)\n"
     ]
    }
   ],
   "source": [
    "y_pred = model.predict(X_test)\n",
    "idx = np.argmax(y_pred, axis=-1)\n",
    "a = np.zeros( y_pred.shape )\n",
    "a[ np.arange(y_pred.shape[0]), idx] = 1\n",
    "# pd.DataFrame(a).head()\n",
    "a = a.astype(np.uint8)\n",
    "print('Y_test', Y_test.dtype,  Y_test.shape)\n",
    "print('a', a.dtype,  a.shape)\n",
    "\n",
    "print(classification_report(Y_test, a, labels=[0,1]))"
   ]
  },
  {
   "cell_type": "code",
   "execution_count": null,
   "metadata": {
    "colab": {
     "base_uri": "https://localhost:8080/"
    },
    "id": "W8OJt3K5MqNF",
    "outputId": "7ab1d2c6-6751-4060-f656-9c6e62505984"
   },
   "outputs": [
    {
     "name": "stdout",
     "output_type": "stream",
     "text": [
      "              precision    recall  f1-score   support\n",
      "\n",
      "           0       0.73      1.00      0.85       840\n",
      "           1       0.00      0.00      0.00       305\n",
      "\n",
      "   micro avg       0.73      0.73      0.73      1145\n",
      "   macro avg       0.37      0.50      0.42      1145\n",
      "weighted avg       0.54      0.73      0.62      1145\n",
      " samples avg       0.73      0.73      0.73      1145\n",
      "\n"
     ]
    },
    {
     "name": "stderr",
     "output_type": "stream",
     "text": [
      "/usr/local/lib/python3.7/dist-packages/sklearn/metrics/_classification.py:1308: UndefinedMetricWarning: Precision and F-score are ill-defined and being set to 0.0 in labels with no predicted samples. Use `zero_division` parameter to control this behavior.\n",
      "  _warn_prf(average, modifier, msg_start, len(result))\n"
     ]
    }
   ],
   "source": []
  },
  {
   "cell_type": "markdown",
   "metadata": {
    "id": "awOL6n8ucmdd"
   },
   "source": [
    "###SVM"
   ]
  },
  {
   "cell_type": "code",
   "execution_count": 15,
   "metadata": {
    "id": "v0FUv3VQnxpS"
   },
   "outputs": [],
   "source": [
    "embedd_dim = 200"
   ]
  },
  {
   "cell_type": "code",
   "execution_count": 16,
   "metadata": {
    "id": "XajVyyKVAJ51"
   },
   "outputs": [],
   "source": [
    "sum = np.zeros((len(X1), embedd_dim))\n",
    "i = 0\n",
    "\n",
    "for line in X1:\n",
    "  j = 0\n",
    "  for word in line:\n",
    "    sum[i,:] += embedding_matrix[word]\n",
    "    j+=1\n",
    "  sum[i,:] = sum[i,:]/j\n",
    "  i+=1\n",
    "\n",
    "sum.shape"
   ]
  },
  {
   "cell_type": "code",
   "execution_count": 18,
   "metadata": {
    "id": "SlSi_yNh6FsE"
   },
   "outputs": [],
   "source": [
    "Xtrain, Xtest, Ytrain, Ytest = train_test_split(sum,Y[:,0], test_size = 0.33, random_state = 42)"
   ]
  },
  {
   "cell_type": "code",
   "execution_count": 19,
   "metadata": {
    "colab": {
     "base_uri": "https://localhost:8080/"
    },
    "id": "x7iz_YsGYg8A",
    "outputId": "e970a7ad-8f93-4438-a35d-fa3810dcd49c"
   },
   "outputs": [
    {
     "data": {
      "text/plain": [
       "array([1, 1, 1, ..., 1, 1, 1], dtype=uint8)"
      ]
     },
     "execution_count": 19,
     "metadata": {},
     "output_type": "execute_result"
    }
   ],
   "source": [
    "# instantiate classifier with default hyperparameters\n",
    "svc=SVC() \n",
    "# fit classifier to training set\n",
    "svc.fit(Xtrain,Ytrain)\n",
    "# make predictions on test set\n",
    "y_pred=svc.predict(Xtest)\n",
    "y_pred"
   ]
  },
  {
   "cell_type": "code",
   "execution_count": 22,
   "metadata": {
    "colab": {
     "base_uri": "https://localhost:8080/"
    },
    "id": "LrVBajab7AJN",
    "outputId": "ddaee804-a8e2-4e18-9a1b-020dcfef93da"
   },
   "outputs": [
    {
     "data": {
      "text/plain": [
       "array([1, 0, 0, ..., 0, 1, 0], dtype=uint8)"
      ]
     },
     "execution_count": 22,
     "metadata": {},
     "output_type": "execute_result"
    }
   ],
   "source": [
    "Ytest"
   ]
  },
  {
   "cell_type": "code",
   "execution_count": 23,
   "metadata": {
    "colab": {
     "base_uri": "https://localhost:8080/"
    },
    "id": "hNlK_z-TYsLM",
    "outputId": "af912a77-b8d4-4cc0-9cf5-07ffcc6357aa"
   },
   "outputs": [
    {
     "name": "stdout",
     "output_type": "stream",
     "text": [
      "              precision    recall  f1-score   support\n",
      "\n",
      "           0       0.00      0.00      0.00       305\n",
      "           1       0.73      1.00      0.85       840\n",
      "\n",
      "    accuracy                           0.73      1145\n",
      "   macro avg       0.37      0.50      0.42      1145\n",
      "weighted avg       0.54      0.73      0.62      1145\n",
      "\n"
     ]
    },
    {
     "name": "stderr",
     "output_type": "stream",
     "text": [
      "/usr/local/lib/python3.7/dist-packages/sklearn/metrics/_classification.py:1308: UndefinedMetricWarning: Precision and F-score are ill-defined and being set to 0.0 in labels with no predicted samples. Use `zero_division` parameter to control this behavior.\n",
      "  _warn_prf(average, modifier, msg_start, len(result))\n",
      "/usr/local/lib/python3.7/dist-packages/sklearn/metrics/_classification.py:1308: UndefinedMetricWarning: Precision and F-score are ill-defined and being set to 0.0 in labels with no predicted samples. Use `zero_division` parameter to control this behavior.\n",
      "  _warn_prf(average, modifier, msg_start, len(result))\n",
      "/usr/local/lib/python3.7/dist-packages/sklearn/metrics/_classification.py:1308: UndefinedMetricWarning: Precision and F-score are ill-defined and being set to 0.0 in labels with no predicted samples. Use `zero_division` parameter to control this behavior.\n",
      "  _warn_prf(average, modifier, msg_start, len(result))\n"
     ]
    }
   ],
   "source": [
    "print(classification_report(Ytest, y_pred, labels=[0,1]))"
   ]
  },
  {
   "cell_type": "code",
   "execution_count": null,
   "metadata": {
    "id": "Mvc17w4MZDFF"
   },
   "outputs": [],
   "source": []
  },
  {
   "cell_type": "markdown",
   "metadata": {
    "id": "hQ6NC_Y6ZXaU"
   },
   "source": [
    "# FastText"
   ]
  },
  {
   "cell_type": "code",
   "execution_count": 48,
   "metadata": {
    "colab": {
     "base_uri": "https://localhost:8080/"
    },
    "id": "G6i0tYsCaD94",
    "outputId": "3598619f-9fe2-4dd2-f6ec-4321e2629b2e"
   },
   "outputs": [
    {
     "name": "stdout",
     "output_type": "stream",
     "text": [
      "Loaded 999995 word vectors.\n"
     ]
    }
   ],
   "source": [
    "embeddings_index = dict()\n",
    "f = open('/content/drive/MyDrive/NLP/Assignment 2/Embeddings/fast_wiki-news-300d-1M-subword.vec',encoding=\"utf8\")\n",
    "\n",
    "for line in f:\n",
    "    values = line.split()\n",
    "    word = values[0]\n",
    "    coefs = np.asarray(values[1:], dtype='float32')\n",
    "    embeddings_index[word] = coefs\n",
    "\n",
    "f.close()\n",
    "print('Loaded %s word vectors.' % len(embeddings_index))"
   ]
  },
  {
   "cell_type": "code",
   "execution_count": 49,
   "metadata": {
    "id": "tArfXpBKnv6x"
   },
   "outputs": [],
   "source": [
    "#Creating embedding matrix\n",
    "embedding_matrix = np.zeros((num_words, 300))\n",
    "\n",
    "for word, i in tokenizer.word_index.items():\n",
    "    embedding_vector = embeddings_index.get(word)\n",
    "    if embedding_vector is not None:\n",
    "        embedding_matrix[i] = embedding_vector"
   ]
  },
  {
   "cell_type": "markdown",
   "metadata": {
    "id": "F3wHcnUrn1Qj"
   },
   "source": [
    "### LSTM"
   ]
  },
  {
   "cell_type": "code",
   "execution_count": null,
   "metadata": {
    "colab": {
     "base_uri": "https://localhost:8080/"
    },
    "id": "fz6nzyHLn0Tb",
    "outputId": "15c8de71-660e-438c-bcff-b62b5c0d4040"
   },
   "outputs": [
    {
     "name": "stdout",
     "output_type": "stream",
     "text": [
      "Model: \"sequential_9\"\n",
      "_________________________________________________________________\n",
      " Layer (type)                Output Shape              Param #   \n",
      "=================================================================\n",
      " embedding_9 (Embedding)     (None, None, 300)         3273000   \n",
      "                                                                 \n",
      " spatial_dropout1d_6 (Spatia  (None, None, 300)        0         \n",
      " lDropout1D)                                                     \n",
      "                                                                 \n",
      " lstm_10 (LSTM)              (None, None, 128)         219648    \n",
      "                                                                 \n",
      " lstm_11 (LSTM)              (None, 64)                49408     \n",
      "                                                                 \n",
      " dense_6 (Dense)             (None, 2)                 130       \n",
      "                                                                 \n",
      "=================================================================\n",
      "Total params: 3,542,186\n",
      "Trainable params: 269,186\n",
      "Non-trainable params: 3,273,000\n",
      "_________________________________________________________________\n",
      "None\n"
     ]
    }
   ],
   "source": [
    "# embed_dim = 128\n",
    "lstm_out = 196\n",
    "\n",
    "# Create model\n",
    "model2 = Sequential()\n",
    "model2.add(Embedding(num_words,300,weights=[embedding_matrix],trainable=False))\n",
    "# model.add(Embedding(max_fatures, embed_dim,input_length = X.shape[1]))\n",
    "model2.add(SpatialDropout1D(drop_val))\n",
    "model2.add(LSTM(128, dropout=drop_val, recurrent_dropout=drop_val, activation='relu', input_shape=(360,1), return_sequences=True))\n",
    "model2.add(LSTM(64, dropout=drop_val, recurrent_dropout=drop_val))\n",
    "model2.add(Dense(2,activation='softmax'))\n",
    "model2.compile(loss = 'categorical_crossentropy', optimizer='adam',metrics = ['accuracy'])\n",
    "print(model2.summary())"
   ]
  },
  {
   "cell_type": "code",
   "execution_count": null,
   "metadata": {
    "colab": {
     "base_uri": "https://localhost:8080/"
    },
    "id": "OVuPcPheoCjI",
    "outputId": "d02278b6-f637-4002-be8d-473f07a1b40a"
   },
   "outputs": [
    {
     "name": "stdout",
     "output_type": "stream",
     "text": [
      "Epoch 1/100\n",
      "73/73 [==============================] - 25s 274ms/step - loss: 0.5764 - accuracy: 0.7490 - val_loss: 0.5857 - val_accuracy: 0.7336\n",
      "Epoch 2/100\n",
      "73/73 [==============================] - 19s 264ms/step - loss: 0.5580 - accuracy: 0.7581 - val_loss: 0.5817 - val_accuracy: 0.7336\n",
      "Epoch 3/100\n",
      "73/73 [==============================] - 19s 266ms/step - loss: 0.5577 - accuracy: 0.7581 - val_loss: 0.5833 - val_accuracy: 0.7336\n",
      "Epoch 4/100\n",
      "73/73 [==============================] - 19s 265ms/step - loss: 0.5575 - accuracy: 0.7581 - val_loss: 0.5799 - val_accuracy: 0.7336\n",
      "Epoch 5/100\n",
      "73/73 [==============================] - 19s 263ms/step - loss: 0.5554 - accuracy: 0.7581 - val_loss: 0.5877 - val_accuracy: 0.7336\n",
      "Epoch 6/100\n",
      "73/73 [==============================] - 20s 268ms/step - loss: 0.5544 - accuracy: 0.7581 - val_loss: 0.5832 - val_accuracy: 0.7336\n",
      "Epoch 7/100\n",
      "73/73 [==============================] - 19s 266ms/step - loss: 0.5528 - accuracy: 0.7581 - val_loss: 0.5789 - val_accuracy: 0.7336\n",
      "Epoch 8/100\n",
      "73/73 [==============================] - 19s 264ms/step - loss: 0.5545 - accuracy: 0.7581 - val_loss: 0.5805 - val_accuracy: 0.7336\n",
      "Epoch 9/100\n",
      "73/73 [==============================] - 20s 269ms/step - loss: 0.5532 - accuracy: 0.7581 - val_loss: 0.5780 - val_accuracy: 0.7336\n",
      "Epoch 10/100\n",
      "73/73 [==============================] - 20s 270ms/step - loss: 0.5513 - accuracy: 0.7581 - val_loss: 0.5763 - val_accuracy: 0.7336\n",
      "Epoch 11/100\n",
      "73/73 [==============================] - 19s 266ms/step - loss: 0.5528 - accuracy: 0.7581 - val_loss: 0.5769 - val_accuracy: 0.7336\n",
      "Epoch 12/100\n",
      "73/73 [==============================] - 19s 266ms/step - loss: 0.5491 - accuracy: 0.7581 - val_loss: 0.5817 - val_accuracy: 0.7336\n",
      "Epoch 13/100\n",
      "73/73 [==============================] - 20s 268ms/step - loss: 0.5519 - accuracy: 0.7576 - val_loss: 0.5763 - val_accuracy: 0.7336\n",
      "Epoch 14/100\n",
      "73/73 [==============================] - 19s 264ms/step - loss: 0.5504 - accuracy: 0.7581 - val_loss: 0.5761 - val_accuracy: 0.7336\n",
      "Epoch 15/100\n",
      "73/73 [==============================] - 19s 264ms/step - loss: 0.5486 - accuracy: 0.7576 - val_loss: 0.5845 - val_accuracy: 0.7336\n",
      "Epoch 16/100\n",
      "73/73 [==============================] - 19s 263ms/step - loss: 0.5460 - accuracy: 0.7585 - val_loss: 0.5784 - val_accuracy: 0.7336\n",
      "Epoch 17/100\n",
      "73/73 [==============================] - 19s 264ms/step - loss: 0.5505 - accuracy: 0.7563 - val_loss: 0.5777 - val_accuracy: 0.7336\n",
      "Epoch 18/100\n",
      "73/73 [==============================] - 19s 267ms/step - loss: 0.5474 - accuracy: 0.7576 - val_loss: 0.5812 - val_accuracy: 0.7336\n",
      "Epoch 19/100\n",
      "73/73 [==============================] - 19s 267ms/step - loss: 0.5484 - accuracy: 0.7585 - val_loss: 0.5831 - val_accuracy: 0.7336\n",
      "Epoch 20/100\n",
      "73/73 [==============================] - 19s 264ms/step - loss: 0.5443 - accuracy: 0.7581 - val_loss: 0.5834 - val_accuracy: 0.7336\n",
      "Epoch 21/100\n",
      "73/73 [==============================] - 19s 263ms/step - loss: 0.5441 - accuracy: 0.7576 - val_loss: 0.5739 - val_accuracy: 0.7336\n",
      "Epoch 22/100\n",
      "73/73 [==============================] - 19s 263ms/step - loss: 0.5456 - accuracy: 0.7585 - val_loss: 0.5928 - val_accuracy: 0.7336\n",
      "Epoch 23/100\n",
      "73/73 [==============================] - 19s 264ms/step - loss: 0.5453 - accuracy: 0.7589 - val_loss: 0.5842 - val_accuracy: 0.7336\n",
      "Epoch 24/100\n",
      "73/73 [==============================] - 19s 265ms/step - loss: 0.5416 - accuracy: 0.7589 - val_loss: 0.5788 - val_accuracy: 0.7336\n",
      "Epoch 25/100\n",
      "73/73 [==============================] - 20s 268ms/step - loss: 0.5477 - accuracy: 0.7563 - val_loss: 0.5805 - val_accuracy: 0.7336\n",
      "Epoch 26/100\n",
      "73/73 [==============================] - 25s 341ms/step - loss: 0.5391 - accuracy: 0.7585 - val_loss: 0.6019 - val_accuracy: 0.7336\n",
      "Epoch 27/100\n",
      "73/73 [==============================] - 20s 268ms/step - loss: 0.5439 - accuracy: 0.7559 - val_loss: 0.5813 - val_accuracy: 0.7336\n",
      "Epoch 28/100\n",
      "73/73 [==============================] - 19s 262ms/step - loss: 0.5396 - accuracy: 0.7589 - val_loss: 0.5750 - val_accuracy: 0.7328\n",
      "Epoch 29/100\n",
      "73/73 [==============================] - 19s 261ms/step - loss: 0.5402 - accuracy: 0.7563 - val_loss: 0.5767 - val_accuracy: 0.7336\n",
      "Epoch 30/100\n",
      "73/73 [==============================] - 19s 259ms/step - loss: 0.5327 - accuracy: 0.7611 - val_loss: 0.5861 - val_accuracy: 0.7336\n",
      "Epoch 31/100\n",
      "73/73 [==============================] - 19s 262ms/step - loss: 0.5445 - accuracy: 0.7568 - val_loss: 0.5769 - val_accuracy: 0.7336\n",
      "Epoch 32/100\n",
      "73/73 [==============================] - 19s 261ms/step - loss: 0.5395 - accuracy: 0.7551 - val_loss: 0.5822 - val_accuracy: 0.7336\n",
      "Epoch 33/100\n",
      "73/73 [==============================] - 19s 260ms/step - loss: 0.5362 - accuracy: 0.7581 - val_loss: 0.5791 - val_accuracy: 0.7328\n",
      "Epoch 34/100\n",
      "73/73 [==============================] - 19s 263ms/step - loss: 0.5364 - accuracy: 0.7572 - val_loss: 0.5826 - val_accuracy: 0.7336\n",
      "Epoch 35/100\n",
      "73/73 [==============================] - 19s 262ms/step - loss: 0.5383 - accuracy: 0.7585 - val_loss: 0.5757 - val_accuracy: 0.7336\n",
      "Epoch 36/100\n",
      "73/73 [==============================] - 19s 264ms/step - loss: 0.5314 - accuracy: 0.7563 - val_loss: 0.5909 - val_accuracy: 0.7328\n",
      "Epoch 37/100\n",
      "73/73 [==============================] - 19s 260ms/step - loss: 0.5377 - accuracy: 0.7615 - val_loss: 0.5859 - val_accuracy: 0.7328\n",
      "Epoch 38/100\n",
      "73/73 [==============================] - 19s 259ms/step - loss: 0.5295 - accuracy: 0.7611 - val_loss: 0.5739 - val_accuracy: 0.7354\n",
      "Epoch 39/100\n",
      "73/73 [==============================] - 19s 262ms/step - loss: 0.5350 - accuracy: 0.7594 - val_loss: 0.5848 - val_accuracy: 0.7328\n",
      "Epoch 40/100\n",
      "73/73 [==============================] - 19s 262ms/step - loss: 0.5270 - accuracy: 0.7624 - val_loss: 0.5889 - val_accuracy: 0.7328\n",
      "Epoch 41/100\n",
      "73/73 [==============================] - 19s 264ms/step - loss: 0.5316 - accuracy: 0.7594 - val_loss: 0.5882 - val_accuracy: 0.7328\n",
      "Epoch 42/100\n",
      "73/73 [==============================] - 19s 261ms/step - loss: 0.5271 - accuracy: 0.7615 - val_loss: 0.5761 - val_accuracy: 0.7336\n",
      "Epoch 43/100\n",
      "73/73 [==============================] - 19s 263ms/step - loss: 0.5285 - accuracy: 0.7611 - val_loss: 0.5838 - val_accuracy: 0.7336\n",
      "Epoch 44/100\n",
      "73/73 [==============================] - 19s 262ms/step - loss: 0.5246 - accuracy: 0.7576 - val_loss: 0.5843 - val_accuracy: 0.7336\n",
      "Epoch 45/100\n",
      "73/73 [==============================] - 19s 261ms/step - loss: 0.5262 - accuracy: 0.7589 - val_loss: 0.5734 - val_accuracy: 0.7328\n",
      "Epoch 46/100\n",
      "73/73 [==============================] - 19s 263ms/step - loss: 0.5303 - accuracy: 0.7619 - val_loss: 0.5750 - val_accuracy: 0.7336\n",
      "Epoch 47/100\n",
      "73/73 [==============================] - 19s 262ms/step - loss: 0.5308 - accuracy: 0.7581 - val_loss: 0.5778 - val_accuracy: 0.7354\n",
      "Epoch 48/100\n",
      "73/73 [==============================] - 19s 262ms/step - loss: 0.5272 - accuracy: 0.7637 - val_loss: 0.5766 - val_accuracy: 0.7336\n",
      "Epoch 49/100\n",
      "73/73 [==============================] - 19s 260ms/step - loss: 0.5144 - accuracy: 0.7607 - val_loss: 0.5988 - val_accuracy: 0.7319\n",
      "Epoch 50/100\n",
      "73/73 [==============================] - 19s 263ms/step - loss: 0.5252 - accuracy: 0.7602 - val_loss: 0.5809 - val_accuracy: 0.7354\n",
      "Epoch 51/100\n",
      "73/73 [==============================] - 19s 262ms/step - loss: 0.5255 - accuracy: 0.7628 - val_loss: 0.5944 - val_accuracy: 0.7301\n",
      "Epoch 52/100\n",
      "73/73 [==============================] - 19s 260ms/step - loss: 0.5165 - accuracy: 0.7654 - val_loss: 0.5980 - val_accuracy: 0.7328\n",
      "Epoch 53/100\n",
      "73/73 [==============================] - 19s 261ms/step - loss: 0.5163 - accuracy: 0.7658 - val_loss: 0.5810 - val_accuracy: 0.7301\n",
      "Epoch 54/100\n",
      "73/73 [==============================] - 19s 260ms/step - loss: 0.5225 - accuracy: 0.7654 - val_loss: 0.6408 - val_accuracy: 0.7336\n",
      "Epoch 55/100\n",
      "73/73 [==============================] - 19s 261ms/step - loss: 0.5250 - accuracy: 0.7641 - val_loss: 0.5825 - val_accuracy: 0.7328\n",
      "Epoch 56/100\n",
      "73/73 [==============================] - 19s 261ms/step - loss: 0.5315 - accuracy: 0.7563 - val_loss: 0.5824 - val_accuracy: 0.7328\n",
      "Epoch 57/100\n",
      "73/73 [==============================] - 19s 262ms/step - loss: 0.5229 - accuracy: 0.7598 - val_loss: 0.5836 - val_accuracy: 0.7328\n",
      "Epoch 58/100\n",
      "73/73 [==============================] - 23s 316ms/step - loss: 0.5195 - accuracy: 0.7607 - val_loss: 0.5779 - val_accuracy: 0.7345\n",
      "Epoch 59/100\n",
      "73/73 [==============================] - 19s 263ms/step - loss: 0.5215 - accuracy: 0.7628 - val_loss: 0.5777 - val_accuracy: 0.7336\n",
      "Epoch 60/100\n",
      "73/73 [==============================] - 19s 261ms/step - loss: 0.5186 - accuracy: 0.7598 - val_loss: 0.5876 - val_accuracy: 0.7310\n",
      "Epoch 61/100\n",
      "73/73 [==============================] - 19s 261ms/step - loss: 0.5141 - accuracy: 0.7632 - val_loss: 0.5914 - val_accuracy: 0.7336\n",
      "Epoch 62/100\n",
      "73/73 [==============================] - 19s 264ms/step - loss: 0.5114 - accuracy: 0.7628 - val_loss: 0.5969 - val_accuracy: 0.7336\n",
      "Epoch 63/100\n",
      "73/73 [==============================] - 19s 265ms/step - loss: 0.5206 - accuracy: 0.7576 - val_loss: 0.5858 - val_accuracy: 0.7310\n",
      "Epoch 64/100\n",
      "73/73 [==============================] - 19s 262ms/step - loss: 0.5178 - accuracy: 0.7585 - val_loss: 0.5853 - val_accuracy: 0.7328\n",
      "Epoch 65/100\n",
      "73/73 [==============================] - 19s 261ms/step - loss: 0.5126 - accuracy: 0.7680 - val_loss: 0.5947 - val_accuracy: 0.7319\n",
      "Epoch 66/100\n",
      "73/73 [==============================] - 19s 265ms/step - loss: 0.5169 - accuracy: 0.7650 - val_loss: 0.5942 - val_accuracy: 0.7328\n",
      "Epoch 67/100\n",
      "73/73 [==============================] - 19s 261ms/step - loss: 0.5175 - accuracy: 0.7542 - val_loss: 0.5848 - val_accuracy: 0.7310\n",
      "Epoch 68/100\n",
      "73/73 [==============================] - 19s 263ms/step - loss: 0.5048 - accuracy: 0.7628 - val_loss: 0.5908 - val_accuracy: 0.7336\n",
      "Epoch 69/100\n",
      "73/73 [==============================] - 19s 264ms/step - loss: 0.5073 - accuracy: 0.7611 - val_loss: 0.5882 - val_accuracy: 0.7328\n",
      "Epoch 70/100\n",
      "73/73 [==============================] - 19s 263ms/step - loss: 0.5086 - accuracy: 0.7675 - val_loss: 0.5884 - val_accuracy: 0.7336\n",
      "Epoch 71/100\n",
      "73/73 [==============================] - 19s 262ms/step - loss: 0.5090 - accuracy: 0.7654 - val_loss: 0.5934 - val_accuracy: 0.7328\n",
      "Epoch 72/100\n",
      "73/73 [==============================] - 19s 262ms/step - loss: 0.5084 - accuracy: 0.7637 - val_loss: 0.5898 - val_accuracy: 0.7336\n",
      "Epoch 73/100\n",
      "73/73 [==============================] - 19s 261ms/step - loss: 0.5109 - accuracy: 0.7650 - val_loss: 0.5887 - val_accuracy: 0.7319\n",
      "Epoch 74/100\n",
      "73/73 [==============================] - 19s 261ms/step - loss: 0.4989 - accuracy: 0.7697 - val_loss: 0.5989 - val_accuracy: 0.7328\n",
      "Epoch 75/100\n",
      "73/73 [==============================] - 19s 263ms/step - loss: 0.5051 - accuracy: 0.7667 - val_loss: 0.5954 - val_accuracy: 0.7328\n",
      "Epoch 76/100\n",
      "73/73 [==============================] - 19s 262ms/step - loss: 0.5068 - accuracy: 0.7714 - val_loss: 0.6183 - val_accuracy: 0.7310\n",
      "Epoch 77/100\n",
      "73/73 [==============================] - 19s 261ms/step - loss: 0.5026 - accuracy: 0.7667 - val_loss: 0.6011 - val_accuracy: 0.7336\n",
      "Epoch 78/100\n",
      "73/73 [==============================] - 19s 264ms/step - loss: 0.5053 - accuracy: 0.7667 - val_loss: 0.5992 - val_accuracy: 0.7345\n",
      "Epoch 79/100\n",
      "73/73 [==============================] - 19s 261ms/step - loss: 0.5076 - accuracy: 0.7654 - val_loss: 0.5915 - val_accuracy: 0.7310\n",
      "Epoch 80/100\n",
      "73/73 [==============================] - 19s 262ms/step - loss: 0.4934 - accuracy: 0.7671 - val_loss: 0.6046 - val_accuracy: 0.7354\n",
      "Epoch 81/100\n",
      "73/73 [==============================] - 19s 264ms/step - loss: 0.5081 - accuracy: 0.7667 - val_loss: 0.5864 - val_accuracy: 0.7328\n",
      "Epoch 82/100\n",
      "73/73 [==============================] - 19s 265ms/step - loss: 0.5075 - accuracy: 0.7641 - val_loss: 0.6074 - val_accuracy: 0.7310\n",
      "Epoch 83/100\n",
      "73/73 [==============================] - 19s 262ms/step - loss: 0.5029 - accuracy: 0.7637 - val_loss: 0.5990 - val_accuracy: 0.7310\n",
      "Epoch 84/100\n",
      "73/73 [==============================] - 19s 262ms/step - loss: 0.4955 - accuracy: 0.7727 - val_loss: 0.6157 - val_accuracy: 0.7310\n",
      "Epoch 85/100\n",
      "73/73 [==============================] - 19s 262ms/step - loss: 0.4938 - accuracy: 0.7766 - val_loss: 0.6073 - val_accuracy: 0.7310\n",
      "Epoch 86/100\n",
      "73/73 [==============================] - 19s 259ms/step - loss: 0.5024 - accuracy: 0.7619 - val_loss: 0.5933 - val_accuracy: 0.7293\n",
      "Epoch 87/100\n",
      "73/73 [==============================] - 19s 261ms/step - loss: 0.5032 - accuracy: 0.7693 - val_loss: 0.5992 - val_accuracy: 0.7310\n",
      "Epoch 88/100\n",
      "73/73 [==============================] - 19s 262ms/step - loss: 0.5038 - accuracy: 0.7697 - val_loss: 0.6023 - val_accuracy: 0.7310\n",
      "Epoch 89/100\n",
      "73/73 [==============================] - 19s 261ms/step - loss: 0.4964 - accuracy: 0.7693 - val_loss: 0.6189 - val_accuracy: 0.7336\n",
      "Epoch 90/100\n",
      "73/73 [==============================] - 19s 263ms/step - loss: 0.4987 - accuracy: 0.7680 - val_loss: 0.6044 - val_accuracy: 0.7328\n",
      "Epoch 91/100\n",
      "73/73 [==============================] - 19s 262ms/step - loss: 0.5033 - accuracy: 0.7641 - val_loss: 0.6154 - val_accuracy: 0.7328\n",
      "Epoch 92/100\n",
      "73/73 [==============================] - 19s 261ms/step - loss: 0.4945 - accuracy: 0.7736 - val_loss: 0.6069 - val_accuracy: 0.7301\n",
      "Epoch 93/100\n",
      "73/73 [==============================] - 19s 260ms/step - loss: 0.4917 - accuracy: 0.7762 - val_loss: 0.6145 - val_accuracy: 0.7301\n",
      "Epoch 94/100\n",
      "73/73 [==============================] - 19s 261ms/step - loss: 0.4884 - accuracy: 0.7723 - val_loss: 0.5988 - val_accuracy: 0.7301\n",
      "Epoch 95/100\n",
      "73/73 [==============================] - 19s 261ms/step - loss: 0.4866 - accuracy: 0.7723 - val_loss: 0.6277 - val_accuracy: 0.7310\n",
      "Epoch 96/100\n",
      "73/73 [==============================] - 19s 259ms/step - loss: 0.4865 - accuracy: 0.7723 - val_loss: 0.6120 - val_accuracy: 0.7319\n",
      "Epoch 97/100\n",
      "73/73 [==============================] - 19s 261ms/step - loss: 0.5064 - accuracy: 0.7645 - val_loss: 0.6047 - val_accuracy: 0.7319\n",
      "Epoch 98/100\n",
      "73/73 [==============================] - 19s 261ms/step - loss: 0.4951 - accuracy: 0.7731 - val_loss: 0.6073 - val_accuracy: 0.7336\n",
      "Epoch 99/100\n",
      "73/73 [==============================] - 19s 260ms/step - loss: 0.4865 - accuracy: 0.7723 - val_loss: 0.6199 - val_accuracy: 0.7301\n",
      "Epoch 100/100\n",
      "73/73 [==============================] - 19s 262ms/step - loss: 0.5009 - accuracy: 0.7697 - val_loss: 0.6043 - val_accuracy: 0.7362\n"
     ]
    }
   ],
   "source": [
    "batch_size = 32\n",
    "history2 = model2.fit(X_train, Y_train, epochs = 100, batch_size=batch_size, validation_data=(X_test, Y_test))"
   ]
  },
  {
   "cell_type": "code",
   "execution_count": null,
   "metadata": {
    "colab": {
     "base_uri": "https://localhost:8080/",
     "height": 535
    },
    "id": "NVudNHQBoMVf",
    "outputId": "9faeb71d-c211-494a-e7cb-6c763cd8360e"
   },
   "outputs": [
    {
     "data": {
      "text/plain": [
       "<matplotlib.legend.Legend at 0x7f999be10150>"
      ]
     },
     "execution_count": 103,
     "metadata": {},
     "output_type": "execute_result"
    },
    {
     "data": {
      "image/png": "[encoded data removed]",
      "text/plain": [
       "<Figure size 864x576 with 1 Axes>"
      ]
     },
     "metadata": {},
     "output_type": "display_data"
    }
   ],
   "source": [
    "import matplotlib.pyplot as plt\n",
    "import numpy as np\n",
    "# plot the training loss and accuracy\n",
    "plt.rcParams[\"figure.figsize\"] = (12,8)\n",
    "N = np.arange(0, 100)\n",
    "plt.style.use(\"ggplot\")\n",
    "plt.figure()\n",
    "plt.plot(N, history2.history[\"loss\"], label=\"train_loss\")\n",
    "plt.plot(N, history2.history[\"val_loss\"], label=\"val_loss\")\n",
    "plt.plot(N, history2.history['accuracy'], label=\"accuracy\")\n",
    "plt.plot(N, history2.history[\"val_accuracy\"], label=\"val_accuracy\")\n",
    "plt.title(\"Training Loss and Accuracy LSTM FastText\")\n",
    "plt.xlabel(\"Epoch #\")\n",
    "plt.ylabel(\"Loss/Accuracy\")\n",
    "plt.legend()"
   ]
  },
  {
   "cell_type": "code",
   "execution_count": null,
   "metadata": {
    "colab": {
     "base_uri": "https://localhost:8080/"
    },
    "id": "jqhs3u0fodkG",
    "outputId": "ca53af05-d58e-4793-9561-f8318bec88a4"
   },
   "outputs": [
    {
     "name": "stdout",
     "output_type": "stream",
     "text": [
      "Y_test uint8 (1145, 2)\n",
      "a uint8 (1145, 2)\n",
      "              precision    recall  f1-score   support\n",
      "\n",
      "           0       0.74      0.99      0.85       840\n",
      "           1       0.60      0.03      0.06       305\n",
      "\n",
      "   micro avg       0.74      0.74      0.74      1145\n",
      "   macro avg       0.67      0.51      0.45      1145\n",
      "weighted avg       0.70      0.74      0.64      1145\n",
      " samples avg       0.74      0.74      0.74      1145\n",
      "\n"
     ]
    }
   ],
   "source": [
    "y_pred = model2.predict(X_test)\n",
    "idx = np.argmax(y_pred, axis=-1)\n",
    "a = np.zeros( y_pred.shape )\n",
    "a[ np.arange(y_pred.shape[0]), idx] = 1\n",
    "# pd.DataFrame(a).head()\n",
    "a = a.astype(np.uint8)\n",
    "print('Y_test', Y_test.dtype,  Y_test.shape)\n",
    "print('a', a.dtype,  a.shape)\n",
    "\n",
    "print(classification_report(Y_test, a, labels=[0,1]))"
   ]
  },
  {
   "cell_type": "markdown",
   "metadata": {
    "id": "uwRltBI3_Zd6"
   },
   "source": [
    "###SVM"
   ]
  },
  {
   "cell_type": "code",
   "execution_count": 50,
   "metadata": {
    "id": "0hO02UeU7Yce"
   },
   "outputs": [],
   "source": [
    "embedd_dim = 300"
   ]
  },
  {
   "cell_type": "code",
   "execution_count": 52,
   "metadata": {
    "colab": {
     "base_uri": "https://localhost:8080/"
    },
    "id": "AEpze0UT7Yce",
    "outputId": "2551245f-dd58-43de-ecfa-f126b1dcd97a"
   },
   "outputs": [
    {
     "data": {
      "text/plain": [
       "array([[0., 0., 0., ..., 0., 0., 0.],\n",
       "       [0., 0., 0., ..., 0., 0., 0.],\n",
       "       [0., 0., 0., ..., 0., 0., 0.],\n",
       "       ...,\n",
       "       [0., 0., 0., ..., 0., 0., 0.],\n",
       "       [0., 0., 0., ..., 0., 0., 0.],\n",
       "       [0., 0., 0., ..., 0., 0., 0.]])"
      ]
     },
     "execution_count": 52,
     "metadata": {},
     "output_type": "execute_result"
    }
   ],
   "source": [
    "sum = np.zeros((len(X1), embedd_dim), dtype=float)\n",
    "i = 0\n",
    "\n",
    "for line in X1:\n",
    "  j = 0\n",
    "  for word in line:\n",
    "    embedding_vector = embeddings_index.get(word)\n",
    "    if embedding_vector is not None:\n",
    "      sum[i,:] += embedding_vector.astype(float)\n",
    "      j+=1\n",
    "  if j>0:\n",
    "    sum[i,:] = sum[i,:]/j\n",
    "  i+=1\n",
    "sum"
   ]
  },
  {
   "cell_type": "code",
   "execution_count": 53,
   "metadata": {
    "id": "d84DQj98_ZeF"
   },
   "outputs": [],
   "source": [
    "Xtrain, Xtest, Ytrain, Ytest = train_test_split(sum,Y[:,0], test_size = 0.33, random_state = 42)"
   ]
  },
  {
   "cell_type": "code",
   "execution_count": 54,
   "metadata": {
    "colab": {
     "base_uri": "https://localhost:8080/"
    },
    "id": "BTUzE7h8_ZeF",
    "outputId": "3b850c8e-a352-414f-d571-24233b00a964"
   },
   "outputs": [
    {
     "data": {
      "text/plain": [
       "array([1, 1, 1, ..., 1, 1, 1], dtype=uint8)"
      ]
     },
     "execution_count": 54,
     "metadata": {},
     "output_type": "execute_result"
    }
   ],
   "source": [
    "# instantiate classifier with default hyperparameters\n",
    "svc=SVC() \n",
    "# fit classifier to training set\n",
    "svc.fit(Xtrain,Ytrain)\n",
    "# make predictions on test set\n",
    "y_pred=svc.predict(Xtest)\n",
    "y_pred"
   ]
  },
  {
   "cell_type": "code",
   "execution_count": 55,
   "metadata": {
    "colab": {
     "base_uri": "https://localhost:8080/"
    },
    "id": "iVwtw6YT_ZeG",
    "outputId": "e3529bd8-57e2-43ca-b9d9-2e4dd6d6183c"
   },
   "outputs": [
    {
     "data": {
      "text/plain": [
       "array([1, 0, 0, ..., 0, 1, 0], dtype=uint8)"
      ]
     },
     "execution_count": 55,
     "metadata": {},
     "output_type": "execute_result"
    }
   ],
   "source": [
    "Ytest"
   ]
  },
  {
   "cell_type": "code",
   "execution_count": 56,
   "metadata": {
    "colab": {
     "base_uri": "https://localhost:8080/"
    },
    "id": "T1CXyedy_ZeG",
    "outputId": "4d792c59-c603-47d6-a849-2c85b815aaca"
   },
   "outputs": [
    {
     "name": "stdout",
     "output_type": "stream",
     "text": [
      "              precision    recall  f1-score   support\n",
      "\n",
      "           0       0.00      0.00      0.00       305\n",
      "           1       0.73      1.00      0.85       840\n",
      "\n",
      "    accuracy                           0.73      1145\n",
      "   macro avg       0.37      0.50      0.42      1145\n",
      "weighted avg       0.54      0.73      0.62      1145\n",
      "\n"
     ]
    },
    {
     "name": "stderr",
     "output_type": "stream",
     "text": [
      "/usr/local/lib/python3.7/dist-packages/sklearn/metrics/_classification.py:1308: UndefinedMetricWarning: Precision and F-score are ill-defined and being set to 0.0 in labels with no predicted samples. Use `zero_division` parameter to control this behavior.\n",
      "  _warn_prf(average, modifier, msg_start, len(result))\n",
      "/usr/local/lib/python3.7/dist-packages/sklearn/metrics/_classification.py:1308: UndefinedMetricWarning: Precision and F-score are ill-defined and being set to 0.0 in labels with no predicted samples. Use `zero_division` parameter to control this behavior.\n",
      "  _warn_prf(average, modifier, msg_start, len(result))\n",
      "/usr/local/lib/python3.7/dist-packages/sklearn/metrics/_classification.py:1308: UndefinedMetricWarning: Precision and F-score are ill-defined and being set to 0.0 in labels with no predicted samples. Use `zero_division` parameter to control this behavior.\n",
      "  _warn_prf(average, modifier, msg_start, len(result))\n"
     ]
    }
   ],
   "source": [
    "print(classification_report(Ytest, y_pred, labels=[0,1]))"
   ]
  },
  {
   "cell_type": "code",
   "execution_count": null,
   "metadata": {
    "id": "6XVpRoDx7Yci"
   },
   "outputs": [],
   "source": []
  },
  {
   "cell_type": "markdown",
   "metadata": {
    "id": "VjgUYsIup62j"
   },
   "source": [
    "# Word2vec"
   ]
  },
  {
   "cell_type": "code",
   "execution_count": 59,
   "metadata": {
    "id": "8qAGZs1ZolQc"
   },
   "outputs": [],
   "source": [
    "import gensim.models.keyedvectors as word2vec\n",
    "embed_map = word2vec.KeyedVectors.load_word2vec_format('/content/drive/MyDrive/NLP/Assignment 2/Embeddings/GoogleNews-vectors-negative300.bin',binary=True)"
   ]
  },
  {
   "cell_type": "code",
   "execution_count": 63,
   "metadata": {
    "colab": {
     "base_uri": "https://localhost:8080/"
    },
    "id": "Rn3CAGViXFd2",
    "outputId": "25046be5-5160-4356-dc48-c08f2d72881a"
   },
   "outputs": [
    {
     "data": {
      "text/plain": [
       "<gensim.models.keyedvectors.Word2VecKeyedVectors at 0x7f6ed7c72190>"
      ]
     },
     "execution_count": 63,
     "metadata": {},
     "output_type": "execute_result"
    }
   ],
   "source": [
    "# my_dict = dict({})\n",
    "# for idx, key in enumerate(embed_map.wv.vocab):\n",
    "#     my_dict[key.lower()] = embed_map.wv[key]\n",
    "#     # Or my_dict[key] = model.wv.get_vector(key)\n",
    "    # Or my_dict[key] = model.wv.word_vec(key, use_norm=False)\n",
    "embed_map"
   ]
  },
  {
   "cell_type": "code",
   "execution_count": 68,
   "metadata": {
    "colab": {
     "base_uri": "https://localhost:8080/"
    },
    "id": "9_SOWlToZdID",
    "outputId": "c922691e-a7bb-4fa9-e04c-a7e124cae0fb"
   },
   "outputs": [
    {
     "name": "stderr",
     "output_type": "stream",
     "text": [
      "/usr/local/lib/python3.7/dist-packages/ipykernel_launcher.py:11: DeprecationWarning: Call to deprecated `wv` (Attribute will be removed in 4.0.0, use self instead).\n",
      "  # This is added back by InteractiveShellApp.init_path()\n",
      "/usr/local/lib/python3.7/dist-packages/ipykernel_launcher.py:4: DeprecationWarning: Call to deprecated `wv` (Attribute will be removed in 4.0.0, use self instead).\n",
      "  after removing the cwd from sys.path.\n"
     ]
    }
   ],
   "source": [
    "#Creating embedding matrix\n",
    "def get(model, word):\n",
    "  try:\n",
    "    return embed_map.wv[word]\n",
    "  except:\n",
    "    return None\n",
    "\n",
    "embedding_matrix = np.zeros((len(tokenizer.word_index.items()), 300))\n",
    "\n",
    "for word, i in tokenizer.word_index.items():\n",
    "    embedding_vector = get(embed_map.wv, word) # my_dict[word]#embeddings_index.get(word)\n",
    "    if embedding_vector is not None:\n",
    "        embedding_matrix[i-1] = embedding_vector"
   ]
  },
  {
   "cell_type": "markdown",
   "metadata": {
    "id": "aOL-l0jtP905"
   },
   "source": [
    "###SVM"
   ]
  },
  {
   "cell_type": "code",
   "execution_count": 69,
   "metadata": {
    "id": "OYc7ecrmP906"
   },
   "outputs": [],
   "source": [
    "embedd_dim = 300\n"
   ]
  },
  {
   "cell_type": "code",
   "execution_count": 70,
   "metadata": {
    "colab": {
     "base_uri": "https://localhost:8080/"
    },
    "id": "fNQM3rioP907",
    "outputId": "b4f87eae-ef38-4f4b-bb5c-57c5835993e4"
   },
   "outputs": [
    {
     "name": "stderr",
     "output_type": "stream",
     "text": [
      "/usr/local/lib/python3.7/dist-packages/ipykernel_launcher.py:7: DeprecationWarning: Call to deprecated `wv` (Attribute will be removed in 4.0.0, use self instead).\n",
      "  import sys\n",
      "/usr/local/lib/python3.7/dist-packages/ipykernel_launcher.py:4: DeprecationWarning: Call to deprecated `wv` (Attribute will be removed in 4.0.0, use self instead).\n",
      "  after removing the cwd from sys.path.\n"
     ]
    },
    {
     "data": {
      "text/plain": [
       "array([[0., 0., 0., ..., 0., 0., 0.],\n",
       "       [0., 0., 0., ..., 0., 0., 0.],\n",
       "       [0., 0., 0., ..., 0., 0., 0.],\n",
       "       ...,\n",
       "       [0., 0., 0., ..., 0., 0., 0.],\n",
       "       [0., 0., 0., ..., 0., 0., 0.],\n",
       "       [0., 0., 0., ..., 0., 0., 0.]])"
      ]
     },
     "execution_count": 70,
     "metadata": {},
     "output_type": "execute_result"
    }
   ],
   "source": [
    "sum = np.zeros((len(X1), embedd_dim), dtype=float)\n",
    "i = 0\n",
    "\n",
    "for line in X1:\n",
    "  j = 0\n",
    "  for word in line:\n",
    "    embedding_vector = get(embed_map.wv, word) \n",
    "    if embedding_vector is not None:\n",
    "      sum[i,:] += embedding_vector.astype(float)\n",
    "      j+=1\n",
    "  if j>0:\n",
    "    sum[i,:] = sum[i,:]/j\n",
    "  i+=1\n",
    "sum"
   ]
  },
  {
   "cell_type": "code",
   "execution_count": 71,
   "metadata": {
    "id": "twCA9lUaP907"
   },
   "outputs": [],
   "source": [
    "Xtrain, Xtest, Ytrain, Ytest = train_test_split(sum,Y[:,0], test_size = 0.33, random_state = 42)"
   ]
  },
  {
   "cell_type": "code",
   "execution_count": 72,
   "metadata": {
    "colab": {
     "base_uri": "https://localhost:8080/"
    },
    "id": "LjaUNAOAP907",
    "outputId": "00433c5e-b9af-4386-ca6f-3f068c4e1bab"
   },
   "outputs": [
    {
     "data": {
      "text/plain": [
       "array([1, 1, 1, ..., 1, 1, 1], dtype=uint8)"
      ]
     },
     "execution_count": 72,
     "metadata": {},
     "output_type": "execute_result"
    }
   ],
   "source": [
    "# instantiate classifier with default hyperparameters\n",
    "svc=SVC() \n",
    "# fit classifier to training set\n",
    "svc.fit(Xtrain,Ytrain)\n",
    "# make predictions on test set\n",
    "y_pred=svc.predict(Xtest)\n",
    "y_pred"
   ]
  },
  {
   "cell_type": "code",
   "execution_count": 73,
   "metadata": {
    "colab": {
     "base_uri": "https://localhost:8080/"
    },
    "id": "xCZNMSK4P908",
    "outputId": "902cecf1-2e8a-482e-fc0b-09d7cb495f4b"
   },
   "outputs": [
    {
     "data": {
      "text/plain": [
       "array([1, 0, 0, ..., 0, 1, 0], dtype=uint8)"
      ]
     },
     "execution_count": 73,
     "metadata": {},
     "output_type": "execute_result"
    }
   ],
   "source": [
    "Ytest"
   ]
  },
  {
   "cell_type": "code",
   "execution_count": 74,
   "metadata": {
    "colab": {
     "base_uri": "https://localhost:8080/"
    },
    "id": "pYhF48TTP908",
    "outputId": "d81f7575-7fff-49bc-bf5a-d3778da910e5"
   },
   "outputs": [
    {
     "name": "stdout",
     "output_type": "stream",
     "text": [
      "              precision    recall  f1-score   support\n",
      "\n",
      "           0       0.00      0.00      0.00       305\n",
      "           1       0.73      1.00      0.85       840\n",
      "\n",
      "    accuracy                           0.73      1145\n",
      "   macro avg       0.37      0.50      0.42      1145\n",
      "weighted avg       0.54      0.73      0.62      1145\n",
      "\n"
     ]
    },
    {
     "name": "stderr",
     "output_type": "stream",
     "text": [
      "/usr/local/lib/python3.7/dist-packages/sklearn/metrics/_classification.py:1308: UndefinedMetricWarning: Precision and F-score are ill-defined and being set to 0.0 in labels with no predicted samples. Use `zero_division` parameter to control this behavior.\n",
      "  _warn_prf(average, modifier, msg_start, len(result))\n",
      "/usr/local/lib/python3.7/dist-packages/sklearn/metrics/_classification.py:1308: UndefinedMetricWarning: Precision and F-score are ill-defined and being set to 0.0 in labels with no predicted samples. Use `zero_division` parameter to control this behavior.\n",
      "  _warn_prf(average, modifier, msg_start, len(result))\n",
      "/usr/local/lib/python3.7/dist-packages/sklearn/metrics/_classification.py:1308: UndefinedMetricWarning: Precision and F-score are ill-defined and being set to 0.0 in labels with no predicted samples. Use `zero_division` parameter to control this behavior.\n",
      "  _warn_prf(average, modifier, msg_start, len(result))\n"
     ]
    }
   ],
   "source": [
    "print(classification_report(Ytest, y_pred, labels=[0,1]))"
   ]
  },
  {
   "cell_type": "code",
   "execution_count": 75,
   "metadata": {
    "colab": {
     "base_uri": "https://localhost:8080/"
    },
    "id": "M_E9jCuwUcmO",
    "outputId": "fef8790c-76cc-4039-87cc-048a6319f11d"
   },
   "outputs": [
    {
     "data": {
      "text/plain": [
       "array([1, 1, 1, ..., 1, 1, 1], dtype=uint8)"
      ]
     },
     "execution_count": 75,
     "metadata": {},
     "output_type": "execute_result"
    }
   ],
   "source": [
    "from sklearn.neural_network import MLPClassifier\n",
    "# instantiate classifier with default hyperparameters\n",
    "mlp=MLPClassifier() \n",
    "# fit classifier to training set\n",
    "mlp.fit(Xtrain,Ytrain)\n",
    "# make predictions on test set\n",
    "y_pred=mlp.predict(Xtest)\n",
    "y_pred"
   ]
  },
  {
   "cell_type": "code",
   "execution_count": 76,
   "metadata": {
    "colab": {
     "base_uri": "https://localhost:8080/"
    },
    "id": "KAVKbGLpWYXF",
    "outputId": "f906fc46-e89b-4c42-da9c-be4401fec68f"
   },
   "outputs": [
    {
     "name": "stdout",
     "output_type": "stream",
     "text": [
      "              precision    recall  f1-score   support\n",
      "\n",
      "           0       0.00      0.00      0.00       305\n",
      "           1       0.73      1.00      0.85       840\n",
      "\n",
      "    accuracy                           0.73      1145\n",
      "   macro avg       0.37      0.50      0.42      1145\n",
      "weighted avg       0.54      0.73      0.62      1145\n",
      "\n"
     ]
    },
    {
     "name": "stderr",
     "output_type": "stream",
     "text": [
      "/usr/local/lib/python3.7/dist-packages/sklearn/metrics/_classification.py:1308: UndefinedMetricWarning: Precision and F-score are ill-defined and being set to 0.0 in labels with no predicted samples. Use `zero_division` parameter to control this behavior.\n",
      "  _warn_prf(average, modifier, msg_start, len(result))\n",
      "/usr/local/lib/python3.7/dist-packages/sklearn/metrics/_classification.py:1308: UndefinedMetricWarning: Precision and F-score are ill-defined and being set to 0.0 in labels with no predicted samples. Use `zero_division` parameter to control this behavior.\n",
      "  _warn_prf(average, modifier, msg_start, len(result))\n",
      "/usr/local/lib/python3.7/dist-packages/sklearn/metrics/_classification.py:1308: UndefinedMetricWarning: Precision and F-score are ill-defined and being set to 0.0 in labels with no predicted samples. Use `zero_division` parameter to control this behavior.\n",
      "  _warn_prf(average, modifier, msg_start, len(result))\n"
     ]
    }
   ],
   "source": [
    "print(classification_report(Ytest, y_pred, labels=[0,1]))"
   ]
  },
  {
   "cell_type": "markdown",
   "metadata": {
    "id": "bGSS4sx8qwmO"
   },
   "source": [
    "### LSTM"
   ]
  },
  {
   "cell_type": "code",
   "execution_count": 77,
   "metadata": {
    "colab": {
     "base_uri": "https://localhost:8080/"
    },
    "id": "IzW5ANXaqCYw",
    "outputId": "17dab4ac-8002-404c-a49e-e50c3ba6662f"
   },
   "outputs": [
    {
     "name": "stdout",
     "output_type": "stream",
     "text": [
      "Model: \"sequential_1\"\n",
      "_________________________________________________________________\n",
      " Layer (type)                Output Shape              Param #   \n",
      "=================================================================\n",
      " embedding_1 (Embedding)     (None, None, 300)         3230700   \n",
      "                                                                 \n",
      " spatial_dropout1d_1 (Spatia  (None, None, 300)        0         \n",
      " lDropout1D)                                                     \n",
      "                                                                 \n",
      " lstm_2 (LSTM)               (None, None, 128)         219648    \n",
      "                                                                 \n",
      " lstm_3 (LSTM)               (None, 64)                49408     \n",
      "                                                                 \n",
      " dense_1 (Dense)             (None, 2)                 130       \n",
      "                                                                 \n",
      "=================================================================\n",
      "Total params: 3,499,886\n",
      "Trainable params: 269,186\n",
      "Non-trainable params: 3,230,700\n",
      "_________________________________________________________________\n",
      "None\n"
     ]
    }
   ],
   "source": [
    "# embed_dim = 128\n",
    "lstm_out = 196\n",
    "\n",
    "# Create model\n",
    "model3 = Sequential()\n",
    "model3.add(Embedding(num_words,300,weights=[embedding_matrix],trainable=False))\n",
    "# model.add(Embedding(max_fatures, embed_dim,input_length = X.shape[1]))\n",
    "model3.add(SpatialDropout1D(drop_val))\n",
    "model3.add(LSTM(128, dropout=drop_val, recurrent_dropout=drop_val, activation='relu', input_shape=(360,1), return_sequences=True))\n",
    "model3.add(LSTM(64, dropout=drop_val, recurrent_dropout=drop_val))\n",
    "model3.add(Dense(2,activation='softmax'))\n",
    "model3.compile(loss = 'categorical_crossentropy', optimizer='adam',metrics = ['accuracy'])\n",
    "print(model3.summary())"
   ]
  },
  {
   "cell_type": "code",
   "execution_count": 79,
   "metadata": {
    "colab": {
     "base_uri": "https://localhost:8080/"
    },
    "id": "Tip9ssOVh1FZ",
    "outputId": "fd5bbd8c-93fd-4ebe-f277-dee0644a5f54"
   },
   "outputs": [
    {
     "name": "stdout",
     "output_type": "stream",
     "text": [
      "Epoch 1/100\n",
      "73/73 [==============================] - 26s 358ms/step - loss: 0.5575 - accuracy: 0.7581 - val_loss: 0.5824 - val_accuracy: 0.7336\n",
      "Epoch 2/100\n",
      "73/73 [==============================] - 25s 347ms/step - loss: 0.5524 - accuracy: 0.7581 - val_loss: 0.5827 - val_accuracy: 0.7336\n",
      "Epoch 3/100\n",
      "73/73 [==============================] - 25s 348ms/step - loss: 0.5547 - accuracy: 0.7581 - val_loss: 0.5864 - val_accuracy: 0.7336\n",
      "Epoch 4/100\n",
      "73/73 [==============================] - 25s 349ms/step - loss: 0.5496 - accuracy: 0.7581 - val_loss: 0.5872 - val_accuracy: 0.7336\n",
      "Epoch 5/100\n",
      "73/73 [==============================] - 25s 346ms/step - loss: 0.5513 - accuracy: 0.7581 - val_loss: 0.5806 - val_accuracy: 0.7336\n",
      "Epoch 6/100\n",
      "73/73 [==============================] - 26s 350ms/step - loss: 0.5478 - accuracy: 0.7576 - val_loss: 0.5820 - val_accuracy: 0.7336\n",
      "Epoch 7/100\n",
      "73/73 [==============================] - 26s 351ms/step - loss: 0.5489 - accuracy: 0.7581 - val_loss: 0.5845 - val_accuracy: 0.7336\n",
      "Epoch 8/100\n",
      "73/73 [==============================] - 26s 350ms/step - loss: 0.5459 - accuracy: 0.7594 - val_loss: 0.5806 - val_accuracy: 0.7336\n",
      "Epoch 9/100\n",
      "73/73 [==============================] - 25s 347ms/step - loss: 0.5479 - accuracy: 0.7589 - val_loss: 0.5887 - val_accuracy: 0.7336\n",
      "Epoch 10/100\n",
      "73/73 [==============================] - 25s 346ms/step - loss: 0.5438 - accuracy: 0.7585 - val_loss: 0.5822 - val_accuracy: 0.7336\n",
      "Epoch 11/100\n",
      "73/73 [==============================] - 25s 348ms/step - loss: 0.5411 - accuracy: 0.7581 - val_loss: 0.5831 - val_accuracy: 0.7336\n",
      "Epoch 12/100\n",
      "73/73 [==============================] - 25s 349ms/step - loss: 0.5404 - accuracy: 0.7576 - val_loss: 0.5837 - val_accuracy: 0.7336\n",
      "Epoch 13/100\n",
      "73/73 [==============================] - 26s 351ms/step - loss: 0.5402 - accuracy: 0.7589 - val_loss: 0.5845 - val_accuracy: 0.7336\n",
      "Epoch 14/100\n",
      "73/73 [==============================] - 26s 351ms/step - loss: 0.5360 - accuracy: 0.7555 - val_loss: 0.5846 - val_accuracy: 0.7336\n",
      "Epoch 15/100\n",
      "73/73 [==============================] - 26s 351ms/step - loss: 0.5373 - accuracy: 0.7568 - val_loss: 0.5846 - val_accuracy: 0.7336\n",
      "Epoch 16/100\n",
      "73/73 [==============================] - 26s 350ms/step - loss: 0.5366 - accuracy: 0.7594 - val_loss: 0.5836 - val_accuracy: 0.7336\n",
      "Epoch 17/100\n",
      "73/73 [==============================] - 26s 350ms/step - loss: 0.5399 - accuracy: 0.7572 - val_loss: 0.5826 - val_accuracy: 0.7336\n",
      "Epoch 18/100\n",
      "73/73 [==============================] - 26s 350ms/step - loss: 0.5292 - accuracy: 0.7611 - val_loss: 0.5840 - val_accuracy: 0.7336\n",
      "Epoch 19/100\n",
      "73/73 [==============================] - 25s 348ms/step - loss: 0.5325 - accuracy: 0.7628 - val_loss: 0.5861 - val_accuracy: 0.7336\n",
      "Epoch 20/100\n",
      "73/73 [==============================] - 27s 368ms/step - loss: 0.5309 - accuracy: 0.7589 - val_loss: 0.5846 - val_accuracy: 0.7336\n",
      "Epoch 21/100\n",
      "73/73 [==============================] - 25s 349ms/step - loss: 0.5342 - accuracy: 0.7602 - val_loss: 0.5841 - val_accuracy: 0.7336\n",
      "Epoch 22/100\n",
      "73/73 [==============================] - 26s 350ms/step - loss: 0.5237 - accuracy: 0.7576 - val_loss: 0.5873 - val_accuracy: 0.7336\n",
      "Epoch 23/100\n",
      "73/73 [==============================] - 26s 351ms/step - loss: 0.5296 - accuracy: 0.7619 - val_loss: 0.5843 - val_accuracy: 0.7336\n",
      "Epoch 24/100\n",
      "73/73 [==============================] - 25s 348ms/step - loss: 0.5215 - accuracy: 0.7654 - val_loss: 0.5903 - val_accuracy: 0.7319\n",
      "Epoch 25/100\n",
      "73/73 [==============================] - 25s 349ms/step - loss: 0.5236 - accuracy: 0.7594 - val_loss: 0.5891 - val_accuracy: 0.7336\n",
      "Epoch 26/100\n",
      "73/73 [==============================] - 26s 351ms/step - loss: 0.5196 - accuracy: 0.7624 - val_loss: 0.5869 - val_accuracy: 0.7336\n",
      "Epoch 27/100\n",
      "73/73 [==============================] - 26s 353ms/step - loss: 0.5274 - accuracy: 0.7559 - val_loss: 0.5847 - val_accuracy: 0.7336\n",
      "Epoch 28/100\n",
      "73/73 [==============================] - 26s 354ms/step - loss: 0.5216 - accuracy: 0.7529 - val_loss: 0.5874 - val_accuracy: 0.7328\n",
      "Epoch 29/100\n",
      "73/73 [==============================] - 26s 350ms/step - loss: 0.5296 - accuracy: 0.7559 - val_loss: 0.5865 - val_accuracy: 0.7336\n",
      "Epoch 30/100\n",
      "73/73 [==============================] - 25s 348ms/step - loss: 0.5199 - accuracy: 0.7602 - val_loss: 0.5868 - val_accuracy: 0.7336\n",
      "Epoch 31/100\n",
      "73/73 [==============================] - 26s 350ms/step - loss: 0.5148 - accuracy: 0.7671 - val_loss: 0.5858 - val_accuracy: 0.7336\n",
      "Epoch 32/100\n",
      "73/73 [==============================] - 25s 349ms/step - loss: 0.5147 - accuracy: 0.7693 - val_loss: 0.5862 - val_accuracy: 0.7328\n",
      "Epoch 33/100\n",
      "73/73 [==============================] - 25s 348ms/step - loss: 0.5157 - accuracy: 0.7611 - val_loss: 0.5904 - val_accuracy: 0.7336\n",
      "Epoch 34/100\n",
      "73/73 [==============================] - 25s 347ms/step - loss: 0.5100 - accuracy: 0.7637 - val_loss: 0.6057 - val_accuracy: 0.7319\n",
      "Epoch 35/100\n",
      "73/73 [==============================] - 26s 351ms/step - loss: 0.6469 - accuracy: 0.6750 - val_loss: 0.6139 - val_accuracy: 0.7336\n",
      "Epoch 36/100\n",
      "73/73 [==============================] - 26s 351ms/step - loss: 0.5898 - accuracy: 0.7551 - val_loss: 0.5801 - val_accuracy: 0.7336\n",
      "Epoch 37/100\n",
      "73/73 [==============================] - 26s 351ms/step - loss: 0.5729 - accuracy: 0.7576 - val_loss: 0.5804 - val_accuracy: 0.7336\n",
      "Epoch 38/100\n",
      "73/73 [==============================] - 26s 350ms/step - loss: 0.5698 - accuracy: 0.7563 - val_loss: 0.5857 - val_accuracy: 0.7336\n",
      "Epoch 39/100\n",
      "73/73 [==============================] - 26s 351ms/step - loss: 0.5624 - accuracy: 0.7581 - val_loss: 0.5912 - val_accuracy: 0.7336\n",
      "Epoch 40/100\n",
      "73/73 [==============================] - 26s 353ms/step - loss: 0.5677 - accuracy: 0.7576 - val_loss: 0.5848 - val_accuracy: 0.7336\n",
      "Epoch 41/100\n",
      "73/73 [==============================] - 26s 351ms/step - loss: 0.5563 - accuracy: 0.7576 - val_loss: 0.5835 - val_accuracy: 0.7336\n",
      "Epoch 42/100\n",
      "73/73 [==============================] - 26s 351ms/step - loss: 0.5596 - accuracy: 0.7581 - val_loss: 0.5860 - val_accuracy: 0.7336\n",
      "Epoch 43/100\n",
      "73/73 [==============================] - 26s 354ms/step - loss: 0.5623 - accuracy: 0.7581 - val_loss: 0.5859 - val_accuracy: 0.7336\n",
      "Epoch 44/100\n",
      "73/73 [==============================] - 26s 354ms/step - loss: 0.5570 - accuracy: 0.7581 - val_loss: 0.5859 - val_accuracy: 0.7336\n",
      "Epoch 45/100\n",
      "73/73 [==============================] - 26s 353ms/step - loss: 0.5602 - accuracy: 0.7581 - val_loss: 0.5857 - val_accuracy: 0.7336\n",
      "Epoch 46/100\n",
      "73/73 [==============================] - 26s 354ms/step - loss: 0.5569 - accuracy: 0.7581 - val_loss: 0.5846 - val_accuracy: 0.7336\n",
      "Epoch 47/100\n",
      "73/73 [==============================] - 26s 354ms/step - loss: 0.5583 - accuracy: 0.7581 - val_loss: 0.5852 - val_accuracy: 0.7336\n",
      "Epoch 48/100\n",
      "73/73 [==============================] - 26s 356ms/step - loss: 0.5560 - accuracy: 0.7581 - val_loss: 0.5827 - val_accuracy: 0.7336\n",
      "Epoch 49/100\n",
      "73/73 [==============================] - 26s 355ms/step - loss: 0.5567 - accuracy: 0.7581 - val_loss: 0.5829 - val_accuracy: 0.7336\n",
      "Epoch 50/100\n",
      "73/73 [==============================] - 26s 356ms/step - loss: 0.5535 - accuracy: 0.7581 - val_loss: 0.5814 - val_accuracy: 0.7336\n",
      "Epoch 51/100\n",
      "73/73 [==============================] - 26s 355ms/step - loss: 0.5588 - accuracy: 0.7581 - val_loss: 0.5821 - val_accuracy: 0.7336\n",
      "Epoch 52/100\n",
      "73/73 [==============================] - 26s 355ms/step - loss: 0.5578 - accuracy: 0.7581 - val_loss: 0.5820 - val_accuracy: 0.7336\n",
      "Epoch 53/100\n",
      "73/73 [==============================] - 26s 354ms/step - loss: 0.5591 - accuracy: 0.7581 - val_loss: 0.5803 - val_accuracy: 0.7336\n",
      "Epoch 54/100\n",
      "73/73 [==============================] - 26s 353ms/step - loss: 0.5558 - accuracy: 0.7581 - val_loss: 0.5818 - val_accuracy: 0.7336\n",
      "Epoch 55/100\n",
      "73/73 [==============================] - 26s 353ms/step - loss: 0.5537 - accuracy: 0.7581 - val_loss: 0.5809 - val_accuracy: 0.7336\n",
      "Epoch 56/100\n",
      "73/73 [==============================] - 26s 355ms/step - loss: 0.5548 - accuracy: 0.7581 - val_loss: 0.5811 - val_accuracy: 0.7336\n",
      "Epoch 57/100\n",
      "73/73 [==============================] - 26s 354ms/step - loss: 0.5555 - accuracy: 0.7581 - val_loss: 0.5821 - val_accuracy: 0.7336\n",
      "Epoch 58/100\n",
      "73/73 [==============================] - 26s 350ms/step - loss: 0.5562 - accuracy: 0.7581 - val_loss: 0.5818 - val_accuracy: 0.7336\n",
      "Epoch 59/100\n",
      "73/73 [==============================] - 26s 350ms/step - loss: 0.5527 - accuracy: 0.7581 - val_loss: 0.5818 - val_accuracy: 0.7336\n",
      "Epoch 60/100\n",
      "73/73 [==============================] - 26s 353ms/step - loss: 0.5541 - accuracy: 0.7581 - val_loss: 0.5830 - val_accuracy: 0.7336\n",
      "Epoch 61/100\n",
      "73/73 [==============================] - 26s 351ms/step - loss: 0.5547 - accuracy: 0.7581 - val_loss: 0.5814 - val_accuracy: 0.7336\n",
      "Epoch 62/100\n",
      "73/73 [==============================] - 26s 353ms/step - loss: 0.5539 - accuracy: 0.7581 - val_loss: 0.5812 - val_accuracy: 0.7336\n",
      "Epoch 63/100\n",
      "73/73 [==============================] - 25s 349ms/step - loss: 0.5554 - accuracy: 0.7581 - val_loss: 0.5799 - val_accuracy: 0.7336\n",
      "Epoch 64/100\n",
      "73/73 [==============================] - 26s 352ms/step - loss: 0.5554 - accuracy: 0.7581 - val_loss: 0.5801 - val_accuracy: 0.7336\n",
      "Epoch 65/100\n",
      "73/73 [==============================] - 26s 354ms/step - loss: 0.5542 - accuracy: 0.7581 - val_loss: 0.5801 - val_accuracy: 0.7336\n",
      "Epoch 66/100\n",
      "73/73 [==============================] - 26s 356ms/step - loss: 0.5544 - accuracy: 0.7581 - val_loss: 0.5806 - val_accuracy: 0.7336\n",
      "Epoch 67/100\n",
      "73/73 [==============================] - 28s 388ms/step - loss: 0.5548 - accuracy: 0.7581 - val_loss: 0.5809 - val_accuracy: 0.7336\n",
      "Epoch 68/100\n",
      "73/73 [==============================] - 26s 353ms/step - loss: 0.5555 - accuracy: 0.7581 - val_loss: 0.5810 - val_accuracy: 0.7336\n",
      "Epoch 69/100\n",
      "73/73 [==============================] - 26s 351ms/step - loss: 0.5543 - accuracy: 0.7581 - val_loss: 0.5821 - val_accuracy: 0.7336\n",
      "Epoch 70/100\n",
      "73/73 [==============================] - 26s 354ms/step - loss: 0.5562 - accuracy: 0.7581 - val_loss: 0.5813 - val_accuracy: 0.7336\n",
      "Epoch 71/100\n",
      "73/73 [==============================] - 26s 350ms/step - loss: 0.5557 - accuracy: 0.7581 - val_loss: 0.5810 - val_accuracy: 0.7336\n",
      "Epoch 72/100\n",
      "73/73 [==============================] - 26s 351ms/step - loss: 0.5544 - accuracy: 0.7581 - val_loss: 0.5815 - val_accuracy: 0.7336\n",
      "Epoch 73/100\n",
      "73/73 [==============================] - 26s 351ms/step - loss: 0.5546 - accuracy: 0.7581 - val_loss: 0.5816 - val_accuracy: 0.7336\n",
      "Epoch 74/100\n",
      "73/73 [==============================] - 26s 354ms/step - loss: 0.5550 - accuracy: 0.7581 - val_loss: 0.5815 - val_accuracy: 0.7336\n",
      "Epoch 75/100\n",
      "73/73 [==============================] - 26s 354ms/step - loss: 0.5531 - accuracy: 0.7581 - val_loss: 0.5813 - val_accuracy: 0.7336\n",
      "Epoch 76/100\n",
      "73/73 [==============================] - 26s 353ms/step - loss: 0.5535 - accuracy: 0.7581 - val_loss: 0.5821 - val_accuracy: 0.7336\n",
      "Epoch 77/100\n",
      "73/73 [==============================] - 26s 354ms/step - loss: 0.5544 - accuracy: 0.7581 - val_loss: 0.5808 - val_accuracy: 0.7336\n",
      "Epoch 78/100\n",
      "73/73 [==============================] - 26s 356ms/step - loss: 0.5546 - accuracy: 0.7581 - val_loss: 0.5812 - val_accuracy: 0.7336\n",
      "Epoch 79/100\n",
      "73/73 [==============================] - 26s 355ms/step - loss: 0.5540 - accuracy: 0.7581 - val_loss: 0.5814 - val_accuracy: 0.7336\n",
      "Epoch 80/100\n",
      "73/73 [==============================] - 26s 350ms/step - loss: 0.5551 - accuracy: 0.7581 - val_loss: 0.5807 - val_accuracy: 0.7336\n",
      "Epoch 81/100\n",
      "73/73 [==============================] - 26s 354ms/step - loss: 0.5543 - accuracy: 0.7581 - val_loss: 0.5807 - val_accuracy: 0.7336\n",
      "Epoch 82/100\n",
      "73/73 [==============================] - 26s 355ms/step - loss: 0.5549 - accuracy: 0.7581 - val_loss: 0.5802 - val_accuracy: 0.7336\n",
      "Epoch 83/100\n",
      "73/73 [==============================] - 26s 351ms/step - loss: 0.5531 - accuracy: 0.7581 - val_loss: 0.5806 - val_accuracy: 0.7336\n",
      "Epoch 84/100\n",
      "73/73 [==============================] - 26s 353ms/step - loss: 0.5540 - accuracy: 0.7581 - val_loss: 0.5807 - val_accuracy: 0.7336\n",
      "Epoch 85/100\n",
      "73/73 [==============================] - 26s 350ms/step - loss: 0.5544 - accuracy: 0.7581 - val_loss: 0.5810 - val_accuracy: 0.7336\n",
      "Epoch 86/100\n",
      "73/73 [==============================] - 26s 351ms/step - loss: 0.5548 - accuracy: 0.7581 - val_loss: 0.5805 - val_accuracy: 0.7336\n",
      "Epoch 87/100\n",
      "73/73 [==============================] - 26s 353ms/step - loss: 0.5552 - accuracy: 0.7581 - val_loss: 0.5819 - val_accuracy: 0.7336\n",
      "Epoch 88/100\n",
      "73/73 [==============================] - 26s 353ms/step - loss: 0.5535 - accuracy: 0.7581 - val_loss: 0.5825 - val_accuracy: 0.7336\n",
      "Epoch 89/100\n",
      "73/73 [==============================] - 26s 351ms/step - loss: 0.5534 - accuracy: 0.7581 - val_loss: 0.5864 - val_accuracy: 0.7336\n",
      "Epoch 90/100\n",
      "73/73 [==============================] - 26s 352ms/step - loss: 0.5552 - accuracy: 0.7581 - val_loss: 0.5832 - val_accuracy: 0.7336\n",
      "Epoch 91/100\n",
      "73/73 [==============================] - 26s 351ms/step - loss: 0.5542 - accuracy: 0.7581 - val_loss: 0.5819 - val_accuracy: 0.7336\n",
      "Epoch 92/100\n",
      "73/73 [==============================] - 26s 352ms/step - loss: 0.5540 - accuracy: 0.7581 - val_loss: 0.5816 - val_accuracy: 0.7336\n",
      "Epoch 93/100\n",
      "73/73 [==============================] - 26s 354ms/step - loss: 0.5542 - accuracy: 0.7581 - val_loss: 0.5829 - val_accuracy: 0.7336\n",
      "Epoch 94/100\n",
      "73/73 [==============================] - 26s 351ms/step - loss: 0.5540 - accuracy: 0.7581 - val_loss: 0.5830 - val_accuracy: 0.7336\n",
      "Epoch 95/100\n",
      "73/73 [==============================] - 25s 349ms/step - loss: 0.5532 - accuracy: 0.7581 - val_loss: 0.5855 - val_accuracy: 0.7336\n",
      "Epoch 96/100\n",
      "73/73 [==============================] - 26s 354ms/step - loss: 0.5535 - accuracy: 0.7581 - val_loss: 0.5849 - val_accuracy: 0.7336\n",
      "Epoch 97/100\n",
      "73/73 [==============================] - 26s 351ms/step - loss: 0.5549 - accuracy: 0.7581 - val_loss: 0.5824 - val_accuracy: 0.7336\n",
      "Epoch 98/100\n",
      "73/73 [==============================] - 26s 353ms/step - loss: 0.5536 - accuracy: 0.7581 - val_loss: 0.5827 - val_accuracy: 0.7336\n",
      "Epoch 99/100\n",
      "73/73 [==============================] - 26s 351ms/step - loss: 0.5531 - accuracy: 0.7581 - val_loss: 0.5833 - val_accuracy: 0.7336\n",
      "Epoch 100/100\n",
      "73/73 [==============================] - 26s 351ms/step - loss: 0.5539 - accuracy: 0.7581 - val_loss: 0.5829 - val_accuracy: 0.7336\n"
     ]
    }
   ],
   "source": [
    "batch_size = 32\n",
    "history3 = model3.fit(X_train, Y_train, epochs = 100, batch_size=batch_size, validation_data=(X_test, Y_test))"
   ]
  },
  {
   "cell_type": "code",
   "execution_count": 80,
   "metadata": {
    "colab": {
     "base_uri": "https://localhost:8080/",
     "height": 470
    },
    "id": "VbpujeZsijTF",
    "outputId": "34a49489-7a16-48b1-86fe-c227a82f34a4"
   },
   "outputs": [
    {
     "data": {
      "text/plain": [
       "<matplotlib.legend.Legend at 0x7f6e87539890>"
      ]
     },
     "execution_count": 80,
     "metadata": {},
     "output_type": "execute_result"
    },
    {
     "data": {
      "image/png": "[encoded data removed]",
      "text/plain": [
       "<Figure size 864x576 with 1 Axes>"
      ]
     },
     "metadata": {},
     "output_type": "display_data"
    }
   ],
   "source": [
    "import matplotlib.pyplot as plt\n",
    "import numpy as np\n",
    "# plot the training loss and accuracy\n",
    "plt.rcParams[\"figure.figsize\"] = (12,8)\n",
    "N = np.arange(0, 100)\n",
    "plt.style.use(\"ggplot\")\n",
    "plt.figure()\n",
    "plt.plot(N, history3.history[\"loss\"], label=\"train_loss\")\n",
    "plt.plot(N, history3.history[\"val_loss\"], label=\"val_loss\")\n",
    "plt.plot(N, history3.history['accuracy'], label=\"accuracy\")\n",
    "plt.plot(N, history3.history[\"val_accuracy\"], label=\"val_accuracy\")\n",
    "plt.title(\"Training Loss and Accuracy LSTM Word2vec\")\n",
    "plt.xlabel(\"Epoch #\")\n",
    "plt.ylabel(\"Loss/Accuracy\")\n",
    "plt.legend()"
   ]
  },
  {
   "cell_type": "code",
   "execution_count": 83,
   "metadata": {
    "colab": {
     "base_uri": "https://localhost:8080/"
    },
    "id": "8FaGRtACitCp",
    "outputId": "a80afa5a-72ce-4b05-c7a9-ee004d7d0901"
   },
   "outputs": [
    {
     "name": "stdout",
     "output_type": "stream",
     "text": [
      "Y_test uint8 (1145, 2)\n",
      "a uint8 (1145, 2)\n",
      "              precision    recall  f1-score   support\n",
      "\n",
      "           0       0.73      1.00      0.85       840\n",
      "           1       0.00      0.00      0.00       305\n",
      "\n",
      "   micro avg       0.73      0.73      0.73      1145\n",
      "   macro avg       0.37      0.50      0.42      1145\n",
      "weighted avg       0.54      0.73      0.62      1145\n",
      " samples avg       0.73      0.73      0.73      1145\n",
      "\n"
     ]
    },
    {
     "name": "stderr",
     "output_type": "stream",
     "text": [
      "/usr/local/lib/python3.7/dist-packages/sklearn/metrics/_classification.py:1308: UndefinedMetricWarning: Precision and F-score are ill-defined and being set to 0.0 in labels with no predicted samples. Use `zero_division` parameter to control this behavior.\n",
      "  _warn_prf(average, modifier, msg_start, len(result))\n"
     ]
    }
   ],
   "source": [
    "y_pred = model3.predict(X_test)\n",
    "# idx = np.argmax(y_pred, axis=-1)\n",
    "# a = np.zeros( y_pred.shape )\n",
    "# a[ np.arange(y_pred.shape[0]), idx] = 1\n",
    "a = y_pred>0.5\n",
    "# pd.DataFrame(a).head()\n",
    "a = a.astype(np.uint8)\n",
    "print('Y_test', Y_test.dtype,  Y_test.shape)\n",
    "print('a', a.dtype,  a.shape)\n",
    "\n",
    "print(classification_report(Y_test, a, labels=[0,1]))"
   ]
  },
  {
   "cell_type": "markdown",
   "metadata": {
    "id": "Go5jN_LgP2dV"
   },
   "source": [
    "###SVM"
   ]
  },
  {
   "cell_type": "code",
   "execution_count": null,
   "metadata": {
    "id": "fSSgTMKIP2dW"
   },
   "outputs": [],
   "source": [
    "embedd_dim = 300"
   ]
  },
  {
   "cell_type": "code",
   "execution_count": null,
   "metadata": {
    "colab": {
     "base_uri": "https://localhost:8080/"
    },
    "id": "iIBeHYy1P2dW",
    "outputId": "2551245f-dd58-43de-ecfa-f126b1dcd97a"
   },
   "outputs": [
    {
     "data": {
      "text/plain": [
       "array([[0., 0., 0., ..., 0., 0., 0.],\n",
       "       [0., 0., 0., ..., 0., 0., 0.],\n",
       "       [0., 0., 0., ..., 0., 0., 0.],\n",
       "       ...,\n",
       "       [0., 0., 0., ..., 0., 0., 0.],\n",
       "       [0., 0., 0., ..., 0., 0., 0.],\n",
       "       [0., 0., 0., ..., 0., 0., 0.]])"
      ]
     },
     "execution_count": 52,
     "metadata": {},
     "output_type": "execute_result"
    }
   ],
   "source": [
    "sum = np.zeros((len(X1), embedd_dim), dtype=float)\n",
    "i = 0\n",
    "\n",
    "for line in X1:\n",
    "  j = 0\n",
    "  for word in line:\n",
    "    embedding_vector = embeddings_index.get(word)\n",
    "    if embedding_vector is not None:\n",
    "      sum[i,:] += embedding_vector.astype(float)\n",
    "      j+=1\n",
    "  if j>0:\n",
    "    sum[i,:] = sum[i,:]/j\n",
    "  i+=1\n",
    "sum"
   ]
  },
  {
   "cell_type": "code",
   "execution_count": null,
   "metadata": {
    "id": "ry6TQMwYP2dX"
   },
   "outputs": [],
   "source": [
    "Xtrain, Xtest, Ytrain, Ytest = train_test_split(sum,Y[:,0], test_size = 0.33, random_state = 42)"
   ]
  },
  {
   "cell_type": "code",
   "execution_count": null,
   "metadata": {
    "colab": {
     "base_uri": "https://localhost:8080/"
    },
    "id": "UbFkr7utP2dX",
    "outputId": "3b850c8e-a352-414f-d571-24233b00a964"
   },
   "outputs": [
    {
     "data": {
      "text/plain": [
       "array([1, 1, 1, ..., 1, 1, 1], dtype=uint8)"
      ]
     },
     "execution_count": 54,
     "metadata": {},
     "output_type": "execute_result"
    }
   ],
   "source": [
    "# instantiate classifier with default hyperparameters\n",
    "svc=SVC() \n",
    "# fit classifier to training set\n",
    "svc.fit(Xtrain,Ytrain)\n",
    "# make predictions on test set\n",
    "y_pred=svc.predict(Xtest)\n",
    "y_pred"
   ]
  },
  {
   "cell_type": "code",
   "execution_count": null,
   "metadata": {
    "colab": {
     "base_uri": "https://localhost:8080/"
    },
    "id": "GO1zG1BnP2dY",
    "outputId": "e3529bd8-57e2-43ca-b9d9-2e4dd6d6183c"
   },
   "outputs": [
    {
     "data": {
      "text/plain": [
       "array([1, 0, 0, ..., 0, 1, 0], dtype=uint8)"
      ]
     },
     "execution_count": 55,
     "metadata": {},
     "output_type": "execute_result"
    }
   ],
   "source": [
    "Ytest"
   ]
  },
  {
   "cell_type": "code",
   "execution_count": null,
   "metadata": {
    "colab": {
     "base_uri": "https://localhost:8080/"
    },
    "id": "kF0vBbGcP2dY",
    "outputId": "4d792c59-c603-47d6-a849-2c85b815aaca"
   },
   "outputs": [
    {
     "name": "stdout",
     "output_type": "stream",
     "text": [
      "              precision    recall  f1-score   support\n",
      "\n",
      "           0       0.00      0.00      0.00       305\n",
      "           1       0.73      1.00      0.85       840\n",
      "\n",
      "    accuracy                           0.73      1145\n",
      "   macro avg       0.37      0.50      0.42      1145\n",
      "weighted avg       0.54      0.73      0.62      1145\n",
      "\n"
     ]
    },
    {
     "name": "stderr",
     "output_type": "stream",
     "text": [
      "/usr/local/lib/python3.7/dist-packages/sklearn/metrics/_classification.py:1308: UndefinedMetricWarning: Precision and F-score are ill-defined and being set to 0.0 in labels with no predicted samples. Use `zero_division` parameter to control this behavior.\n",
      "  _warn_prf(average, modifier, msg_start, len(result))\n",
      "/usr/local/lib/python3.7/dist-packages/sklearn/metrics/_classification.py:1308: UndefinedMetricWarning: Precision and F-score are ill-defined and being set to 0.0 in labels with no predicted samples. Use `zero_division` parameter to control this behavior.\n",
      "  _warn_prf(average, modifier, msg_start, len(result))\n",
      "/usr/local/lib/python3.7/dist-packages/sklearn/metrics/_classification.py:1308: UndefinedMetricWarning: Precision and F-score are ill-defined and being set to 0.0 in labels with no predicted samples. Use `zero_division` parameter to control this behavior.\n",
      "  _warn_prf(average, modifier, msg_start, len(result))\n"
     ]
    }
   ],
   "source": [
    "print(classification_report(Ytest, y_pred, labels=[0,1]))"
   ]
  },
  {
   "cell_type": "markdown",
   "metadata": {
    "id": "9Fmo7SM8bixp"
   },
   "source": [
    "# Results"
   ]
  },
  {
   "cell_type": "markdown",
   "metadata": {
    "id": "rMfyXWdwkCVe"
   },
   "source": [
    "### SVM"
   ]
  },
  {
   "cell_type": "code",
   "execution_count": 84,
   "metadata": {
    "colab": {
     "base_uri": "https://localhost:8080/",
     "height": 174
    },
    "id": "zv3f_NMqbmCS",
    "outputId": "5d4b43cd-aea7-4a8e-ce6d-1ded00322eab"
   },
   "outputs": [
    {
     "data": {
      "text/html": [
       "<div>\n",
       "<style scoped>\n",
       "    .dataframe tbody tr th:only-of-type {\n",
       "        vertical-align: middle;\n",
       "    }\n",
       "\n",
       "    .dataframe tbody tr th {\n",
       "        vertical-align: top;\n",
       "    }\n",
       "\n",
       "    .dataframe thead th {\n",
       "        text-align: right;\n",
       "    }\n",
       "</style>\n",
       "<table border=\"1\" class=\"dataframe\">\n",
       "  <thead>\n",
       "    <tr style=\"text-align: right;\">\n",
       "      <th></th>\n",
       "      <th>metric</th>\n",
       "      <th>Vanilla</th>\n",
       "      <th>Word2Vec</th>\n",
       "      <th>Glove</th>\n",
       "      <th>Fasttext</th>\n",
       "    </tr>\n",
       "  </thead>\n",
       "  <tbody>\n",
       "    <tr>\n",
       "      <th>0</th>\n",
       "      <td>F-score</td>\n",
       "      <td>0.74</td>\n",
       "      <td>0.62</td>\n",
       "      <td>0.62</td>\n",
       "      <td>0.62</td>\n",
       "    </tr>\n",
       "    <tr>\n",
       "      <th>1</th>\n",
       "      <td>Accuracy</td>\n",
       "      <td>0.77</td>\n",
       "      <td>0.73</td>\n",
       "      <td>0.73</td>\n",
       "      <td>0.73</td>\n",
       "    </tr>\n",
       "    <tr>\n",
       "      <th>2</th>\n",
       "      <td>Precision</td>\n",
       "      <td>0.75</td>\n",
       "      <td>0.54</td>\n",
       "      <td>0.54</td>\n",
       "      <td>0.54</td>\n",
       "    </tr>\n",
       "    <tr>\n",
       "      <th>3</th>\n",
       "      <td>Recall</td>\n",
       "      <td>0.77</td>\n",
       "      <td>0.73</td>\n",
       "      <td>0.73</td>\n",
       "      <td>0.73</td>\n",
       "    </tr>\n",
       "  </tbody>\n",
       "</table>\n",
       "</div>"
      ],
      "text/plain": [
       "      metric  Vanilla  Word2Vec  Glove  Fasttext\n",
       "0    F-score     0.74      0.62   0.62      0.62\n",
       "1   Accuracy     0.77      0.73   0.73      0.73\n",
       "2  Precision     0.75      0.54   0.54      0.54\n",
       "3     Recall     0.77      0.73   0.73      0.73"
      ]
     },
     "execution_count": 84,
     "metadata": {},
     "output_type": "execute_result"
    }
   ],
   "source": [
    "SVMresults = {\n",
    "    'metric': ['F-score', 'Accuracy', 'Precision', 'Recall'],\n",
    "    'Vanilla': [0.74, 0.77, 0.75, 0.77],\n",
    "    'Word2Vec': [0.62, 0.73, 0.54, 0.73],\n",
    "    'Glove': [0.62, 0.73, 0.54, 0.73],\n",
    "    'Fasttext': [0.62, 0.73, 0.54, 0.73]\n",
    "}\n",
    "pd.DataFrame(SVMresults).head()"
   ]
  },
  {
   "cell_type": "markdown",
   "metadata": {
    "id": "THWm3A_Oj-EF"
   },
   "source": [
    "### LSTM"
   ]
  },
  {
   "cell_type": "code",
   "execution_count": 85,
   "metadata": {
    "colab": {
     "base_uri": "https://localhost:8080/",
     "height": 174
    },
    "id": "ePCgVuJPebno",
    "outputId": "31262483-3e5e-440f-d984-4da961d48c4b"
   },
   "outputs": [
    {
     "data": {
      "text/html": [
       "<div>\n",
       "<style scoped>\n",
       "    .dataframe tbody tr th:only-of-type {\n",
       "        vertical-align: middle;\n",
       "    }\n",
       "\n",
       "    .dataframe tbody tr th {\n",
       "        vertical-align: top;\n",
       "    }\n",
       "\n",
       "    .dataframe thead th {\n",
       "        text-align: right;\n",
       "    }\n",
       "</style>\n",
       "<table border=\"1\" class=\"dataframe\">\n",
       "  <thead>\n",
       "    <tr style=\"text-align: right;\">\n",
       "      <th></th>\n",
       "      <th>metric</th>\n",
       "      <th>Vanilla</th>\n",
       "      <th>Word2Vec</th>\n",
       "      <th>Glove</th>\n",
       "      <th>Fasttext</th>\n",
       "    </tr>\n",
       "  </thead>\n",
       "  <tbody>\n",
       "    <tr>\n",
       "      <th>0</th>\n",
       "      <td>F-score</td>\n",
       "      <td>0.64</td>\n",
       "      <td>0.62</td>\n",
       "      <td>0.62</td>\n",
       "      <td>0.64</td>\n",
       "    </tr>\n",
       "    <tr>\n",
       "      <th>1</th>\n",
       "      <td>Accuracy</td>\n",
       "      <td>0.64</td>\n",
       "      <td>0.73</td>\n",
       "      <td>0.73</td>\n",
       "      <td>0.74</td>\n",
       "    </tr>\n",
       "    <tr>\n",
       "      <th>2</th>\n",
       "      <td>Precision</td>\n",
       "      <td>0.64</td>\n",
       "      <td>0.54</td>\n",
       "      <td>0.54</td>\n",
       "      <td>0.70</td>\n",
       "    </tr>\n",
       "    <tr>\n",
       "      <th>3</th>\n",
       "      <td>Recall</td>\n",
       "      <td>0.64</td>\n",
       "      <td>0.73</td>\n",
       "      <td>0.73</td>\n",
       "      <td>0.74</td>\n",
       "    </tr>\n",
       "  </tbody>\n",
       "</table>\n",
       "</div>"
      ],
      "text/plain": [
       "      metric  Vanilla  Word2Vec  Glove  Fasttext\n",
       "0    F-score     0.64      0.62   0.62      0.64\n",
       "1   Accuracy     0.64      0.73   0.73      0.74\n",
       "2  Precision     0.64      0.54   0.54      0.70\n",
       "3     Recall     0.64      0.73   0.73      0.74"
      ]
     },
     "execution_count": 85,
     "metadata": {},
     "output_type": "execute_result"
    }
   ],
   "source": [
    "LSTMresults = {\n",
    "    'metric': ['F-score', 'Accuracy', 'Precision', 'Recall'],\n",
    "    'Vanilla': [0.64, 0.64, 0.64, 0.64],\n",
    "    'Word2Vec': [0.62, 0.73, 0.54, 0.73],\n",
    "    'Glove': [0.62, 0.73, 0.54, 0.73],\n",
    "    'Fasttext': [0.64, 0.74, 0.7, 0.74]\n",
    "}\n",
    "pd.DataFrame(LSTMresults).head()"
   ]
  },
  {
   "cell_type": "markdown",
   "metadata": {
    "id": "8fCh52Fwj6_M"
   },
   "source": [
    "# "
   ]
  }
 ],
 "metadata": {
  "colab": {
   "collapsed_sections": [
    "q_3Jwa9O9Uv9",
    "30txG4INaWvf",
    "kinu9yUUahaL",
    "P41aBaKQ7Ycc",
    "mKarpqpi80zE",
    "s85i95kzELn8",
    "awOL6n8ucmdd",
    "hQ6NC_Y6ZXaU",
    "F3wHcnUrn1Qj",
    "uwRltBI3_Zd6",
    "VjgUYsIup62j",
    "aOL-l0jtP905",
    "bGSS4sx8qwmO",
    "Go5jN_LgP2dV",
    "9Fmo7SM8bixp",
    "rMfyXWdwkCVe",
    "THWm3A_Oj-EF"
   ],
   "name": "L191854-Assignment2.ipynb",
   "provenance": []
  },
  "kernelspec": {
   "display_name": "Python 3 (ipykernel)",
   "language": "python",
   "name": "python3"
  },
  "language_info": {
   "codemirror_mode": {
    "name": "ipython",
    "version": 3
   },
   "file_extension": ".py",
   "mimetype": "text/x-python",
   "name": "python",
   "nbconvert_exporter": "python",
   "pygments_lexer": "ipython3",
   "version": "3.9.7"
  }
 },
 "nbformat": 4,
 "nbformat_minor": 1
}
