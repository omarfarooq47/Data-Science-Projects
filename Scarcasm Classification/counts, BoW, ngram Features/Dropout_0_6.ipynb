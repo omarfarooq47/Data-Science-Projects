{
  "nbformat": 4,
  "nbformat_minor": 0,
  "metadata": {
    "kernelspec": {
      "display_name": "Python 3",
      "language": "python",
      "name": "python3"
    },
    "language_info": {
      "codemirror_mode": {
        "name": "ipython",
        "version": 3
      },
      "file_extension": ".py",
      "mimetype": "text/x-python",
      "name": "python",
      "nbconvert_exporter": "python",
      "pygments_lexer": "ipython3",
      "version": "3.8.5"
    },
    "colab": {
      "name": "Dropout 0.6.ipynb",
      "provenance": [],
      "collapsed_sections": [
        "gIZPva06e-0A",
        "UaizaW1NPYi5",
        "NkAbBg4BMFOe"
      ]
    }
  },
  "cells": [
    {
      "cell_type": "code",
      "metadata": {
        "id": "eCJbp5oeZJXi"
      },
      "source": [
        "drop_val = 0.6"
      ],
      "execution_count": 4,
      "outputs": []
    },
    {
      "cell_type": "markdown",
      "metadata": {
        "id": "Ydkk-AX7Rslh"
      },
      "source": [
        "# ETL"
      ]
    },
    {
      "cell_type": "code",
      "metadata": {
        "colab": {
          "base_uri": "https://localhost:8080/"
        },
        "id": "HGRNKZM-1tZb",
        "outputId": "43b3333b-87a2-44ca-b6af-9b7a9cc1653a"
      },
      "source": [
        "# Importing required libraries\n",
        "import nltk\n",
        "nltk.download('stopwords')\n",
        "nltk.download('wordnet')\n",
        "import pandas as pd\n",
        "from nltk.corpus import stopwords\n",
        "from textblob import Word\n",
        "from sklearn.preprocessing import LabelEncoder\n",
        "from collections import Counter\n",
        "import wordcloud\n",
        "from sklearn.metrics import classification_report,confusion_matrix,accuracy_score\n",
        "from keras.models import Sequential\n",
        "from keras.preprocessing.text import Tokenizer\n",
        "from keras.preprocessing.sequence import pad_sequences\n",
        "from keras.layers import Dense, Embedding, LSTM, SpatialDropout1D, GRU, Bidirectional, RNN\n",
        "from sklearn.model_selection import train_test_split \n",
        "import matplotlib.pyplot as plt\n",
        "import numpy as np\n",
        "import tensorflow as tf"
      ],
      "execution_count": 5,
      "outputs": [
        {
          "output_type": "stream",
          "name": "stdout",
          "text": [
            "[nltk_data] Downloading package stopwords to /root/nltk_data...\n",
            "[nltk_data]   Package stopwords is already up-to-date!\n",
            "[nltk_data] Downloading package wordnet to /root/nltk_data...\n",
            "[nltk_data]   Package wordnet is already up-to-date!\n"
          ]
        }
      ]
    },
    {
      "cell_type": "code",
      "metadata": {
        "colab": {
          "base_uri": "https://localhost:8080/"
        },
        "id": "9tBUDYc51tZj",
        "outputId": "70b943db-b000-447f-f038-0da08a7244f4"
      },
      "source": [
        "#Loading the dataset\n",
        "data = pd.read_csv('Sarcasm Dataset.csv')\n",
        "\n",
        "df = data.copy()\n",
        "df.columns      "
      ],
      "execution_count": 6,
      "outputs": [
        {
          "output_type": "execute_result",
          "data": {
            "text/plain": [
              "Index(['Unnamed: 0', 'tweet', 'sarcastic', 'sarcasm', 'irony', 'satire',\n",
              "       'understatement', 'overstatement', 'rhetorical_question'],\n",
              "      dtype='object')"
            ]
          },
          "metadata": {},
          "execution_count": 6
        }
      ]
    },
    {
      "cell_type": "code",
      "metadata": {
        "id": "rb7eg4MC1tZl"
      },
      "source": [
        "tokenizer = Tokenizer(oov_token=\"<OOV>\")"
      ],
      "execution_count": 7,
      "outputs": []
    },
    {
      "cell_type": "code",
      "metadata": {
        "id": "eRLvFeLZ1tZm"
      },
      "source": [
        "import re\n",
        "def cleaning(df):\n",
        "    # coversion to lower Case\n",
        "    df['tweet'] = df['tweet'].astype(str).apply(lambda x:' '.join(a.lower() for a in x.split()))\n",
        "\n",
        "    # Replacing the special characters\n",
        "    df['tweet'] = df['tweet'].str.replace('\\W+', ' ')\n",
        "#     df['tweet'] = df['tweet'].astype(str).apply(lambda s:''.join([i for i in s if i.isalnum()]))\n",
        "\n",
        "    # Replacing the digits/numbers\n",
        "\n",
        "    df['tweet'] = df['tweet'].astype(str).apply(lambda s:''.join([i for i in s if not i.isdigit()]))\n",
        "\n",
        "    # Removing stop words\n",
        "\n",
        "#     df['tweet'] = df['tweet'].astype(str).apply(lambda x: ' '.join(a for a in x.split() if a not in stop_words))\n",
        "\n",
        "    # Lemmatization\n",
        "\n",
        "    df['tweet'] = df['tweet'].astype(str).apply(lambda x:' '.join([Word(a).lemmatize() for a in x.split()]))\n",
        "\n",
        "    return df\n",
        "\n",
        "# stop_words = stopwords.words('english')\n",
        "\n",
        "df = cleaning(df)\n",
        "# df.head(20)"
      ],
      "execution_count": 8,
      "outputs": []
    },
    {
      "cell_type": "code",
      "metadata": {
        "colab": {
          "base_uri": "https://localhost:8080/"
        },
        "id": "Q2Nxbnzp1tZn",
        "outputId": "a10d3ba6-d783-4902-9c89-11803106bd3b"
      },
      "source": [
        "import string\n",
        "sentences = [sublist.split() for sublist in df['tweet'].astype(str).values]\n",
        "words = set([item for sublist in sentences for item in sublist])\n",
        "vocab_size = len(words)\n",
        "vocab_size"
      ],
      "execution_count": 9,
      "outputs": [
        {
          "output_type": "execute_result",
          "data": {
            "text/plain": [
              "9447"
            ]
          },
          "metadata": {},
          "execution_count": 9
        }
      ]
    },
    {
      "cell_type": "code",
      "metadata": {
        "id": "VBr9y2h-1tZo"
      },
      "source": [
        "df['tweet'] = df['tweet'].astype(str)"
      ],
      "execution_count": 10,
      "outputs": []
    },
    {
      "cell_type": "code",
      "metadata": {
        "id": "12zBxI5_1tZp"
      },
      "source": [
        "# split = round(len(df)*0.75)\n",
        "# train_reviews = df['tweet'][:split]\n",
        "# train_label = df['sarcastic'][:split]\n",
        "# test_reviews = df['tweet'][split:]\n",
        "# test_label = df['sarcastic'][split:]\n"
      ],
      "execution_count": 11,
      "outputs": []
    },
    {
      "cell_type": "code",
      "metadata": {
        "id": "NeW7ZDMx1tZq"
      },
      "source": [
        "# training_sentences = []\n",
        "# training_labels = []\n",
        "# testing_sentences = []\n",
        "# testing_labels = []\n",
        "# for row in train_reviews:\n",
        "#     training_sentences.append(str(row))\n",
        "# for row in train_label:\n",
        "#     training_labels.append(row)\n",
        "# for row in test_reviews:\n",
        "#     testing_sentences.append(str(row))\n",
        "# for row in test_label:\n",
        "#     testing_labels.append(row)\n"
      ],
      "execution_count": 12,
      "outputs": []
    },
    {
      "cell_type": "code",
      "metadata": {
        "colab": {
          "base_uri": "https://localhost:8080/"
        },
        "id": "fuXTQD9v1tZr",
        "outputId": "13944e89-b54e-4341-e529-2f144e4db8a9"
      },
      "source": [
        "import numpy as np\n",
        "lengths = df[\"tweet\"].str.len()\n",
        "argmax = np.where(lengths == lengths.max())[0]\n",
        "# max_len = len(data_v1.iloc[argmax]['tweet'])\n",
        "max_length = lengths[argmax].astype(int)\n",
        "print(max_length)\n",
        "print(np.average(lengths))"
      ],
      "execution_count": 13,
      "outputs": [
        {
          "output_type": "stream",
          "name": "stdout",
          "text": [
            "2808    294\n",
            "Name: tweet, dtype: int64\n",
            "98.53979238754326\n"
          ]
        }
      ]
    },
    {
      "cell_type": "code",
      "metadata": {
        "id": "xJcn-rgv1tZu"
      },
      "source": [
        "# data for binary \n",
        "X_train, X_test, y_train, y_test = train_test_split(df['tweet'].values,df['sarcastic'], test_size = 0.25, random_state = 42)\n",
        "vocab_size = 9440\n",
        "embedding_dim = 16\n",
        "max_length = 120\n",
        "trunc_type = 'post'\n",
        "oov_tok = '<OOV>'\n",
        "padding_type = 'post'\n",
        "tokenizer = Tokenizer(num_words=vocab_size, oov_token=oov_tok)\n",
        "tokenizer.fit_on_texts(X_train)\n",
        "word_index = tokenizer.word_index\n",
        "sequences = tokenizer.texts_to_sequences(X_train)\n",
        "padded = pad_sequences(sequences, maxlen=max_length, truncating=trunc_type)\n",
        "testing_sentences = tokenizer.texts_to_sequences(X_test)\n",
        "testing_padded = pad_sequences(testing_sentences, maxlen=max_length)"
      ],
      "execution_count": 14,
      "outputs": []
    },
    {
      "cell_type": "code",
      "metadata": {
        "id": "WiTB1R7sOFzq",
        "colab": {
          "base_uri": "https://localhost:8080/"
        },
        "outputId": "225e42bb-ed9a-4c09-de72-5406bf9d6a08"
      },
      "source": [
        "# data for multiclass\n",
        "X_train_mn, X_test_mn, y_train_mn, y_test_mn = train_test_split(df.loc[df['sarcastic']==1, 'tweet'].values, df.loc[df['sarcastic']==1, ['sarcasm', 'irony', 'satire', 'understatement', 'overstatement', 'rhetorical_question']], test_size = 0.25, random_state = 42)\n",
        "training_labels_final_mn = np.array(y_train_mn)\n",
        "testing_labels_final_mn = np.array(y_test_mn)\n",
        "# print(testing_labels_final_mn)\n",
        "print('labels shape',testing_labels_final_mn.shape)\n",
        "num_epochs = 20\n",
        "vocab_size = 9440\n",
        "embedding_dim = 16\n",
        "max_length = 120\n",
        "trunc_type = 'post'\n",
        "oov_tok = '<OOV>'\n",
        "padding_type = 'post'\n",
        "tokenizer_mn = Tokenizer(num_words=vocab_size, oov_token=oov_tok)\n",
        "tokenizer_mn.fit_on_texts(X_train_mn)\n",
        "word_index_mn = tokenizer_mn.word_index\n",
        "sequences_mn = tokenizer_mn.texts_to_sequences(X_train_mn)\n",
        "padded_mn = pad_sequences(sequences_mn, maxlen=max_length, truncating=trunc_type)\n",
        "testing_sentences_mn = tokenizer_mn.texts_to_sequences(X_test_mn)\n",
        "testing_padded_mn = pad_sequences(testing_sentences_mn, maxlen=max_length)"
      ],
      "execution_count": 15,
      "outputs": [
        {
          "output_type": "stream",
          "name": "stdout",
          "text": [
            "labels shape (217, 6)\n"
          ]
        }
      ]
    },
    {
      "cell_type": "markdown",
      "metadata": {
        "id": "aHNkxgw1OUJO"
      },
      "source": [
        "# LSTM 2 -layered"
      ]
    },
    {
      "cell_type": "code",
      "metadata": {
        "id": "fBubdMFg1tZv",
        "colab": {
          "base_uri": "https://localhost:8080/"
        },
        "outputId": "4076ac9e-51b8-4e9a-f449-37793eb10d94"
      },
      "source": [
        "# import tensorflow as tf\n",
        "# model = tf.keras.Sequential([\n",
        "#     tf.keras.layers.Embedding(vocab_size, embedding_dim, input_length=max_length),\n",
        "#     tf.keras.layers.GlobalAveragePooling1D(),\n",
        "#     tf.keras.layers.Dense(6, activation='relu'),\n",
        "#     tf.keras.layers.Dense(1, activation='sigmoid')\n",
        "# ])\n",
        "model = Sequential()\n",
        "model.add(Embedding(vocab_size, embedding_dim, input_length = max_length))\n",
        "# model.add(SpatialDropout1D(0.4))\n",
        "model.add(LSTM(128, dropout=drop_val, recurrent_dropout=drop_val, activation='relu', input_shape=(360,1), return_sequences=True))\n",
        "model.add(LSTM(128, dropout=drop_val, recurrent_dropout=drop_val, activation='relu', ))\n",
        "model.add(Dense(16,activation='tanh'))\n",
        "model.add(Dense(1,activation='softmax'))\n",
        "model.compile(loss = 'binary_crossentropy', optimizer='adam', metrics = ['accuracy'])\n",
        "model.summary()"
      ],
      "execution_count": 16,
      "outputs": [
        {
          "output_type": "stream",
          "name": "stdout",
          "text": [
            "Model: \"sequential\"\n",
            "_________________________________________________________________\n",
            " Layer (type)                Output Shape              Param #   \n",
            "=================================================================\n",
            " embedding (Embedding)       (None, 120, 16)           151040    \n",
            "                                                                 \n",
            " lstm (LSTM)                 (None, 120, 128)          74240     \n",
            "                                                                 \n",
            " lstm_1 (LSTM)               (None, 128)               131584    \n",
            "                                                                 \n",
            " dense (Dense)               (None, 16)                2064      \n",
            "                                                                 \n",
            " dense_1 (Dense)             (None, 1)                 17        \n",
            "                                                                 \n",
            "=================================================================\n",
            "Total params: 358,945\n",
            "Trainable params: 358,945\n",
            "Non-trainable params: 0\n",
            "_________________________________________________________________\n"
          ]
        }
      ]
    },
    {
      "cell_type": "code",
      "metadata": {
        "id": "ijUJ9ZxF1tZv"
      },
      "source": [
        "model.compile(loss='binary_crossentropy', optimizer='adam', metrics=['accuracy'])"
      ],
      "execution_count": 17,
      "outputs": []
    },
    {
      "cell_type": "code",
      "metadata": {
        "id": "_0oJAxNX1tZw"
      },
      "source": [
        ""
      ],
      "execution_count": 17,
      "outputs": []
    },
    {
      "cell_type": "code",
      "metadata": {
        "colab": {
          "base_uri": "https://localhost:8080/"
        },
        "id": "LSTmgm_x1tZ1",
        "outputId": "7b7b9364-057e-4cd0-b7f3-2c3dad899967"
      },
      "source": [
        "training_labels_final = np.array(y_train)\n",
        "testing_labels_final = np.array(y_test)\n",
        "num_epochs = 20\n",
        "history = model.fit(padded, training_labels_final, epochs=num_epochs, validation_data=(testing_padded, testing_labels_final))"
      ],
      "execution_count": 18,
      "outputs": [
        {
          "output_type": "stream",
          "name": "stdout",
          "text": [
            "Epoch 1/20\n",
            "82/82 [==============================] - 61s 667ms/step - loss: 0.5695 - accuracy: 0.2384 - val_loss: 0.5993 - val_accuracy: 0.2849\n",
            "Epoch 2/20\n",
            "82/82 [==============================] - 57s 698ms/step - loss: 0.5556 - accuracy: 0.2384 - val_loss: 0.6024 - val_accuracy: 0.2849\n",
            "Epoch 3/20\n",
            "82/82 [==============================] - 58s 707ms/step - loss: 0.5370 - accuracy: 0.2384 - val_loss: 0.6019 - val_accuracy: 0.2849\n",
            "Epoch 4/20\n",
            "82/82 [==============================] - 57s 699ms/step - loss: 0.4862 - accuracy: 0.2384 - val_loss: 0.6143 - val_accuracy: 0.2849\n",
            "Epoch 5/20\n",
            "82/82 [==============================] - 57s 695ms/step - loss: 0.4190 - accuracy: 0.2384 - val_loss: 0.6794 - val_accuracy: 0.2849\n",
            "Epoch 6/20\n",
            "82/82 [==============================] - 57s 694ms/step - loss: 0.3330 - accuracy: 0.2384 - val_loss: 0.7971 - val_accuracy: 0.2849\n",
            "Epoch 7/20\n",
            "82/82 [==============================] - 57s 692ms/step - loss: 0.2371 - accuracy: 0.2384 - val_loss: 0.8617 - val_accuracy: 0.2849\n",
            "Epoch 8/20\n",
            "82/82 [==============================] - 56s 684ms/step - loss: 0.1838 - accuracy: 0.2384 - val_loss: 0.8949 - val_accuracy: 0.2849\n",
            "Epoch 9/20\n",
            "82/82 [==============================] - 56s 683ms/step - loss: 0.1348 - accuracy: 0.2384 - val_loss: 0.9998 - val_accuracy: 0.2849\n",
            "Epoch 10/20\n",
            "82/82 [==============================] - 57s 698ms/step - loss: 0.1047 - accuracy: 0.2384 - val_loss: 1.0611 - val_accuracy: 0.2849\n",
            "Epoch 11/20\n",
            "82/82 [==============================] - 56s 687ms/step - loss: 0.0877 - accuracy: 0.2384 - val_loss: 1.1558 - val_accuracy: 0.2849\n",
            "Epoch 12/20\n",
            "82/82 [==============================] - 56s 680ms/step - loss: 0.0766 - accuracy: 0.2384 - val_loss: 1.1534 - val_accuracy: 0.2849\n",
            "Epoch 13/20\n",
            "82/82 [==============================] - 56s 681ms/step - loss: 0.0632 - accuracy: 0.2384 - val_loss: 1.2115 - val_accuracy: 0.2849\n",
            "Epoch 14/20\n",
            "82/82 [==============================] - 57s 693ms/step - loss: 0.0545 - accuracy: 0.2384 - val_loss: 1.4383 - val_accuracy: 0.2849\n",
            "Epoch 15/20\n",
            "82/82 [==============================] - 56s 685ms/step - loss: 0.0506 - accuracy: 0.2384 - val_loss: 1.3431 - val_accuracy: 0.2849\n",
            "Epoch 16/20\n",
            "82/82 [==============================] - 56s 687ms/step - loss: 0.0506 - accuracy: 0.2384 - val_loss: 1.4843 - val_accuracy: 0.2849\n",
            "Epoch 17/20\n",
            "82/82 [==============================] - 56s 689ms/step - loss: 0.0433 - accuracy: 0.2384 - val_loss: 1.4347 - val_accuracy: 0.2849\n",
            "Epoch 18/20\n",
            "82/82 [==============================] - 56s 687ms/step - loss: 0.0321 - accuracy: 0.2384 - val_loss: 1.4953 - val_accuracy: 0.2849\n",
            "Epoch 19/20\n",
            "82/82 [==============================] - 56s 687ms/step - loss: 0.0328 - accuracy: 0.2384 - val_loss: 1.4849 - val_accuracy: 0.2849\n",
            "Epoch 20/20\n",
            "82/82 [==============================] - 55s 676ms/step - loss: 0.0283 - accuracy: 0.2384 - val_loss: 1.7193 - val_accuracy: 0.2849\n"
          ]
        }
      ]
    },
    {
      "cell_type": "code",
      "metadata": {
        "colab": {
          "base_uri": "https://localhost:8080/",
          "height": 535
        },
        "id": "7n5oE2ki1tZ1",
        "outputId": "ef4db956-dbc6-4485-90dd-6ec1badb4b5d"
      },
      "source": [
        "import matplotlib.pyplot as plt\n",
        "import numpy as np\n",
        "# plot the training loss and accuracy\n",
        "plt.rcParams[\"figure.figsize\"] = (12,8)\n",
        "N = np.arange(0, 20)\n",
        "plt.style.use(\"ggplot\")\n",
        "plt.figure()\n",
        "plt.plot(N, history.history[\"loss\"], label=\"train_loss\")\n",
        "plt.plot(N, history.history[\"val_loss\"], label=\"val_loss\")\n",
        "plt.plot(N, history.history['accuracy'], label=\"accuracy\")\n",
        "plt.plot(N, history.history[\"val_accuracy\"], label=\"val_accuracy\")\n",
        "plt.title(\"Training Loss and Accuracy (1 Layered LSTM, Dropout=0.2)\")\n",
        "plt.xlabel(\"Epoch #\")\n",
        "plt.ylabel(\"Loss/Accuracy\")\n",
        "plt.legend()"
      ],
      "execution_count": 19,
      "outputs": [
        {
          "output_type": "execute_result",
          "data": {
            "text/plain": [
              "<matplotlib.legend.Legend at 0x7fa4899f0750>"
            ]
          },
          "metadata": {},
          "execution_count": 19
        },
        {
          "output_type": "display_data",
          "data": {
            "image/png": "[encoded data removed]",
            "text/plain": [
              "<Figure size 864x576 with 1 Axes>"
            ]
          },
          "metadata": {}
        }
      ]
    },
    {
      "cell_type": "code",
      "metadata": {
        "colab": {
          "base_uri": "https://localhost:8080/"
        },
        "id": "-B64vNhM1tZ2",
        "outputId": "05e2b07f-5914-41dd-fe63-2cfd3642688c"
      },
      "source": [
        "# confusion matrix in sklearn\n",
        "from sklearn.metrics import confusion_matrix\n",
        "from sklearn.metrics import classification_report\n",
        " \n",
        "# actual values\n",
        "actual = testing_labels_final\n",
        "# predicted values\n",
        "predicted = model.predict(testing_padded)\n",
        "\n",
        "# confusion matrix\n",
        "matrix = confusion_matrix(actual,predicted, labels=[1,0])\n",
        "print('Confusion matrix : \\n',matrix)\n",
        "\n",
        "# outcome values order in sklearn\n",
        "tp, fn, fp, tn = confusion_matrix(actual,predicted,labels=[1,0]).reshape(-1)\n",
        "print('Outcome values : \\n', tp, fn, fp, tn)\n",
        "\n",
        "# classification report for precision, recall f1-score and accuracy\n",
        "matrix = classification_report(actual,predicted,labels=[1,0])\n",
        "print('Classification report : \\n',matrix)"
      ],
      "execution_count": 20,
      "outputs": [
        {
          "output_type": "stream",
          "name": "stdout",
          "text": [
            "Confusion matrix : \n",
            " [[247   0]\n",
            " [620   0]]\n",
            "Outcome values : \n",
            " 247 0 620 0\n",
            "Classification report : \n",
            "               precision    recall  f1-score   support\n",
            "\n",
            "           1       0.28      1.00      0.44       247\n",
            "           0       0.00      0.00      0.00       620\n",
            "\n",
            "    accuracy                           0.28       867\n",
            "   macro avg       0.14      0.50      0.22       867\n",
            "weighted avg       0.08      0.28      0.13       867\n",
            "\n"
          ]
        },
        {
          "output_type": "stream",
          "name": "stderr",
          "text": [
            "/usr/local/lib/python3.7/dist-packages/sklearn/metrics/_classification.py:1308: UndefinedMetricWarning: Precision and F-score are ill-defined and being set to 0.0 in labels with no predicted samples. Use `zero_division` parameter to control this behavior.\n",
            "  _warn_prf(average, modifier, msg_start, len(result))\n",
            "/usr/local/lib/python3.7/dist-packages/sklearn/metrics/_classification.py:1308: UndefinedMetricWarning: Precision and F-score are ill-defined and being set to 0.0 in labels with no predicted samples. Use `zero_division` parameter to control this behavior.\n",
            "  _warn_prf(average, modifier, msg_start, len(result))\n",
            "/usr/local/lib/python3.7/dist-packages/sklearn/metrics/_classification.py:1308: UndefinedMetricWarning: Precision and F-score are ill-defined and being set to 0.0 in labels with no predicted samples. Use `zero_division` parameter to control this behavior.\n",
            "  _warn_prf(average, modifier, msg_start, len(result))\n"
          ]
        }
      ]
    },
    {
      "cell_type": "markdown",
      "metadata": {
        "id": "YmmgzO1FOiPt"
      },
      "source": [
        "# LSTM multi class 2 layered"
      ]
    },
    {
      "cell_type": "code",
      "metadata": {
        "colab": {
          "base_uri": "https://localhost:8080/"
        },
        "id": "ru3En3gc1tZ2",
        "outputId": "527e4bda-a97e-4f8f-88b6-d383685e7ac4"
      },
      "source": [
        "import tensorflow as tf\n",
        "# model = tf.keras.Sequential([\n",
        "#     tf.keras.layers.Embedding(vocab_size, embedding_dim, input_length=max_length),\n",
        "#     tf.keras.layers.GlobalAveragePooling1D(),\n",
        "#     tf.keras.layers.Dense(6, activation='relu'),\n",
        "#     tf.keras.layers.Dense(1, activation='sigmoid')\n",
        "# ])\n",
        "\n",
        "model2 = Sequential()\n",
        "model2.add(Embedding(vocab_size, embedding_dim, input_length = max_length))\n",
        "# model.add(SpatialDropout1D(0.4))\n",
        "model2.add(LSTM(128, dropout=drop_val, recurrent_dropout=drop_val, activation='LeakyReLU', input_shape=(360,1), return_sequences=True))\n",
        "model2.add(LSTM(128, dropout=drop_val, recurrent_dropout=drop_val, activation='LeakyReLU', ))\n",
        "model2.add(Dense(36,activation='tanh'))\n",
        "model2.add(Dense(6,activation='sigmoid'))\n",
        "model2.compile(loss = tf.keras.losses.CategoricalCrossentropy(), optimizer='sgd', metrics = ['accuracy'])\n",
        "model2.summary()"
      ],
      "execution_count": 21,
      "outputs": [
        {
          "output_type": "stream",
          "name": "stdout",
          "text": [
            "Model: \"sequential_1\"\n",
            "_________________________________________________________________\n",
            " Layer (type)                Output Shape              Param #   \n",
            "=================================================================\n",
            " embedding_1 (Embedding)     (None, 120, 16)           151040    \n",
            "                                                                 \n",
            " lstm_2 (LSTM)               (None, 120, 128)          74240     \n",
            "                                                                 \n",
            " lstm_3 (LSTM)               (None, 128)               131584    \n",
            "                                                                 \n",
            " dense_2 (Dense)             (None, 36)                4644      \n",
            "                                                                 \n",
            " dense_3 (Dense)             (None, 6)                 222       \n",
            "                                                                 \n",
            "=================================================================\n",
            "Total params: 361,730\n",
            "Trainable params: 361,730\n",
            "Non-trainable params: 0\n",
            "_________________________________________________________________\n"
          ]
        }
      ]
    },
    {
      "cell_type": "code",
      "metadata": {
        "colab": {
          "base_uri": "https://localhost:8080/"
        },
        "id": "c2r-WkNjFMNY",
        "outputId": "3d6cd162-f010-4b77-8739-6bc36cedaa80"
      },
      "source": [
        "num_epochs = 20\n",
        "history2 = model2.fit(padded_mn, training_labels_final_mn, epochs=num_epochs, validation_data=(testing_padded_mn, testing_labels_final_mn))"
      ],
      "execution_count": 22,
      "outputs": [
        {
          "output_type": "stream",
          "name": "stdout",
          "text": [
            "Epoch 1/20\n",
            "21/21 [==============================] - 21s 728ms/step - loss: 1.9466 - accuracy: 0.7800 - val_loss: 1.6701 - val_accuracy: 0.8525\n",
            "Epoch 2/20\n",
            "21/21 [==============================] - 14s 681ms/step - loss: 1.5848 - accuracy: 0.8123 - val_loss: 1.3799 - val_accuracy: 0.8525\n",
            "Epoch 3/20\n",
            "21/21 [==============================] - 14s 689ms/step - loss: 1.3877 - accuracy: 0.8123 - val_loss: 1.2427 - val_accuracy: 0.8525\n",
            "Epoch 4/20\n",
            "21/21 [==============================] - 14s 684ms/step - loss: 1.3148 - accuracy: 0.8123 - val_loss: 1.2002 - val_accuracy: 0.8525\n",
            "Epoch 5/20\n",
            "21/21 [==============================] - 14s 679ms/step - loss: 1.2992 - accuracy: 0.8123 - val_loss: 1.1987 - val_accuracy: 0.8525\n",
            "Epoch 6/20\n",
            "21/21 [==============================] - 15s 693ms/step - loss: 1.3157 - accuracy: 0.8123 - val_loss: 1.1992 - val_accuracy: 0.8525\n",
            "Epoch 7/20\n",
            "21/21 [==============================] - 14s 681ms/step - loss: 1.3113 - accuracy: 0.8123 - val_loss: 1.2095 - val_accuracy: 0.8525\n",
            "Epoch 8/20\n",
            "21/21 [==============================] - 14s 683ms/step - loss: 1.3282 - accuracy: 0.8123 - val_loss: 1.2202 - val_accuracy: 0.8525\n",
            "Epoch 9/20\n",
            "21/21 [==============================] - 14s 687ms/step - loss: 1.3391 - accuracy: 0.8092 - val_loss: 1.2228 - val_accuracy: 0.8525\n",
            "Epoch 10/20\n",
            "21/21 [==============================] - 14s 681ms/step - loss: 1.2909 - accuracy: 0.8123 - val_loss: 1.1870 - val_accuracy: 0.8525\n",
            "Epoch 11/20\n",
            "21/21 [==============================] - 14s 683ms/step - loss: 1.2809 - accuracy: 0.8123 - val_loss: 1.1823 - val_accuracy: 0.8525\n",
            "Epoch 12/20\n",
            "21/21 [==============================] - 15s 696ms/step - loss: 1.2855 - accuracy: 0.8123 - val_loss: 1.1879 - val_accuracy: 0.8525\n",
            "Epoch 13/20\n",
            "21/21 [==============================] - 15s 699ms/step - loss: 1.2987 - accuracy: 0.8123 - val_loss: 1.1981 - val_accuracy: 0.8525\n",
            "Epoch 14/20\n",
            "21/21 [==============================] - 15s 693ms/step - loss: 1.3056 - accuracy: 0.8123 - val_loss: 1.2097 - val_accuracy: 0.8525\n",
            "Epoch 15/20\n",
            "21/21 [==============================] - 15s 695ms/step - loss: 1.3110 - accuracy: 0.8123 - val_loss: 1.2272 - val_accuracy: 0.8525\n",
            "Epoch 16/20\n",
            "21/21 [==============================] - 15s 696ms/step - loss: 1.3335 - accuracy: 0.8123 - val_loss: 1.2441 - val_accuracy: 0.8525\n",
            "Epoch 17/20\n",
            "21/21 [==============================] - 15s 693ms/step - loss: 1.3551 - accuracy: 0.8123 - val_loss: 1.2810 - val_accuracy: 0.8525\n",
            "Epoch 18/20\n",
            "21/21 [==============================] - 14s 692ms/step - loss: 1.4092 - accuracy: 0.8123 - val_loss: 1.3148 - val_accuracy: 0.8525\n",
            "Epoch 19/20\n",
            "21/21 [==============================] - 14s 687ms/step - loss: 1.3177 - accuracy: 0.8123 - val_loss: 1.2035 - val_accuracy: 0.8525\n",
            "Epoch 20/20\n",
            "21/21 [==============================] - 15s 712ms/step - loss: 1.2707 - accuracy: 0.8123 - val_loss: 1.1791 - val_accuracy: 0.8525\n"
          ]
        }
      ]
    },
    {
      "cell_type": "code",
      "metadata": {
        "colab": {
          "base_uri": "https://localhost:8080/",
          "height": 535
        },
        "id": "VTH5un8DFSmt",
        "outputId": "526693bd-53fb-4442-d3c7-5c58bc8b5eca"
      },
      "source": [
        "import matplotlib.pyplot as plt\n",
        "import numpy as np\n",
        "# plot the training loss and accuracy\n",
        "plt.rcParams[\"figure.figsize\"] = (12,8)\n",
        "N = np.arange(0, 20)\n",
        "plt.style.use(\"ggplot\")\n",
        "plt.figure()\n",
        "plt.plot(N, history2.history[\"loss\"], label=\"train_loss\")\n",
        "plt.plot(N, history2.history[\"val_loss\"], label=\"val_loss\")\n",
        "plt.plot(N, history2.history['accuracy'], label=\"accuracy\")\n",
        "plt.plot(N, history2.history[\"val_accuracy\"], label=\"val_accuracy\")\n",
        "plt.title(\"Training Loss and Accuracy (1 Layered LSTM, Dropout=\"+str(drop_val)+')')\n",
        "plt.xlabel(\"Epoch #\")\n",
        "plt.ylabel(\"Loss/Accuracy\")\n",
        "plt.legend()"
      ],
      "execution_count": 23,
      "outputs": [
        {
          "output_type": "execute_result",
          "data": {
            "text/plain": [
              "<matplotlib.legend.Legend at 0x7fa48357f250>"
            ]
          },
          "metadata": {},
          "execution_count": 23
        },
        {
          "output_type": "display_data",
          "data": {
            "image/png": "[encoded data removed]",
            "text/plain": [
              "<Figure size 864x576 with 1 Axes>"
            ]
          },
          "metadata": {}
        }
      ]
    },
    {
      "cell_type": "markdown",
      "metadata": {
        "id": "gIZPva06e-0A"
      },
      "source": [
        "# Vanilla RNN"
      ]
    },
    {
      "cell_type": "code",
      "metadata": {
        "id": "HrSDWK15YgSn",
        "colab": {
          "base_uri": "https://localhost:8080/"
        },
        "outputId": "a4efafb9-3518-4b2b-beb2-af986cb4cffc"
      },
      "source": [
        "# model3 = Sequential()\n",
        "# model3.add(Embedding(vocab_size, embedding_dim, input_length = max_length))\n",
        "# # model.add(SpatialDropout1D(0.4))\n",
        "# model3.add(Dense(256,activation='relu'))\n",
        "# model3.add(Dense(128,activation='tanh'))\n",
        "# model3.add(Dense(1,activation='sigmoid'))\n",
        "# model3.compile(loss = 'binary_crossentropy', optimizer='adam', metrics = ['accuracy'])\n",
        "# model3.summary()\n",
        "import tensorflow as tf\n",
        "model3 = tf.keras.Sequential([\n",
        "    tf.keras.layers.Embedding(vocab_size, embedding_dim, input_length=max_length),\n",
        "    tf.keras.layers.GlobalAveragePooling1D(),\n",
        "    tf.keras.layers.Dense(128, activation='relu'),\n",
        "    tf.keras.layers.Dense(128, activation='relu'),\n",
        "    tf.keras.layers.Dense(1, activation='sigmoid')\n",
        "])\n",
        "model3.compile(loss = 'binary_crossentropy', optimizer='adam', metrics = ['accuracy'])\n",
        "model3.summary()"
      ],
      "execution_count": 24,
      "outputs": [
        {
          "output_type": "stream",
          "name": "stdout",
          "text": [
            "Model: \"sequential_2\"\n",
            "_________________________________________________________________\n",
            " Layer (type)                Output Shape              Param #   \n",
            "=================================================================\n",
            " embedding_2 (Embedding)     (None, 120, 16)           151040    \n",
            "                                                                 \n",
            " global_average_pooling1d (G  (None, 16)               0         \n",
            " lobalAveragePooling1D)                                          \n",
            "                                                                 \n",
            " dense_4 (Dense)             (None, 128)               2176      \n",
            "                                                                 \n",
            " dense_5 (Dense)             (None, 128)               16512     \n",
            "                                                                 \n",
            " dense_6 (Dense)             (None, 1)                 129       \n",
            "                                                                 \n",
            "=================================================================\n",
            "Total params: 169,857\n",
            "Trainable params: 169,857\n",
            "Non-trainable params: 0\n",
            "_________________________________________________________________\n"
          ]
        }
      ]
    },
    {
      "cell_type": "code",
      "metadata": {
        "colab": {
          "base_uri": "https://localhost:8080/"
        },
        "id": "_yU2CW-Qfcnd",
        "outputId": "b1b66ec2-9372-4abd-d9f3-5e14ab36dcfb"
      },
      "source": [
        "training_labels_final = np.array(y_train)\n",
        "testing_labels_final = np.array(y_test)\n",
        "num_epochs = 20\n",
        "history3 = model3.fit(padded, training_labels_final, epochs=num_epochs, validation_data=(testing_padded, testing_labels_final))"
      ],
      "execution_count": 25,
      "outputs": [
        {
          "output_type": "stream",
          "name": "stdout",
          "text": [
            "Epoch 1/20\n",
            "82/82 [==============================] - 1s 8ms/step - loss: 0.5794 - accuracy: 0.7616 - val_loss: 0.6022 - val_accuracy: 0.7151\n",
            "Epoch 2/20\n",
            "82/82 [==============================] - 0s 6ms/step - loss: 0.5484 - accuracy: 0.7616 - val_loss: 0.6046 - val_accuracy: 0.7151\n",
            "Epoch 3/20\n",
            "82/82 [==============================] - 0s 6ms/step - loss: 0.5454 - accuracy: 0.7616 - val_loss: 0.6112 - val_accuracy: 0.7151\n",
            "Epoch 4/20\n",
            "82/82 [==============================] - 1s 7ms/step - loss: 0.5418 - accuracy: 0.7616 - val_loss: 0.6062 - val_accuracy: 0.7151\n",
            "Epoch 5/20\n",
            "82/82 [==============================] - 0s 6ms/step - loss: 0.5256 - accuracy: 0.7616 - val_loss: 0.5888 - val_accuracy: 0.7151\n",
            "Epoch 6/20\n",
            "82/82 [==============================] - 0s 6ms/step - loss: 0.4626 - accuracy: 0.7724 - val_loss: 0.5962 - val_accuracy: 0.7209\n",
            "Epoch 7/20\n",
            "82/82 [==============================] - 0s 5ms/step - loss: 0.3225 - accuracy: 0.8620 - val_loss: 0.7450 - val_accuracy: 0.7082\n",
            "Epoch 8/20\n",
            "82/82 [==============================] - 0s 6ms/step - loss: 0.1965 - accuracy: 0.9270 - val_loss: 0.8280 - val_accuracy: 0.6967\n",
            "Epoch 9/20\n",
            "82/82 [==============================] - 0s 6ms/step - loss: 0.1250 - accuracy: 0.9596 - val_loss: 0.9885 - val_accuracy: 0.6920\n",
            "Epoch 10/20\n",
            "82/82 [==============================] - 0s 5ms/step - loss: 0.0968 - accuracy: 0.9654 - val_loss: 1.0837 - val_accuracy: 0.6920\n",
            "Epoch 11/20\n",
            "82/82 [==============================] - 0s 5ms/step - loss: 0.0627 - accuracy: 0.9831 - val_loss: 1.1614 - val_accuracy: 0.6874\n",
            "Epoch 12/20\n",
            "82/82 [==============================] - 0s 5ms/step - loss: 0.0499 - accuracy: 0.9846 - val_loss: 1.2100 - val_accuracy: 0.6517\n",
            "Epoch 13/20\n",
            "82/82 [==============================] - 0s 6ms/step - loss: 0.0392 - accuracy: 0.9892 - val_loss: 1.3351 - val_accuracy: 0.6840\n",
            "Epoch 14/20\n",
            "82/82 [==============================] - 0s 5ms/step - loss: 0.0278 - accuracy: 0.9915 - val_loss: 1.4079 - val_accuracy: 0.6851\n",
            "Epoch 15/20\n",
            "82/82 [==============================] - 0s 5ms/step - loss: 0.0220 - accuracy: 0.9954 - val_loss: 1.4651 - val_accuracy: 0.6851\n",
            "Epoch 16/20\n",
            "82/82 [==============================] - 0s 6ms/step - loss: 0.0228 - accuracy: 0.9931 - val_loss: 1.5370 - val_accuracy: 0.6770\n",
            "Epoch 17/20\n",
            "82/82 [==============================] - 0s 5ms/step - loss: 0.0164 - accuracy: 0.9962 - val_loss: 1.7651 - val_accuracy: 0.6886\n",
            "Epoch 18/20\n",
            "82/82 [==============================] - 0s 6ms/step - loss: 0.0183 - accuracy: 0.9958 - val_loss: 1.6518 - val_accuracy: 0.6794\n",
            "Epoch 19/20\n",
            "82/82 [==============================] - 0s 6ms/step - loss: 0.0162 - accuracy: 0.9958 - val_loss: 1.6925 - val_accuracy: 0.6747\n",
            "Epoch 20/20\n",
            "82/82 [==============================] - 0s 6ms/step - loss: 0.0191 - accuracy: 0.9942 - val_loss: 1.7767 - val_accuracy: 0.6817\n"
          ]
        }
      ]
    },
    {
      "cell_type": "code",
      "metadata": {
        "colab": {
          "base_uri": "https://localhost:8080/",
          "height": 0
        },
        "id": "Fb7IlUP6hja1",
        "outputId": "e0ab2342-1aa9-4ff3-da97-a22d74a62dcb"
      },
      "source": [
        "import matplotlib.pyplot as plt\n",
        "import numpy as np\n",
        "# plot the training loss and accuracy\n",
        "plt.rcParams[\"figure.figsize\"] = (12,8)\n",
        "N = np.arange(0, 20)\n",
        "plt.style.use(\"ggplot\")\n",
        "plt.figure()\n",
        "plt.plot(N, history3.history[\"loss\"], label=\"train_loss\")\n",
        "plt.plot(N, history3.history[\"val_loss\"], label=\"val_loss\")\n",
        "plt.plot(N, history3.history['accuracy'], label=\"accuracy\")\n",
        "plt.plot(N, history3.history[\"val_accuracy\"], label=\"val_accuracy\")\n",
        "plt.title(\"Training Loss and Accuracy (2 Layered LSTM, Dropout=\"+str(drop_val)+')')\n",
        "plt.xlabel(\"Epoch #\")\n",
        "plt.ylabel(\"Loss/Accuracy\")\n",
        "plt.legend()"
      ],
      "execution_count": 26,
      "outputs": [
        {
          "output_type": "execute_result",
          "data": {
            "text/plain": [
              "<matplotlib.legend.Legend at 0x7fa484dd97d0>"
            ]
          },
          "metadata": {},
          "execution_count": 26
        },
        {
          "output_type": "display_data",
          "data": {
            "image/png": "[encoded data removed]",
            "text/plain": [
              "<Figure size 864x576 with 1 Axes>"
            ]
          },
          "metadata": {}
        }
      ]
    },
    {
      "cell_type": "code",
      "metadata": {
        "colab": {
          "base_uri": "https://localhost:8080/"
        },
        "id": "CoBbKXc10GR2",
        "outputId": "d7c3744f-419e-4d0b-9907-c2302f1ba857"
      },
      "source": [
        "# confusion matrix in sklearn\n",
        "from sklearn.metrics import confusion_matrix\n",
        "from sklearn.metrics import classification_report\n",
        " \n",
        "# actual values\n",
        "actual = testing_labels_final\n",
        "# predicted values\n",
        "predicted = model3.predict(testing_padded)\n",
        "\n",
        "# confusion matrix\n",
        "matrix = confusion_matrix(actual,np.array([int((val-0.5)>0) for val in predicted]), labels=[1,0])\n",
        "print('Confusion matrix : \\n',matrix)\n",
        "\n",
        "# outcome values order in sklearn\n",
        "tp, fn, fp, tn = confusion_matrix(actual,np.array([int((val-0.5)>0) for val in predicted]),labels=[1,0]).reshape(-1)\n",
        "print('Outcome values (tp, fn, fp, tn): \\n', tp, fn, fp, tn)\n",
        "\n",
        "# classification report for precision, recall f1-score and accuracy\n",
        "matrix = classification_report(actual,np.array([int((val-0.5)>0) for val in predicted]),labels=[1,0])\n",
        "print('Classification report : \\n',matrix)"
      ],
      "execution_count": 27,
      "outputs": [
        {
          "output_type": "stream",
          "name": "stdout",
          "text": [
            "Confusion matrix : \n",
            " [[ 57 190]\n",
            " [ 86 534]]\n",
            "Outcome values (tp, fn, fp, tn): \n",
            " 57 190 86 534\n",
            "Classification report : \n",
            "               precision    recall  f1-score   support\n",
            "\n",
            "           1       0.40      0.23      0.29       247\n",
            "           0       0.74      0.86      0.79       620\n",
            "\n",
            "    accuracy                           0.68       867\n",
            "   macro avg       0.57      0.55      0.54       867\n",
            "weighted avg       0.64      0.68      0.65       867\n",
            "\n"
          ]
        }
      ]
    },
    {
      "cell_type": "markdown",
      "metadata": {
        "id": "UaizaW1NPYi5"
      },
      "source": [
        "# Vanilla RNN multiclass"
      ]
    },
    {
      "cell_type": "code",
      "metadata": {
        "colab": {
          "base_uri": "https://localhost:8080/"
        },
        "id": "oh7j2K1b0xC8",
        "outputId": "78c3e4e8-10c0-4d13-9556-499cf79cc570"
      },
      "source": [
        "model4 = tf.keras.Sequential([\n",
        "    tf.keras.layers.Embedding(vocab_size, embedding_dim, input_length=max_length),\n",
        "    tf.keras.layers.GlobalAveragePooling1D(),\n",
        "    tf.keras.layers.Dense(128, activation='relu'),\n",
        "    tf.keras.layers.Dense(128, activation='relu'),\n",
        "    tf.keras.layers.Dense(6, activation='sigmoid')\n",
        "])\n",
        "model4.compile(loss = 'categorical_crossentropy', optimizer='adam', metrics = ['accuracy'])\n",
        "model4.summary()"
      ],
      "execution_count": 28,
      "outputs": [
        {
          "output_type": "stream",
          "name": "stdout",
          "text": [
            "Model: \"sequential_3\"\n",
            "_________________________________________________________________\n",
            " Layer (type)                Output Shape              Param #   \n",
            "=================================================================\n",
            " embedding_3 (Embedding)     (None, 120, 16)           151040    \n",
            "                                                                 \n",
            " global_average_pooling1d_1   (None, 16)               0         \n",
            " (GlobalAveragePooling1D)                                        \n",
            "                                                                 \n",
            " dense_7 (Dense)             (None, 128)               2176      \n",
            "                                                                 \n",
            " dense_8 (Dense)             (None, 128)               16512     \n",
            "                                                                 \n",
            " dense_9 (Dense)             (None, 6)                 774       \n",
            "                                                                 \n",
            "=================================================================\n",
            "Total params: 170,502\n",
            "Trainable params: 170,502\n",
            "Non-trainable params: 0\n",
            "_________________________________________________________________\n"
          ]
        }
      ]
    },
    {
      "cell_type": "code",
      "metadata": {
        "id": "Xg-69r9G70xO",
        "colab": {
          "base_uri": "https://localhost:8080/"
        },
        "outputId": "f5564da8-0c3e-43a5-efed-ea216e5b57bc"
      },
      "source": [
        "X_train_mn, X_test_mn, y_train_mn, y_test_mn = train_test_split(df.loc[df['sarcastic']==1, 'tweet'].values, df.loc[df['sarcastic']==1, ['sarcasm', 'irony', 'satire', 'understatement', 'overstatement', 'rhetorical_question']], test_size = 0.25, random_state = 42)\n",
        "training_labels_final_mn = np.array(y_train_mn)\n",
        "testing_labels_final_mn = np.array(y_test_mn)\n",
        "# print(testing_labels_final_mn)\n",
        "print('labels shape',testing_labels_final_mn.shape)\n",
        "num_epochs = 20\n",
        "vocab_size = 9440\n",
        "embedding_dim = 16\n",
        "max_length = 120\n",
        "trunc_type = 'post'\n",
        "oov_tok = '<OOV>'\n",
        "padding_type = 'post'\n",
        "tokenizer_mn = Tokenizer(num_words=vocab_size, oov_token=oov_tok)\n",
        "tokenizer_mn.fit_on_texts(X_train_mn)\n",
        "word_index_mn = tokenizer_mn.word_index\n",
        "sequences_mn = tokenizer_mn.texts_to_sequences(X_train_mn)\n",
        "padded_mn = pad_sequences(sequences_mn, maxlen=max_length, truncating=trunc_type)\n",
        "testing_sentences_mn = tokenizer_mn.texts_to_sequences(X_test_mn)\n",
        "testing_padded_mn = pad_sequences(testing_sentences_mn, maxlen=max_length)"
      ],
      "execution_count": 29,
      "outputs": [
        {
          "output_type": "stream",
          "name": "stdout",
          "text": [
            "labels shape (217, 6)\n"
          ]
        }
      ]
    },
    {
      "cell_type": "code",
      "metadata": {
        "colab": {
          "base_uri": "https://localhost:8080/"
        },
        "id": "NjHEzqUl4JE0",
        "outputId": "5116eb93-807d-4ba9-be31-303d0987fa61"
      },
      "source": [
        "history4 = model4.fit(padded_mn, training_labels_final_mn, epochs=num_epochs, validation_data=(testing_padded_mn, testing_labels_final_mn))"
      ],
      "execution_count": 30,
      "outputs": [
        {
          "output_type": "stream",
          "name": "stdout",
          "text": [
            "Epoch 1/20\n",
            "21/21 [==============================] - 1s 15ms/step - loss: 2.0139 - accuracy: 0.8123 - val_loss: 1.7196 - val_accuracy: 0.8525\n",
            "Epoch 2/20\n",
            "21/21 [==============================] - 0s 6ms/step - loss: 1.4786 - accuracy: 0.8123 - val_loss: 1.2092 - val_accuracy: 0.8525\n",
            "Epoch 3/20\n",
            "21/21 [==============================] - 0s 7ms/step - loss: 1.3895 - accuracy: 0.8123 - val_loss: 1.2133 - val_accuracy: 0.8525\n",
            "Epoch 4/20\n",
            "21/21 [==============================] - 0s 7ms/step - loss: 1.3033 - accuracy: 0.8123 - val_loss: 1.2259 - val_accuracy: 0.8525\n",
            "Epoch 5/20\n",
            "21/21 [==============================] - 0s 7ms/step - loss: 1.3667 - accuracy: 0.8123 - val_loss: 1.3303 - val_accuracy: 0.8525\n",
            "Epoch 6/20\n",
            "21/21 [==============================] - 0s 5ms/step - loss: 1.5140 - accuracy: 0.8123 - val_loss: 1.5134 - val_accuracy: 0.8525\n",
            "Epoch 7/20\n",
            "21/21 [==============================] - 0s 8ms/step - loss: 1.7394 - accuracy: 0.8123 - val_loss: 1.9488 - val_accuracy: 0.8525\n",
            "Epoch 8/20\n",
            "21/21 [==============================] - 0s 6ms/step - loss: 2.2881 - accuracy: 0.8123 - val_loss: 2.6562 - val_accuracy: 0.8525\n",
            "Epoch 9/20\n",
            "21/21 [==============================] - 0s 7ms/step - loss: 3.2263 - accuracy: 0.8123 - val_loss: 3.9051 - val_accuracy: 0.8525\n",
            "Epoch 10/20\n",
            "21/21 [==============================] - 0s 6ms/step - loss: 4.4867 - accuracy: 0.8123 - val_loss: 5.2809 - val_accuracy: 0.8525\n",
            "Epoch 11/20\n",
            "21/21 [==============================] - 0s 6ms/step - loss: 5.8581 - accuracy: 0.8123 - val_loss: 6.6032 - val_accuracy: 0.8525\n",
            "Epoch 12/20\n",
            "21/21 [==============================] - 0s 7ms/step - loss: 7.4079 - accuracy: 0.7385 - val_loss: 7.5027 - val_accuracy: 0.8525\n",
            "Epoch 13/20\n",
            "21/21 [==============================] - 0s 7ms/step - loss: 7.8935 - accuracy: 0.8123 - val_loss: 8.7232 - val_accuracy: 0.0000e+00\n",
            "Epoch 14/20\n",
            "21/21 [==============================] - 0s 7ms/step - loss: 9.0185 - accuracy: 0.7723 - val_loss: 9.6701 - val_accuracy: 0.8525\n",
            "Epoch 15/20\n",
            "21/21 [==============================] - 0s 8ms/step - loss: 9.2030 - accuracy: 0.6277 - val_loss: 11.8472 - val_accuracy: 0.8525\n",
            "Epoch 16/20\n",
            "21/21 [==============================] - 0s 6ms/step - loss: 10.3563 - accuracy: 0.6631 - val_loss: 14.9444 - val_accuracy: 0.8525\n",
            "Epoch 17/20\n",
            "21/21 [==============================] - 0s 7ms/step - loss: 14.3469 - accuracy: 0.7138 - val_loss: 22.0984 - val_accuracy: 0.1475\n",
            "Epoch 18/20\n",
            "21/21 [==============================] - 0s 6ms/step - loss: 20.8210 - accuracy: 0.6031 - val_loss: 17.2515 - val_accuracy: 0.8525\n",
            "Epoch 19/20\n",
            "21/21 [==============================] - 0s 7ms/step - loss: 20.9513 - accuracy: 0.6354 - val_loss: 26.4714 - val_accuracy: 0.1475\n",
            "Epoch 20/20\n",
            "21/21 [==============================] - 0s 7ms/step - loss: 23.5544 - accuracy: 0.6677 - val_loss: 19.3309 - val_accuracy: 0.8525\n"
          ]
        }
      ]
    },
    {
      "cell_type": "code",
      "metadata": {
        "colab": {
          "base_uri": "https://localhost:8080/",
          "height": 0
        },
        "id": "955W583c4ZzC",
        "outputId": "e9c0f05f-caf9-4ab0-f88c-55e5387805cc"
      },
      "source": [
        "import matplotlib.pyplot as plt\n",
        "import numpy as np\n",
        "# plot the training loss and accuracy\n",
        "plt.rcParams[\"figure.figsize\"] = (12,8)\n",
        "N = np.arange(0, 20)\n",
        "plt.style.use(\"ggplot\")\n",
        "plt.figure()\n",
        "plt.plot(N, history4.history[\"loss\"], label=\"train_loss\")\n",
        "plt.plot(N, history4.history[\"val_loss\"], label=\"val_loss\")\n",
        "plt.plot(N, history4.history['accuracy'], label=\"accuracy\")\n",
        "plt.plot(N, history4.history[\"val_accuracy\"], label=\"val_accuracy\")\n",
        "plt.title(\"Training Loss and Accuracy (2 Layered RNN, Dropout=\"+str(drop_val)+')')\n",
        "plt.xlabel(\"Epoch #\")\n",
        "plt.ylabel(\"Loss/Accuracy\")\n",
        "plt.legend()"
      ],
      "execution_count": 31,
      "outputs": [
        {
          "output_type": "execute_result",
          "data": {
            "text/plain": [
              "<matplotlib.legend.Legend at 0x7fa484b51490>"
            ]
          },
          "metadata": {},
          "execution_count": 31
        },
        {
          "output_type": "display_data",
          "data": {
            "image/png": "[encoded data removed]",
            "text/plain": [
              "<Figure size 864x576 with 1 Axes>"
            ]
          },
          "metadata": {}
        }
      ]
    },
    {
      "cell_type": "markdown",
      "metadata": {
        "id": "N7qnTsv2_qqY"
      },
      "source": [
        "# GRU 2 layered binary"
      ]
    },
    {
      "cell_type": "code",
      "metadata": {
        "colab": {
          "base_uri": "https://localhost:8080/"
        },
        "id": "r9UJQ-l0DYKN",
        "outputId": "d1f05ba4-c384-44a1-d50d-7b8e449bcbb7"
      },
      "source": [
        "model5 = Sequential()\n",
        "model5.add(Embedding(vocab_size, embedding_dim, input_length = max_length))\n",
        "# model.add(SpatialDropout1D(0.4))\n",
        "model5.add(GRU(128, dropout=drop_val, recurrent_dropout=drop_val, activation='LeakyReLU', input_shape=(360,1), return_sequences=True))\n",
        "model5.add(GRU(128, dropout=drop_val, recurrent_dropout=drop_val, activation='LeakyReLU', ))\n",
        "model5.add(Dense(36,activation='tanh'))\n",
        "model5.add(Dense(1,activation='sigmoid'))\n",
        "model5.compile(loss = 'binary_crossentropy', optimizer='adam', metrics = ['accuracy'])\n",
        "model5.summary()\n"
      ],
      "execution_count": 32,
      "outputs": [
        {
          "output_type": "stream",
          "name": "stdout",
          "text": [
            "Model: \"sequential_4\"\n",
            "_________________________________________________________________\n",
            " Layer (type)                Output Shape              Param #   \n",
            "=================================================================\n",
            " embedding_4 (Embedding)     (None, 120, 16)           151040    \n",
            "                                                                 \n",
            " gru (GRU)                   (None, 120, 128)          56064     \n",
            "                                                                 \n",
            " gru_1 (GRU)                 (None, 128)               99072     \n",
            "                                                                 \n",
            " dense_10 (Dense)            (None, 36)                4644      \n",
            "                                                                 \n",
            " dense_11 (Dense)            (None, 1)                 37        \n",
            "                                                                 \n",
            "=================================================================\n",
            "Total params: 310,857\n",
            "Trainable params: 310,857\n",
            "Non-trainable params: 0\n",
            "_________________________________________________________________\n"
          ]
        }
      ]
    },
    {
      "cell_type": "code",
      "metadata": {
        "colab": {
          "base_uri": "https://localhost:8080/"
        },
        "id": "8GEcG-SvEFt1",
        "outputId": "dc65d051-d153-4b40-ff41-e0cf51823964"
      },
      "source": [
        "training_labels_final = np.array(y_train)\n",
        "testing_labels_final = np.array(y_test)\n",
        "num_epochs = 20\n",
        "history5 = model5.fit(padded, training_labels_final, epochs=num_epochs, validation_data=(testing_padded, testing_labels_final))"
      ],
      "execution_count": 33,
      "outputs": [
        {
          "output_type": "stream",
          "name": "stdout",
          "text": [
            "Epoch 1/20\n",
            "82/82 [==============================] - 55s 602ms/step - loss: 0.5701 - accuracy: 0.7566 - val_loss: 0.5973 - val_accuracy: 0.7151\n",
            "Epoch 2/20\n",
            "82/82 [==============================] - 50s 608ms/step - loss: 0.5447 - accuracy: 0.7616 - val_loss: 0.5982 - val_accuracy: 0.7151\n",
            "Epoch 3/20\n",
            "82/82 [==============================] - 49s 600ms/step - loss: 0.5024 - accuracy: 0.7674 - val_loss: 0.6058 - val_accuracy: 0.6943\n",
            "Epoch 4/20\n",
            "82/82 [==============================] - 49s 598ms/step - loss: 0.4094 - accuracy: 0.8155 - val_loss: 0.7451 - val_accuracy: 0.6770\n",
            "Epoch 5/20\n",
            "82/82 [==============================] - 49s 594ms/step - loss: 0.2903 - accuracy: 0.8789 - val_loss: 0.7927 - val_accuracy: 0.6724\n",
            "Epoch 6/20\n",
            "82/82 [==============================] - 49s 592ms/step - loss: 0.2288 - accuracy: 0.9093 - val_loss: 0.8143 - val_accuracy: 0.7024\n",
            "Epoch 7/20\n",
            "82/82 [==============================] - 49s 594ms/step - loss: 0.1604 - accuracy: 0.9400 - val_loss: 0.8276 - val_accuracy: 0.6609\n",
            "Epoch 8/20\n",
            "82/82 [==============================] - 49s 594ms/step - loss: 0.1287 - accuracy: 0.9485 - val_loss: 1.2707 - val_accuracy: 0.5894\n",
            "Epoch 9/20\n",
            "82/82 [==============================] - 49s 597ms/step - loss: 0.1210 - accuracy: 0.9600 - val_loss: 1.2651 - val_accuracy: 0.6690\n",
            "Epoch 10/20\n",
            "82/82 [==============================] - 49s 599ms/step - loss: 0.0911 - accuracy: 0.9654 - val_loss: 1.2749 - val_accuracy: 0.6736\n",
            "Epoch 11/20\n",
            "82/82 [==============================] - 49s 601ms/step - loss: 0.0605 - accuracy: 0.9773 - val_loss: 1.2953 - val_accuracy: 0.6517\n",
            "Epoch 12/20\n",
            "82/82 [==============================] - 50s 611ms/step - loss: 0.0649 - accuracy: 0.9792 - val_loss: 1.2252 - val_accuracy: 0.6551\n",
            "Epoch 13/20\n",
            "82/82 [==============================] - 50s 608ms/step - loss: 0.0568 - accuracy: 0.9800 - val_loss: 1.4141 - val_accuracy: 0.6528\n",
            "Epoch 14/20\n",
            "82/82 [==============================] - 49s 592ms/step - loss: 0.0472 - accuracy: 0.9819 - val_loss: 1.4595 - val_accuracy: 0.6482\n",
            "Epoch 15/20\n",
            "82/82 [==============================] - 49s 597ms/step - loss: 0.0489 - accuracy: 0.9831 - val_loss: 1.5903 - val_accuracy: 0.6655\n",
            "Epoch 16/20\n",
            "82/82 [==============================] - 49s 601ms/step - loss: 0.0384 - accuracy: 0.9869 - val_loss: 1.6022 - val_accuracy: 0.6644\n",
            "Epoch 17/20\n",
            "82/82 [==============================] - 49s 598ms/step - loss: 0.0484 - accuracy: 0.9827 - val_loss: 1.4801 - val_accuracy: 0.6597\n",
            "Epoch 18/20\n",
            "82/82 [==============================] - 49s 594ms/step - loss: 0.0379 - accuracy: 0.9865 - val_loss: 1.6682 - val_accuracy: 0.5917\n",
            "Epoch 19/20\n",
            "82/82 [==============================] - 48s 590ms/step - loss: 0.0328 - accuracy: 0.9877 - val_loss: 1.7796 - val_accuracy: 0.6159\n",
            "Epoch 20/20\n",
            "82/82 [==============================] - 49s 595ms/step - loss: 0.0285 - accuracy: 0.9877 - val_loss: 1.8196 - val_accuracy: 0.6309\n"
          ]
        }
      ]
    },
    {
      "cell_type": "code",
      "metadata": {
        "colab": {
          "base_uri": "https://localhost:8080/",
          "height": 535
        },
        "id": "npF-fdFfEYGk",
        "outputId": "6a5bcb13-75c6-4783-af70-793ff3658104"
      },
      "source": [
        "import matplotlib.pyplot as plt\n",
        "import numpy as np\n",
        "# plot the training loss and accuracy\n",
        "plt.rcParams[\"figure.figsize\"] = (12,8)\n",
        "N = np.arange(0, 20)\n",
        "plt.style.use(\"ggplot\")\n",
        "plt.figure()\n",
        "plt.plot(N, history5.history[\"loss\"], label=\"train_loss\")\n",
        "plt.plot(N, history5.history[\"val_loss\"], label=\"val_loss\")\n",
        "plt.plot(N, history5.history['accuracy'], label=\"accuracy\")\n",
        "plt.plot(N, history5.history[\"val_accuracy\"], label=\"val_accuracy\")\n",
        "plt.title(\"Training Loss and Accuracy (2 Layered GRU, Dropout=\"+str(drop_val)+')')\n",
        "plt.xlabel(\"Epoch #\")\n",
        "plt.ylabel(\"Loss/Accuracy\")\n",
        "plt.legend()"
      ],
      "execution_count": 34,
      "outputs": [
        {
          "output_type": "execute_result",
          "data": {
            "text/plain": [
              "<matplotlib.legend.Legend at 0x7fa48043ea90>"
            ]
          },
          "metadata": {},
          "execution_count": 34
        },
        {
          "output_type": "display_data",
          "data": {
            "image/png": "[encoded data removed]",
            "text/plain": [
              "<Figure size 864x576 with 1 Axes>"
            ]
          },
          "metadata": {}
        }
      ]
    },
    {
      "cell_type": "code",
      "metadata": {
        "colab": {
          "base_uri": "https://localhost:8080/"
        },
        "id": "zO0CeL4HEivj",
        "outputId": "fc4f7151-00bf-402b-b4a7-d5533a7152eb"
      },
      "source": [
        "# confusion matrix in sklearn\n",
        "from sklearn.metrics import confusion_matrix\n",
        "from sklearn.metrics import classification_report\n",
        " \n",
        "# actual values\n",
        "actual = testing_labels_final\n",
        "# predicted values\n",
        "predicted = model5.predict(testing_padded)\n",
        "\n",
        "# confusion matrix\n",
        "matrix = confusion_matrix(actual,np.array([int((val-0.5)>0) for val in predicted]), labels=[1,0])\n",
        "print('Confusion matrix : \\n',matrix)\n",
        "\n",
        "# outcome values order in sklearn\n",
        "tp, fn, fp, tn = confusion_matrix(actual,np.array([int((val-0.5)>0) for val in predicted]),labels=[1,0]).reshape(-1)\n",
        "print('Outcome values (tp, fn, fp, tn): \\n', tp, fn, fp, tn)\n",
        "\n",
        "# classification report for precision, recall f1-score and accuracy\n",
        "matrix = classification_report(actual,np.array([int((val-0.5)>0) for val in predicted]),labels=[1,0])\n",
        "print('Classification report : \\n',matrix)"
      ],
      "execution_count": 35,
      "outputs": [
        {
          "output_type": "stream",
          "name": "stdout",
          "text": [
            "Confusion matrix : \n",
            " [[ 76 171]\n",
            " [149 471]]\n",
            "Outcome values (tp, fn, fp, tn): \n",
            " 76 171 149 471\n",
            "Classification report : \n",
            "               precision    recall  f1-score   support\n",
            "\n",
            "           1       0.34      0.31      0.32       247\n",
            "           0       0.73      0.76      0.75       620\n",
            "\n",
            "    accuracy                           0.63       867\n",
            "   macro avg       0.54      0.53      0.53       867\n",
            "weighted avg       0.62      0.63      0.63       867\n",
            "\n"
          ]
        }
      ]
    },
    {
      "cell_type": "markdown",
      "metadata": {
        "id": "jF4JTwI8Eygq"
      },
      "source": [
        "# GRU 2 Layered Multiclass"
      ]
    },
    {
      "cell_type": "code",
      "metadata": {
        "colab": {
          "base_uri": "https://localhost:8080/"
        },
        "id": "8dHlyX9CEuly",
        "outputId": "9bfa848b-cdaa-426a-c82a-f7998144159e"
      },
      "source": [
        "model6 = Sequential()\n",
        "model6.add(Embedding(vocab_size, embedding_dim, input_length = max_length))\n",
        "# model.add(SpatialDropout1D(0.4))\n",
        "model6.add(GRU(128, dropout=drop_val, recurrent_dropout=drop_val, activation='LeakyReLU', input_shape=(360,1), return_sequences=True))\n",
        "model6.add(GRU(128, dropout=drop_val, recurrent_dropout=drop_val, activation='LeakyReLU', ))\n",
        "model6.add(Dense(36,activation='tanh'))\n",
        "model6.add(Dense(6,activation='sigmoid'))\n",
        "model6.compile(loss = tf.keras.losses.CategoricalCrossentropy(), optimizer='adam', metrics = ['accuracy'])\n",
        "model6.summary()"
      ],
      "execution_count": 36,
      "outputs": [
        {
          "output_type": "stream",
          "name": "stdout",
          "text": [
            "Model: \"sequential_5\"\n",
            "_________________________________________________________________\n",
            " Layer (type)                Output Shape              Param #   \n",
            "=================================================================\n",
            " embedding_5 (Embedding)     (None, 120, 16)           151040    \n",
            "                                                                 \n",
            " gru_2 (GRU)                 (None, 120, 128)          56064     \n",
            "                                                                 \n",
            " gru_3 (GRU)                 (None, 128)               99072     \n",
            "                                                                 \n",
            " dense_12 (Dense)            (None, 36)                4644      \n",
            "                                                                 \n",
            " dense_13 (Dense)            (None, 6)                 222       \n",
            "                                                                 \n",
            "=================================================================\n",
            "Total params: 311,042\n",
            "Trainable params: 311,042\n",
            "Non-trainable params: 0\n",
            "_________________________________________________________________\n"
          ]
        }
      ]
    },
    {
      "cell_type": "code",
      "metadata": {
        "colab": {
          "base_uri": "https://localhost:8080/"
        },
        "id": "BQe7ofeoF4yn",
        "outputId": "e1a5f55f-3437-440b-a210-d8c04d5325e6"
      },
      "source": [
        "training_labels_final = np.array(y_train)\n",
        "testing_labels_final = np.array(y_test)\n",
        "num_epochs = 20\n",
        "history6 = model6.fit(padded_mn, training_labels_final_mn, epochs=num_epochs, validation_data=(testing_padded_mn, testing_labels_final_mn))"
      ],
      "execution_count": 37,
      "outputs": [
        {
          "output_type": "stream",
          "name": "stdout",
          "text": [
            "Epoch 1/20\n",
            "21/21 [==============================] - 18s 627ms/step - loss: 1.7767 - accuracy: 0.7677 - val_loss: 1.2677 - val_accuracy: 0.8525\n",
            "Epoch 2/20\n",
            "21/21 [==============================] - 13s 603ms/step - loss: 1.3626 - accuracy: 0.8123 - val_loss: 1.2502 - val_accuracy: 0.8525\n",
            "Epoch 3/20\n",
            "21/21 [==============================] - 12s 591ms/step - loss: 1.3494 - accuracy: 0.8123 - val_loss: 1.2409 - val_accuracy: 0.8525\n",
            "Epoch 4/20\n",
            "21/21 [==============================] - 12s 592ms/step - loss: 1.3530 - accuracy: 0.8123 - val_loss: 1.2543 - val_accuracy: 0.8525\n",
            "Epoch 5/20\n",
            "21/21 [==============================] - 13s 603ms/step - loss: 1.3400 - accuracy: 0.8123 - val_loss: 1.2485 - val_accuracy: 0.8525\n",
            "Epoch 6/20\n",
            "21/21 [==============================] - 13s 603ms/step - loss: 1.3445 - accuracy: 0.8123 - val_loss: 1.2424 - val_accuracy: 0.8525\n",
            "Epoch 7/20\n",
            "21/21 [==============================] - 12s 596ms/step - loss: 1.3558 - accuracy: 0.8123 - val_loss: 1.2429 - val_accuracy: 0.8525\n",
            "Epoch 8/20\n",
            "21/21 [==============================] - 13s 597ms/step - loss: 1.3551 - accuracy: 0.8123 - val_loss: 1.2566 - val_accuracy: 0.8525\n",
            "Epoch 9/20\n",
            "21/21 [==============================] - 13s 600ms/step - loss: 1.3644 - accuracy: 0.8123 - val_loss: 1.2513 - val_accuracy: 0.8525\n",
            "Epoch 10/20\n",
            "21/21 [==============================] - 13s 604ms/step - loss: 1.3346 - accuracy: 0.8123 - val_loss: 1.2501 - val_accuracy: 0.8525\n",
            "Epoch 11/20\n",
            "21/21 [==============================] - 13s 595ms/step - loss: 1.3794 - accuracy: 0.8123 - val_loss: 1.2364 - val_accuracy: 0.8525\n",
            "Epoch 12/20\n",
            "21/21 [==============================] - 12s 593ms/step - loss: 1.3488 - accuracy: 0.8123 - val_loss: 1.2583 - val_accuracy: 0.8525\n",
            "Epoch 13/20\n",
            "21/21 [==============================] - 12s 590ms/step - loss: 1.3231 - accuracy: 0.8123 - val_loss: 1.2503 - val_accuracy: 0.8525\n",
            "Epoch 14/20\n",
            "21/21 [==============================] - 12s 592ms/step - loss: 1.3492 - accuracy: 0.8123 - val_loss: 1.2481 - val_accuracy: 0.8525\n",
            "Epoch 15/20\n",
            "21/21 [==============================] - 12s 586ms/step - loss: 1.3493 - accuracy: 0.8123 - val_loss: 1.2449 - val_accuracy: 0.8525\n",
            "Epoch 16/20\n",
            "21/21 [==============================] - 12s 593ms/step - loss: 1.3474 - accuracy: 0.8123 - val_loss: 1.2388 - val_accuracy: 0.8525\n",
            "Epoch 17/20\n",
            "21/21 [==============================] - 12s 595ms/step - loss: 1.3281 - accuracy: 0.8123 - val_loss: 1.2380 - val_accuracy: 0.8525\n",
            "Epoch 18/20\n",
            "21/21 [==============================] - 13s 600ms/step - loss: 1.3400 - accuracy: 0.8123 - val_loss: 1.2356 - val_accuracy: 0.8525\n",
            "Epoch 19/20\n",
            "21/21 [==============================] - 12s 591ms/step - loss: 1.3479 - accuracy: 0.8123 - val_loss: 1.2357 - val_accuracy: 0.8525\n",
            "Epoch 20/20\n",
            "21/21 [==============================] - 13s 597ms/step - loss: 1.3380 - accuracy: 0.8123 - val_loss: 1.2378 - val_accuracy: 0.8525\n"
          ]
        }
      ]
    },
    {
      "cell_type": "code",
      "metadata": {
        "id": "1LCATsOZGRPi"
      },
      "source": [
        "import matplotlib.pyplot as plt\n",
        "import numpy as np\n",
        "# plot the training loss and accuracy\n",
        "plt.rcParams[\"figure.figsize\"] = (12,8)\n",
        "N = np.arange(0, 20)\n",
        "plt.style.use(\"ggplot\")\n",
        "plt.figure()\n",
        "plt.plot(N, history6.history[\"loss\"], label=\"train_loss\")\n",
        "plt.plot(N, history6.history[\"val_loss\"], label=\"val_loss\")\n",
        "plt.plot(N, history6.history['accuracy'], label=\"accuracy\")\n",
        "plt.plot(N, history6.history[\"val_accuracy\"], label=\"val_accuracy\")\n",
        "plt.title(\"Training Loss and Accuracy (2 Layered GRU, Dropout=\"+str(drop_val)+')')\n",
        "plt.xlabel(\"Epoch #\")\n",
        "plt.ylabel(\"Loss/Accuracy\")\n",
        "plt.legend()"
      ],
      "execution_count": null,
      "outputs": []
    },
    {
      "cell_type": "markdown",
      "metadata": {
        "id": "7WEGQvl2G82r"
      },
      "source": [
        "#BiLSTM"
      ]
    },
    {
      "cell_type": "code",
      "metadata": {
        "id": "IMUy3E9VGm7H"
      },
      "source": [
        "model7 = Sequential()\n",
        "model7.add(Embedding(vocab_size, embedding_dim, input_length = max_length))\n",
        "model7.add(Bidirectional(LSTM(20, return_sequences=True, dropout=drop_val, activation='LeakyReLU')))\n",
        "model7.add(Bidirectional(LSTM(20, dropout=drop_val, activation='LeakyReLU')))\n",
        "model7.add(Dense(36,activation='tanh'))\n",
        "model7.add(Dense(1,activation='sigmoid'))\n",
        "model7.compile(loss = 'binary_crossentropy', optimizer='adam', metrics = ['accuracy'])\n",
        "model7.summary()\n",
        "\n"
      ],
      "execution_count": null,
      "outputs": []
    },
    {
      "cell_type": "code",
      "metadata": {
        "id": "dmP8suiwKsdG"
      },
      "source": [
        "training_labels_final = np.array(y_train)\n",
        "testing_labels_final = np.array(y_test)\n",
        "num_epochs = 20\n",
        "history7 = model7.fit(padded, training_labels_final, epochs=num_epochs, validation_data=(testing_padded, testing_labels_final))"
      ],
      "execution_count": null,
      "outputs": []
    },
    {
      "cell_type": "code",
      "metadata": {
        "id": "ou1WPE0qLmxQ"
      },
      "source": [
        "import matplotlib.pyplot as plt\n",
        "import numpy as np\n",
        "# plot the training loss and accuracy\n",
        "plt.rcParams[\"figure.figsize\"] = (12,8)\n",
        "N = np.arange(0, 20)\n",
        "plt.style.use(\"ggplot\")\n",
        "plt.figure()\n",
        "plt.plot(N, history7.history[\"loss\"], label=\"train_loss\")\n",
        "plt.plot(N, history7.history[\"val_loss\"], label=\"val_loss\")\n",
        "plt.plot(N, history7.history['accuracy'], label=\"accuracy\")\n",
        "plt.plot(N, history7.history[\"val_accuracy\"], label=\"val_accuracy\")\n",
        "plt.title(\"Training Loss and Accuracy (2 Layered bidirectional LSTM, Dropout=\"+str(drop_val)+')')\n",
        "plt.xlabel(\"Epoch #\")\n",
        "plt.ylabel(\"Loss/Accuracy\")\n",
        "plt.legend()"
      ],
      "execution_count": null,
      "outputs": []
    },
    {
      "cell_type": "code",
      "metadata": {
        "colab": {
          "base_uri": "https://localhost:8080/"
        },
        "id": "-vJV8XP0L2Vo",
        "outputId": "944f827d-e18b-4c39-d841-b1ba3a1a26a2"
      },
      "source": [
        "# confusion matrix in sklearn\n",
        "from sklearn.metrics import confusion_matrix\n",
        "from sklearn.metrics import classification_report\n",
        " \n",
        "# actual values\n",
        "actual = testing_labels_final\n",
        "# predicted values\n",
        "predicted = model5.predict(testing_padded)\n",
        "\n",
        "# confusion matrix\n",
        "matrix = confusion_matrix(actual,np.array([int((val)>0) for val in predicted]), labels=[1,0])\n",
        "print('Confusion matrix : \\n',matrix)\n",
        "\n",
        "# outcome values order in sklearn\n",
        "tp, fn, fp, tn = confusion_matrix(actual,np.array([int((val)>0) for val in predicted]),labels=[1,0]).reshape(-1)\n",
        "print('Outcome values (tp, fn, fp, tn): \\n', tp, fn, fp, tn)\n",
        "\n",
        "# classification report for precision, recall f1-score and accuracy\n",
        "matrix = classification_report(actual,np.array([int((val)>0) for val in predicted]),labels=[1,0])\n",
        "print('Classification report : \\n',matrix)"
      ],
      "execution_count": 42,
      "outputs": [
        {
          "output_type": "stream",
          "name": "stdout",
          "text": [
            "Confusion matrix : \n",
            " [[247   0]\n",
            " [620   0]]\n",
            "Outcome values (tp, fn, fp, tn): \n",
            " 247 0 620 0\n",
            "Classification report : \n",
            "               precision    recall  f1-score   support\n",
            "\n",
            "           1       0.28      1.00      0.44       247\n",
            "           0       0.00      0.00      0.00       620\n",
            "\n",
            "    accuracy                           0.28       867\n",
            "   macro avg       0.14      0.50      0.22       867\n",
            "weighted avg       0.08      0.28      0.13       867\n",
            "\n"
          ]
        },
        {
          "output_type": "stream",
          "name": "stderr",
          "text": [
            "/usr/local/lib/python3.7/dist-packages/sklearn/metrics/_classification.py:1308: UndefinedMetricWarning: Precision and F-score are ill-defined and being set to 0.0 in labels with no predicted samples. Use `zero_division` parameter to control this behavior.\n",
            "  _warn_prf(average, modifier, msg_start, len(result))\n",
            "/usr/local/lib/python3.7/dist-packages/sklearn/metrics/_classification.py:1308: UndefinedMetricWarning: Precision and F-score are ill-defined and being set to 0.0 in labels with no predicted samples. Use `zero_division` parameter to control this behavior.\n",
            "  _warn_prf(average, modifier, msg_start, len(result))\n",
            "/usr/local/lib/python3.7/dist-packages/sklearn/metrics/_classification.py:1308: UndefinedMetricWarning: Precision and F-score are ill-defined and being set to 0.0 in labels with no predicted samples. Use `zero_division` parameter to control this behavior.\n",
            "  _warn_prf(average, modifier, msg_start, len(result))\n"
          ]
        }
      ]
    },
    {
      "cell_type": "markdown",
      "metadata": {
        "id": "NkAbBg4BMFOe"
      },
      "source": [
        "#BiDirectional LSTM multi-class"
      ]
    },
    {
      "cell_type": "code",
      "metadata": {
        "id": "RqP7y1MuMRhQ"
      },
      "source": [
        "model8 = Sequential()\n",
        "model8.add(Embedding(vocab_size, embedding_dim, input_length = max_length))\n",
        "model8.add(Bidirectional(LSTM(128, return_sequences=True, dropout=drop_val, activation='tanh')))\n",
        "model8.add(Bidirectional(LSTM(128, dropout=drop_val, activation='tanh')))\n",
        "model8.add(Dense(36,activation='tanh'))\n",
        "model8.add(Dense(6,activation='sigmoid'))\n",
        "model8.compile(loss = tf.keras.losses.CategoricalCrossentropy(), optimizer='adam', metrics = ['accuracy'])\n",
        "model8.summary()\n",
        "\n"
      ],
      "execution_count": null,
      "outputs": []
    },
    {
      "cell_type": "code",
      "metadata": {
        "id": "UE_53viRMwxo"
      },
      "source": [
        "training_labels_final = np.array(y_train)\n",
        "testing_labels_final = np.array(y_test)\n",
        "num_epochs = 20\n",
        "history8 = model8.fit(padded_mn, training_labels_final_mn, epochs=num_epochs, validation_data=(testing_padded_mn, testing_labels_final_mn))"
      ],
      "execution_count": null,
      "outputs": []
    },
    {
      "cell_type": "code",
      "metadata": {
        "id": "L8TJ_WwGMEBb"
      },
      "source": [
        "import matplotlib.pyplot as plt\n",
        "import numpy as np\n",
        "# plot the training loss and accuracy\n",
        "plt.rcParams[\"figure.figsize\"] = (12,8)\n",
        "N = np.arange(0, 20)\n",
        "plt.style.use(\"ggplot\")\n",
        "plt.figure()\n",
        "plt.plot(N, history7.history[\"loss\"], label=\"train_loss\")\n",
        "plt.plot(N, history7.history[\"val_loss\"], label=\"val_loss\")\n",
        "plt.plot(N, history7.history['accuracy'], label=\"accuracy\")\n",
        "plt.plot(N, history7.history[\"val_accuracy\"], label=\"val_accuracy\")\n",
        "plt.title(\"Training Loss and Accuracy (2 Layered bidirectional LSTM, Dropout=\"+str(drop_val)+')')\n",
        "plt.xlabel(\"Epoch #\")\n",
        "plt.ylabel(\"Loss/Accuracy\")\n",
        "plt.legend()"
      ],
      "execution_count": null,
      "outputs": []
    },
    {
      "cell_type": "code",
      "metadata": {
        "id": "vW6A5c8qTACz"
      },
      "source": [
        ""
      ],
      "execution_count": null,
      "outputs": []
    }
  ]
}