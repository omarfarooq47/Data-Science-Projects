{
  "nbformat": 4,
  "nbformat_minor": 0,
  "metadata": {
    "kernelspec": {
      "display_name": "Python 3",
      "language": "python",
      "name": "python3"
    },
    "language_info": {
      "codemirror_mode": {
        "name": "ipython",
        "version": 3
      },
      "file_extension": ".py",
      "mimetype": "text/x-python",
      "name": "python",
      "nbconvert_exporter": "python",
      "pygments_lexer": "ipython3",
      "version": "3.8.5"
    },
    "colab": {
      "name": "Dropout 0.4.ipynb",
      "provenance": [],
      "collapsed_sections": [
        "YmmgzO1FOiPt",
        "gIZPva06e-0A",
        "UaizaW1NPYi5",
        "N7qnTsv2_qqY",
        "7WEGQvl2G82r",
        "NkAbBg4BMFOe"
      ]
    }
  },
  "cells": [
    {
      "cell_type": "code",
      "metadata": {
        "id": "eCJbp5oeZJXi"
      },
      "source": [
        "drop_val = 0.4"
      ],
      "execution_count": 1,
      "outputs": []
    },
    {
      "cell_type": "markdown",
      "metadata": {
        "id": "Ydkk-AX7Rslh"
      },
      "source": [
        "# LSTM binary"
      ]
    },
    {
      "cell_type": "code",
      "metadata": {
        "colab": {
          "base_uri": "https://localhost:8080/"
        },
        "id": "HGRNKZM-1tZb",
        "outputId": "a02f2a33-10c3-4879-8686-0ecdd16c8d55"
      },
      "source": [
        "# Importing required libraries\n",
        "import nltk\n",
        "nltk.download('stopwords')\n",
        "nltk.download('wordnet')\n",
        "import pandas as pd\n",
        "from nltk.corpus import stopwords\n",
        "from textblob import Word\n",
        "from sklearn.preprocessing import LabelEncoder\n",
        "from collections import Counter\n",
        "import wordcloud\n",
        "from sklearn.metrics import classification_report,confusion_matrix,accuracy_score\n",
        "from keras.models import Sequential\n",
        "from keras.preprocessing.text import Tokenizer\n",
        "from keras.preprocessing.sequence import pad_sequences\n",
        "from keras.layers import Dense, Embedding, LSTM, SpatialDropout1D, GRU, Bidirectional, RNN\n",
        "from sklearn.model_selection import train_test_split \n",
        "import matplotlib.pyplot as plt\n",
        "import numpy as np\n",
        "import tensorflow as tf"
      ],
      "execution_count": 2,
      "outputs": [
        {
          "output_type": "stream",
          "name": "stdout",
          "text": [
            "[nltk_data] Downloading package stopwords to /root/nltk_data...\n",
            "[nltk_data]   Unzipping corpora/stopwords.zip.\n",
            "[nltk_data] Downloading package wordnet to /root/nltk_data...\n",
            "[nltk_data]   Unzipping corpora/wordnet.zip.\n"
          ]
        }
      ]
    },
    {
      "cell_type": "code",
      "metadata": {
        "colab": {
          "base_uri": "https://localhost:8080/"
        },
        "id": "9tBUDYc51tZj",
        "outputId": "b78d3f33-3b54-41b6-b620-098ecb5ebc14"
      },
      "source": [
        "#Loading the dataset\n",
        "data = pd.read_csv('Sarcasm Dataset.csv')\n",
        "\n",
        "df = data.copy()\n",
        "df.columns      "
      ],
      "execution_count": 6,
      "outputs": [
        {
          "output_type": "execute_result",
          "data": {
            "text/plain": [
              "Index(['Unnamed: 0', 'tweet', 'sarcastic', 'sarcasm', 'irony', 'satire',\n",
              "       'understatement', 'overstatement', 'rhetorical_question'],\n",
              "      dtype='object')"
            ]
          },
          "metadata": {},
          "execution_count": 6
        }
      ]
    },
    {
      "cell_type": "code",
      "metadata": {
        "id": "rb7eg4MC1tZl"
      },
      "source": [
        "tokenizer = Tokenizer(oov_token=\"<OOV>\")"
      ],
      "execution_count": 7,
      "outputs": []
    },
    {
      "cell_type": "code",
      "metadata": {
        "id": "eRLvFeLZ1tZm"
      },
      "source": [
        "import re\n",
        "def cleaning(df):\n",
        "    # coversion to lower Case\n",
        "    df['tweet'] = df['tweet'].astype(str).apply(lambda x:' '.join(a.lower() for a in x.split()))\n",
        "\n",
        "    # Replacing the special characters\n",
        "    df['tweet'] = df['tweet'].str.replace('\\W+', ' ')\n",
        "#     df['tweet'] = df['tweet'].astype(str).apply(lambda s:''.join([i for i in s if i.isalnum()]))\n",
        "\n",
        "    # Replacing the digits/numbers\n",
        "\n",
        "    df['tweet'] = df['tweet'].astype(str).apply(lambda s:''.join([i for i in s if not i.isdigit()]))\n",
        "\n",
        "    # Removing stop words\n",
        "\n",
        "#     df['tweet'] = df['tweet'].astype(str).apply(lambda x: ' '.join(a for a in x.split() if a not in stop_words))\n",
        "\n",
        "    # Lemmatization\n",
        "\n",
        "    df['tweet'] = df['tweet'].astype(str).apply(lambda x:' '.join([Word(a).lemmatize() for a in x.split()]))\n",
        "\n",
        "    return df\n",
        "\n",
        "# stop_words = stopwords.words('english')\n",
        "\n",
        "df = cleaning(df)\n",
        "# df.head(20)"
      ],
      "execution_count": 8,
      "outputs": []
    },
    {
      "cell_type": "code",
      "metadata": {
        "colab": {
          "base_uri": "https://localhost:8080/"
        },
        "id": "Q2Nxbnzp1tZn",
        "outputId": "37e2d8d6-74f3-41f9-b48d-35eb9cc0ee87"
      },
      "source": [
        "import string\n",
        "sentences = [sublist.split() for sublist in df['tweet'].astype(str).values]\n",
        "words = set([item for sublist in sentences for item in sublist])\n",
        "vocab_size = len(words)\n",
        "vocab_size"
      ],
      "execution_count": 9,
      "outputs": [
        {
          "output_type": "execute_result",
          "data": {
            "text/plain": [
              "9447"
            ]
          },
          "metadata": {},
          "execution_count": 9
        }
      ]
    },
    {
      "cell_type": "code",
      "metadata": {
        "id": "VBr9y2h-1tZo"
      },
      "source": [
        "df['tweet'] = df['tweet'].astype(str)"
      ],
      "execution_count": 10,
      "outputs": []
    },
    {
      "cell_type": "code",
      "metadata": {
        "id": "12zBxI5_1tZp"
      },
      "source": [
        "# split = round(len(df)*0.75)\n",
        "# train_reviews = df['tweet'][:split]\n",
        "# train_label = df['sarcastic'][:split]\n",
        "# test_reviews = df['tweet'][split:]\n",
        "# test_label = df['sarcastic'][split:]\n"
      ],
      "execution_count": 11,
      "outputs": []
    },
    {
      "cell_type": "code",
      "metadata": {
        "id": "NeW7ZDMx1tZq"
      },
      "source": [
        "# training_sentences = []\n",
        "# training_labels = []\n",
        "# testing_sentences = []\n",
        "# testing_labels = []\n",
        "# for row in train_reviews:\n",
        "#     training_sentences.append(str(row))\n",
        "# for row in train_label:\n",
        "#     training_labels.append(row)\n",
        "# for row in test_reviews:\n",
        "#     testing_sentences.append(str(row))\n",
        "# for row in test_label:\n",
        "#     testing_labels.append(row)\n"
      ],
      "execution_count": 12,
      "outputs": []
    },
    {
      "cell_type": "code",
      "metadata": {
        "colab": {
          "base_uri": "https://localhost:8080/"
        },
        "id": "fuXTQD9v1tZr",
        "outputId": "27aac476-4b18-45e3-cf4a-78fb1cd5e6d8"
      },
      "source": [
        "import numpy as np\n",
        "lengths = df[\"tweet\"].str.len()\n",
        "argmax = np.where(lengths == lengths.max())[0]\n",
        "# max_len = len(data_v1.iloc[argmax]['tweet'])\n",
        "max_length = lengths[argmax].astype(int)\n",
        "print(max_length)\n",
        "print(np.average(lengths))"
      ],
      "execution_count": 13,
      "outputs": [
        {
          "output_type": "stream",
          "name": "stdout",
          "text": [
            "2808    294\n",
            "Name: tweet, dtype: int64\n",
            "98.53979238754326\n"
          ]
        }
      ]
    },
    {
      "cell_type": "code",
      "metadata": {
        "id": "xJcn-rgv1tZu"
      },
      "source": [
        "# data for binary \n",
        "X_train, X_test, y_train, y_test = train_test_split(df['tweet'].values,df['sarcastic'], test_size = 0.25, random_state = 42)\n",
        "vocab_size = 9440\n",
        "embedding_dim = 16\n",
        "max_length = 120\n",
        "trunc_type = 'post'\n",
        "oov_tok = '<OOV>'\n",
        "padding_type = 'post'\n",
        "tokenizer = Tokenizer(num_words=vocab_size, oov_token=oov_tok)\n",
        "tokenizer.fit_on_texts(X_train)\n",
        "word_index = tokenizer.word_index\n",
        "sequences = tokenizer.texts_to_sequences(X_train)\n",
        "padded = pad_sequences(sequences, maxlen=max_length, truncating=trunc_type)\n",
        "testing_sentences = tokenizer.texts_to_sequences(X_test)\n",
        "testing_padded = pad_sequences(testing_sentences, maxlen=max_length)"
      ],
      "execution_count": 14,
      "outputs": []
    },
    {
      "cell_type": "code",
      "metadata": {
        "id": "WiTB1R7sOFzq",
        "colab": {
          "base_uri": "https://localhost:8080/"
        },
        "outputId": "ebd5e0f4-24a2-4a74-d6e7-539a835e55db"
      },
      "source": [
        "# data for multiclass\n",
        "X_train_mn, X_test_mn, y_train_mn, y_test_mn = train_test_split(df.loc[df['sarcastic']==1, 'tweet'].values, df.loc[df['sarcastic']==1, ['sarcasm', 'irony', 'satire', 'understatement', 'overstatement', 'rhetorical_question']], test_size = 0.25, random_state = 42)\n",
        "training_labels_final_mn = np.array(y_train_mn)\n",
        "testing_labels_final_mn = np.array(y_test_mn)\n",
        "# print(testing_labels_final_mn)\n",
        "print('labels shape',testing_labels_final_mn.shape)\n",
        "num_epochs = 20\n",
        "vocab_size = 9440\n",
        "embedding_dim = 16\n",
        "max_length = 120\n",
        "trunc_type = 'post'\n",
        "oov_tok = '<OOV>'\n",
        "padding_type = 'post'\n",
        "tokenizer_mn = Tokenizer(num_words=vocab_size, oov_token=oov_tok)\n",
        "tokenizer_mn.fit_on_texts(X_train_mn)\n",
        "word_index_mn = tokenizer_mn.word_index\n",
        "sequences_mn = tokenizer_mn.texts_to_sequences(X_train_mn)\n",
        "padded_mn = pad_sequences(sequences_mn, maxlen=max_length, truncating=trunc_type)\n",
        "testing_sentences_mn = tokenizer_mn.texts_to_sequences(X_test_mn)\n",
        "testing_padded_mn = pad_sequences(testing_sentences_mn, maxlen=max_length)"
      ],
      "execution_count": 15,
      "outputs": [
        {
          "output_type": "stream",
          "name": "stdout",
          "text": [
            "labels shape (217, 6)\n"
          ]
        }
      ]
    },
    {
      "cell_type": "code",
      "metadata": {
        "id": "fBubdMFg1tZv",
        "colab": {
          "base_uri": "https://localhost:8080/"
        },
        "outputId": "07094cac-c384-447f-c1df-a5da14e9351f"
      },
      "source": [
        "# import tensorflow as tf\n",
        "# model = tf.keras.Sequential([\n",
        "#     tf.keras.layers.Embedding(vocab_size, embedding_dim, input_length=max_length),\n",
        "#     tf.keras.layers.GlobalAveragePooling1D(),\n",
        "#     tf.keras.layers.Dense(6, activation='relu'),\n",
        "#     tf.keras.layers.Dense(1, activation='sigmoid')\n",
        "# ])\n",
        "model = Sequential()\n",
        "model.add(Embedding(vocab_size, embedding_dim, input_length = max_length))\n",
        "# model.add(SpatialDropout1D(0.4))\n",
        "model.add(LSTM(128, dropout=drop_val, recurrent_dropout=drop_val, activation='relu', input_shape=(360,1), return_sequences=True))\n",
        "model.add(LSTM(128, dropout=drop_val, recurrent_dropout=drop_val, activation='relu', ))\n",
        "model.add(Dense(16,activation='tanh'))\n",
        "model.add(Dense(1,activation='softmax'))\n",
        "model.compile(loss = 'binary_crossentropy', optimizer='adam', metrics = ['accuracy'])\n",
        "model.summary()"
      ],
      "execution_count": 16,
      "outputs": [
        {
          "output_type": "stream",
          "name": "stdout",
          "text": [
            "Model: \"sequential_1\"\n",
            "_________________________________________________________________\n",
            " Layer (type)                Output Shape              Param #   \n",
            "=================================================================\n",
            " embedding (Embedding)       (None, 120, 16)           151040    \n",
            "                                                                 \n",
            " lstm (LSTM)                 (None, 120, 128)          74240     \n",
            "                                                                 \n",
            " lstm_1 (LSTM)               (None, 128)               131584    \n",
            "                                                                 \n",
            " dense (Dense)               (None, 16)                2064      \n",
            "                                                                 \n",
            " dense_1 (Dense)             (None, 1)                 17        \n",
            "                                                                 \n",
            "=================================================================\n",
            "Total params: 358,945\n",
            "Trainable params: 358,945\n",
            "Non-trainable params: 0\n",
            "_________________________________________________________________\n"
          ]
        }
      ]
    },
    {
      "cell_type": "code",
      "metadata": {
        "id": "ijUJ9ZxF1tZv"
      },
      "source": [
        "model.compile(loss='binary_crossentropy', optimizer='adam', metrics=['accuracy'])"
      ],
      "execution_count": 17,
      "outputs": []
    },
    {
      "cell_type": "code",
      "metadata": {
        "id": "_0oJAxNX1tZw"
      },
      "source": [
        ""
      ],
      "execution_count": 17,
      "outputs": []
    },
    {
      "cell_type": "code",
      "metadata": {
        "colab": {
          "base_uri": "https://localhost:8080/"
        },
        "id": "LSTmgm_x1tZ1",
        "outputId": "b34dbf45-3e6c-4dbb-cff3-059929a7d7e6"
      },
      "source": [
        "training_labels_final = np.array(y_train)\n",
        "testing_labels_final = np.array(y_test)\n",
        "num_epochs = 20\n",
        "history = model.fit(padded, training_labels_final, epochs=num_epochs, validation_data=(testing_padded, testing_labels_final))"
      ],
      "execution_count": 18,
      "outputs": [
        {
          "output_type": "stream",
          "name": "stdout",
          "text": [
            "Epoch 1/20\n",
            "82/82 [==============================] - 60s 662ms/step - loss: 0.5646 - accuracy: 0.2384 - val_loss: 0.5964 - val_accuracy: 0.2849\n",
            "Epoch 2/20\n",
            "82/82 [==============================] - 54s 657ms/step - loss: 0.5415 - accuracy: 0.2384 - val_loss: 0.5915 - val_accuracy: 0.2849\n",
            "Epoch 3/20\n",
            "82/82 [==============================] - 54s 656ms/step - loss: 0.4871 - accuracy: 0.2384 - val_loss: 0.6720 - val_accuracy: 0.2849\n",
            "Epoch 4/20\n",
            "82/82 [==============================] - 54s 656ms/step - loss: 0.4173 - accuracy: 0.2384 - val_loss: 0.7630 - val_accuracy: 0.2849\n",
            "Epoch 5/20\n",
            "82/82 [==============================] - 54s 653ms/step - loss: 0.2582 - accuracy: 0.2384 - val_loss: 0.9350 - val_accuracy: 0.2849\n",
            "Epoch 6/20\n",
            "82/82 [==============================] - 54s 653ms/step - loss: 0.1534 - accuracy: 0.2384 - val_loss: 0.9923 - val_accuracy: 0.2849\n",
            "Epoch 7/20\n",
            "82/82 [==============================] - 54s 654ms/step - loss: 0.0940 - accuracy: 0.2384 - val_loss: 1.2774 - val_accuracy: 0.2849\n",
            "Epoch 8/20\n",
            "82/82 [==============================] - 54s 654ms/step - loss: 0.0611 - accuracy: 0.2384 - val_loss: 1.2755 - val_accuracy: 0.2849\n",
            "Epoch 9/20\n",
            "82/82 [==============================] - 54s 655ms/step - loss: 0.0507 - accuracy: 0.2384 - val_loss: 1.3694 - val_accuracy: 0.2849\n",
            "Epoch 10/20\n",
            "82/82 [==============================] - 54s 659ms/step - loss: 0.0291 - accuracy: 0.2384 - val_loss: 1.6406 - val_accuracy: 0.2849\n",
            "Epoch 11/20\n",
            "82/82 [==============================] - 54s 657ms/step - loss: 0.0399 - accuracy: 0.2384 - val_loss: 1.2489 - val_accuracy: 0.2849\n",
            "Epoch 12/20\n",
            "82/82 [==============================] - 54s 654ms/step - loss: 0.0364 - accuracy: 0.2384 - val_loss: 1.5312 - val_accuracy: 0.2849\n",
            "Epoch 13/20\n",
            "82/82 [==============================] - 53s 651ms/step - loss: 0.0326 - accuracy: 0.2384 - val_loss: 1.6091 - val_accuracy: 0.2849\n",
            "Epoch 14/20\n",
            "82/82 [==============================] - 54s 653ms/step - loss: 0.0284 - accuracy: 0.2384 - val_loss: 1.4404 - val_accuracy: 0.2849\n",
            "Epoch 15/20\n",
            "82/82 [==============================] - 54s 655ms/step - loss: 0.0256 - accuracy: 0.2384 - val_loss: 1.6663 - val_accuracy: 0.2849\n",
            "Epoch 16/20\n",
            "82/82 [==============================] - 53s 652ms/step - loss: 0.0244 - accuracy: 0.2384 - val_loss: 1.6463 - val_accuracy: 0.2849\n",
            "Epoch 17/20\n",
            "82/82 [==============================] - 54s 654ms/step - loss: 0.0209 - accuracy: 0.2384 - val_loss: 1.5464 - val_accuracy: 0.2849\n",
            "Epoch 18/20\n",
            "82/82 [==============================] - 53s 651ms/step - loss: 0.0173 - accuracy: 0.2384 - val_loss: 1.7011 - val_accuracy: 0.2849\n",
            "Epoch 19/20\n",
            "82/82 [==============================] - 53s 652ms/step - loss: 0.0130 - accuracy: 0.2384 - val_loss: 1.7028 - val_accuracy: 0.2849\n",
            "Epoch 20/20\n",
            "82/82 [==============================] - 54s 654ms/step - loss: 0.0159 - accuracy: 0.2384 - val_loss: 1.7144 - val_accuracy: 0.2849\n"
          ]
        }
      ]
    },
    {
      "cell_type": "code",
      "metadata": {
        "colab": {
          "base_uri": "https://localhost:8080/",
          "height": 535
        },
        "id": "7n5oE2ki1tZ1",
        "outputId": "dd68a1fd-bf4f-47a1-e860-9d29cc2f9be7"
      },
      "source": [
        "import matplotlib.pyplot as plt\n",
        "import numpy as np\n",
        "# plot the training loss and accuracy\n",
        "plt.rcParams[\"figure.figsize\"] = (12,8)\n",
        "N = np.arange(0, 20)\n",
        "plt.style.use(\"ggplot\")\n",
        "plt.figure()\n",
        "plt.plot(N, history.history[\"loss\"], label=\"train_loss\")\n",
        "plt.plot(N, history.history[\"val_loss\"], label=\"val_loss\")\n",
        "plt.plot(N, history.history['accuracy'], label=\"accuracy\")\n",
        "plt.plot(N, history.history[\"val_accuracy\"], label=\"val_accuracy\")\n",
        "plt.title(\"Training Loss and Accuracy (1 Layered LSTM, Dropout=0.2)\")\n",
        "plt.xlabel(\"Epoch #\")\n",
        "plt.ylabel(\"Loss/Accuracy\")\n",
        "plt.legend()"
      ],
      "execution_count": 19,
      "outputs": [
        {
          "output_type": "execute_result",
          "data": {
            "text/plain": [
              "<matplotlib.legend.Legend at 0x7f393aa40350>"
            ]
          },
          "metadata": {},
          "execution_count": 19
        },
        {
          "output_type": "display_data",
          "data": {
            "image/png": "[encoded data removed]",
            "text/plain": [
              "<Figure size 864x576 with 1 Axes>"
            ]
          },
          "metadata": {}
        }
      ]
    },
    {
      "cell_type": "code",
      "metadata": {
        "colab": {
          "base_uri": "https://localhost:8080/"
        },
        "id": "-B64vNhM1tZ2",
        "outputId": "17130d6f-8347-48cc-8b8d-54377716772d"
      },
      "source": [
        "# confusion matrix in sklearn\n",
        "from sklearn.metrics import confusion_matrix\n",
        "from sklearn.metrics import classification_report\n",
        " \n",
        "# actual values\n",
        "actual = testing_labels_final\n",
        "# predicted values\n",
        "predicted = model.predict(testing_padded)\n",
        "\n",
        "# confusion matrix\n",
        "matrix = confusion_matrix(actual,predicted, labels=[1,0])\n",
        "print('Confusion matrix : \\n',matrix)\n",
        "\n",
        "# outcome values order in sklearn\n",
        "tp, fn, fp, tn = confusion_matrix(actual,predicted,labels=[1,0]).reshape(-1)\n",
        "print('Outcome values : \\n', tp, fn, fp, tn)\n",
        "\n",
        "# classification report for precision, recall f1-score and accuracy\n",
        "matrix = classification_report(actual,predicted,labels=[1,0])\n",
        "print('Classification report : \\n',matrix)"
      ],
      "execution_count": 20,
      "outputs": [
        {
          "output_type": "stream",
          "name": "stdout",
          "text": [
            "Confusion matrix : \n",
            " [[247   0]\n",
            " [620   0]]\n",
            "Outcome values : \n",
            " 247 0 620 0\n",
            "Classification report : \n",
            "               precision    recall  f1-score   support\n",
            "\n",
            "           1       0.28      1.00      0.44       247\n",
            "           0       0.00      0.00      0.00       620\n",
            "\n",
            "    accuracy                           0.28       867\n",
            "   macro avg       0.14      0.50      0.22       867\n",
            "weighted avg       0.08      0.28      0.13       867\n",
            "\n"
          ]
        },
        {
          "output_type": "stream",
          "name": "stderr",
          "text": [
            "/usr/local/lib/python3.7/dist-packages/sklearn/metrics/_classification.py:1308: UndefinedMetricWarning: Precision and F-score are ill-defined and being set to 0.0 in labels with no predicted samples. Use `zero_division` parameter to control this behavior.\n",
            "  _warn_prf(average, modifier, msg_start, len(result))\n",
            "/usr/local/lib/python3.7/dist-packages/sklearn/metrics/_classification.py:1308: UndefinedMetricWarning: Precision and F-score are ill-defined and being set to 0.0 in labels with no predicted samples. Use `zero_division` parameter to control this behavior.\n",
            "  _warn_prf(average, modifier, msg_start, len(result))\n",
            "/usr/local/lib/python3.7/dist-packages/sklearn/metrics/_classification.py:1308: UndefinedMetricWarning: Precision and F-score are ill-defined and being set to 0.0 in labels with no predicted samples. Use `zero_division` parameter to control this behavior.\n",
            "  _warn_prf(average, modifier, msg_start, len(result))\n"
          ]
        }
      ]
    },
    {
      "cell_type": "markdown",
      "metadata": {
        "id": "YmmgzO1FOiPt"
      },
      "source": [
        "# LSTM multi class 2 layered"
      ]
    },
    {
      "cell_type": "code",
      "metadata": {
        "colab": {
          "base_uri": "https://localhost:8080/"
        },
        "id": "ru3En3gc1tZ2",
        "outputId": "0931a5bd-44f2-4148-f707-0f73d85f289c"
      },
      "source": [
        "import tensorflow as tf\n",
        "# model = tf.keras.Sequential([\n",
        "#     tf.keras.layers.Embedding(vocab_size, embedding_dim, input_length=max_length),\n",
        "#     tf.keras.layers.GlobalAveragePooling1D(),\n",
        "#     tf.keras.layers.Dense(6, activation='relu'),\n",
        "#     tf.keras.layers.Dense(1, activation='sigmoid')\n",
        "# ])\n",
        "\n",
        "model2 = Sequential()\n",
        "model2.add(Embedding(vocab_size, embedding_dim, input_length = max_length))\n",
        "# model.add(SpatialDropout1D(0.4))\n",
        "model2.add(LSTM(128, dropout=drop_val, recurrent_dropout=drop_val, activation='LeakyReLU', input_shape=(360,1), return_sequences=True))\n",
        "model2.add(LSTM(128, dropout=drop_val, recurrent_dropout=drop_val, activation='LeakyReLU', ))\n",
        "model2.add(Dense(36,activation='tanh'))\n",
        "model2.add(Dense(6,activation='sigmoid'))\n",
        "model2.compile(loss = tf.keras.losses.CategoricalCrossentropy(), optimizer='sgd', metrics = ['accuracy'])\n",
        "model2.summary()"
      ],
      "execution_count": 21,
      "outputs": [
        {
          "output_type": "stream",
          "name": "stdout",
          "text": [
            "Model: \"sequential_2\"\n",
            "_________________________________________________________________\n",
            " Layer (type)                Output Shape              Param #   \n",
            "=================================================================\n",
            " embedding_1 (Embedding)     (None, 120, 16)           151040    \n",
            "                                                                 \n",
            " lstm_2 (LSTM)               (None, 120, 128)          74240     \n",
            "                                                                 \n",
            " lstm_3 (LSTM)               (None, 128)               131584    \n",
            "                                                                 \n",
            " dense_2 (Dense)             (None, 36)                4644      \n",
            "                                                                 \n",
            " dense_3 (Dense)             (None, 6)                 222       \n",
            "                                                                 \n",
            "=================================================================\n",
            "Total params: 361,730\n",
            "Trainable params: 361,730\n",
            "Non-trainable params: 0\n",
            "_________________________________________________________________\n"
          ]
        }
      ]
    },
    {
      "cell_type": "code",
      "metadata": {
        "colab": {
          "base_uri": "https://localhost:8080/"
        },
        "id": "c2r-WkNjFMNY",
        "outputId": "6303993a-e3e5-4da2-9214-ce94be0d2bee"
      },
      "source": [
        "num_epochs = 20\n",
        "history2 = model2.fit(padded_mn, training_labels_final_mn, epochs=num_epochs, validation_data=(testing_padded_mn, testing_labels_final_mn))"
      ],
      "execution_count": 22,
      "outputs": [
        {
          "metadata": {
            "tags": null
          },
          "name": "stdout",
          "output_type": "stream",
          "text": [
            "Epoch 1/20\n",
            "21/21 [==============================] - 20s 724ms/step - loss: 2.0085 - accuracy: 0.7846 - val_loss: 1.7982 - val_accuracy: 0.8525\n",
            "Epoch 2/20\n",
            "21/21 [==============================] - 14s 687ms/step - loss: 1.7244 - accuracy: 0.8123 - val_loss: 1.5427 - val_accuracy: 0.8525\n",
            "Epoch 3/20\n",
            "21/21 [==============================] - 14s 681ms/step - loss: 1.5250 - accuracy: 0.8123 - val_loss: 1.3677 - val_accuracy: 0.8525\n",
            "Epoch 4/20\n",
            "21/21 [==============================] - 14s 670ms/step - loss: 1.3998 - accuracy: 0.8123 - val_loss: 1.2648 - val_accuracy: 0.8525\n",
            "Epoch 5/20\n",
            "21/21 [==============================] - 14s 663ms/step - loss: 1.3353 - accuracy: 0.8123 - val_loss: 1.2169 - val_accuracy: 0.8525\n",
            "Epoch 6/20\n",
            "21/21 [==============================] - 14s 661ms/step - loss: 1.3069 - accuracy: 0.8123 - val_loss: 1.1964 - val_accuracy: 0.8525\n",
            "Epoch 7/20\n",
            "21/21 [==============================] - 14s 661ms/step - loss: 1.2983 - accuracy: 0.8123 - val_loss: 1.1909 - val_accuracy: 0.8525\n",
            "Epoch 8/20\n",
            "21/21 [==============================] - 14s 668ms/step - loss: 1.2953 - accuracy: 0.8123 - val_loss: 1.1924 - val_accuracy: 0.8525\n",
            "Epoch 9/20\n",
            "21/21 [==============================] - 14s 670ms/step - loss: 1.2974 - accuracy: 0.8123 - val_loss: 1.1975 - val_accuracy: 0.8525\n",
            "Epoch 10/20\n",
            "21/21 [==============================] - 14s 665ms/step - loss: 1.3021 - accuracy: 0.8123 - val_loss: 1.2121 - val_accuracy: 0.8525\n",
            "Epoch 11/20\n",
            "21/21 [==============================] - 14s 667ms/step - loss: 1.3227 - accuracy: 0.8123 - val_loss: 1.2836 - val_accuracy: 0.8525\n",
            "Epoch 12/20\n",
            "21/21 [==============================] - 14s 665ms/step - loss: nan - accuracy: 0.8000 - val_loss: nan - val_accuracy: 0.8525\n",
            "Epoch 13/20\n",
            "21/21 [==============================] - 14s 660ms/step - loss: nan - accuracy: 0.8123 - val_loss: nan - val_accuracy: 0.8525\n",
            "Epoch 14/20\n",
            "21/21 [==============================] - 14s 657ms/step - loss: nan - accuracy: 0.8123 - val_loss: nan - val_accuracy: 0.8525\n",
            "Epoch 15/20\n",
            "21/21 [==============================] - 14s 658ms/step - loss: nan - accuracy: 0.8123 - val_loss: nan - val_accuracy: 0.8525\n",
            "Epoch 16/20\n",
            "21/21 [==============================] - 14s 659ms/step - loss: nan - accuracy: 0.8123 - val_loss: nan - val_accuracy: 0.8525\n",
            "Epoch 17/20\n",
            "21/21 [==============================] - 14s 657ms/step - loss: nan - accuracy: 0.8123 - val_loss: nan - val_accuracy: 0.8525\n",
            "Epoch 18/20\n",
            "21/21 [==============================] - 14s 663ms/step - loss: nan - accuracy: 0.8123 - val_loss: nan - val_accuracy: 0.8525\n",
            "Epoch 19/20\n",
            "21/21 [==============================] - 14s 667ms/step - loss: nan - accuracy: 0.8123 - val_loss: nan - val_accuracy: 0.8525\n",
            "Epoch 20/20\n",
            "21/21 [==============================] - 14s 665ms/step - loss: nan - accuracy: 0.8123 - val_loss: nan - val_accuracy: 0.8525\n"
          ]
        }
      ]
    },
    {
      "cell_type": "code",
      "metadata": {
        "colab": {
          "base_uri": "https://localhost:8080/",
          "height": 535
        },
        "id": "VTH5un8DFSmt",
        "outputId": "774eeb73-bd86-4574-d154-bea8ae2e1664"
      },
      "source": [
        "import matplotlib.pyplot as plt\n",
        "import numpy as np\n",
        "# plot the training loss and accuracy\n",
        "plt.rcParams[\"figure.figsize\"] = (12,8)\n",
        "N = np.arange(0, 20)\n",
        "plt.style.use(\"ggplot\")\n",
        "plt.figure()\n",
        "plt.plot(N, history2.history[\"loss\"], label=\"train_loss\")\n",
        "plt.plot(N, history2.history[\"val_loss\"], label=\"val_loss\")\n",
        "plt.plot(N, history2.history['accuracy'], label=\"accuracy\")\n",
        "plt.plot(N, history2.history[\"val_accuracy\"], label=\"val_accuracy\")\n",
        "plt.title(\"Training Loss and Accuracy (1 Layered LSTM, Dropout=\"+str(drop_val)+')')\n",
        "plt.xlabel(\"Epoch #\")\n",
        "plt.ylabel(\"Loss/Accuracy\")\n",
        "plt.legend()"
      ],
      "execution_count": 23,
      "outputs": [
        {
          "output_type": "execute_result",
          "data": {
            "text/plain": [
              "<matplotlib.legend.Legend at 0x7f3933da91d0>"
            ]
          },
          "metadata": {},
          "execution_count": 23
        },
        {
          "output_type": "display_data",
          "data": {
            "image/png": "[encoded data removed]",
            "text/plain": [
              "<Figure size 864x576 with 1 Axes>"
            ]
          },
          "metadata": {}
        }
      ]
    },
    {
      "cell_type": "markdown",
      "metadata": {
        "id": "gIZPva06e-0A"
      },
      "source": [
        "# Vanilla RNN"
      ]
    },
    {
      "cell_type": "code",
      "metadata": {
        "id": "HrSDWK15YgSn",
        "colab": {
          "base_uri": "https://localhost:8080/"
        },
        "outputId": "4210694b-0be1-4bcf-b762-513105bf8940"
      },
      "source": [
        "# model3 = Sequential()\n",
        "# model3.add(Embedding(vocab_size, embedding_dim, input_length = max_length))\n",
        "# # model.add(SpatialDropout1D(0.4))\n",
        "# model3.add(Dense(256,activation='relu'))\n",
        "# model3.add(Dense(128,activation='tanh'))\n",
        "# model3.add(Dense(1,activation='sigmoid'))\n",
        "# model3.compile(loss = 'binary_crossentropy', optimizer='adam', metrics = ['accuracy'])\n",
        "# model3.summary()\n",
        "import tensorflow as tf\n",
        "model3 = tf.keras.Sequential([\n",
        "    tf.keras.layers.Embedding(vocab_size, embedding_dim, input_length=max_length),\n",
        "    tf.keras.layers.GlobalAveragePooling1D(),\n",
        "    tf.keras.layers.Dense(128, activation='relu'),\n",
        "    tf.keras.layers.Dense(128, activation='relu'),\n",
        "    tf.keras.layers.Dense(1, activation='sigmoid')\n",
        "])\n",
        "model3.compile(loss = 'binary_crossentropy', optimizer='adam', metrics = ['accuracy'])\n",
        "model3.summary()"
      ],
      "execution_count": 24,
      "outputs": [
        {
          "output_type": "stream",
          "name": "stdout",
          "text": [
            "Model: \"sequential_3\"\n",
            "_________________________________________________________________\n",
            " Layer (type)                Output Shape              Param #   \n",
            "=================================================================\n",
            " embedding_2 (Embedding)     (None, 120, 16)           151040    \n",
            "                                                                 \n",
            " global_average_pooling1d (G  (None, 16)               0         \n",
            " lobalAveragePooling1D)                                          \n",
            "                                                                 \n",
            " dense_4 (Dense)             (None, 128)               2176      \n",
            "                                                                 \n",
            " dense_5 (Dense)             (None, 128)               16512     \n",
            "                                                                 \n",
            " dense_6 (Dense)             (None, 1)                 129       \n",
            "                                                                 \n",
            "=================================================================\n",
            "Total params: 169,857\n",
            "Trainable params: 169,857\n",
            "Non-trainable params: 0\n",
            "_________________________________________________________________\n"
          ]
        }
      ]
    },
    {
      "cell_type": "code",
      "metadata": {
        "colab": {
          "base_uri": "https://localhost:8080/"
        },
        "id": "_yU2CW-Qfcnd",
        "outputId": "b21a04f8-25d4-49d9-f18b-617f7f96ce64"
      },
      "source": [
        "training_labels_final = np.array(y_train)\n",
        "testing_labels_final = np.array(y_test)\n",
        "num_epochs = 20\n",
        "history3 = model3.fit(padded, training_labels_final, epochs=num_epochs, validation_data=(testing_padded, testing_labels_final))"
      ],
      "execution_count": 25,
      "outputs": [
        {
          "output_type": "stream",
          "name": "stdout",
          "text": [
            "Epoch 1/20\n",
            "82/82 [==============================] - 1s 8ms/step - loss: 0.5774 - accuracy: 0.7616 - val_loss: 0.6174 - val_accuracy: 0.7151\n",
            "Epoch 2/20\n",
            "82/82 [==============================] - 0s 6ms/step - loss: 0.5495 - accuracy: 0.7616 - val_loss: 0.6022 - val_accuracy: 0.7151\n",
            "Epoch 3/20\n",
            "82/82 [==============================] - 0s 6ms/step - loss: 0.5461 - accuracy: 0.7616 - val_loss: 0.6005 - val_accuracy: 0.7151\n",
            "Epoch 4/20\n",
            "82/82 [==============================] - 0s 6ms/step - loss: 0.5395 - accuracy: 0.7616 - val_loss: 0.5943 - val_accuracy: 0.7151\n",
            "Epoch 5/20\n",
            "82/82 [==============================] - 0s 6ms/step - loss: 0.5130 - accuracy: 0.7616 - val_loss: 0.5845 - val_accuracy: 0.7163\n",
            "Epoch 6/20\n",
            "82/82 [==============================] - 0s 5ms/step - loss: 0.4159 - accuracy: 0.7939 - val_loss: 0.6127 - val_accuracy: 0.7140\n",
            "Epoch 7/20\n",
            "82/82 [==============================] - 0s 6ms/step - loss: 0.2930 - accuracy: 0.8804 - val_loss: 0.7158 - val_accuracy: 0.7070\n",
            "Epoch 8/20\n",
            "82/82 [==============================] - 0s 6ms/step - loss: 0.1947 - accuracy: 0.9289 - val_loss: 0.8451 - val_accuracy: 0.6967\n",
            "Epoch 9/20\n",
            "82/82 [==============================] - 0s 5ms/step - loss: 0.1311 - accuracy: 0.9585 - val_loss: 0.9476 - val_accuracy: 0.6078\n",
            "Epoch 10/20\n",
            "82/82 [==============================] - 0s 5ms/step - loss: 0.0954 - accuracy: 0.9666 - val_loss: 1.0708 - val_accuracy: 0.6990\n",
            "Epoch 11/20\n",
            "82/82 [==============================] - 0s 5ms/step - loss: 0.0807 - accuracy: 0.9715 - val_loss: 1.0837 - val_accuracy: 0.6655\n",
            "Epoch 12/20\n",
            "82/82 [==============================] - 0s 6ms/step - loss: 0.0511 - accuracy: 0.9873 - val_loss: 1.1648 - val_accuracy: 0.6505\n",
            "Epoch 13/20\n",
            "82/82 [==============================] - 0s 6ms/step - loss: 0.0405 - accuracy: 0.9900 - val_loss: 1.2663 - val_accuracy: 0.6770\n",
            "Epoch 14/20\n",
            "82/82 [==============================] - 0s 6ms/step - loss: 0.0322 - accuracy: 0.9923 - val_loss: 1.3496 - val_accuracy: 0.6782\n",
            "Epoch 15/20\n",
            "82/82 [==============================] - 0s 6ms/step - loss: 0.0256 - accuracy: 0.9938 - val_loss: 1.5394 - val_accuracy: 0.6967\n",
            "Epoch 16/20\n",
            "82/82 [==============================] - 0s 6ms/step - loss: 0.0223 - accuracy: 0.9946 - val_loss: 1.5545 - val_accuracy: 0.6828\n",
            "Epoch 17/20\n",
            "82/82 [==============================] - 0s 6ms/step - loss: 0.0187 - accuracy: 0.9950 - val_loss: 1.5202 - val_accuracy: 0.6563\n",
            "Epoch 18/20\n",
            "82/82 [==============================] - 0s 5ms/step - loss: 0.0179 - accuracy: 0.9946 - val_loss: 1.6468 - val_accuracy: 0.6805\n",
            "Epoch 19/20\n",
            "82/82 [==============================] - 0s 6ms/step - loss: 0.0151 - accuracy: 0.9962 - val_loss: 1.6584 - val_accuracy: 0.6747\n",
            "Epoch 20/20\n",
            "82/82 [==============================] - 0s 6ms/step - loss: 0.0221 - accuracy: 0.9935 - val_loss: 1.6986 - val_accuracy: 0.6747\n"
          ]
        }
      ]
    },
    {
      "cell_type": "code",
      "metadata": {
        "colab": {
          "base_uri": "https://localhost:8080/",
          "height": 535
        },
        "id": "Fb7IlUP6hja1",
        "outputId": "c5c495ed-d597-4f31-d7b9-6db7e327cb82"
      },
      "source": [
        "import matplotlib.pyplot as plt\n",
        "import numpy as np\n",
        "# plot the training loss and accuracy\n",
        "plt.rcParams[\"figure.figsize\"] = (12,8)\n",
        "N = np.arange(0, 20)\n",
        "plt.style.use(\"ggplot\")\n",
        "plt.figure()\n",
        "plt.plot(N, history3.history[\"loss\"], label=\"train_loss\")\n",
        "plt.plot(N, history3.history[\"val_loss\"], label=\"val_loss\")\n",
        "plt.plot(N, history3.history['accuracy'], label=\"accuracy\")\n",
        "plt.plot(N, history3.history[\"val_accuracy\"], label=\"val_accuracy\")\n",
        "plt.title(\"Training Loss and Accuracy (2 Layered LSTM, Dropout=\"+str(drop_val)+')')\n",
        "plt.xlabel(\"Epoch #\")\n",
        "plt.ylabel(\"Loss/Accuracy\")\n",
        "plt.legend()"
      ],
      "execution_count": 26,
      "outputs": [
        {
          "output_type": "execute_result",
          "data": {
            "text/plain": [
              "<matplotlib.legend.Legend at 0x7f3936034810>"
            ]
          },
          "metadata": {},
          "execution_count": 26
        },
        {
          "output_type": "display_data",
          "data": {
            "image/png": "[encoded data removed]",
            "text/plain": [
              "<Figure size 864x576 with 1 Axes>"
            ]
          },
          "metadata": {}
        }
      ]
    },
    {
      "cell_type": "code",
      "metadata": {
        "colab": {
          "base_uri": "https://localhost:8080/"
        },
        "id": "CoBbKXc10GR2",
        "outputId": "f9ed8188-8f15-410e-bf59-272d1d56c1ed"
      },
      "source": [
        "# confusion matrix in sklearn\n",
        "from sklearn.metrics import confusion_matrix\n",
        "from sklearn.metrics import classification_report\n",
        " \n",
        "# actual values\n",
        "actual = testing_labels_final\n",
        "# predicted values\n",
        "predicted = model3.predict(testing_padded)\n",
        "\n",
        "# confusion matrix\n",
        "matrix = confusion_matrix(actual,np.array([int((val-0.5)>0) for val in predicted]), labels=[1,0])\n",
        "print('Confusion matrix : \\n',matrix)\n",
        "\n",
        "# outcome values order in sklearn\n",
        "tp, fn, fp, tn = confusion_matrix(actual,np.array([int((val-0.5)>0) for val in predicted]),labels=[1,0]).reshape(-1)\n",
        "print('Outcome values (tp, fn, fp, tn): \\n', tp, fn, fp, tn)\n",
        "\n",
        "# classification report for precision, recall f1-score and accuracy\n",
        "matrix = classification_report(actual,np.array([int((val-0.5)>0) for val in predicted]),labels=[1,0])\n",
        "print('Classification report : \\n',matrix)"
      ],
      "execution_count": 27,
      "outputs": [
        {
          "output_type": "stream",
          "name": "stdout",
          "text": [
            "Confusion matrix : \n",
            " [[ 71 176]\n",
            " [106 514]]\n",
            "Outcome values (tp, fn, fp, tn): \n",
            " 71 176 106 514\n",
            "Classification report : \n",
            "               precision    recall  f1-score   support\n",
            "\n",
            "           1       0.40      0.29      0.33       247\n",
            "           0       0.74      0.83      0.78       620\n",
            "\n",
            "    accuracy                           0.67       867\n",
            "   macro avg       0.57      0.56      0.56       867\n",
            "weighted avg       0.65      0.67      0.66       867\n",
            "\n"
          ]
        }
      ]
    },
    {
      "cell_type": "markdown",
      "metadata": {
        "id": "UaizaW1NPYi5"
      },
      "source": [
        "# Vanilla RNN multiclass"
      ]
    },
    {
      "cell_type": "code",
      "metadata": {
        "colab": {
          "base_uri": "https://localhost:8080/"
        },
        "id": "oh7j2K1b0xC8",
        "outputId": "38a744ea-1084-41d4-c974-68e997674be6"
      },
      "source": [
        "model4 = tf.keras.Sequential([\n",
        "    tf.keras.layers.Embedding(vocab_size, embedding_dim, input_length=max_length),\n",
        "    tf.keras.layers.GlobalAveragePooling1D(),\n",
        "    tf.keras.layers.Dense(128, activation='relu'),\n",
        "    tf.keras.layers.Dense(128, activation='relu'),\n",
        "    tf.keras.layers.Dense(6, activation='sigmoid')\n",
        "])\n",
        "model4.compile(loss = 'categorical_crossentropy', optimizer='adam', metrics = ['accuracy'])\n",
        "model4.summary()"
      ],
      "execution_count": 28,
      "outputs": [
        {
          "output_type": "stream",
          "name": "stdout",
          "text": [
            "Model: \"sequential_4\"\n",
            "_________________________________________________________________\n",
            " Layer (type)                Output Shape              Param #   \n",
            "=================================================================\n",
            " embedding_3 (Embedding)     (None, 120, 16)           151040    \n",
            "                                                                 \n",
            " global_average_pooling1d_1   (None, 16)               0         \n",
            " (GlobalAveragePooling1D)                                        \n",
            "                                                                 \n",
            " dense_7 (Dense)             (None, 128)               2176      \n",
            "                                                                 \n",
            " dense_8 (Dense)             (None, 128)               16512     \n",
            "                                                                 \n",
            " dense_9 (Dense)             (None, 6)                 774       \n",
            "                                                                 \n",
            "=================================================================\n",
            "Total params: 170,502\n",
            "Trainable params: 170,502\n",
            "Non-trainable params: 0\n",
            "_________________________________________________________________\n"
          ]
        }
      ]
    },
    {
      "cell_type": "code",
      "metadata": {
        "id": "Xg-69r9G70xO",
        "colab": {
          "base_uri": "https://localhost:8080/"
        },
        "outputId": "f75ef95f-9458-4647-a0ae-48714757a301"
      },
      "source": [
        "X_train_mn, X_test_mn, y_train_mn, y_test_mn = train_test_split(df.loc[df['sarcastic']==1, 'tweet'].values, df.loc[df['sarcastic']==1, ['sarcasm', 'irony', 'satire', 'understatement', 'overstatement', 'rhetorical_question']], test_size = 0.25, random_state = 42)\n",
        "training_labels_final_mn = np.array(y_train_mn)\n",
        "testing_labels_final_mn = np.array(y_test_mn)\n",
        "# print(testing_labels_final_mn)\n",
        "print('labels shape',testing_labels_final_mn.shape)\n",
        "num_epochs = 20\n",
        "vocab_size = 9440\n",
        "embedding_dim = 16\n",
        "max_length = 120\n",
        "trunc_type = 'post'\n",
        "oov_tok = '<OOV>'\n",
        "padding_type = 'post'\n",
        "tokenizer_mn = Tokenizer(num_words=vocab_size, oov_token=oov_tok)\n",
        "tokenizer_mn.fit_on_texts(X_train_mn)\n",
        "word_index_mn = tokenizer_mn.word_index\n",
        "sequences_mn = tokenizer_mn.texts_to_sequences(X_train_mn)\n",
        "padded_mn = pad_sequences(sequences_mn, maxlen=max_length, truncating=trunc_type)\n",
        "testing_sentences_mn = tokenizer_mn.texts_to_sequences(X_test_mn)\n",
        "testing_padded_mn = pad_sequences(testing_sentences_mn, maxlen=max_length)"
      ],
      "execution_count": 29,
      "outputs": [
        {
          "output_type": "stream",
          "name": "stdout",
          "text": [
            "labels shape (217, 6)\n"
          ]
        }
      ]
    },
    {
      "cell_type": "code",
      "metadata": {
        "colab": {
          "base_uri": "https://localhost:8080/"
        },
        "id": "NjHEzqUl4JE0",
        "outputId": "3eed16db-b16f-421f-e18e-b3916d2abca1"
      },
      "source": [
        "history4 = model4.fit(padded_mn, training_labels_final_mn, epochs=num_epochs, validation_data=(testing_padded_mn, testing_labels_final_mn))"
      ],
      "execution_count": 30,
      "outputs": [
        {
          "output_type": "stream",
          "name": "stdout",
          "text": [
            "Epoch 1/20\n",
            "21/21 [==============================] - 1s 15ms/step - loss: 2.0688 - accuracy: 0.7369 - val_loss: 1.8587 - val_accuracy: 0.8525\n",
            "Epoch 2/20\n",
            "21/21 [==============================] - 0s 7ms/step - loss: 1.6128 - accuracy: 0.8123 - val_loss: 1.2160 - val_accuracy: 0.8525\n",
            "Epoch 3/20\n",
            "21/21 [==============================] - 0s 6ms/step - loss: 1.3371 - accuracy: 0.8123 - val_loss: 1.2503 - val_accuracy: 0.8525\n",
            "Epoch 4/20\n",
            "21/21 [==============================] - 0s 6ms/step - loss: 1.3390 - accuracy: 0.8123 - val_loss: 1.2527 - val_accuracy: 0.8525\n",
            "Epoch 5/20\n",
            "21/21 [==============================] - 0s 7ms/step - loss: 1.3913 - accuracy: 0.8123 - val_loss: 1.4104 - val_accuracy: 0.8525\n",
            "Epoch 6/20\n",
            "21/21 [==============================] - 0s 6ms/step - loss: 1.5518 - accuracy: 0.8123 - val_loss: 1.6207 - val_accuracy: 0.8525\n",
            "Epoch 7/20\n",
            "21/21 [==============================] - 0s 8ms/step - loss: 1.9076 - accuracy: 0.8123 - val_loss: 2.2270 - val_accuracy: 0.8525\n",
            "Epoch 8/20\n",
            "21/21 [==============================] - 0s 6ms/step - loss: 2.7481 - accuracy: 0.8123 - val_loss: 3.2981 - val_accuracy: 0.8525\n",
            "Epoch 9/20\n",
            "21/21 [==============================] - 0s 7ms/step - loss: 3.6838 - accuracy: 0.8123 - val_loss: 4.4565 - val_accuracy: 0.8525\n",
            "Epoch 10/20\n",
            "21/21 [==============================] - 0s 6ms/step - loss: 5.0352 - accuracy: 0.8123 - val_loss: 5.5352 - val_accuracy: 0.8525\n",
            "Epoch 11/20\n",
            "21/21 [==============================] - 0s 6ms/step - loss: 6.0173 - accuracy: 0.8123 - val_loss: 6.4480 - val_accuracy: 0.8525\n",
            "Epoch 12/20\n",
            "21/21 [==============================] - 0s 7ms/step - loss: 7.2018 - accuracy: 0.7846 - val_loss: 8.4091 - val_accuracy: 0.8525\n",
            "Epoch 13/20\n",
            "21/21 [==============================] - 0s 6ms/step - loss: 8.6690 - accuracy: 0.7000 - val_loss: 9.9148 - val_accuracy: 0.8525\n",
            "Epoch 14/20\n",
            "21/21 [==============================] - 0s 7ms/step - loss: 8.4893 - accuracy: 0.7185 - val_loss: 9.3230 - val_accuracy: 0.8525\n",
            "Epoch 15/20\n",
            "21/21 [==============================] - 0s 6ms/step - loss: 11.6010 - accuracy: 0.6969 - val_loss: 15.2819 - val_accuracy: 0.1475\n",
            "Epoch 16/20\n",
            "21/21 [==============================] - 0s 8ms/step - loss: 14.8959 - accuracy: 0.6508 - val_loss: 15.9469 - val_accuracy: 0.8525\n",
            "Epoch 17/20\n",
            "21/21 [==============================] - 0s 6ms/step - loss: 15.0558 - accuracy: 0.6769 - val_loss: 23.7405 - val_accuracy: 0.1475\n",
            "Epoch 18/20\n",
            "21/21 [==============================] - 0s 7ms/step - loss: 22.4613 - accuracy: 0.5969 - val_loss: 31.6753 - val_accuracy: 0.8525\n",
            "Epoch 19/20\n",
            "21/21 [==============================] - 0s 6ms/step - loss: 31.9453 - accuracy: 0.6062 - val_loss: 31.4868 - val_accuracy: 0.8525\n",
            "Epoch 20/20\n",
            "21/21 [==============================] - 0s 7ms/step - loss: 24.7921 - accuracy: 0.6554 - val_loss: 30.2932 - val_accuracy: 0.0000e+00\n"
          ]
        }
      ]
    },
    {
      "cell_type": "code",
      "metadata": {
        "colab": {
          "base_uri": "https://localhost:8080/",
          "height": 535
        },
        "id": "955W583c4ZzC",
        "outputId": "1c668d51-8369-4c74-d5fa-835c0a3689ae"
      },
      "source": [
        "import matplotlib.pyplot as plt\n",
        "import numpy as np\n",
        "# plot the training loss and accuracy\n",
        "plt.rcParams[\"figure.figsize\"] = (12,8)\n",
        "N = np.arange(0, 20)\n",
        "plt.style.use(\"ggplot\")\n",
        "plt.figure()\n",
        "plt.plot(N, history4.history[\"loss\"], label=\"train_loss\")\n",
        "plt.plot(N, history4.history[\"val_loss\"], label=\"val_loss\")\n",
        "plt.plot(N, history4.history['accuracy'], label=\"accuracy\")\n",
        "plt.plot(N, history4.history[\"val_accuracy\"], label=\"val_accuracy\")\n",
        "plt.title(\"Training Loss and Accuracy (2 Layered RNN, Dropout=\"+str(drop_val)+')')\n",
        "plt.xlabel(\"Epoch #\")\n",
        "plt.ylabel(\"Loss/Accuracy\")\n",
        "plt.legend()"
      ],
      "execution_count": 31,
      "outputs": [
        {
          "output_type": "execute_result",
          "data": {
            "text/plain": [
              "<matplotlib.legend.Legend at 0x7f3935ba46d0>"
            ]
          },
          "metadata": {},
          "execution_count": 31
        },
        {
          "output_type": "display_data",
          "data": {
            "image/png": "[encoded data removed]",
            "text/plain": [
              "<Figure size 864x576 with 1 Axes>"
            ]
          },
          "metadata": {}
        }
      ]
    },
    {
      "cell_type": "markdown",
      "metadata": {
        "id": "N7qnTsv2_qqY"
      },
      "source": [
        "# GRU 2 layered binary"
      ]
    },
    {
      "cell_type": "code",
      "metadata": {
        "colab": {
          "base_uri": "https://localhost:8080/"
        },
        "id": "r9UJQ-l0DYKN",
        "outputId": "fc9aa66c-f226-468e-f602-e99bf9507bad"
      },
      "source": [
        "model5 = Sequential()\n",
        "model5.add(Embedding(vocab_size, embedding_dim, input_length = max_length))\n",
        "# model.add(SpatialDropout1D(0.4))\n",
        "model5.add(GRU(128, dropout=drop_val, recurrent_dropout=drop_val, activation='LeakyReLU', input_shape=(360,1), return_sequences=True))\n",
        "model5.add(GRU(128, dropout=drop_val, recurrent_dropout=drop_val, activation='LeakyReLU', ))\n",
        "model5.add(Dense(36,activation='tanh'))\n",
        "model5.add(Dense(1,activation='sigmoid'))\n",
        "model5.compile(loss = 'binary_crossentropy', optimizer='adam', metrics = ['accuracy'])\n",
        "model5.summary()\n"
      ],
      "execution_count": 32,
      "outputs": [
        {
          "output_type": "stream",
          "name": "stdout",
          "text": [
            "Model: \"sequential_5\"\n",
            "_________________________________________________________________\n",
            " Layer (type)                Output Shape              Param #   \n",
            "=================================================================\n",
            " embedding_4 (Embedding)     (None, 120, 16)           151040    \n",
            "                                                                 \n",
            " gru (GRU)                   (None, 120, 128)          56064     \n",
            "                                                                 \n",
            " gru_1 (GRU)                 (None, 128)               99072     \n",
            "                                                                 \n",
            " dense_10 (Dense)            (None, 36)                4644      \n",
            "                                                                 \n",
            " dense_11 (Dense)            (None, 1)                 37        \n",
            "                                                                 \n",
            "=================================================================\n",
            "Total params: 310,857\n",
            "Trainable params: 310,857\n",
            "Non-trainable params: 0\n",
            "_________________________________________________________________\n"
          ]
        }
      ]
    },
    {
      "cell_type": "code",
      "metadata": {
        "colab": {
          "base_uri": "https://localhost:8080/"
        },
        "id": "8GEcG-SvEFt1",
        "outputId": "8e5fc4d2-5817-4866-a7a0-5d74946f1eb5"
      },
      "source": [
        "training_labels_final = np.array(y_train)\n",
        "testing_labels_final = np.array(y_test)\n",
        "num_epochs = 20\n",
        "history5 = model5.fit(padded, training_labels_final, epochs=num_epochs, validation_data=(testing_padded, testing_labels_final))"
      ],
      "execution_count": 33,
      "outputs": [
        {
          "output_type": "stream",
          "name": "stdout",
          "text": [
            "Epoch 1/20\n",
            "82/82 [==============================] - 52s 574ms/step - loss: 0.5629 - accuracy: 0.7547 - val_loss: 0.5968 - val_accuracy: 0.7151\n",
            "Epoch 2/20\n",
            "82/82 [==============================] - 46s 567ms/step - loss: 0.5389 - accuracy: 0.7616 - val_loss: 0.5947 - val_accuracy: 0.7128\n",
            "Epoch 3/20\n",
            "82/82 [==============================] - 46s 564ms/step - loss: 0.4341 - accuracy: 0.8012 - val_loss: 0.7208 - val_accuracy: 0.6655\n",
            "Epoch 4/20\n",
            "82/82 [==============================] - 46s 564ms/step - loss: 0.2625 - accuracy: 0.8927 - val_loss: 0.8965 - val_accuracy: 0.5594\n",
            "Epoch 5/20\n",
            "82/82 [==============================] - 47s 568ms/step - loss: 0.1671 - accuracy: 0.9393 - val_loss: 0.9307 - val_accuracy: 0.6551\n",
            "Epoch 6/20\n",
            "82/82 [==============================] - 46s 567ms/step - loss: 0.0923 - accuracy: 0.9696 - val_loss: 1.2418 - val_accuracy: 0.6632\n",
            "Epoch 7/20\n",
            "82/82 [==============================] - 46s 567ms/step - loss: 0.0665 - accuracy: 0.9719 - val_loss: 1.6093 - val_accuracy: 0.6251\n",
            "Epoch 8/20\n",
            "82/82 [==============================] - 47s 571ms/step - loss: 0.0502 - accuracy: 0.9808 - val_loss: 1.6470 - val_accuracy: 0.6644\n",
            "Epoch 9/20\n",
            "82/82 [==============================] - 48s 580ms/step - loss: 0.0561 - accuracy: 0.9823 - val_loss: 1.6928 - val_accuracy: 0.5790\n",
            "Epoch 10/20\n",
            "82/82 [==============================] - 47s 568ms/step - loss: 0.0380 - accuracy: 0.9854 - val_loss: 1.7370 - val_accuracy: 0.6275\n",
            "Epoch 11/20\n",
            "82/82 [==============================] - 46s 566ms/step - loss: 0.0299 - accuracy: 0.9904 - val_loss: 1.7114 - val_accuracy: 0.6367\n",
            "Epoch 12/20\n",
            "82/82 [==============================] - 46s 567ms/step - loss: 0.0303 - accuracy: 0.9892 - val_loss: 1.8031 - val_accuracy: 0.6055\n",
            "Epoch 13/20\n",
            "82/82 [==============================] - 47s 569ms/step - loss: 0.0213 - accuracy: 0.9938 - val_loss: 1.7056 - val_accuracy: 0.6332\n",
            "Epoch 14/20\n",
            "82/82 [==============================] - 47s 570ms/step - loss: 0.0228 - accuracy: 0.9935 - val_loss: 1.8082 - val_accuracy: 0.6182\n",
            "Epoch 15/20\n",
            "82/82 [==============================] - 48s 581ms/step - loss: 0.0138 - accuracy: 0.9958 - val_loss: 1.9386 - val_accuracy: 0.5882\n",
            "Epoch 16/20\n",
            "82/82 [==============================] - 47s 570ms/step - loss: 0.0143 - accuracy: 0.9965 - val_loss: 2.1646 - val_accuracy: 0.6021\n",
            "Epoch 17/20\n",
            "82/82 [==============================] - 47s 569ms/step - loss: 0.0104 - accuracy: 0.9962 - val_loss: 2.1813 - val_accuracy: 0.6275\n",
            "Epoch 18/20\n",
            "82/82 [==============================] - 47s 574ms/step - loss: 0.0093 - accuracy: 0.9969 - val_loss: 2.1770 - val_accuracy: 0.6332\n",
            "Epoch 19/20\n",
            "82/82 [==============================] - 47s 575ms/step - loss: 0.0188 - accuracy: 0.9935 - val_loss: 1.9968 - val_accuracy: 0.6194\n",
            "Epoch 20/20\n",
            "82/82 [==============================] - 47s 573ms/step - loss: 0.0095 - accuracy: 0.9965 - val_loss: 2.1020 - val_accuracy: 0.6332\n"
          ]
        }
      ]
    },
    {
      "cell_type": "code",
      "metadata": {
        "colab": {
          "base_uri": "https://localhost:8080/",
          "height": 535
        },
        "id": "npF-fdFfEYGk",
        "outputId": "76054489-2638-406e-e5cc-fad2b2ee7030"
      },
      "source": [
        "import matplotlib.pyplot as plt\n",
        "import numpy as np\n",
        "# plot the training loss and accuracy\n",
        "plt.rcParams[\"figure.figsize\"] = (12,8)\n",
        "N = np.arange(0, 20)\n",
        "plt.style.use(\"ggplot\")\n",
        "plt.figure()\n",
        "plt.plot(N, history5.history[\"loss\"], label=\"train_loss\")\n",
        "plt.plot(N, history5.history[\"val_loss\"], label=\"val_loss\")\n",
        "plt.plot(N, history5.history['accuracy'], label=\"accuracy\")\n",
        "plt.plot(N, history5.history[\"val_accuracy\"], label=\"val_accuracy\")\n",
        "plt.title(\"Training Loss and Accuracy (2 Layered GRU, Dropout=\"+str(drop_val)+')')\n",
        "plt.xlabel(\"Epoch #\")\n",
        "plt.ylabel(\"Loss/Accuracy\")\n",
        "plt.legend()"
      ],
      "execution_count": 34,
      "outputs": [
        {
          "output_type": "execute_result",
          "data": {
            "text/plain": [
              "<matplotlib.legend.Legend at 0x7f3935ab2390>"
            ]
          },
          "metadata": {},
          "execution_count": 34
        },
        {
          "output_type": "display_data",
          "data": {
            "image/png": "[encoded data removed]",
            "text/plain": [
              "<Figure size 864x576 with 1 Axes>"
            ]
          },
          "metadata": {}
        }
      ]
    },
    {
      "cell_type": "code",
      "metadata": {
        "colab": {
          "base_uri": "https://localhost:8080/"
        },
        "id": "zO0CeL4HEivj",
        "outputId": "f5d5452a-7d58-49ea-e4f8-c289efb4474d"
      },
      "source": [
        "# confusion matrix in sklearn\n",
        "from sklearn.metrics import confusion_matrix\n",
        "from sklearn.metrics import classification_report\n",
        " \n",
        "# actual values\n",
        "actual = testing_labels_final\n",
        "# predicted values\n",
        "predicted = model5.predict(testing_padded)\n",
        "\n",
        "# confusion matrix\n",
        "matrix = confusion_matrix(actual,np.array([int((val-0.5)>0) for val in predicted]), labels=[1,0])\n",
        "print('Confusion matrix : \\n',matrix)\n",
        "\n",
        "# outcome values order in sklearn\n",
        "tp, fn, fp, tn = confusion_matrix(actual,np.array([int((val-0.5)>0) for val in predicted]),labels=[1,0]).reshape(-1)\n",
        "print('Outcome values (tp, fn, fp, tn): \\n', tp, fn, fp, tn)\n",
        "\n",
        "# classification report for precision, recall f1-score and accuracy\n",
        "matrix = classification_report(actual,np.array([int((val-0.5)>0) for val in predicted]),labels=[1,0])\n",
        "print('Classification report : \\n',matrix)"
      ],
      "execution_count": 35,
      "outputs": [
        {
          "output_type": "stream",
          "name": "stdout",
          "text": [
            "Confusion matrix : \n",
            " [[ 73 174]\n",
            " [144 476]]\n",
            "Outcome values (tp, fn, fp, tn): \n",
            " 73 174 144 476\n",
            "Classification report : \n",
            "               precision    recall  f1-score   support\n",
            "\n",
            "           1       0.34      0.30      0.31       247\n",
            "           0       0.73      0.77      0.75       620\n",
            "\n",
            "    accuracy                           0.63       867\n",
            "   macro avg       0.53      0.53      0.53       867\n",
            "weighted avg       0.62      0.63      0.63       867\n",
            "\n"
          ]
        }
      ]
    },
    {
      "cell_type": "markdown",
      "metadata": {
        "id": "jF4JTwI8Eygq"
      },
      "source": [
        "# GRU 2 Layered Multiclass"
      ]
    },
    {
      "cell_type": "code",
      "metadata": {
        "colab": {
          "base_uri": "https://localhost:8080/"
        },
        "id": "8dHlyX9CEuly",
        "outputId": "2db98f18-cb15-4fb2-8fdf-a7ff3424576a"
      },
      "source": [
        "model6 = Sequential()\n",
        "model6.add(Embedding(vocab_size, embedding_dim, input_length = max_length))\n",
        "# model.add(SpatialDropout1D(0.4))\n",
        "model6.add(GRU(128, dropout=drop_val, recurrent_dropout=drop_val, activation='LeakyReLU', input_shape=(360,1), return_sequences=True))\n",
        "model6.add(GRU(128, dropout=drop_val, recurrent_dropout=drop_val, activation='LeakyReLU', ))\n",
        "model6.add(Dense(36,activation='tanh'))\n",
        "model6.add(Dense(6,activation='sigmoid'))\n",
        "model6.compile(loss = tf.keras.losses.CategoricalCrossentropy(), optimizer='adam', metrics = ['accuracy'])\n",
        "model6.summary()"
      ],
      "execution_count": 36,
      "outputs": [
        {
          "output_type": "stream",
          "name": "stdout",
          "text": [
            "Model: \"sequential_6\"\n",
            "_________________________________________________________________\n",
            " Layer (type)                Output Shape              Param #   \n",
            "=================================================================\n",
            " embedding_5 (Embedding)     (None, 120, 16)           151040    \n",
            "                                                                 \n",
            " gru_2 (GRU)                 (None, 120, 128)          56064     \n",
            "                                                                 \n",
            " gru_3 (GRU)                 (None, 128)               99072     \n",
            "                                                                 \n",
            " dense_12 (Dense)            (None, 36)                4644      \n",
            "                                                                 \n",
            " dense_13 (Dense)            (None, 6)                 222       \n",
            "                                                                 \n",
            "=================================================================\n",
            "Total params: 311,042\n",
            "Trainable params: 311,042\n",
            "Non-trainable params: 0\n",
            "_________________________________________________________________\n"
          ]
        }
      ]
    },
    {
      "cell_type": "code",
      "metadata": {
        "colab": {
          "base_uri": "https://localhost:8080/"
        },
        "id": "BQe7ofeoF4yn",
        "outputId": "2301cda7-542e-4bfa-da40-ca6eee176a7c"
      },
      "source": [
        "training_labels_final = np.array(y_train)\n",
        "testing_labels_final = np.array(y_test)\n",
        "num_epochs = 20\n",
        "history6 = model6.fit(padded_mn, training_labels_final_mn, epochs=num_epochs, validation_data=(testing_padded_mn, testing_labels_final_mn))"
      ],
      "execution_count": 37,
      "outputs": [
        {
          "output_type": "stream",
          "name": "stdout",
          "text": [
            "Epoch 1/20\n",
            "21/21 [==============================] - 18s 607ms/step - loss: 1.7959 - accuracy: 0.7769 - val_loss: 1.4053 - val_accuracy: 0.8525\n",
            "Epoch 2/20\n",
            "21/21 [==============================] - 12s 577ms/step - loss: 1.4398 - accuracy: 0.8123 - val_loss: 1.4198 - val_accuracy: 0.8525\n",
            "Epoch 3/20\n",
            "21/21 [==============================] - 12s 571ms/step - loss: 1.4689 - accuracy: 0.8123 - val_loss: 1.3254 - val_accuracy: 0.8525\n",
            "Epoch 4/20\n",
            "21/21 [==============================] - 12s 578ms/step - loss: 1.3763 - accuracy: 0.8123 - val_loss: 1.3063 - val_accuracy: 0.8525\n",
            "Epoch 5/20\n",
            "21/21 [==============================] - 12s 573ms/step - loss: 1.3736 - accuracy: 0.8123 - val_loss: 1.2965 - val_accuracy: 0.8525\n",
            "Epoch 6/20\n",
            "21/21 [==============================] - 12s 572ms/step - loss: 1.3584 - accuracy: 0.8123 - val_loss: 1.2858 - val_accuracy: 0.8525\n",
            "Epoch 7/20\n",
            "21/21 [==============================] - 12s 586ms/step - loss: 1.3530 - accuracy: 0.8123 - val_loss: 1.2775 - val_accuracy: 0.8525\n",
            "Epoch 8/20\n",
            "21/21 [==============================] - 12s 578ms/step - loss: 1.3451 - accuracy: 0.8123 - val_loss: 1.2696 - val_accuracy: 0.8525\n",
            "Epoch 9/20\n",
            "21/21 [==============================] - 12s 580ms/step - loss: 1.3414 - accuracy: 0.8123 - val_loss: 1.2623 - val_accuracy: 0.8525\n",
            "Epoch 10/20\n",
            "21/21 [==============================] - 12s 574ms/step - loss: 1.3331 - accuracy: 0.8123 - val_loss: 1.2569 - val_accuracy: 0.8525\n",
            "Epoch 11/20\n",
            "21/21 [==============================] - 12s 570ms/step - loss: 1.3320 - accuracy: 0.8123 - val_loss: 1.2548 - val_accuracy: 0.8525\n",
            "Epoch 12/20\n",
            "21/21 [==============================] - 12s 571ms/step - loss: 1.3313 - accuracy: 0.8123 - val_loss: 1.2499 - val_accuracy: 0.8525\n",
            "Epoch 13/20\n",
            "21/21 [==============================] - 12s 592ms/step - loss: 1.3253 - accuracy: 0.8123 - val_loss: 1.2488 - val_accuracy: 0.8525\n",
            "Epoch 14/20\n",
            "21/21 [==============================] - 12s 583ms/step - loss: 1.3218 - accuracy: 0.8123 - val_loss: 1.2498 - val_accuracy: 0.8525\n",
            "Epoch 15/20\n",
            "21/21 [==============================] - 12s 578ms/step - loss: 1.3340 - accuracy: 0.8123 - val_loss: 1.2568 - val_accuracy: 0.8525\n",
            "Epoch 16/20\n",
            "21/21 [==============================] - 12s 581ms/step - loss: 1.3401 - accuracy: 0.8123 - val_loss: 1.2518 - val_accuracy: 0.8525\n",
            "Epoch 17/20\n",
            "21/21 [==============================] - 12s 573ms/step - loss: 1.3272 - accuracy: 0.8123 - val_loss: 1.2500 - val_accuracy: 0.8525\n",
            "Epoch 18/20\n",
            "21/21 [==============================] - 12s 570ms/step - loss: 1.3337 - accuracy: 0.8123 - val_loss: 1.2483 - val_accuracy: 0.8525\n",
            "Epoch 19/20\n",
            "21/21 [==============================] - 12s 562ms/step - loss: 1.3227 - accuracy: 0.8123 - val_loss: 1.2483 - val_accuracy: 0.8525\n",
            "Epoch 20/20\n",
            "21/21 [==============================] - 12s 567ms/step - loss: 1.3321 - accuracy: 0.8123 - val_loss: 1.2526 - val_accuracy: 0.8525\n"
          ]
        }
      ]
    },
    {
      "cell_type": "code",
      "metadata": {
        "id": "1LCATsOZGRPi"
      },
      "source": [
        "import matplotlib.pyplot as plt\n",
        "import numpy as np\n",
        "# plot the training loss and accuracy\n",
        "plt.rcParams[\"figure.figsize\"] = (12,8)\n",
        "N = np.arange(0, 20)\n",
        "plt.style.use(\"ggplot\")\n",
        "plt.figure()\n",
        "plt.plot(N, history6.history[\"loss\"], label=\"train_loss\")\n",
        "plt.plot(N, history6.history[\"val_loss\"], label=\"val_loss\")\n",
        "plt.plot(N, history6.history['accuracy'], label=\"accuracy\")\n",
        "plt.plot(N, history6.history[\"val_accuracy\"], label=\"val_accuracy\")\n",
        "plt.title(\"Training Loss and Accuracy (2 Layered GRU, Dropout=\"+str(drop_val)+')')\n",
        "plt.xlabel(\"Epoch #\")\n",
        "plt.ylabel(\"Loss/Accuracy\")\n",
        "plt.legend()"
      ],
      "execution_count": null,
      "outputs": []
    },
    {
      "cell_type": "markdown",
      "metadata": {
        "id": "7WEGQvl2G82r"
      },
      "source": [
        "#BiLSTM"
      ]
    },
    {
      "cell_type": "code",
      "metadata": {
        "id": "IMUy3E9VGm7H"
      },
      "source": [
        "model7 = Sequential()\n",
        "model7.add(Embedding(vocab_size, embedding_dim, input_length = max_length))\n",
        "model7.add(Bidirectional(LSTM(20, return_sequences=True, dropout=drop_val, activation='LeakyReLU')))\n",
        "model7.add(Bidirectional(LSTM(20, dropout=drop_val, activation='LeakyReLU')))\n",
        "model7.add(Dense(36,activation='tanh'))\n",
        "model7.add(Dense(1,activation='sigmoid'))\n",
        "model7.compile(loss = 'binary_crossentropy', optimizer='adam', metrics = ['accuracy'])\n",
        "model7.summary()\n",
        "\n"
      ],
      "execution_count": null,
      "outputs": []
    },
    {
      "cell_type": "code",
      "metadata": {
        "id": "dmP8suiwKsdG"
      },
      "source": [
        "training_labels_final = np.array(y_train)\n",
        "testing_labels_final = np.array(y_test)\n",
        "num_epochs = 20\n",
        "history7 = model7.fit(padded, training_labels_final, epochs=num_epochs, validation_data=(testing_padded, testing_labels_final))"
      ],
      "execution_count": null,
      "outputs": []
    },
    {
      "cell_type": "code",
      "metadata": {
        "id": "ou1WPE0qLmxQ"
      },
      "source": [
        "import matplotlib.pyplot as plt\n",
        "import numpy as np\n",
        "# plot the training loss and accuracy\n",
        "plt.rcParams[\"figure.figsize\"] = (12,8)\n",
        "N = np.arange(0, 20)\n",
        "plt.style.use(\"ggplot\")\n",
        "plt.figure()\n",
        "plt.plot(N, history7.history[\"loss\"], label=\"train_loss\")\n",
        "plt.plot(N, history7.history[\"val_loss\"], label=\"val_loss\")\n",
        "plt.plot(N, history7.history['accuracy'], label=\"accuracy\")\n",
        "plt.plot(N, history7.history[\"val_accuracy\"], label=\"val_accuracy\")\n",
        "plt.title(\"Training Loss and Accuracy (2 Layered bidirectional LSTM, Dropout=\"+str(drop_val)+')')\n",
        "plt.xlabel(\"Epoch #\")\n",
        "plt.ylabel(\"Loss/Accuracy\")\n",
        "plt.legend()"
      ],
      "execution_count": null,
      "outputs": []
    },
    {
      "cell_type": "code",
      "metadata": {
        "colab": {
          "base_uri": "https://localhost:8080/"
        },
        "id": "-vJV8XP0L2Vo",
        "outputId": "a2fde94f-57b9-455e-cb0e-9a27a9e34d97"
      },
      "source": [
        "# confusion matrix in sklearn\n",
        "from sklearn.metrics import confusion_matrix\n",
        "from sklearn.metrics import classification_report\n",
        " \n",
        "# actual values\n",
        "actual = testing_labels_final\n",
        "# predicted values\n",
        "predicted = model5.predict(testing_padded)\n",
        "\n",
        "# confusion matrix\n",
        "matrix = confusion_matrix(actual,np.array([int((val)>0) for val in predicted]), labels=[1,0])\n",
        "print('Confusion matrix : \\n',matrix)\n",
        "\n",
        "# outcome values order in sklearn\n",
        "tp, fn, fp, tn = confusion_matrix(actual,np.array([int((val)>0) for val in predicted]),labels=[1,0]).reshape(-1)\n",
        "print('Outcome values (tp, fn, fp, tn): \\n', tp, fn, fp, tn)\n",
        "\n",
        "# classification report for precision, recall f1-score and accuracy\n",
        "matrix = classification_report(actual,np.array([int((val)>0) for val in predicted]),labels=[1,0])\n",
        "print('Classification report : \\n',matrix)"
      ],
      "execution_count": 42,
      "outputs": [
        {
          "output_type": "stream",
          "name": "stdout",
          "text": [
            "Confusion matrix : \n",
            " [[247   0]\n",
            " [620   0]]\n",
            "Outcome values (tp, fn, fp, tn): \n",
            " 247 0 620 0\n",
            "Classification report : \n",
            "               precision    recall  f1-score   support\n",
            "\n",
            "           1       0.28      1.00      0.44       247\n",
            "           0       0.00      0.00      0.00       620\n",
            "\n",
            "    accuracy                           0.28       867\n",
            "   macro avg       0.14      0.50      0.22       867\n",
            "weighted avg       0.08      0.28      0.13       867\n",
            "\n"
          ]
        },
        {
          "output_type": "stream",
          "name": "stderr",
          "text": [
            "/usr/local/lib/python3.7/dist-packages/sklearn/metrics/_classification.py:1308: UndefinedMetricWarning: Precision and F-score are ill-defined and being set to 0.0 in labels with no predicted samples. Use `zero_division` parameter to control this behavior.\n",
            "  _warn_prf(average, modifier, msg_start, len(result))\n",
            "/usr/local/lib/python3.7/dist-packages/sklearn/metrics/_classification.py:1308: UndefinedMetricWarning: Precision and F-score are ill-defined and being set to 0.0 in labels with no predicted samples. Use `zero_division` parameter to control this behavior.\n",
            "  _warn_prf(average, modifier, msg_start, len(result))\n",
            "/usr/local/lib/python3.7/dist-packages/sklearn/metrics/_classification.py:1308: UndefinedMetricWarning: Precision and F-score are ill-defined and being set to 0.0 in labels with no predicted samples. Use `zero_division` parameter to control this behavior.\n",
            "  _warn_prf(average, modifier, msg_start, len(result))\n"
          ]
        }
      ]
    },
    {
      "cell_type": "markdown",
      "metadata": {
        "id": "NkAbBg4BMFOe"
      },
      "source": [
        "#BiDirectional LSTM multi-class"
      ]
    },
    {
      "cell_type": "code",
      "metadata": {
        "id": "RqP7y1MuMRhQ"
      },
      "source": [
        "model8 = Sequential()\n",
        "model8.add(Embedding(vocab_size, embedding_dim, input_length = max_length))\n",
        "model8.add(Bidirectional(LSTM(128, return_sequences=True, dropout=drop_val, activation='tanh')))\n",
        "model8.add(Bidirectional(LSTM(128, dropout=drop_val, activation='tanh')))\n",
        "model8.add(Dense(36,activation='tanh'))\n",
        "model8.add(Dense(6,activation='sigmoid'))\n",
        "model8.compile(loss = tf.keras.losses.CategoricalCrossentropy(), optimizer='adam', metrics = ['accuracy'])\n",
        "model8.summary()\n",
        "\n"
      ],
      "execution_count": null,
      "outputs": []
    },
    {
      "cell_type": "code",
      "metadata": {
        "id": "UE_53viRMwxo"
      },
      "source": [
        "training_labels_final = np.array(y_train)\n",
        "testing_labels_final = np.array(y_test)\n",
        "num_epochs = 20\n",
        "history8 = model8.fit(padded_mn, training_labels_final_mn, epochs=num_epochs, validation_data=(testing_padded_mn, testing_labels_final_mn))"
      ],
      "execution_count": null,
      "outputs": []
    },
    {
      "cell_type": "code",
      "metadata": {
        "id": "L8TJ_WwGMEBb"
      },
      "source": [
        "import matplotlib.pyplot as plt\n",
        "import numpy as np\n",
        "# plot the training loss and accuracy\n",
        "plt.rcParams[\"figure.figsize\"] = (12,8)\n",
        "N = np.arange(0, 20)\n",
        "plt.style.use(\"ggplot\")\n",
        "plt.figure()\n",
        "plt.plot(N, history7.history[\"loss\"], label=\"train_loss\")\n",
        "plt.plot(N, history7.history[\"val_loss\"], label=\"val_loss\")\n",
        "plt.plot(N, history7.history['accuracy'], label=\"accuracy\")\n",
        "plt.plot(N, history7.history[\"val_accuracy\"], label=\"val_accuracy\")\n",
        "plt.title(\"Training Loss and Accuracy (2 Layered bidirectional LSTM, Dropout=\"+str(drop_val)+')')\n",
        "plt.xlabel(\"Epoch #\")\n",
        "plt.ylabel(\"Loss/Accuracy\")\n",
        "plt.legend()"
      ],
      "execution_count": null,
      "outputs": []
    },
    {
      "cell_type": "code",
      "metadata": {
        "id": "vW6A5c8qTACz"
      },
      "source": [
        ""
      ],
      "execution_count": 45,
      "outputs": []
    }
  ]
}