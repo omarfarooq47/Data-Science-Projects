{
 "cells": [
  {
   "cell_type": "markdown",
   "metadata": {},
   "source": [
    "# Omar Farooq\n",
    "## BIG DATA ANALYTICS using Spark\n",
    "### ASSIGNMENT 2"
   ]
  },
  {
   "cell_type": "code",
   "execution_count": 1,
   "metadata": {},
   "outputs": [],
   "source": [
    "import findspark\n",
    "findspark.init()\n",
    "import pyspark\n",
    "from pyspark.sql import *\n",
    "from pyspark import SparkContext, SparkConf"
   ]
  },
  {
   "cell_type": "code",
   "execution_count": 2,
   "metadata": {},
   "outputs": [],
   "source": [
    "# create the session\n",
    "conf = pyspark.SparkConf().setAppName('app').setMaster('local')\n",
    "# create the context\n",
    "sc = pyspark.SparkContext(conf=conf)\n",
    "spark = SparkSession(sc)"
   ]
  },
  {
   "cell_type": "code",
   "execution_count": 3,
   "metadata": {},
   "outputs": [
    {
     "data": {
      "text/html": [
       "\n",
       "            <div>\n",
       "                <p><b>SparkSession - in-memory</b></p>\n",
       "                \n",
       "        <div>\n",
       "            <p><b>SparkContext</b></p>\n",
       "\n",
       "            <p><a href=\"http://DESKTOP-0AJA08S.Dlink:4040\">Spark UI</a></p>\n",
       "\n",
       "            <dl>\n",
       "              <dt>Version</dt>\n",
       "                <dd><code>v3.0.2</code></dd>\n",
       "              <dt>Master</dt>\n",
       "                <dd><code>local</code></dd>\n",
       "              <dt>AppName</dt>\n",
       "                <dd><code>assignment2</code></dd>\n",
       "            </dl>\n",
       "        </div>\n",
       "        \n",
       "            </div>\n",
       "        "
      ],
      "text/plain": [
       "<pyspark.sql.session.SparkSession at 0x26e126bab20>"
      ]
     },
     "execution_count": 3,
     "metadata": {},
     "output_type": "execute_result"
    }
   ],
   "source": [
    "spark"
   ]
  },
  {
   "cell_type": "markdown",
   "metadata": {},
   "source": [
    "##### Determine the number of long comments given by each users where the length of the long comment should be greater than 20 alphabets."
   ]
  },
  {
   "cell_type": "code",
   "execution_count": null,
   "metadata": {},
   "outputs": [],
   "source": [
    "Data = sc.textFile(\"log1.txt\")"
   ]
  },
  {
   "cell_type": "code",
   "execution_count": 25,
   "metadata": {},
   "outputs": [
    {
     "data": {
      "text/plain": [
       "[('Aliyar', 5), ('Dumdar', 5), ('Ertugul', 6)]"
      ]
     },
     "execution_count": 25,
     "metadata": {},
     "output_type": "execute_result"
    }
   ],
   "source": [
    "comments = Data.map(lambda line: line.split(','))\n",
    "lngcmnts = comments.filter(lambda x: len(x[1])>20)\n",
    "cmntmap = lngcmnts.map(lambda line: (line[0], 1))\n",
    "cmntcount = cmntmap.reduceByKey(lambda x,y: x+y)\n",
    "cmntcount.collect()"
   ]
  },
  {
   "cell_type": "markdown",
   "metadata": {},
   "source": [
    "##### Count the number of UserNames starting with each English alphabet."
   ]
  },
  {
   "cell_type": "code",
   "execution_count": 26,
   "metadata": {},
   "outputs": [
    {
     "data": {
      "text/plain": [
       "['Aliyar', 'Dumdar', 'Ertugul']"
      ]
     },
     "execution_count": 26,
     "metadata": {},
     "output_type": "execute_result"
    }
   ],
   "source": [
    "names = Data.map(lambda line: line.split(',')[0]).distinct()\n",
    "names.collect()"
   ]
  },
  {
   "cell_type": "code",
   "execution_count": 27,
   "metadata": {},
   "outputs": [
    {
     "data": {
      "text/plain": [
       "[('A', 1), ('D', 1), ('E', 1)]"
      ]
     },
     "execution_count": 27,
     "metadata": {},
     "output_type": "execute_result"
    }
   ],
   "source": [
    "alphamap = names.map(lambda name: (name[0], 1))\n",
    "alphacount = alphamap.reduceByKey(lambda x,y: x+y)\n",
    "alphacount.collect()"
   ]
  },
  {
   "cell_type": "markdown",
   "metadata": {},
   "source": [
    "##### Write custom partitioner to partition the data on the basis of first letter of user name."
   ]
  },
  {
   "cell_type": "code",
   "execution_count": 28,
   "metadata": {},
   "outputs": [
    {
     "data": {
      "text/plain": [
       "[('A',\n",
       "  [\"Aliyar, This is my first pair of 5-pocket jeans I've purchased from Dickies I typically wear 505s in 36x32 for everyday wear I used to work construction and religiously\",\n",
       "   'Aliyar, I decided to order the Indigo Blue Rough in 36x34 When the jeans first arrived they were very stiff and looked huge on me Too wide in the waist and way too ',\n",
       "   \"Aliyar, In the future I'd probably order 36x32 instead of 36x34 I don't like having to worry about my jeans shrinking so I always buy on the larger side and warm wash and high dry\",\n",
       "   'Aliyar, Very nice color nice deep dark indigo Very similar to the 501 shrink-to-fit',\n",
       "   'Aliyar, The leg opening is about 1\" wider than my 505s Not as slim as my 505s but definitely not in the baggy category I\\'d definitely buy again']),\n",
       " ('D',\n",
       "  ['Dumdar, wore the Carpenter Duck jeans in 36x34',\n",
       "   'Dumdar, long in the length But after a hot wash and high heat dry they fit much better The waist is perfect I always wear a belt Still about 15\" too long but that\\'s ',\n",
       "   \"Dumdar, due to my error when ordering Nothing a little hem can't fix\",\n",
       "   'Dumdar, at too high a price and wearing them every day wore them out in short order ',\n",
       "   'Dumdar, couple from a few years ago have bleach splash spots from cleaning stuff and yard and car (and motorcycle) stains at the knees I now have 6 pair and wear them every day ']),\n",
       " ('E',\n",
       "  [\"Ertugul, These are the best jeans you can get and they're inexpensive to boot I'm an old guy (61 now) and have worn 'Dad Jeans' for many years \",\n",
       "   \"Ertugul, The most comfortable jeans I've ever had out of the package were a pair from LLBean that felt like super soft cotton but they were on sale and since have only been available \",\n",
       "   'Ertugul, Dickies on the other hand may not be as soft out of the package but get very very comfortable within just a few washings and wear like iron Since the first ',\n",
       "   \"Ertugul, Originally got stone washed for daily wear and indigo for a little more formal (in a jeans-sense) but have since found that indigo becomes a nice stone washed after a few months so now that's what I get and simply let them fade over time\",\n",
       "   'Ertugul, still great jeans just wanted to say I just checked and all of mine were made in Mexico',\n",
       "   \"Ertugul, If you don't need that magic stitching on the back pocket but need jeans that will feel great and hold up over time these are your jeans\"])]"
      ]
     },
     "execution_count": 28,
     "metadata": {},
     "output_type": "execute_result"
    }
   ],
   "source": [
    "alphacomments = Data.map(lambda line: (line[0], line))\n",
    "partioned = alphacomments.groupByKey().map(lambda x : (x[0], list(x[1])))\n",
    "partioned.collect()"
   ]
  },
  {
   "cell_type": "markdown",
   "metadata": {},
   "source": [
    "##### Sort the data on the basis of the length of the comment given by each user."
   ]
  },
  {
   "cell_type": "code",
   "execution_count": 29,
   "metadata": {},
   "outputs": [
    {
     "data": {
      "text/plain": [
       "[\"Ertugul, Originally got stone washed for daily wear and indigo for a little more formal (in a jeans-sense) but have since found that indigo becomes a nice stone washed after a few months so now that's what I get and simply let them fade over time\",\n",
       " \"Ertugul, The most comfortable jeans I've ever had out of the package were a pair from LLBean that felt like super soft cotton but they were on sale and since have only been available \",\n",
       " \"Aliyar, In the future I'd probably order 36x32 instead of 36x34 I don't like having to worry about my jeans shrinking so I always buy on the larger side and warm wash and high dry\",\n",
       " 'Dumdar, couple from a few years ago have bleach splash spots from cleaning stuff and yard and car (and motorcycle) stains at the knees I now have 6 pair and wear them every day ',\n",
       " \"Aliyar, This is my first pair of 5-pocket jeans I've purchased from Dickies I typically wear 505s in 36x32 for everyday wear I used to work construction and religiously\",\n",
       " 'Dumdar, long in the length But after a hot wash and high heat dry they fit much better The waist is perfect I always wear a belt Still about 15\" too long but that\\'s ',\n",
       " 'Aliyar, I decided to order the Indigo Blue Rough in 36x34 When the jeans first arrived they were very stiff and looked huge on me Too wide in the waist and way too ',\n",
       " 'Ertugul, Dickies on the other hand may not be as soft out of the package but get very very comfortable within just a few washings and wear like iron Since the first ',\n",
       " \"Ertugul, If you don't need that magic stitching on the back pocket but need jeans that will feel great and hold up over time these are your jeans\",\n",
       " 'Aliyar, The leg opening is about 1\" wider than my 505s Not as slim as my 505s but definitely not in the baggy category I\\'d definitely buy again',\n",
       " \"Ertugul, These are the best jeans you can get and they're inexpensive to boot I'm an old guy (61 now) and have worn 'Dad Jeans' for many years \",\n",
       " 'Ertugul, still great jeans just wanted to say I just checked and all of mine were made in Mexico',\n",
       " 'Dumdar, at too high a price and wearing them every day wore them out in short order ',\n",
       " 'Aliyar, Very nice color nice deep dark indigo Very similar to the 501 shrink-to-fit',\n",
       " \"Dumdar, due to my error when ordering Nothing a little hem can't fix\",\n",
       " 'Dumdar, wore the Carpenter Duck jeans in 36x34']"
      ]
     },
     "execution_count": 29,
     "metadata": {},
     "output_type": "execute_result"
    }
   ],
   "source": [
    "Data.sortBy(lambda line: len(line.split(',')[1]), ascending=False).collect()"
   ]
  },
  {
   "cell_type": "markdown",
   "metadata": {},
   "source": [
    "##### Find the user who have given maximum number of comments"
   ]
  },
  {
   "cell_type": "code",
   "execution_count": 33,
   "metadata": {},
   "outputs": [
    {
     "data": {
      "text/plain": [
       "'Ertugul'"
      ]
     },
     "execution_count": 33,
     "metadata": {},
     "output_type": "execute_result"
    }
   ],
   "source": [
    "usrcmnt = Data.map(lambda line: (line.split(',')[0], 1))\n",
    "usrcmnt.reduceByKey(lambda x,y: x+y).top(1, key=lambda x: x[1])[0][0]"
   ]
  },
  {
   "cell_type": "markdown",
   "metadata": {},
   "source": [
    "##### remove stop words from the comments of the users in the above dataset."
   ]
  },
  {
   "cell_type": "code",
   "execution_count": 5,
   "metadata": {},
   "outputs": [],
   "source": [
    "stopWords = sc.textFile(\"stop_words_english.txt\").map(lambda x: x)\n",
    "broadcastWords = sc.broadcast(stopWords.collect())"
   ]
  },
  {
   "cell_type": "code",
   "execution_count": 6,
   "metadata": {},
   "outputs": [
    {
     "data": {
      "text/plain": [
       "[['jeans',\n",
       "  'work',\n",
       "  'typically',\n",
       "  'stiff',\n",
       "  'construction',\n",
       "  'This',\n",
       "  '36x32',\n",
       "  'pair',\n",
       "  'religiously',\n",
       "  'wear',\n",
       "  'Dickies',\n",
       "  '5-pocket',\n",
       "  'purchased',\n",
       "  '505s',\n",
       "  \"I've\",\n",
       "  'everyday'],\n",
       " ['jeans', 'Duck', 'stiff', 'Carpenter', '36x34', 'wore'],\n",
       " ['jeans',\n",
       "  'Too',\n",
       "  'stiff',\n",
       "  'huge',\n",
       "  'Indigo',\n",
       "  'waist',\n",
       "  'looked',\n",
       "  'wide',\n",
       "  'arrived',\n",
       "  'When',\n",
       "  'Blue',\n",
       "  '36x34',\n",
       "  'order',\n",
       "  'decided',\n",
       "  'Rough'],\n",
       " ['wash',\n",
       "  'stiff',\n",
       "  'perfect',\n",
       "  'waist',\n",
       "  'Still',\n",
       "  'length',\n",
       "  'belt',\n",
       "  'fit',\n",
       "  'wear',\n",
       "  'hot',\n",
       "  'dry',\n",
       "  '15\"',\n",
       "  'But',\n",
       "  'heat',\n",
       "  'high',\n",
       "  'long',\n",
       "  'The'],\n",
       " ['hem', 'Nothing', 'error', 'ordering'],\n",
       " ['jeans',\n",
       "  'wash',\n",
       "  'worry',\n",
       "  'larger',\n",
       "  'stiff',\n",
       "  'buy',\n",
       "  \"I'd\",\n",
       "  '36x32',\n",
       "  'warm',\n",
       "  '36x34',\n",
       "  'order',\n",
       "  'dry',\n",
       "  'high',\n",
       "  'In',\n",
       "  'shrinking',\n",
       "  'future'],\n",
       " ['Very', 'shrink-to-fit', 'deep', 'dark', 'indigo', '501', 'color', 'nice'],\n",
       " ['leg',\n",
       "  'opening',\n",
       "  'buy',\n",
       "  \"I'd\",\n",
       "  '1\"',\n",
       "  'Not',\n",
       "  'wider',\n",
       "  'category',\n",
       "  'slim',\n",
       "  '505s',\n",
       "  'The',\n",
       "  'baggy'],\n",
       " ['jeans',\n",
       "  'inexpensive',\n",
       "  'worn',\n",
       "  'boot',\n",
       "  'stiff',\n",
       "  \"Jeans'\",\n",
       "  'guy',\n",
       "  \"I'm\",\n",
       "  'These',\n",
       "  \"'Dad\",\n",
       "  'years',\n",
       "  'now)',\n",
       "  '(61'],\n",
       " ['jeans',\n",
       "  'felt',\n",
       "  'LLBean',\n",
       "  'super',\n",
       "  'stiff',\n",
       "  'The',\n",
       "  'comfortable',\n",
       "  'pair',\n",
       "  'cotton',\n",
       "  'sale',\n",
       "  'package',\n",
       "  \"I've\",\n",
       "  'soft'],\n",
       " ['wearing', 'short', 'wore', 'price', 'order', 'high', 'day'],\n",
       " ['iron',\n",
       "  'stiff',\n",
       "  'comfortable',\n",
       "  'Since',\n",
       "  'wear',\n",
       "  'Dickies',\n",
       "  'package',\n",
       "  'hand',\n",
       "  'washings',\n",
       "  'soft'],\n",
       " ['(and',\n",
       "  'stuff',\n",
       "  'stiff',\n",
       "  'spots',\n",
       "  'motorcycle)',\n",
       "  'car',\n",
       "  'bleach',\n",
       "  'pair',\n",
       "  'cleaning',\n",
       "  '6',\n",
       "  'splash',\n",
       "  'knees',\n",
       "  'years',\n",
       "  'day',\n",
       "  'yard',\n",
       "  'wear',\n",
       "  'stains',\n",
       "  'couple'],\n",
       " ['simply',\n",
       "  'jeans-sense)',\n",
       "  'formal',\n",
       "  'stiff',\n",
       "  'time',\n",
       "  'Originally',\n",
       "  'indigo',\n",
       "  'wear',\n",
       "  'months',\n",
       "  'fade',\n",
       "  'washed',\n",
       "  'stone',\n",
       "  '(in',\n",
       "  'daily',\n",
       "  'nice'],\n",
       " ['jeans', 'stiff', 'great', 'checked', 'Mexico', 'wanted'],\n",
       " ['magic',\n",
       "  'jeans',\n",
       "  'pocket',\n",
       "  'stiff',\n",
       "  'feel',\n",
       "  'stitching',\n",
       "  'If',\n",
       "  'hold',\n",
       "  'great',\n",
       "  'time']]"
      ]
     },
     "execution_count": 6,
     "metadata": {},
     "output_type": "execute_result"
    }
   ],
   "source": [
    "wordsWithoutStopWords = Data.map(lambda x: list(set(x.split(',')[1].split(' ')).difference(set(broadcastWords.value)))[1:])\n",
    "wordsWithoutStopWords.collect()"
   ]
  },
  {
   "cell_type": "markdown",
   "metadata": {},
   "source": [
    "##### generate co-occurring words that co-occurred more than 5 times in the comments"
   ]
  },
  {
   "cell_type": "code",
   "execution_count": 7,
   "metadata": {},
   "outputs": [],
   "source": [
    "import itertools"
   ]
  },
  {
   "cell_type": "code",
   "execution_count": 8,
   "metadata": {},
   "outputs": [],
   "source": [
    "rddx = wordsWithoutStopWords.map(lambda x: [(combination, 1) for i in range(2,len(x)+1) for combination in itertools.combinations(x, i)])"
   ]
  },
  {
   "cell_type": "code",
   "execution_count": 9,
   "metadata": {},
   "outputs": [],
   "source": [
    "rddy = rddx.flatMap(lambda x: x).reduceByKey(lambda x,y: x+y)"
   ]
  },
  {
   "cell_type": "code",
   "execution_count": 12,
   "metadata": {},
   "outputs": [],
   "source": [
    "rddz = rddy.sortBy(lambda a: a[1], ascending=False).filter(lambda x: x[1]>5)"
   ]
  },
  {
   "cell_type": "code",
   "execution_count": 13,
   "metadata": {},
   "outputs": [
    {
     "data": {
      "text/plain": [
       "[(('jeans', 'stiff'), 8)]"
      ]
     },
     "execution_count": 13,
     "metadata": {},
     "output_type": "execute_result"
    }
   ],
   "source": [
    "rddz.collect()"
   ]
  },
  {
   "cell_type": "markdown",
   "metadata": {},
   "source": [
    "# The End"
   ]
  }
 ],
 "metadata": {
  "kernelspec": {
   "display_name": "Python 3 (ipykernel)",
   "language": "python",
   "name": "python3"
  },
  "language_info": {
   "codemirror_mode": {
    "name": "ipython",
    "version": 3
   },
   "file_extension": ".py",
   "mimetype": "text/x-python",
   "name": "python",
   "nbconvert_exporter": "python",
   "pygments_lexer": "ipython3",
   "version": "3.9.7"
  }
 },
 "nbformat": 4,
 "nbformat_minor": 4
}
