{
 "cells": [
  {
   "cell_type": "markdown",
   "metadata": {
    "id": "WSLpGmfTfIXG"
   },
   "source": [
    "# Omar Farooq\n",
    "# Naive-bayes from scratch"
   ]
  },
  {
   "cell_type": "code",
   "execution_count": 1,
   "metadata": {
    "id": "RJIRb6isfIXM"
   },
   "outputs": [],
   "source": [
    "import pandas as pd\n",
    "import numpy as np"
   ]
  },
  {
   "cell_type": "code",
   "execution_count": 2,
   "metadata": {
    "id": "kXCsMFVRfIXO",
    "outputId": "c15a5450-d02f-4f00-ca0c-a7eb67f3fdb3"
   },
   "outputs": [
    {
     "data": {
      "text/html": [
       "<div>\n",
       "<style scoped>\n",
       "    .dataframe tbody tr th:only-of-type {\n",
       "        vertical-align: middle;\n",
       "    }\n",
       "\n",
       "    .dataframe tbody tr th {\n",
       "        vertical-align: top;\n",
       "    }\n",
       "\n",
       "    .dataframe thead th {\n",
       "        text-align: right;\n",
       "    }\n",
       "</style>\n",
       "<table border=\"1\" class=\"dataframe\">\n",
       "  <thead>\n",
       "    <tr style=\"text-align: right;\">\n",
       "      <th></th>\n",
       "      <th>Outlook</th>\n",
       "      <th>Temp</th>\n",
       "      <th>Humidity</th>\n",
       "      <th>Windy</th>\n",
       "      <th>Play Golf</th>\n",
       "    </tr>\n",
       "  </thead>\n",
       "  <tbody>\n",
       "    <tr>\n",
       "      <th>0</th>\n",
       "      <td>Rainy</td>\n",
       "      <td>Hot</td>\n",
       "      <td>High</td>\n",
       "      <td>False</td>\n",
       "      <td>No</td>\n",
       "    </tr>\n",
       "    <tr>\n",
       "      <th>1</th>\n",
       "      <td>Rainy</td>\n",
       "      <td>Hot</td>\n",
       "      <td>High</td>\n",
       "      <td>True</td>\n",
       "      <td>No</td>\n",
       "    </tr>\n",
       "    <tr>\n",
       "      <th>2</th>\n",
       "      <td>Overcast</td>\n",
       "      <td>Hot</td>\n",
       "      <td>High</td>\n",
       "      <td>False</td>\n",
       "      <td>Yes</td>\n",
       "    </tr>\n",
       "    <tr>\n",
       "      <th>3</th>\n",
       "      <td>Sunny</td>\n",
       "      <td>Mild</td>\n",
       "      <td>High</td>\n",
       "      <td>False</td>\n",
       "      <td>Yes</td>\n",
       "    </tr>\n",
       "    <tr>\n",
       "      <th>4</th>\n",
       "      <td>Sunny</td>\n",
       "      <td>Hot</td>\n",
       "      <td>Normal</td>\n",
       "      <td>False</td>\n",
       "      <td>Yes</td>\n",
       "    </tr>\n",
       "    <tr>\n",
       "      <th>5</th>\n",
       "      <td>Sunny</td>\n",
       "      <td>Cool</td>\n",
       "      <td>Normal</td>\n",
       "      <td>True</td>\n",
       "      <td>No</td>\n",
       "    </tr>\n",
       "    <tr>\n",
       "      <th>6</th>\n",
       "      <td>Overcast</td>\n",
       "      <td>Cool</td>\n",
       "      <td>Normal</td>\n",
       "      <td>True</td>\n",
       "      <td>Yes</td>\n",
       "    </tr>\n",
       "    <tr>\n",
       "      <th>7</th>\n",
       "      <td>Rainy</td>\n",
       "      <td>Mild</td>\n",
       "      <td>High</td>\n",
       "      <td>False</td>\n",
       "      <td>No</td>\n",
       "    </tr>\n",
       "    <tr>\n",
       "      <th>8</th>\n",
       "      <td>Rainy</td>\n",
       "      <td>Cool</td>\n",
       "      <td>Normal</td>\n",
       "      <td>False</td>\n",
       "      <td>Yes</td>\n",
       "    </tr>\n",
       "    <tr>\n",
       "      <th>9</th>\n",
       "      <td>Sunny</td>\n",
       "      <td>Mild</td>\n",
       "      <td>Normal</td>\n",
       "      <td>False</td>\n",
       "      <td>Yes</td>\n",
       "    </tr>\n",
       "    <tr>\n",
       "      <th>10</th>\n",
       "      <td>Rainy</td>\n",
       "      <td>Mild</td>\n",
       "      <td>Normal</td>\n",
       "      <td>False</td>\n",
       "      <td>Yes</td>\n",
       "    </tr>\n",
       "    <tr>\n",
       "      <th>11</th>\n",
       "      <td>Overcast</td>\n",
       "      <td>Mild</td>\n",
       "      <td>High</td>\n",
       "      <td>True</td>\n",
       "      <td>Yes</td>\n",
       "    </tr>\n",
       "    <tr>\n",
       "      <th>12</th>\n",
       "      <td>Overcast</td>\n",
       "      <td>Hot</td>\n",
       "      <td>Normal</td>\n",
       "      <td>False</td>\n",
       "      <td>Yes</td>\n",
       "    </tr>\n",
       "  </tbody>\n",
       "</table>\n",
       "</div>"
      ],
      "text/plain": [
       "     Outlook  Temp Humidity  Windy Play Golf\n",
       "0      Rainy   Hot     High  False        No\n",
       "1      Rainy   Hot     High   True        No\n",
       "2   Overcast   Hot     High  False       Yes\n",
       "3      Sunny  Mild     High  False       Yes\n",
       "4      Sunny   Hot   Normal  False       Yes\n",
       "5      Sunny  Cool   Normal   True        No\n",
       "6   Overcast  Cool   Normal   True       Yes\n",
       "7      Rainy  Mild     High  False        No\n",
       "8      Rainy  Cool   Normal  False       Yes\n",
       "9      Sunny  Mild   Normal  False       Yes\n",
       "10     Rainy  Mild   Normal  False       Yes\n",
       "11  Overcast  Mild     High   True       Yes\n",
       "12  Overcast   Hot   Normal  False       Yes"
      ]
     },
     "execution_count": 2,
     "metadata": {},
     "output_type": "execute_result"
    }
   ],
   "source": [
    "data = pd.read_csv('golf-dataset.csv')\n",
    "data.head(100)"
   ]
  },
  {
   "cell_type": "code",
   "execution_count": 9,
   "metadata": {
    "id": "Md1rtuYufIXQ"
   },
   "outputs": [],
   "source": [
    "class NaiveBayes:\n",
    "    \n",
    "    \n",
    "    def __init__(self, _data, class_var= data.columns[4]):\n",
    "        self.target = class_var\n",
    "        self.data = _data\n",
    "        self.train()\n",
    "        \n",
    "    def train(self):\n",
    "        self.probs = {}\n",
    "        for i in list(set(self.data[self.target])):\n",
    "            self.probs[i] = {}\n",
    "            for j in list(self.data.columns):\n",
    "                if j != self.target:\n",
    "                    self.probs[i][j] = {}\n",
    "                    vals = list(set(self.data[j]))\n",
    "                    for k in vals:\n",
    "                        self.probs[i][j][str(k)] = (len(self.data.loc[(self.data[j]==str(k)) & (self.data[self.target] == i)])+1)/(len(self.data.loc[(self.data[self.target] == i)])+1) \n",
    "                        \n",
    "    def predict(self, outlook, temp, humidity, windy):\n",
    "        X = {'Outlook':outlook, 'Temp':temp, 'Humidity':humidity, 'Windy':windy}\n",
    "\n",
    "        results = {}\n",
    "        classes = list(set(data[self.target]))\n",
    "        for i in classes:\n",
    "            results[i] = len(data[data[self.target]==i])/len(data)\n",
    "            for j in list(X.keys()):\n",
    "                results[i] = results[i]*self.probs[i][j][X[j]]\n",
    "        max = self.data[self.target][1]    \n",
    "        for i in results.keys():\n",
    "            if (results[i] > results[max]):\n",
    "                max = i\n",
    "        return max\n",
    "\n"
   ]
  },
  {
   "cell_type": "markdown",
   "metadata": {
    "id": "mtFii_7XfIXT"
   },
   "source": [
    "#### Q1: 1.\tUsing all 13 samples, decide whether or not you will play golf if the sample vector is [Sunny, Mild, High, TRUE]. That is, what is the class label for this sample?"
   ]
  },
  {
   "cell_type": "code",
   "execution_count": 16,
   "metadata": {
    "id": "tXcK-Kp-fIXT",
    "outputId": "96d4ef45-dc4f-4e8d-db5f-1ad543587799"
   },
   "outputs": [
    {
     "data": {
      "text/plain": [
       "'No'"
      ]
     },
     "execution_count": 16,
     "metadata": {},
     "output_type": "execute_result"
    }
   ],
   "source": [
    "X = NaiveBayes(data)\n",
    "a = X.predict('Sunny', 'Mild', 'High', 'True')\n",
    "a"
   ]
  },
  {
   "cell_type": "markdown",
   "metadata": {
    "id": "Psu7w7UQfIXV"
   },
   "source": [
    "#### 2.\tUsing first 10 samples, predict the Yes or No label for the samples 11, 12 and 13. Write your results in the form of a table. Comment on the performance of NB classifier. What would be the class label for the sample given in 1. Does the class label change?"
   ]
  },
  {
   "cell_type": "code",
   "execution_count": 17,
   "metadata": {
    "id": "iw_siTvKfIXW"
   },
   "outputs": [],
   "source": [
    "Y = NaiveBayes(data[:9])"
   ]
  },
  {
   "cell_type": "code",
   "execution_count": 27,
   "metadata": {
    "id": "gqbxedWHfIXX",
    "outputId": "4cc14d35-df63-48eb-a807-12f088d3a7bf"
   },
   "outputs": [
    {
     "data": {
      "text/html": [
       "<div>\n",
       "<style scoped>\n",
       "    .dataframe tbody tr th:only-of-type {\n",
       "        vertical-align: middle;\n",
       "    }\n",
       "\n",
       "    .dataframe tbody tr th {\n",
       "        vertical-align: top;\n",
       "    }\n",
       "\n",
       "    .dataframe thead th {\n",
       "        text-align: right;\n",
       "    }\n",
       "</style>\n",
       "<table border=\"1\" class=\"dataframe\">\n",
       "  <thead>\n",
       "    <tr style=\"text-align: right;\">\n",
       "      <th></th>\n",
       "      <th>actual</th>\n",
       "      <th>predicted</th>\n",
       "    </tr>\n",
       "  </thead>\n",
       "  <tbody>\n",
       "    <tr>\n",
       "      <th>Rainy, Mild, Normal, True</th>\n",
       "      <td>Yes</td>\n",
       "      <td></td>\n",
       "    </tr>\n",
       "    <tr>\n",
       "      <th>Overcast, Mild, High, True</th>\n",
       "      <td>Yes</td>\n",
       "      <td></td>\n",
       "    </tr>\n",
       "    <tr>\n",
       "      <th>Overcast, Hot, Normal, False</th>\n",
       "      <td>Yes</td>\n",
       "      <td></td>\n",
       "    </tr>\n",
       "    <tr>\n",
       "      <th>Sunny, Mild, High, True</th>\n",
       "      <td>No</td>\n",
       "      <td></td>\n",
       "    </tr>\n",
       "  </tbody>\n",
       "</table>\n",
       "</div>"
      ],
      "text/plain": [
       "                             actual predicted\n",
       "Rainy, Mild, Normal, True       Yes          \n",
       "Overcast, Mild, High, True      Yes          \n",
       "Overcast, Hot, Normal, False    Yes          \n",
       "Sunny, Mild, High, True          No          "
      ]
     },
     "execution_count": 27,
     "metadata": {},
     "output_type": "execute_result"
    }
   ],
   "source": [
    "table = {'Rainy, Mild, Normal, True':['Yes',''],\n",
    "        'Overcast, Mild, High, True':['Yes', ''],\n",
    "        'Overcast, Hot, Normal, False': ['Yes', ''],\n",
    "        'Sunny, Mild, High, True': ['No', '']\n",
    "        }\n",
    "df = pd.DataFrame(table, index = ['actual', 'predicted'])\n",
    "df.T.head()"
   ]
  },
  {
   "cell_type": "code",
   "execution_count": 19,
   "metadata": {
    "id": "Oc3y2Fm2fIXZ",
    "outputId": "6aeddd6a-52e4-438c-82a1-7665b3ab9cd2"
   },
   "outputs": [
    {
     "data": {
      "text/html": [
       "<div>\n",
       "<style scoped>\n",
       "    .dataframe tbody tr th:only-of-type {\n",
       "        vertical-align: middle;\n",
       "    }\n",
       "\n",
       "    .dataframe tbody tr th {\n",
       "        vertical-align: top;\n",
       "    }\n",
       "\n",
       "    .dataframe thead th {\n",
       "        text-align: right;\n",
       "    }\n",
       "</style>\n",
       "<table border=\"1\" class=\"dataframe\">\n",
       "  <thead>\n",
       "    <tr style=\"text-align: right;\">\n",
       "      <th></th>\n",
       "      <th>actual</th>\n",
       "      <th>predicted</th>\n",
       "    </tr>\n",
       "  </thead>\n",
       "  <tbody>\n",
       "    <tr>\n",
       "      <th>Rainy, Mild, Normal, True</th>\n",
       "      <td>Yes</td>\n",
       "      <td>Yes</td>\n",
       "    </tr>\n",
       "    <tr>\n",
       "      <th>Overcast, Mild, High, True</th>\n",
       "      <td>Yes</td>\n",
       "      <td>Yes</td>\n",
       "    </tr>\n",
       "    <tr>\n",
       "      <th>Overcast, Hot, Normal, False</th>\n",
       "      <td>Yes</td>\n",
       "      <td>Yes</td>\n",
       "    </tr>\n",
       "    <tr>\n",
       "      <th>Sunny, Mild, High, True</th>\n",
       "      <td>No</td>\n",
       "      <td>Yes</td>\n",
       "    </tr>\n",
       "  </tbody>\n",
       "</table>\n",
       "</div>"
      ],
      "text/plain": [
       "                             actual predicted\n",
       "Rainy, Mild, Normal, True       Yes       Yes\n",
       "Overcast, Mild, High, True      Yes       Yes\n",
       "Overcast, Hot, Normal, False    Yes       Yes\n",
       "Sunny, Mild, High, True          No       Yes"
      ]
     },
     "execution_count": 19,
     "metadata": {},
     "output_type": "execute_result"
    }
   ],
   "source": [
    "for string in list(df.columns):\n",
    "    [a, b, c, d] = string.split(', ')\n",
    "    df[a+', '+b+', '+c+', '+d]['predicted'] = Y.predict(a,b,c,d)\n",
    "    \n",
    "df.T.head()"
   ]
  },
  {
   "cell_type": "code",
   "execution_count": 20,
   "metadata": {
    "id": "VcedlZANfIXZ",
    "outputId": "698ec0cf-d541-48d9-9744-7c3a2a27415f"
   },
   "outputs": [
    {
     "data": {
      "text/plain": [
       "25.0"
      ]
     },
     "execution_count": 20,
     "metadata": {},
     "output_type": "execute_result"
    }
   ],
   "source": [
    "count = 0\n",
    "for string in list(df.columns):\n",
    "    if df[string]['predicted'] != df[string]['actual']:\n",
    "        count = count+1\n",
    "error = (count/len(df.columns))*100\n",
    "error"
   ]
  },
  {
   "cell_type": "markdown",
   "metadata": {
    "id": "TbLnzUEmfIXa"
   },
   "source": [
    "We see that the Naive Bayes Classifier performed pretty nicely on the dataset with an error of 0%. Label of the sample in 1 is correctly predicted as 'No'."
   ]
  },
  {
   "cell_type": "markdown",
   "metadata": {
    "id": "WDsglGMifIXb"
   },
   "source": [
    "#### 3.\tUsing first 11 samples, predict the Yes or No label for the samples 12 and 13. Write your results in the form of a table. Comment on the performance of NB classifier. What would be the class label for the sample given in 1. Does the class label change?"
   ]
  },
  {
   "cell_type": "code",
   "execution_count": 25,
   "metadata": {
    "id": "OkPvQU2lfIXb",
    "outputId": "e9e195d4-f196-4a98-c4fe-99777d3560df"
   },
   "outputs": [
    {
     "data": {
      "text/html": [
       "<div>\n",
       "<style scoped>\n",
       "    .dataframe tbody tr th:only-of-type {\n",
       "        vertical-align: middle;\n",
       "    }\n",
       "\n",
       "    .dataframe tbody tr th {\n",
       "        vertical-align: top;\n",
       "    }\n",
       "\n",
       "    .dataframe thead th {\n",
       "        text-align: right;\n",
       "    }\n",
       "</style>\n",
       "<table border=\"1\" class=\"dataframe\">\n",
       "  <thead>\n",
       "    <tr style=\"text-align: right;\">\n",
       "      <th></th>\n",
       "      <th>actual</th>\n",
       "      <th>predicted</th>\n",
       "    </tr>\n",
       "  </thead>\n",
       "  <tbody>\n",
       "    <tr>\n",
       "      <th>Overcast, Mild, High, True</th>\n",
       "      <td>Yes</td>\n",
       "      <td></td>\n",
       "    </tr>\n",
       "    <tr>\n",
       "      <th>Overcast, Hot, Normal, False</th>\n",
       "      <td>Yes</td>\n",
       "      <td></td>\n",
       "    </tr>\n",
       "    <tr>\n",
       "      <th>Sunny, Mild, High, True</th>\n",
       "      <td>No</td>\n",
       "      <td></td>\n",
       "    </tr>\n",
       "  </tbody>\n",
       "</table>\n",
       "</div>"
      ],
      "text/plain": [
       "                             actual predicted\n",
       "Overcast, Mild, High, True      Yes          \n",
       "Overcast, Hot, Normal, False    Yes          \n",
       "Sunny, Mild, High, True          No          "
      ]
     },
     "execution_count": 25,
     "metadata": {},
     "output_type": "execute_result"
    }
   ],
   "source": [
    "Z = NaiveBayes(data[:10])\n",
    "table = {'Overcast, Mild, High, True':['Yes', ''],\n",
    "        'Overcast, Hot, Normal, False': ['Yes', ''],\n",
    "        'Sunny, Mild, High, True': ['No', '']\n",
    "        }\n",
    "df1 = pd.DataFrame(table, index = ['actual', 'predicted'])\n",
    "df1.T.head()"
   ]
  },
  {
   "cell_type": "code",
   "execution_count": 26,
   "metadata": {
    "id": "YAw0WHLCfIXc",
    "outputId": "68a9caeb-d863-422f-b9e7-7e99eb256ada"
   },
   "outputs": [
    {
     "data": {
      "text/html": [
       "<div>\n",
       "<style scoped>\n",
       "    .dataframe tbody tr th:only-of-type {\n",
       "        vertical-align: middle;\n",
       "    }\n",
       "\n",
       "    .dataframe tbody tr th {\n",
       "        vertical-align: top;\n",
       "    }\n",
       "\n",
       "    .dataframe thead th {\n",
       "        text-align: right;\n",
       "    }\n",
       "</style>\n",
       "<table border=\"1\" class=\"dataframe\">\n",
       "  <thead>\n",
       "    <tr style=\"text-align: right;\">\n",
       "      <th></th>\n",
       "      <th>actual</th>\n",
       "      <th>predicted</th>\n",
       "    </tr>\n",
       "  </thead>\n",
       "  <tbody>\n",
       "    <tr>\n",
       "      <th>Overcast, Mild, High, True</th>\n",
       "      <td>Yes</td>\n",
       "      <td>Yes</td>\n",
       "    </tr>\n",
       "    <tr>\n",
       "      <th>Overcast, Hot, Normal, False</th>\n",
       "      <td>Yes</td>\n",
       "      <td>Yes</td>\n",
       "    </tr>\n",
       "    <tr>\n",
       "      <th>Sunny, Mild, High, True</th>\n",
       "      <td>No</td>\n",
       "      <td>Yes</td>\n",
       "    </tr>\n",
       "  </tbody>\n",
       "</table>\n",
       "</div>"
      ],
      "text/plain": [
       "                             actual predicted\n",
       "Overcast, Mild, High, True      Yes       Yes\n",
       "Overcast, Hot, Normal, False    Yes       Yes\n",
       "Sunny, Mild, High, True          No       Yes"
      ]
     },
     "execution_count": 26,
     "metadata": {},
     "output_type": "execute_result"
    }
   ],
   "source": [
    "for string in list(df1.columns):\n",
    "    [a, b, c, d] = string.split(', ')\n",
    "    df1[a+', '+b+', '+c+', '+d]['predicted'] = Z.predict(a,b,c,d)\n",
    "    \n",
    "df1.T.head()"
   ]
  },
  {
   "cell_type": "code",
   "execution_count": 24,
   "metadata": {
    "id": "U4a7jKr_fIXd",
    "outputId": "8d96f9c1-c40a-495a-8207-e91a613dc3b7"
   },
   "outputs": [
    {
     "data": {
      "text/plain": [
       "33.33333333333333"
      ]
     },
     "execution_count": 24,
     "metadata": {},
     "output_type": "execute_result"
    }
   ],
   "source": [
    "count1 = 0\n",
    "for string in list(df1.columns):\n",
    "    if df1[string]['predicted'] != df1[string]['actual']:\n",
    "        count1 = count1+1\n",
    "error1 = (count1/len(df1.columns))*100\n",
    "error1"
   ]
  },
  {
   "cell_type": "markdown",
   "metadata": {
    "id": "f6X3rhyFfIXe"
   },
   "source": [
    "Yes the labels change when the data used for traning and testing changes. We see that the Naive Bayes Classifier performed well with an error of 0% when trained using all samples, 25% error when the test set is comprised of the last 3 samples, and 33% error when the testing dataset is comprised of the last 2 samples."
   ]
  },
  {
   "cell_type": "markdown",
   "metadata": {
    "id": "FTxPPqBCfIXe"
   },
   "source": [
    "# The End"
   ]
  }
 ],
 "metadata": {
  "colab": {
   "name": "19L1854_A1.ipynb",
   "provenance": []
  },
  "kernelspec": {
   "display_name": "Python 3 (ipykernel)",
   "language": "python",
   "name": "python3"
  },
  "language_info": {
   "codemirror_mode": {
    "name": "ipython",
    "version": 3
   },
   "file_extension": ".py",
   "mimetype": "text/x-python",
   "name": "python",
   "nbconvert_exporter": "python",
   "pygments_lexer": "ipython3",
   "version": "3.9.7"
  }
 },
 "nbformat": 4,
 "nbformat_minor": 1
}
